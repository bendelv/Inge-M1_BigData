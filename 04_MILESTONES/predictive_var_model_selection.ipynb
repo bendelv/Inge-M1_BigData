{
 "cells": [
  {
   "cell_type": "code",
   "execution_count": 1,
   "metadata": {},
   "outputs": [
    {
     "data": {
      "text/html": [
       "        <script type=\"text/javascript\">\n",
       "        window.PlotlyConfig = {MathJaxConfig: 'local'};\n",
       "        if (window.MathJax) {MathJax.Hub.Config({SVG: {font: \"STIX-Web\"}});}\n",
       "        if (typeof require !== 'undefined') {\n",
       "        require.undef(\"plotly\");\n",
       "        requirejs.config({\n",
       "            paths: {\n",
       "                'plotly': ['https://cdn.plot.ly/plotly-latest.min']\n",
       "            }\n",
       "        });\n",
       "        require(['plotly'], function(Plotly) {\n",
       "            window._Plotly = Plotly;\n",
       "        });\n",
       "        }\n",
       "        </script>\n",
       "        "
      ]
     },
     "metadata": {},
     "output_type": "display_data"
    }
   ],
   "source": [
    "import pandas as pd\n",
    "import numpy as np\n",
    "from sklearn.preprocessing import StandardScaler\n",
    "from sklearn import preprocessing\n",
    "import plotly.graph_objects as go\n",
    "import plotly\n",
    "plotly.offline.init_notebook_mode(connected=True)\n",
    "\n",
    "file_name = '/home/cj/Bureau/Master2/big-data/03_MILESTONES/belgium_information.csv'  \n",
    "bel_info = pd.read_csv(file_name)\n",
    "years = bel_info['Years']\n",
    "bel_info = bel_info.drop([\"Years\", \"fossil consumption\"], axis=1)\n",
    "names = bel_info.columns\n",
    "# Scaled the data first\n",
    "scaler = preprocessing.StandardScaler()\n",
    "# Fit your data on the scaler object\n",
    "scaled_data = scaler.fit_transform(bel_info)\n",
    "scaled_bel_info = pd.DataFrame(scaled_data, columns=bel_info.columns)"
   ]
  },
  {
   "cell_type": "markdown",
   "metadata": {},
   "source": [
    "Let's show the graph of the variation of the variables in function of time."
   ]
  },
  {
   "cell_type": "code",
   "execution_count": 2,
   "metadata": {},
   "outputs": [],
   "source": [
    "temporal_var_dict = {}\n",
    "for i in range(len(bel_info.columns)):\n",
    "    variation = list()\n",
    "    for j in range(38):\n",
    "        cur_val = scaled_bel_info[bel_info.columns[i]].iloc[j+1]\n",
    "        prev_val = scaled_bel_info[bel_info.columns[i]].iloc[j]\n",
    "        variation.append((cur_val - prev_val)/100)\n",
    "    temporal_var_dict[bel_info.columns[i]] = variation\n",
    "\n",
    "temporal_var = pd.DataFrame.from_dict(temporal_var_dict, orient='index').transpose()"
   ]
  },
  {
   "cell_type": "code",
   "execution_count": 3,
   "metadata": {},
   "outputs": [
    {
     "data": {
      "text/html": [
       "<style  type=\"text/css\" >\n",
       "    #T_1a862be4_69ea_11ea_8b16_85bf1d14fc99row0_col0 {\n",
       "            background-color:  #b40426;\n",
       "            color:  #f1f1f1;\n",
       "        }    #T_1a862be4_69ea_11ea_8b16_85bf1d14fc99row0_col1 {\n",
       "            background-color:  #c43032;\n",
       "            color:  #f1f1f1;\n",
       "        }    #T_1a862be4_69ea_11ea_8b16_85bf1d14fc99row0_col2 {\n",
       "            background-color:  #3f53c6;\n",
       "            color:  #f1f1f1;\n",
       "        }    #T_1a862be4_69ea_11ea_8b16_85bf1d14fc99row0_col3 {\n",
       "            background-color:  #506bda;\n",
       "            color:  #000000;\n",
       "        }    #T_1a862be4_69ea_11ea_8b16_85bf1d14fc99row0_col4 {\n",
       "            background-color:  #e4d9d2;\n",
       "            color:  #000000;\n",
       "        }    #T_1a862be4_69ea_11ea_8b16_85bf1d14fc99row0_col5 {\n",
       "            background-color:  #c0282f;\n",
       "            color:  #f1f1f1;\n",
       "        }    #T_1a862be4_69ea_11ea_8b16_85bf1d14fc99row1_col0 {\n",
       "            background-color:  #c53334;\n",
       "            color:  #f1f1f1;\n",
       "        }    #T_1a862be4_69ea_11ea_8b16_85bf1d14fc99row1_col1 {\n",
       "            background-color:  #b40426;\n",
       "            color:  #f1f1f1;\n",
       "        }    #T_1a862be4_69ea_11ea_8b16_85bf1d14fc99row1_col2 {\n",
       "            background-color:  #3b4cc0;\n",
       "            color:  #f1f1f1;\n",
       "        }    #T_1a862be4_69ea_11ea_8b16_85bf1d14fc99row1_col3 {\n",
       "            background-color:  #3b4cc0;\n",
       "            color:  #f1f1f1;\n",
       "        }    #T_1a862be4_69ea_11ea_8b16_85bf1d14fc99row1_col4 {\n",
       "            background-color:  #f7b599;\n",
       "            color:  #000000;\n",
       "        }    #T_1a862be4_69ea_11ea_8b16_85bf1d14fc99row1_col5 {\n",
       "            background-color:  #e16751;\n",
       "            color:  #000000;\n",
       "        }    #T_1a862be4_69ea_11ea_8b16_85bf1d14fc99row2_col0 {\n",
       "            background-color:  #3b4cc0;\n",
       "            color:  #f1f1f1;\n",
       "        }    #T_1a862be4_69ea_11ea_8b16_85bf1d14fc99row2_col1 {\n",
       "            background-color:  #3b4cc0;\n",
       "            color:  #f1f1f1;\n",
       "        }    #T_1a862be4_69ea_11ea_8b16_85bf1d14fc99row2_col2 {\n",
       "            background-color:  #b40426;\n",
       "            color:  #f1f1f1;\n",
       "        }    #T_1a862be4_69ea_11ea_8b16_85bf1d14fc99row2_col3 {\n",
       "            background-color:  #c83836;\n",
       "            color:  #f1f1f1;\n",
       "        }    #T_1a862be4_69ea_11ea_8b16_85bf1d14fc99row2_col4 {\n",
       "            background-color:  #5875e1;\n",
       "            color:  #000000;\n",
       "        }    #T_1a862be4_69ea_11ea_8b16_85bf1d14fc99row2_col5 {\n",
       "            background-color:  #3b4cc0;\n",
       "            color:  #f1f1f1;\n",
       "        }    #T_1a862be4_69ea_11ea_8b16_85bf1d14fc99row3_col0 {\n",
       "            background-color:  #536edd;\n",
       "            color:  #000000;\n",
       "        }    #T_1a862be4_69ea_11ea_8b16_85bf1d14fc99row3_col1 {\n",
       "            background-color:  #4257c9;\n",
       "            color:  #f1f1f1;\n",
       "        }    #T_1a862be4_69ea_11ea_8b16_85bf1d14fc99row3_col2 {\n",
       "            background-color:  #c73635;\n",
       "            color:  #f1f1f1;\n",
       "        }    #T_1a862be4_69ea_11ea_8b16_85bf1d14fc99row3_col3 {\n",
       "            background-color:  #b40426;\n",
       "            color:  #f1f1f1;\n",
       "        }    #T_1a862be4_69ea_11ea_8b16_85bf1d14fc99row3_col4 {\n",
       "            background-color:  #3b4cc0;\n",
       "            color:  #f1f1f1;\n",
       "        }    #T_1a862be4_69ea_11ea_8b16_85bf1d14fc99row3_col5 {\n",
       "            background-color:  #536edd;\n",
       "            color:  #000000;\n",
       "        }    #T_1a862be4_69ea_11ea_8b16_85bf1d14fc99row4_col0 {\n",
       "            background-color:  #f2cbb7;\n",
       "            color:  #000000;\n",
       "        }    #T_1a862be4_69ea_11ea_8b16_85bf1d14fc99row4_col1 {\n",
       "            background-color:  #f6a283;\n",
       "            color:  #000000;\n",
       "        }    #T_1a862be4_69ea_11ea_8b16_85bf1d14fc99row4_col2 {\n",
       "            background-color:  #8badfd;\n",
       "            color:  #000000;\n",
       "        }    #T_1a862be4_69ea_11ea_8b16_85bf1d14fc99row4_col3 {\n",
       "            background-color:  #6788ee;\n",
       "            color:  #000000;\n",
       "        }    #T_1a862be4_69ea_11ea_8b16_85bf1d14fc99row4_col4 {\n",
       "            background-color:  #b40426;\n",
       "            color:  #f1f1f1;\n",
       "        }    #T_1a862be4_69ea_11ea_8b16_85bf1d14fc99row4_col5 {\n",
       "            background-color:  #d2dbe8;\n",
       "            color:  #000000;\n",
       "        }    #T_1a862be4_69ea_11ea_8b16_85bf1d14fc99row5_col0 {\n",
       "            background-color:  #be242e;\n",
       "            color:  #f1f1f1;\n",
       "        }    #T_1a862be4_69ea_11ea_8b16_85bf1d14fc99row5_col1 {\n",
       "            background-color:  #de614d;\n",
       "            color:  #000000;\n",
       "        }    #T_1a862be4_69ea_11ea_8b16_85bf1d14fc99row5_col2 {\n",
       "            background-color:  #5875e1;\n",
       "            color:  #000000;\n",
       "        }    #T_1a862be4_69ea_11ea_8b16_85bf1d14fc99row5_col3 {\n",
       "            background-color:  #688aef;\n",
       "            color:  #000000;\n",
       "        }    #T_1a862be4_69ea_11ea_8b16_85bf1d14fc99row5_col4 {\n",
       "            background-color:  #c5d6f2;\n",
       "            color:  #000000;\n",
       "        }    #T_1a862be4_69ea_11ea_8b16_85bf1d14fc99row5_col5 {\n",
       "            background-color:  #b40426;\n",
       "            color:  #f1f1f1;\n",
       "        }</style><table id=\"T_1a862be4_69ea_11ea_8b16_85bf1d14fc99\" ><thead>    <tr>        <th class=\"blank level0\" ></th>        <th class=\"col_heading level0 col0\" >population</th>        <th class=\"col_heading level0 col1\" >gdp per capita</th>        <th class=\"col_heading level0 col2\" >Carbon intensity of fossil energy</th>        <th class=\"col_heading level0 col3\" >primary intensity</th>        <th class=\"col_heading level0 col4\" >nuclear consumption</th>        <th class=\"col_heading level0 col5\" >renewable consumption</th>    </tr></thead><tbody>\n",
       "                <tr>\n",
       "                        <th id=\"T_1a862be4_69ea_11ea_8b16_85bf1d14fc99level0_row0\" class=\"row_heading level0 row0\" >population</th>\n",
       "                        <td id=\"T_1a862be4_69ea_11ea_8b16_85bf1d14fc99row0_col0\" class=\"data row0 col0\" >1</td>\n",
       "                        <td id=\"T_1a862be4_69ea_11ea_8b16_85bf1d14fc99row0_col1\" class=\"data row0 col1\" >0.91</td>\n",
       "                        <td id=\"T_1a862be4_69ea_11ea_8b16_85bf1d14fc99row0_col2\" class=\"data row0 col2\" >-0.94</td>\n",
       "                        <td id=\"T_1a862be4_69ea_11ea_8b16_85bf1d14fc99row0_col3\" class=\"data row0 col3\" >-0.78</td>\n",
       "                        <td id=\"T_1a862be4_69ea_11ea_8b16_85bf1d14fc99row0_col4\" class=\"data row0 col4\" >0.23</td>\n",
       "                        <td id=\"T_1a862be4_69ea_11ea_8b16_85bf1d14fc99row0_col5\" class=\"data row0 col5\" >0.94</td>\n",
       "            </tr>\n",
       "            <tr>\n",
       "                        <th id=\"T_1a862be4_69ea_11ea_8b16_85bf1d14fc99level0_row1\" class=\"row_heading level0 row1\" >gdp per capita</th>\n",
       "                        <td id=\"T_1a862be4_69ea_11ea_8b16_85bf1d14fc99row1_col0\" class=\"data row1 col0\" >0.91</td>\n",
       "                        <td id=\"T_1a862be4_69ea_11ea_8b16_85bf1d14fc99row1_col1\" class=\"data row1 col1\" >1</td>\n",
       "                        <td id=\"T_1a862be4_69ea_11ea_8b16_85bf1d14fc99row1_col2\" class=\"data row1 col2\" >-0.97</td>\n",
       "                        <td id=\"T_1a862be4_69ea_11ea_8b16_85bf1d14fc99row1_col3\" class=\"data row1 col3\" >-0.92</td>\n",
       "                        <td id=\"T_1a862be4_69ea_11ea_8b16_85bf1d14fc99row1_col4\" class=\"data row1 col4\" >0.47</td>\n",
       "                        <td id=\"T_1a862be4_69ea_11ea_8b16_85bf1d14fc99row1_col5\" class=\"data row1 col5\" >0.75</td>\n",
       "            </tr>\n",
       "            <tr>\n",
       "                        <th id=\"T_1a862be4_69ea_11ea_8b16_85bf1d14fc99level0_row2\" class=\"row_heading level0 row2\" >Carbon intensity of fossil energy</th>\n",
       "                        <td id=\"T_1a862be4_69ea_11ea_8b16_85bf1d14fc99row2_col0\" class=\"data row2 col0\" >-0.94</td>\n",
       "                        <td id=\"T_1a862be4_69ea_11ea_8b16_85bf1d14fc99row2_col1\" class=\"data row2 col1\" >-0.97</td>\n",
       "                        <td id=\"T_1a862be4_69ea_11ea_8b16_85bf1d14fc99row2_col2\" class=\"data row2 col2\" >1</td>\n",
       "                        <td id=\"T_1a862be4_69ea_11ea_8b16_85bf1d14fc99row2_col3\" class=\"data row2 col3\" >0.89</td>\n",
       "                        <td id=\"T_1a862be4_69ea_11ea_8b16_85bf1d14fc99row2_col4\" class=\"data row2 col4\" >-0.49</td>\n",
       "                        <td id=\"T_1a862be4_69ea_11ea_8b16_85bf1d14fc99row2_col5\" class=\"data row2 col5\" >-0.78</td>\n",
       "            </tr>\n",
       "            <tr>\n",
       "                        <th id=\"T_1a862be4_69ea_11ea_8b16_85bf1d14fc99level0_row3\" class=\"row_heading level0 row3\" >primary intensity</th>\n",
       "                        <td id=\"T_1a862be4_69ea_11ea_8b16_85bf1d14fc99row3_col0\" class=\"data row3 col0\" >-0.78</td>\n",
       "                        <td id=\"T_1a862be4_69ea_11ea_8b16_85bf1d14fc99row3_col1\" class=\"data row3 col1\" >-0.92</td>\n",
       "                        <td id=\"T_1a862be4_69ea_11ea_8b16_85bf1d14fc99row3_col2\" class=\"data row3 col2\" >0.89</td>\n",
       "                        <td id=\"T_1a862be4_69ea_11ea_8b16_85bf1d14fc99row3_col3\" class=\"data row3 col3\" >1</td>\n",
       "                        <td id=\"T_1a862be4_69ea_11ea_8b16_85bf1d14fc99row3_col4\" class=\"data row3 col4\" >-0.65</td>\n",
       "                        <td id=\"T_1a862be4_69ea_11ea_8b16_85bf1d14fc99row3_col5\" class=\"data row3 col5\" >-0.64</td>\n",
       "            </tr>\n",
       "            <tr>\n",
       "                        <th id=\"T_1a862be4_69ea_11ea_8b16_85bf1d14fc99level0_row4\" class=\"row_heading level0 row4\" >nuclear consumption</th>\n",
       "                        <td id=\"T_1a862be4_69ea_11ea_8b16_85bf1d14fc99row4_col0\" class=\"data row4 col0\" >0.23</td>\n",
       "                        <td id=\"T_1a862be4_69ea_11ea_8b16_85bf1d14fc99row4_col1\" class=\"data row4 col1\" >0.47</td>\n",
       "                        <td id=\"T_1a862be4_69ea_11ea_8b16_85bf1d14fc99row4_col2\" class=\"data row4 col2\" >-0.49</td>\n",
       "                        <td id=\"T_1a862be4_69ea_11ea_8b16_85bf1d14fc99row4_col3\" class=\"data row4 col3\" >-0.65</td>\n",
       "                        <td id=\"T_1a862be4_69ea_11ea_8b16_85bf1d14fc99row4_col4\" class=\"data row4 col4\" >1</td>\n",
       "                        <td id=\"T_1a862be4_69ea_11ea_8b16_85bf1d14fc99row4_col5\" class=\"data row4 col5\" >0.037</td>\n",
       "            </tr>\n",
       "            <tr>\n",
       "                        <th id=\"T_1a862be4_69ea_11ea_8b16_85bf1d14fc99level0_row5\" class=\"row_heading level0 row5\" >renewable consumption</th>\n",
       "                        <td id=\"T_1a862be4_69ea_11ea_8b16_85bf1d14fc99row5_col0\" class=\"data row5 col0\" >0.94</td>\n",
       "                        <td id=\"T_1a862be4_69ea_11ea_8b16_85bf1d14fc99row5_col1\" class=\"data row5 col1\" >0.75</td>\n",
       "                        <td id=\"T_1a862be4_69ea_11ea_8b16_85bf1d14fc99row5_col2\" class=\"data row5 col2\" >-0.78</td>\n",
       "                        <td id=\"T_1a862be4_69ea_11ea_8b16_85bf1d14fc99row5_col3\" class=\"data row5 col3\" >-0.64</td>\n",
       "                        <td id=\"T_1a862be4_69ea_11ea_8b16_85bf1d14fc99row5_col4\" class=\"data row5 col4\" >0.037</td>\n",
       "                        <td id=\"T_1a862be4_69ea_11ea_8b16_85bf1d14fc99row5_col5\" class=\"data row5 col5\" >1</td>\n",
       "            </tr>\n",
       "    </tbody></table>"
      ],
      "text/plain": [
       "<pandas.io.formats.style.Styler at 0x7fdc5c9d6d90>"
      ]
     },
     "execution_count": 3,
     "metadata": {},
     "output_type": "execute_result"
    }
   ],
   "source": [
    "corr = bel_info.corr()\n",
    "corr.style.background_gradient(cmap='coolwarm').set_precision(2)"
   ]
  },
  {
   "cell_type": "markdown",
   "metadata": {},
   "source": [
    "1. Population\n",
    "2. carbon intensity of fossil energy\n",
    "3. gdp per capita\n",
    "4. primary intensity\n",
    "5. nuclear consumption\n",
    "6. renewable energy"
   ]
  },
  {
   "cell_type": "code",
   "execution_count": 4,
   "metadata": {},
   "outputs": [
    {
     "data": {
      "text/html": [
       "<style  type=\"text/css\" >\n",
       "    #T_1c77c502_69ea_11ea_8b16_85bf1d14fc99row0_col0 {\n",
       "            background-color:  #b40426;\n",
       "            color:  #f1f1f1;\n",
       "        }    #T_1c77c502_69ea_11ea_8b16_85bf1d14fc99row0_col1 {\n",
       "            background-color:  #c0d4f5;\n",
       "            color:  #000000;\n",
       "        }    #T_1c77c502_69ea_11ea_8b16_85bf1d14fc99row0_col2 {\n",
       "            background-color:  #8db0fe;\n",
       "            color:  #000000;\n",
       "        }    #T_1c77c502_69ea_11ea_8b16_85bf1d14fc99row0_col3 {\n",
       "            background-color:  #c4d5f3;\n",
       "            color:  #000000;\n",
       "        }    #T_1c77c502_69ea_11ea_8b16_85bf1d14fc99row0_col4 {\n",
       "            background-color:  #6687ed;\n",
       "            color:  #000000;\n",
       "        }    #T_1c77c502_69ea_11ea_8b16_85bf1d14fc99row0_col5 {\n",
       "            background-color:  #f39475;\n",
       "            color:  #000000;\n",
       "        }    #T_1c77c502_69ea_11ea_8b16_85bf1d14fc99row1_col0 {\n",
       "            background-color:  #90b2fe;\n",
       "            color:  #000000;\n",
       "        }    #T_1c77c502_69ea_11ea_8b16_85bf1d14fc99row1_col1 {\n",
       "            background-color:  #b40426;\n",
       "            color:  #f1f1f1;\n",
       "        }    #T_1c77c502_69ea_11ea_8b16_85bf1d14fc99row1_col2 {\n",
       "            background-color:  #3b4cc0;\n",
       "            color:  #f1f1f1;\n",
       "        }    #T_1c77c502_69ea_11ea_8b16_85bf1d14fc99row1_col3 {\n",
       "            background-color:  #3b4cc0;\n",
       "            color:  #f1f1f1;\n",
       "        }    #T_1c77c502_69ea_11ea_8b16_85bf1d14fc99row1_col4 {\n",
       "            background-color:  #c0d4f5;\n",
       "            color:  #000000;\n",
       "        }    #T_1c77c502_69ea_11ea_8b16_85bf1d14fc99row1_col5 {\n",
       "            background-color:  #a5c3fe;\n",
       "            color:  #000000;\n",
       "        }    #T_1c77c502_69ea_11ea_8b16_85bf1d14fc99row2_col0 {\n",
       "            background-color:  #93b5fe;\n",
       "            color:  #000000;\n",
       "        }    #T_1c77c502_69ea_11ea_8b16_85bf1d14fc99row2_col1 {\n",
       "            background-color:  #7ea1fa;\n",
       "            color:  #000000;\n",
       "        }    #T_1c77c502_69ea_11ea_8b16_85bf1d14fc99row2_col2 {\n",
       "            background-color:  #b40426;\n",
       "            color:  #f1f1f1;\n",
       "        }    #T_1c77c502_69ea_11ea_8b16_85bf1d14fc99row2_col3 {\n",
       "            background-color:  #cbd8ee;\n",
       "            color:  #000000;\n",
       "        }    #T_1c77c502_69ea_11ea_8b16_85bf1d14fc99row2_col4 {\n",
       "            background-color:  #6c8ff1;\n",
       "            color:  #000000;\n",
       "        }    #T_1c77c502_69ea_11ea_8b16_85bf1d14fc99row2_col5 {\n",
       "            background-color:  #e7d7ce;\n",
       "            color:  #000000;\n",
       "        }    #T_1c77c502_69ea_11ea_8b16_85bf1d14fc99row3_col0 {\n",
       "            background-color:  #94b6ff;\n",
       "            color:  #000000;\n",
       "        }    #T_1c77c502_69ea_11ea_8b16_85bf1d14fc99row3_col1 {\n",
       "            background-color:  #3b4cc0;\n",
       "            color:  #f1f1f1;\n",
       "        }    #T_1c77c502_69ea_11ea_8b16_85bf1d14fc99row3_col2 {\n",
       "            background-color:  #9abbff;\n",
       "            color:  #000000;\n",
       "        }    #T_1c77c502_69ea_11ea_8b16_85bf1d14fc99row3_col3 {\n",
       "            background-color:  #b40426;\n",
       "            color:  #f1f1f1;\n",
       "        }    #T_1c77c502_69ea_11ea_8b16_85bf1d14fc99row3_col4 {\n",
       "            background-color:  #96b7ff;\n",
       "            color:  #000000;\n",
       "        }    #T_1c77c502_69ea_11ea_8b16_85bf1d14fc99row3_col5 {\n",
       "            background-color:  #afcafc;\n",
       "            color:  #000000;\n",
       "        }    #T_1c77c502_69ea_11ea_8b16_85bf1d14fc99row4_col0 {\n",
       "            background-color:  #3b4cc0;\n",
       "            color:  #f1f1f1;\n",
       "        }    #T_1c77c502_69ea_11ea_8b16_85bf1d14fc99row4_col1 {\n",
       "            background-color:  #cbd8ee;\n",
       "            color:  #000000;\n",
       "        }    #T_1c77c502_69ea_11ea_8b16_85bf1d14fc99row4_col2 {\n",
       "            background-color:  #3b4cc0;\n",
       "            color:  #f1f1f1;\n",
       "        }    #T_1c77c502_69ea_11ea_8b16_85bf1d14fc99row4_col3 {\n",
       "            background-color:  #a6c4fe;\n",
       "            color:  #000000;\n",
       "        }    #T_1c77c502_69ea_11ea_8b16_85bf1d14fc99row4_col4 {\n",
       "            background-color:  #b40426;\n",
       "            color:  #f1f1f1;\n",
       "        }    #T_1c77c502_69ea_11ea_8b16_85bf1d14fc99row4_col5 {\n",
       "            background-color:  #3b4cc0;\n",
       "            color:  #f1f1f1;\n",
       "        }    #T_1c77c502_69ea_11ea_8b16_85bf1d14fc99row5_col0 {\n",
       "            background-color:  #f6a385;\n",
       "            color:  #000000;\n",
       "        }    #T_1c77c502_69ea_11ea_8b16_85bf1d14fc99row5_col1 {\n",
       "            background-color:  #b3cdfb;\n",
       "            color:  #000000;\n",
       "        }    #T_1c77c502_69ea_11ea_8b16_85bf1d14fc99row5_col2 {\n",
       "            background-color:  #d1dae9;\n",
       "            color:  #000000;\n",
       "        }    #T_1c77c502_69ea_11ea_8b16_85bf1d14fc99row5_col3 {\n",
       "            background-color:  #bed2f6;\n",
       "            color:  #000000;\n",
       "        }    #T_1c77c502_69ea_11ea_8b16_85bf1d14fc99row5_col4 {\n",
       "            background-color:  #3b4cc0;\n",
       "            color:  #f1f1f1;\n",
       "        }    #T_1c77c502_69ea_11ea_8b16_85bf1d14fc99row5_col5 {\n",
       "            background-color:  #b40426;\n",
       "            color:  #f1f1f1;\n",
       "        }</style><table id=\"T_1c77c502_69ea_11ea_8b16_85bf1d14fc99\" ><thead>    <tr>        <th class=\"blank level0\" ></th>        <th class=\"col_heading level0 col0\" >population</th>        <th class=\"col_heading level0 col1\" >gdp per capita</th>        <th class=\"col_heading level0 col2\" >Carbon intensity of fossil energy</th>        <th class=\"col_heading level0 col3\" >primary intensity</th>        <th class=\"col_heading level0 col4\" >nuclear consumption</th>        <th class=\"col_heading level0 col5\" >renewable consumption</th>    </tr></thead><tbody>\n",
       "                <tr>\n",
       "                        <th id=\"T_1c77c502_69ea_11ea_8b16_85bf1d14fc99level0_row0\" class=\"row_heading level0 row0\" >population</th>\n",
       "                        <td id=\"T_1c77c502_69ea_11ea_8b16_85bf1d14fc99row0_col0\" class=\"data row0 col0\" >1</td>\n",
       "                        <td id=\"T_1c77c502_69ea_11ea_8b16_85bf1d14fc99row0_col1\" class=\"data row0 col1\" >0.028</td>\n",
       "                        <td id=\"T_1c77c502_69ea_11ea_8b16_85bf1d14fc99row0_col2\" class=\"data row0 col2\" >0.04</td>\n",
       "                        <td id=\"T_1c77c502_69ea_11ea_8b16_85bf1d14fc99row0_col3\" class=\"data row0 col3\" >0.047</td>\n",
       "                        <td id=\"T_1c77c502_69ea_11ea_8b16_85bf1d14fc99row0_col4\" class=\"data row0 col4\" >-0.31</td>\n",
       "                        <td id=\"T_1c77c502_69ea_11ea_8b16_85bf1d14fc99row0_col5\" class=\"data row0 col5\" >0.64</td>\n",
       "            </tr>\n",
       "            <tr>\n",
       "                        <th id=\"T_1c77c502_69ea_11ea_8b16_85bf1d14fc99level0_row1\" class=\"row_heading level0 row1\" >gdp per capita</th>\n",
       "                        <td id=\"T_1c77c502_69ea_11ea_8b16_85bf1d14fc99row1_col0\" class=\"data row1 col0\" >0.028</td>\n",
       "                        <td id=\"T_1c77c502_69ea_11ea_8b16_85bf1d14fc99row1_col1\" class=\"data row1 col1\" >1</td>\n",
       "                        <td id=\"T_1c77c502_69ea_11ea_8b16_85bf1d14fc99row1_col2\" class=\"data row1 col2\" >-0.28</td>\n",
       "                        <td id=\"T_1c77c502_69ea_11ea_8b16_85bf1d14fc99row1_col3\" class=\"data row1 col3\" >-0.62</td>\n",
       "                        <td id=\"T_1c77c502_69ea_11ea_8b16_85bf1d14fc99row1_col4\" class=\"data row1 col4\" >0.086</td>\n",
       "                        <td id=\"T_1c77c502_69ea_11ea_8b16_85bf1d14fc99row1_col5\" class=\"data row1 col5\" >-0.036</td>\n",
       "            </tr>\n",
       "            <tr>\n",
       "                        <th id=\"T_1c77c502_69ea_11ea_8b16_85bf1d14fc99level0_row2\" class=\"row_heading level0 row2\" >Carbon intensity of fossil energy</th>\n",
       "                        <td id=\"T_1c77c502_69ea_11ea_8b16_85bf1d14fc99row2_col0\" class=\"data row2 col0\" >0.04</td>\n",
       "                        <td id=\"T_1c77c502_69ea_11ea_8b16_85bf1d14fc99row2_col1\" class=\"data row2 col1\" >-0.28</td>\n",
       "                        <td id=\"T_1c77c502_69ea_11ea_8b16_85bf1d14fc99row2_col2\" class=\"data row2 col2\" >1</td>\n",
       "                        <td id=\"T_1c77c502_69ea_11ea_8b16_85bf1d14fc99row2_col3\" class=\"data row2 col3\" >0.085</td>\n",
       "                        <td id=\"T_1c77c502_69ea_11ea_8b16_85bf1d14fc99row2_col4\" class=\"data row2 col4\" >-0.28</td>\n",
       "                        <td id=\"T_1c77c502_69ea_11ea_8b16_85bf1d14fc99row2_col5\" class=\"data row2 col5\" >0.3</td>\n",
       "            </tr>\n",
       "            <tr>\n",
       "                        <th id=\"T_1c77c502_69ea_11ea_8b16_85bf1d14fc99level0_row3\" class=\"row_heading level0 row3\" >primary intensity</th>\n",
       "                        <td id=\"T_1c77c502_69ea_11ea_8b16_85bf1d14fc99row3_col0\" class=\"data row3 col0\" >0.047</td>\n",
       "                        <td id=\"T_1c77c502_69ea_11ea_8b16_85bf1d14fc99row3_col1\" class=\"data row3 col1\" >-0.62</td>\n",
       "                        <td id=\"T_1c77c502_69ea_11ea_8b16_85bf1d14fc99row3_col2\" class=\"data row3 col2\" >0.085</td>\n",
       "                        <td id=\"T_1c77c502_69ea_11ea_8b16_85bf1d14fc99row3_col3\" class=\"data row3 col3\" >1</td>\n",
       "                        <td id=\"T_1c77c502_69ea_11ea_8b16_85bf1d14fc99row3_col4\" class=\"data row3 col4\" >-0.1</td>\n",
       "                        <td id=\"T_1c77c502_69ea_11ea_8b16_85bf1d14fc99row3_col5\" class=\"data row3 col5\" >0.012</td>\n",
       "            </tr>\n",
       "            <tr>\n",
       "                        <th id=\"T_1c77c502_69ea_11ea_8b16_85bf1d14fc99level0_row4\" class=\"row_heading level0 row4\" >nuclear consumption</th>\n",
       "                        <td id=\"T_1c77c502_69ea_11ea_8b16_85bf1d14fc99row4_col0\" class=\"data row4 col0\" >-0.31</td>\n",
       "                        <td id=\"T_1c77c502_69ea_11ea_8b16_85bf1d14fc99row4_col1\" class=\"data row4 col1\" >0.086</td>\n",
       "                        <td id=\"T_1c77c502_69ea_11ea_8b16_85bf1d14fc99row4_col2\" class=\"data row4 col2\" >-0.28</td>\n",
       "                        <td id=\"T_1c77c502_69ea_11ea_8b16_85bf1d14fc99row4_col3\" class=\"data row4 col3\" >-0.1</td>\n",
       "                        <td id=\"T_1c77c502_69ea_11ea_8b16_85bf1d14fc99row4_col4\" class=\"data row4 col4\" >1</td>\n",
       "                        <td id=\"T_1c77c502_69ea_11ea_8b16_85bf1d14fc99row4_col5\" class=\"data row4 col5\" >-0.52</td>\n",
       "            </tr>\n",
       "            <tr>\n",
       "                        <th id=\"T_1c77c502_69ea_11ea_8b16_85bf1d14fc99level0_row5\" class=\"row_heading level0 row5\" >renewable consumption</th>\n",
       "                        <td id=\"T_1c77c502_69ea_11ea_8b16_85bf1d14fc99row5_col0\" class=\"data row5 col0\" >0.64</td>\n",
       "                        <td id=\"T_1c77c502_69ea_11ea_8b16_85bf1d14fc99row5_col1\" class=\"data row5 col1\" >-0.036</td>\n",
       "                        <td id=\"T_1c77c502_69ea_11ea_8b16_85bf1d14fc99row5_col2\" class=\"data row5 col2\" >0.3</td>\n",
       "                        <td id=\"T_1c77c502_69ea_11ea_8b16_85bf1d14fc99row5_col3\" class=\"data row5 col3\" >0.012</td>\n",
       "                        <td id=\"T_1c77c502_69ea_11ea_8b16_85bf1d14fc99row5_col4\" class=\"data row5 col4\" >-0.52</td>\n",
       "                        <td id=\"T_1c77c502_69ea_11ea_8b16_85bf1d14fc99row5_col5\" class=\"data row5 col5\" >1</td>\n",
       "            </tr>\n",
       "    </tbody></table>"
      ],
      "text/plain": [
       "<pandas.io.formats.style.Styler at 0x7fdc5c9d6e10>"
      ]
     },
     "execution_count": 4,
     "metadata": {},
     "output_type": "execute_result"
    }
   ],
   "source": [
    "# Correlation matrix\n",
    "corr = temporal_var.corr()\n",
    "corr.style.background_gradient(cmap='coolwarm').set_precision(2)"
   ]
  },
  {
   "cell_type": "markdown",
   "metadata": {},
   "source": [
    "This correlation matrix is not used yet .."
   ]
  },
  {
   "cell_type": "code",
   "execution_count": 5,
   "metadata": {},
   "outputs": [],
   "source": [
    "from plotly.subplots import make_subplots\n",
    "\n",
    "def plotly_descriptive_variable(fig, names, temporal_var, v, v_list):\n",
    "    \n",
    "    row = [1, 1, 2, 2, 3]\n",
    "    col = [1, 2, 1, 2, 1]    \n",
    "\n",
    "    for i in range(len(row)):\n",
    "        fig.add_trace(go.Scatter(x=years, y=temporal_var[names[v]], opacity=0.8, line=dict(color=\"Black\")),\n",
    "                      row=row[i], col=col[i])\n",
    "        fig.add_trace(go.Scatter(x=years, y=temporal_var[names[v_list[i]]]), row=row[i], col=col[i])\n",
    "        fig.update_xaxes(title_text=\"Years\", row=row[i], col=col[i])\n",
    "        fig.update_yaxes(title_text=\"Pourcentage\", row=row[i], col=col[i])\n",
    "    \n",
    "    # Update title and height\n",
    "    fig.update_layout(title_text=\"Variation in function of time of \"+names[v]+ \" with respect \"+\n",
    "                                  \"to other predictive variables\"+\"\\n\",\n",
    "                      height=1000, width=1000, showlegend=False)\n",
    "\n",
    "    fig.show()\n",
    "    \n",
    "# Initialize figure with subplots\n",
    "fig = make_subplots(\n",
    "    rows=3, cols=2, subplot_titles=(\"Population - Gdp per capita\", \"Population - Carbon intensity of fossil energy\",\n",
    "                                    \"Population - Primary intensity\", \"Population - Nuclear consumption\",\n",
    "                                    \"Population - Renewable consumption\"))\n",
    "\n",
    "plotly_descriptive_variable(fig, names, temporal_var, 0, [1,2,3,4,5]) # population"
   ]
  },
  {
   "cell_type": "code",
   "execution_count": 7,
   "metadata": {},
   "outputs": [
    {
     "data": {
      "application/vnd.plotly.v1+json": {
       "config": {
        "plotlyServerURL": "https://plot.ly"
       },
       "data": [
        {
         "line": {
          "color": "Black"
         },
         "opacity": 0.8,
         "type": "scatter",
         "x": [
          1980,
          1981,
          1982,
          1983,
          1984,
          1985,
          1986,
          1987,
          1988,
          1989,
          1990,
          1991,
          1992,
          1993,
          1994,
          1995,
          1996,
          1997,
          1998,
          1999,
          2000,
          2001,
          2002,
          2003,
          2004,
          2005,
          2006,
          2007,
          2008,
          2009,
          2010,
          2011,
          2012,
          2013,
          2014,
          2015,
          2016,
          2017,
          2018
         ],
         "xaxis": "x",
         "y": [
          -0.001695788881810687,
          -0.0009631946634881428,
          -0.0003727308788394934,
          -0.0002919878651412411,
          0.00022274340528688708,
          0.0025718424445714196,
          0.0022361129382750676,
          0.0009732135690160138,
          0.0001066863182879274,
          0.00306483105415446,
          0.0003443885210287623,
          0.001764936025169077,
          -0.0008243249941665232,
          0.0014375175065718326,
          0.003150092478871126,
          -0.0006992237440081276,
          -0.002001451551127471,
          0.00038456378310008866,
          -6.796727666495305e-05,
          -0.0016574855326308086,
          -1.7363807731916037e-05,
          0.0014471893336546826,
          0.0042976988278096515,
          0.003609927294140383,
          0.001113532436265241,
          0.0014507196656151234,
          0.004255520295148285,
          0.002931460414263629,
          -0.002664888603682951,
          -0.0002982257747483819,
          0.0025722763186949373,
          -0.002268553225613481,
          0.0015144721383568106,
          0.0007121405415314541,
          -0.005024026634853886,
          0.000748275091211682,
          0.0016275447116824004,
          0.002499224678079026
         ],
         "yaxis": "y"
        },
        {
         "type": "scatter",
         "x": [
          1980,
          1981,
          1982,
          1983,
          1984,
          1985,
          1986,
          1987,
          1988,
          1989,
          1990,
          1991,
          1992,
          1993,
          1994,
          1995,
          1996,
          1997,
          1998,
          1999,
          2000,
          2001,
          2002,
          2003,
          2004,
          2005,
          2006,
          2007,
          2008,
          2009,
          2010,
          2011,
          2012,
          2013,
          2014,
          2015,
          2016,
          2017,
          2018
         ],
         "xaxis": "x",
         "y": [
          0.0002228166249173902,
          -5.334467999864589e-06,
          -5.496553758321143e-05,
          -1.6064955553436454e-05,
          -3.0365433229984086e-06,
          6.023845402923112e-05,
          7.211790392123607e-05,
          0.00017257003979559427,
          0.0006448551124450774,
          0.0007392957132272826,
          0.0006089910737383009,
          0.0007613311695036418,
          0.0008344749326556222,
          0.0008066741475024852,
          0.0006386589226913897,
          0.00043512845131196963,
          0.0004067737021742318,
          0.0005048868790024968,
          0.000446515488773217,
          0.0004803278090185081,
          0.0005094622111716107,
          0.0007246669605968861,
          0.0009482016869757959,
          0.0008893789186849894,
          0.0009233553764071992,
          0.0011793277716622035,
          0.0014226820983790683,
          0.0015950469663285143,
          0.0017290446990481712,
          0.0017751468128777636,
          0.0020331093750404106,
          0.0029273508664791194,
          0.0014088740331332672,
          0.0010766392626648247,
          0.001018678216127844,
          0.0013364688886274222,
          0.0011741164067700293,
          0.0008973395863155531
         ],
         "yaxis": "y"
        },
        {
         "line": {
          "color": "Black"
         },
         "opacity": 0.8,
         "type": "scatter",
         "x": [
          1980,
          1981,
          1982,
          1983,
          1984,
          1985,
          1986,
          1987,
          1988,
          1989,
          1990,
          1991,
          1992,
          1993,
          1994,
          1995,
          1996,
          1997,
          1998,
          1999,
          2000,
          2001,
          2002,
          2003,
          2004,
          2005,
          2006,
          2007,
          2008,
          2009,
          2010,
          2011,
          2012,
          2013,
          2014,
          2015,
          2016,
          2017,
          2018
         ],
         "xaxis": "x2",
         "y": [
          -0.001695788881810687,
          -0.0009631946634881428,
          -0.0003727308788394934,
          -0.0002919878651412411,
          0.00022274340528688708,
          0.0025718424445714196,
          0.0022361129382750676,
          0.0009732135690160138,
          0.0001066863182879274,
          0.00306483105415446,
          0.0003443885210287623,
          0.001764936025169077,
          -0.0008243249941665232,
          0.0014375175065718326,
          0.003150092478871126,
          -0.0006992237440081276,
          -0.002001451551127471,
          0.00038456378310008866,
          -6.796727666495305e-05,
          -0.0016574855326308086,
          -1.7363807731916037e-05,
          0.0014471893336546826,
          0.0042976988278096515,
          0.003609927294140383,
          0.001113532436265241,
          0.0014507196656151234,
          0.004255520295148285,
          0.002931460414263629,
          -0.002664888603682951,
          -0.0002982257747483819,
          0.0025722763186949373,
          -0.002268553225613481,
          0.0015144721383568106,
          0.0007121405415314541,
          -0.005024026634853886,
          0.000748275091211682,
          0.0016275447116824004,
          0.002499224678079026
         ],
         "yaxis": "y2"
        },
        {
         "type": "scatter",
         "x": [
          1980,
          1981,
          1982,
          1983,
          1984,
          1985,
          1986,
          1987,
          1988,
          1989,
          1990,
          1991,
          1992,
          1993,
          1994,
          1995,
          1996,
          1997,
          1998,
          1999,
          2000,
          2001,
          2002,
          2003,
          2004,
          2005,
          2006,
          2007,
          2008,
          2009,
          2010,
          2011,
          2012,
          2013,
          2014,
          2015,
          2016,
          2017,
          2018
         ],
         "xaxis": "x2",
         "y": [
          -0.0020367740757232487,
          0.002127114245163442,
          -0.002266324295476836,
          0.00042371798579490696,
          -0.0011712337786617733,
          0.0003877300284391905,
          -0.002772390421656896,
          -0.0002915230270579716,
          -0.001305476488060484,
          -0.0005517243519517345,
          0.00041174233146344387,
          -0.0012721358644190784,
          -0.0005713814602020916,
          -0.0015031965761097266,
          -0.0014351742137857055,
          -0.0011986765424169127,
          -0.000996455523523138,
          -0.00037948997996117384,
          -0.0008279150361884137,
          -0.0004504654098005874,
          0.0012758437522288391,
          -0.004816579750385161,
          -0.0002812359034194861,
          -0.0008123163281964108,
          -0.0012708499565837967,
          -0.0007922414365700237,
          -0.0024763356250090975,
          -0.0014534618516777586,
          3.626642370341937e-05,
          -0.0012018452177728989,
          -0.001297147103727434,
          0.0007194880982278895,
          -0.00027225536920450155,
          -0.0005856787655273088,
          0.0006843190427372092,
          -0.0007281724646367027,
          -0.0007325471094027524,
          0.0014462587471664712
         ],
         "yaxis": "y2"
        },
        {
         "line": {
          "color": "Black"
         },
         "opacity": 0.8,
         "type": "scatter",
         "x": [
          1980,
          1981,
          1982,
          1983,
          1984,
          1985,
          1986,
          1987,
          1988,
          1989,
          1990,
          1991,
          1992,
          1993,
          1994,
          1995,
          1996,
          1997,
          1998,
          1999,
          2000,
          2001,
          2002,
          2003,
          2004,
          2005,
          2006,
          2007,
          2008,
          2009,
          2010,
          2011,
          2012,
          2013,
          2014,
          2015,
          2016,
          2017,
          2018
         ],
         "xaxis": "x3",
         "y": [
          -0.001695788881810687,
          -0.0009631946634881428,
          -0.0003727308788394934,
          -0.0002919878651412411,
          0.00022274340528688708,
          0.0025718424445714196,
          0.0022361129382750676,
          0.0009732135690160138,
          0.0001066863182879274,
          0.00306483105415446,
          0.0003443885210287623,
          0.001764936025169077,
          -0.0008243249941665232,
          0.0014375175065718326,
          0.003150092478871126,
          -0.0006992237440081276,
          -0.002001451551127471,
          0.00038456378310008866,
          -6.796727666495305e-05,
          -0.0016574855326308086,
          -1.7363807731916037e-05,
          0.0014471893336546826,
          0.0042976988278096515,
          0.003609927294140383,
          0.001113532436265241,
          0.0014507196656151234,
          0.004255520295148285,
          0.002931460414263629,
          -0.002664888603682951,
          -0.0002982257747483819,
          0.0025722763186949373,
          -0.002268553225613481,
          0.0015144721383568106,
          0.0007121405415314541,
          -0.005024026634853886,
          0.000748275091211682,
          0.0016275447116824004,
          0.002499224678079026
         ],
         "yaxis": "y3"
        },
        {
         "type": "scatter",
         "x": [
          1980,
          1981,
          1982,
          1983,
          1984,
          1985,
          1986,
          1987,
          1988,
          1989,
          1990,
          1991,
          1992,
          1993,
          1994,
          1995,
          1996,
          1997,
          1998,
          1999,
          2000,
          2001,
          2002,
          2003,
          2004,
          2005,
          2006,
          2007,
          2008,
          2009,
          2010,
          2011,
          2012,
          2013,
          2014,
          2015,
          2016,
          2017,
          2018
         ],
         "xaxis": "x3",
         "y": [
          0.0045850514372448555,
          0.001998324961914457,
          0.000694919253262678,
          0.0027807387351039825,
          -0.000636887416632157,
          -0.011584814223788866,
          -0.005047005311050639,
          -0.001534020921785137,
          0.00026691744657656444,
          -0.0042873454355301455,
          0.00016955741711049938,
          -0.002098523492096444,
          0.0005163458382385703,
          -0.0005730345222688467,
          -0.0024566562812917796,
          0.0015126364527724093,
          0.0017170899975546298,
          4.100031365397695e-05,
          -0.00029414022118277996,
          0.0020825169313128345,
          -0.0002854089161751895,
          -0.0015329443287023388,
          -0.00292512682919799,
          -0.0021868580820827766,
          -0.0007023159168258408,
          -0.000854853600694222,
          -0.0016119169228582019,
          -0.0005140187898740911,
          2.3066643422694487e-05,
          0.0009078070250243853,
          -0.0016662059484150872,
          0.00022946265025074132,
          -0.00022604693678412668,
          -0.0008387472867124512,
          0.0016522484703308381,
          6.269438105885761e-05,
          -0.0005674594770929209,
          -0.0007212083193338737
         ],
         "yaxis": "y3"
        },
        {
         "line": {
          "color": "Black"
         },
         "opacity": 0.8,
         "type": "scatter",
         "x": [
          1980,
          1981,
          1982,
          1983,
          1984,
          1985,
          1986,
          1987,
          1988,
          1989,
          1990,
          1991,
          1992,
          1993,
          1994,
          1995,
          1996,
          1997,
          1998,
          1999,
          2000,
          2001,
          2002,
          2003,
          2004,
          2005,
          2006,
          2007,
          2008,
          2009,
          2010,
          2011,
          2012,
          2013,
          2014,
          2015,
          2016,
          2017,
          2018
         ],
         "xaxis": "x4",
         "y": [
          -0.001695788881810687,
          -0.0009631946634881428,
          -0.0003727308788394934,
          -0.0002919878651412411,
          0.00022274340528688708,
          0.0025718424445714196,
          0.0022361129382750676,
          0.0009732135690160138,
          0.0001066863182879274,
          0.00306483105415446,
          0.0003443885210287623,
          0.001764936025169077,
          -0.0008243249941665232,
          0.0014375175065718326,
          0.003150092478871126,
          -0.0006992237440081276,
          -0.002001451551127471,
          0.00038456378310008866,
          -6.796727666495305e-05,
          -0.0016574855326308086,
          -1.7363807731916037e-05,
          0.0014471893336546826,
          0.0042976988278096515,
          0.003609927294140383,
          0.001113532436265241,
          0.0014507196656151234,
          0.004255520295148285,
          0.002931460414263629,
          -0.002664888603682951,
          -0.0002982257747483819,
          0.0025722763186949373,
          -0.002268553225613481,
          0.0015144721383568106,
          0.0007121405415314541,
          -0.005024026634853886,
          0.000748275091211682,
          0.0016275447116824004,
          0.002499224678079026
         ],
         "yaxis": "y4"
        },
        {
         "type": "scatter",
         "x": [
          1980,
          1981,
          1982,
          1983,
          1984,
          1985,
          1986,
          1987,
          1988,
          1989,
          1990,
          1991,
          1992,
          1993,
          1994,
          1995,
          1996,
          1997,
          1998,
          1999,
          2000,
          2001,
          2002,
          2003,
          2004,
          2005,
          2006,
          2007,
          2008,
          2009,
          2010,
          2011,
          2012,
          2013,
          2014,
          2015,
          2016,
          2017,
          2018
         ],
         "xaxis": "x4",
         "y": [
          0.0003064218585921452,
          0.0025037631219803026,
          0.00798673747556292,
          0.003486289984691886,
          0.006259902033754938,
          0.004556789574547649,
          0.00243358263178663,
          0.001110037894190238,
          -0.0018207389146023354,
          0.003634558625946132,
          0.00013739560756229286,
          0.0005881322769752379,
          -0.0015113516831851068,
          -0.0012879602636953569,
          0.0007235509693207984,
          0.0019571460645562565,
          0.004024999381249037,
          -0.0012286528071936463,
          0.0028190810990476978,
          -0.0008500735431910966,
          -0.001787131355918038,
          0.0009993306420537041,
          1.8780694558888644e-05,
          -6.622665976022791e-05,
          0.00027973350316636616,
          -0.0009390347279436595,
          0.0015637399364282834,
          -0.0026283087806338945,
          0.0016349088842303428,
          0.0007136663932371657,
          0.0002866527064249202,
          -0.007847364952783917,
          0.002321886922041744,
          -0.008837799476362379,
          -0.0075122778235492795,
          0.017218931537661634,
          -0.0012810410604368232,
          -0.013472677201970611
         ],
         "yaxis": "y4"
        },
        {
         "line": {
          "color": "Black"
         },
         "opacity": 0.8,
         "type": "scatter",
         "x": [
          1980,
          1981,
          1982,
          1983,
          1984,
          1985,
          1986,
          1987,
          1988,
          1989,
          1990,
          1991,
          1992,
          1993,
          1994,
          1995,
          1996,
          1997,
          1998,
          1999,
          2000,
          2001,
          2002,
          2003,
          2004,
          2005,
          2006,
          2007,
          2008,
          2009,
          2010,
          2011,
          2012,
          2013,
          2014,
          2015,
          2016,
          2017,
          2018
         ],
         "xaxis": "x5",
         "y": [
          -0.001695788881810687,
          -0.0009631946634881428,
          -0.0003727308788394934,
          -0.0002919878651412411,
          0.00022274340528688708,
          0.0025718424445714196,
          0.0022361129382750676,
          0.0009732135690160138,
          0.0001066863182879274,
          0.00306483105415446,
          0.0003443885210287623,
          0.001764936025169077,
          -0.0008243249941665232,
          0.0014375175065718326,
          0.003150092478871126,
          -0.0006992237440081276,
          -0.002001451551127471,
          0.00038456378310008866,
          -6.796727666495305e-05,
          -0.0016574855326308086,
          -1.7363807731916037e-05,
          0.0014471893336546826,
          0.0042976988278096515,
          0.003609927294140383,
          0.001113532436265241,
          0.0014507196656151234,
          0.004255520295148285,
          0.002931460414263629,
          -0.002664888603682951,
          -0.0002982257747483819,
          0.0025722763186949373,
          -0.002268553225613481,
          0.0015144721383568106,
          0.0007121405415314541,
          -0.005024026634853886,
          0.000748275091211682,
          0.0016275447116824004,
          0.002499224678079026
         ],
         "yaxis": "y5"
        },
        {
         "type": "scatter",
         "x": [
          1980,
          1981,
          1982,
          1983,
          1984,
          1985,
          1986,
          1987,
          1988,
          1989,
          1990,
          1991,
          1992,
          1993,
          1994,
          1995,
          1996,
          1997,
          1998,
          1999,
          2000,
          2001,
          2002,
          2003,
          2004,
          2005,
          2006,
          2007,
          2008,
          2009,
          2010,
          2011,
          2012,
          2013,
          2014,
          2015,
          2016,
          2017,
          2018
         ],
         "xaxis": "x5",
         "y": [
          0,
          0,
          0,
          0,
          0,
          0,
          0,
          0,
          0,
          0.002598645808066943,
          0.00023859248016543932,
          0.0005116802586680474,
          -0.0003938213226827114,
          0.00047431035213611305,
          0.0001322319769591579,
          -8.911285403769343e-05,
          0.00022134483099685187,
          0.000641037627432443,
          -1.7247649168586344e-05,
          0.0006122915454847993,
          -9.773667862198577e-05,
          -0.00038519749809841797,
          -0.00041106897185129833,
          0.0009946144353884534,
          0.00023571787197067316,
          0.0004714357439413483,
          0.0010463573828942115,
          0.00021847022280208696,
          0.001388435758071166,
          0.0017276395250533543,
          0.003978457741553814,
          0.004754601954140182,
          0.004182554923382081,
          0.0027222539604418094,
          0.0031189498913192825,
          -7.761442125863383e-05,
          0.0033862884534323666,
          0.004536131731338093
         ],
         "yaxis": "y5"
        }
       ],
       "layout": {
        "annotations": [
         {
          "font": {
           "size": 16
          },
          "showarrow": false,
          "text": "Gdp per capita - Population",
          "x": 0.225,
          "xanchor": "center",
          "xref": "paper",
          "y": 1,
          "yanchor": "bottom",
          "yref": "paper"
         },
         {
          "font": {
           "size": 16
          },
          "showarrow": false,
          "text": "Gdp per capita - Carbon intensity of fossil energy",
          "x": 0.775,
          "xanchor": "center",
          "xref": "paper",
          "y": 1,
          "yanchor": "bottom",
          "yref": "paper"
         },
         {
          "font": {
           "size": 16
          },
          "showarrow": false,
          "text": "Gdp per capita - Primary intensity",
          "x": 0.225,
          "xanchor": "center",
          "xref": "paper",
          "y": 0.6111111111111112,
          "yanchor": "bottom",
          "yref": "paper"
         },
         {
          "font": {
           "size": 16
          },
          "showarrow": false,
          "text": "Gdp per capita - Nuclear consumption",
          "x": 0.775,
          "xanchor": "center",
          "xref": "paper",
          "y": 0.6111111111111112,
          "yanchor": "bottom",
          "yref": "paper"
         },
         {
          "font": {
           "size": 16
          },
          "showarrow": false,
          "text": "Gdp per capita - Renewable consumption",
          "x": 0.225,
          "xanchor": "center",
          "xref": "paper",
          "y": 0.22222222222222224,
          "yanchor": "bottom",
          "yref": "paper"
         }
        ],
        "height": 1000,
        "showlegend": false,
        "template": {
         "data": {
          "bar": [
           {
            "error_x": {
             "color": "#2a3f5f"
            },
            "error_y": {
             "color": "#2a3f5f"
            },
            "marker": {
             "line": {
              "color": "#E5ECF6",
              "width": 0.5
             }
            },
            "type": "bar"
           }
          ],
          "barpolar": [
           {
            "marker": {
             "line": {
              "color": "#E5ECF6",
              "width": 0.5
             }
            },
            "type": "barpolar"
           }
          ],
          "carpet": [
           {
            "aaxis": {
             "endlinecolor": "#2a3f5f",
             "gridcolor": "white",
             "linecolor": "white",
             "minorgridcolor": "white",
             "startlinecolor": "#2a3f5f"
            },
            "baxis": {
             "endlinecolor": "#2a3f5f",
             "gridcolor": "white",
             "linecolor": "white",
             "minorgridcolor": "white",
             "startlinecolor": "#2a3f5f"
            },
            "type": "carpet"
           }
          ],
          "choropleth": [
           {
            "colorbar": {
             "outlinewidth": 0,
             "ticks": ""
            },
            "type": "choropleth"
           }
          ],
          "contour": [
           {
            "colorbar": {
             "outlinewidth": 0,
             "ticks": ""
            },
            "colorscale": [
             [
              0,
              "#0d0887"
             ],
             [
              0.1111111111111111,
              "#46039f"
             ],
             [
              0.2222222222222222,
              "#7201a8"
             ],
             [
              0.3333333333333333,
              "#9c179e"
             ],
             [
              0.4444444444444444,
              "#bd3786"
             ],
             [
              0.5555555555555556,
              "#d8576b"
             ],
             [
              0.6666666666666666,
              "#ed7953"
             ],
             [
              0.7777777777777778,
              "#fb9f3a"
             ],
             [
              0.8888888888888888,
              "#fdca26"
             ],
             [
              1,
              "#f0f921"
             ]
            ],
            "type": "contour"
           }
          ],
          "contourcarpet": [
           {
            "colorbar": {
             "outlinewidth": 0,
             "ticks": ""
            },
            "type": "contourcarpet"
           }
          ],
          "heatmap": [
           {
            "colorbar": {
             "outlinewidth": 0,
             "ticks": ""
            },
            "colorscale": [
             [
              0,
              "#0d0887"
             ],
             [
              0.1111111111111111,
              "#46039f"
             ],
             [
              0.2222222222222222,
              "#7201a8"
             ],
             [
              0.3333333333333333,
              "#9c179e"
             ],
             [
              0.4444444444444444,
              "#bd3786"
             ],
             [
              0.5555555555555556,
              "#d8576b"
             ],
             [
              0.6666666666666666,
              "#ed7953"
             ],
             [
              0.7777777777777778,
              "#fb9f3a"
             ],
             [
              0.8888888888888888,
              "#fdca26"
             ],
             [
              1,
              "#f0f921"
             ]
            ],
            "type": "heatmap"
           }
          ],
          "heatmapgl": [
           {
            "colorbar": {
             "outlinewidth": 0,
             "ticks": ""
            },
            "colorscale": [
             [
              0,
              "#0d0887"
             ],
             [
              0.1111111111111111,
              "#46039f"
             ],
             [
              0.2222222222222222,
              "#7201a8"
             ],
             [
              0.3333333333333333,
              "#9c179e"
             ],
             [
              0.4444444444444444,
              "#bd3786"
             ],
             [
              0.5555555555555556,
              "#d8576b"
             ],
             [
              0.6666666666666666,
              "#ed7953"
             ],
             [
              0.7777777777777778,
              "#fb9f3a"
             ],
             [
              0.8888888888888888,
              "#fdca26"
             ],
             [
              1,
              "#f0f921"
             ]
            ],
            "type": "heatmapgl"
           }
          ],
          "histogram": [
           {
            "marker": {
             "colorbar": {
              "outlinewidth": 0,
              "ticks": ""
             }
            },
            "type": "histogram"
           }
          ],
          "histogram2d": [
           {
            "colorbar": {
             "outlinewidth": 0,
             "ticks": ""
            },
            "colorscale": [
             [
              0,
              "#0d0887"
             ],
             [
              0.1111111111111111,
              "#46039f"
             ],
             [
              0.2222222222222222,
              "#7201a8"
             ],
             [
              0.3333333333333333,
              "#9c179e"
             ],
             [
              0.4444444444444444,
              "#bd3786"
             ],
             [
              0.5555555555555556,
              "#d8576b"
             ],
             [
              0.6666666666666666,
              "#ed7953"
             ],
             [
              0.7777777777777778,
              "#fb9f3a"
             ],
             [
              0.8888888888888888,
              "#fdca26"
             ],
             [
              1,
              "#f0f921"
             ]
            ],
            "type": "histogram2d"
           }
          ],
          "histogram2dcontour": [
           {
            "colorbar": {
             "outlinewidth": 0,
             "ticks": ""
            },
            "colorscale": [
             [
              0,
              "#0d0887"
             ],
             [
              0.1111111111111111,
              "#46039f"
             ],
             [
              0.2222222222222222,
              "#7201a8"
             ],
             [
              0.3333333333333333,
              "#9c179e"
             ],
             [
              0.4444444444444444,
              "#bd3786"
             ],
             [
              0.5555555555555556,
              "#d8576b"
             ],
             [
              0.6666666666666666,
              "#ed7953"
             ],
             [
              0.7777777777777778,
              "#fb9f3a"
             ],
             [
              0.8888888888888888,
              "#fdca26"
             ],
             [
              1,
              "#f0f921"
             ]
            ],
            "type": "histogram2dcontour"
           }
          ],
          "mesh3d": [
           {
            "colorbar": {
             "outlinewidth": 0,
             "ticks": ""
            },
            "type": "mesh3d"
           }
          ],
          "parcoords": [
           {
            "line": {
             "colorbar": {
              "outlinewidth": 0,
              "ticks": ""
             }
            },
            "type": "parcoords"
           }
          ],
          "pie": [
           {
            "automargin": true,
            "type": "pie"
           }
          ],
          "scatter": [
           {
            "marker": {
             "colorbar": {
              "outlinewidth": 0,
              "ticks": ""
             }
            },
            "type": "scatter"
           }
          ],
          "scatter3d": [
           {
            "line": {
             "colorbar": {
              "outlinewidth": 0,
              "ticks": ""
             }
            },
            "marker": {
             "colorbar": {
              "outlinewidth": 0,
              "ticks": ""
             }
            },
            "type": "scatter3d"
           }
          ],
          "scattercarpet": [
           {
            "marker": {
             "colorbar": {
              "outlinewidth": 0,
              "ticks": ""
             }
            },
            "type": "scattercarpet"
           }
          ],
          "scattergeo": [
           {
            "marker": {
             "colorbar": {
              "outlinewidth": 0,
              "ticks": ""
             }
            },
            "type": "scattergeo"
           }
          ],
          "scattergl": [
           {
            "marker": {
             "colorbar": {
              "outlinewidth": 0,
              "ticks": ""
             }
            },
            "type": "scattergl"
           }
          ],
          "scattermapbox": [
           {
            "marker": {
             "colorbar": {
              "outlinewidth": 0,
              "ticks": ""
             }
            },
            "type": "scattermapbox"
           }
          ],
          "scatterpolar": [
           {
            "marker": {
             "colorbar": {
              "outlinewidth": 0,
              "ticks": ""
             }
            },
            "type": "scatterpolar"
           }
          ],
          "scatterpolargl": [
           {
            "marker": {
             "colorbar": {
              "outlinewidth": 0,
              "ticks": ""
             }
            },
            "type": "scatterpolargl"
           }
          ],
          "scatterternary": [
           {
            "marker": {
             "colorbar": {
              "outlinewidth": 0,
              "ticks": ""
             }
            },
            "type": "scatterternary"
           }
          ],
          "surface": [
           {
            "colorbar": {
             "outlinewidth": 0,
             "ticks": ""
            },
            "colorscale": [
             [
              0,
              "#0d0887"
             ],
             [
              0.1111111111111111,
              "#46039f"
             ],
             [
              0.2222222222222222,
              "#7201a8"
             ],
             [
              0.3333333333333333,
              "#9c179e"
             ],
             [
              0.4444444444444444,
              "#bd3786"
             ],
             [
              0.5555555555555556,
              "#d8576b"
             ],
             [
              0.6666666666666666,
              "#ed7953"
             ],
             [
              0.7777777777777778,
              "#fb9f3a"
             ],
             [
              0.8888888888888888,
              "#fdca26"
             ],
             [
              1,
              "#f0f921"
             ]
            ],
            "type": "surface"
           }
          ],
          "table": [
           {
            "cells": {
             "fill": {
              "color": "#EBF0F8"
             },
             "line": {
              "color": "white"
             }
            },
            "header": {
             "fill": {
              "color": "#C8D4E3"
             },
             "line": {
              "color": "white"
             }
            },
            "type": "table"
           }
          ]
         },
         "layout": {
          "annotationdefaults": {
           "arrowcolor": "#2a3f5f",
           "arrowhead": 0,
           "arrowwidth": 1
          },
          "coloraxis": {
           "colorbar": {
            "outlinewidth": 0,
            "ticks": ""
           }
          },
          "colorscale": {
           "diverging": [
            [
             0,
             "#8e0152"
            ],
            [
             0.1,
             "#c51b7d"
            ],
            [
             0.2,
             "#de77ae"
            ],
            [
             0.3,
             "#f1b6da"
            ],
            [
             0.4,
             "#fde0ef"
            ],
            [
             0.5,
             "#f7f7f7"
            ],
            [
             0.6,
             "#e6f5d0"
            ],
            [
             0.7,
             "#b8e186"
            ],
            [
             0.8,
             "#7fbc41"
            ],
            [
             0.9,
             "#4d9221"
            ],
            [
             1,
             "#276419"
            ]
           ],
           "sequential": [
            [
             0,
             "#0d0887"
            ],
            [
             0.1111111111111111,
             "#46039f"
            ],
            [
             0.2222222222222222,
             "#7201a8"
            ],
            [
             0.3333333333333333,
             "#9c179e"
            ],
            [
             0.4444444444444444,
             "#bd3786"
            ],
            [
             0.5555555555555556,
             "#d8576b"
            ],
            [
             0.6666666666666666,
             "#ed7953"
            ],
            [
             0.7777777777777778,
             "#fb9f3a"
            ],
            [
             0.8888888888888888,
             "#fdca26"
            ],
            [
             1,
             "#f0f921"
            ]
           ],
           "sequentialminus": [
            [
             0,
             "#0d0887"
            ],
            [
             0.1111111111111111,
             "#46039f"
            ],
            [
             0.2222222222222222,
             "#7201a8"
            ],
            [
             0.3333333333333333,
             "#9c179e"
            ],
            [
             0.4444444444444444,
             "#bd3786"
            ],
            [
             0.5555555555555556,
             "#d8576b"
            ],
            [
             0.6666666666666666,
             "#ed7953"
            ],
            [
             0.7777777777777778,
             "#fb9f3a"
            ],
            [
             0.8888888888888888,
             "#fdca26"
            ],
            [
             1,
             "#f0f921"
            ]
           ]
          },
          "colorway": [
           "#636efa",
           "#EF553B",
           "#00cc96",
           "#ab63fa",
           "#FFA15A",
           "#19d3f3",
           "#FF6692",
           "#B6E880",
           "#FF97FF",
           "#FECB52"
          ],
          "font": {
           "color": "#2a3f5f"
          },
          "geo": {
           "bgcolor": "white",
           "lakecolor": "white",
           "landcolor": "#E5ECF6",
           "showlakes": true,
           "showland": true,
           "subunitcolor": "white"
          },
          "hoverlabel": {
           "align": "left"
          },
          "hovermode": "closest",
          "mapbox": {
           "style": "light"
          },
          "paper_bgcolor": "white",
          "plot_bgcolor": "#E5ECF6",
          "polar": {
           "angularaxis": {
            "gridcolor": "white",
            "linecolor": "white",
            "ticks": ""
           },
           "bgcolor": "#E5ECF6",
           "radialaxis": {
            "gridcolor": "white",
            "linecolor": "white",
            "ticks": ""
           }
          },
          "scene": {
           "xaxis": {
            "backgroundcolor": "#E5ECF6",
            "gridcolor": "white",
            "gridwidth": 2,
            "linecolor": "white",
            "showbackground": true,
            "ticks": "",
            "zerolinecolor": "white"
           },
           "yaxis": {
            "backgroundcolor": "#E5ECF6",
            "gridcolor": "white",
            "gridwidth": 2,
            "linecolor": "white",
            "showbackground": true,
            "ticks": "",
            "zerolinecolor": "white"
           },
           "zaxis": {
            "backgroundcolor": "#E5ECF6",
            "gridcolor": "white",
            "gridwidth": 2,
            "linecolor": "white",
            "showbackground": true,
            "ticks": "",
            "zerolinecolor": "white"
           }
          },
          "shapedefaults": {
           "line": {
            "color": "#2a3f5f"
           }
          },
          "ternary": {
           "aaxis": {
            "gridcolor": "white",
            "linecolor": "white",
            "ticks": ""
           },
           "baxis": {
            "gridcolor": "white",
            "linecolor": "white",
            "ticks": ""
           },
           "bgcolor": "#E5ECF6",
           "caxis": {
            "gridcolor": "white",
            "linecolor": "white",
            "ticks": ""
           }
          },
          "title": {
           "x": 0.05
          },
          "xaxis": {
           "automargin": true,
           "gridcolor": "white",
           "linecolor": "white",
           "ticks": "",
           "title": {
            "standoff": 15
           },
           "zerolinecolor": "white",
           "zerolinewidth": 2
          },
          "yaxis": {
           "automargin": true,
           "gridcolor": "white",
           "linecolor": "white",
           "ticks": "",
           "title": {
            "standoff": 15
           },
           "zerolinecolor": "white",
           "zerolinewidth": 2
          }
         }
        },
        "title": {
         "text": "Variation in function of time of gdp per capita with respect to other predictive variables\n"
        },
        "width": 1000,
        "xaxis": {
         "anchor": "y",
         "domain": [
          0,
          0.45
         ],
         "title": {
          "text": "Years"
         }
        },
        "xaxis2": {
         "anchor": "y2",
         "domain": [
          0.55,
          1
         ],
         "title": {
          "text": "Years"
         }
        },
        "xaxis3": {
         "anchor": "y3",
         "domain": [
          0,
          0.45
         ],
         "title": {
          "text": "Years"
         }
        },
        "xaxis4": {
         "anchor": "y4",
         "domain": [
          0.55,
          1
         ],
         "title": {
          "text": "Years"
         }
        },
        "xaxis5": {
         "anchor": "y5",
         "domain": [
          0,
          0.45
         ],
         "title": {
          "text": "Years"
         }
        },
        "xaxis6": {
         "anchor": "y6",
         "domain": [
          0.55,
          1
         ]
        },
        "yaxis": {
         "anchor": "x",
         "domain": [
          0.7777777777777778,
          1
         ],
         "title": {
          "text": "Pourcentage"
         }
        },
        "yaxis2": {
         "anchor": "x2",
         "domain": [
          0.7777777777777778,
          1
         ],
         "title": {
          "text": "Pourcentage"
         }
        },
        "yaxis3": {
         "anchor": "x3",
         "domain": [
          0.3888888888888889,
          0.6111111111111112
         ],
         "title": {
          "text": "Pourcentage"
         }
        },
        "yaxis4": {
         "anchor": "x4",
         "domain": [
          0.3888888888888889,
          0.6111111111111112
         ],
         "title": {
          "text": "Pourcentage"
         }
        },
        "yaxis5": {
         "anchor": "x5",
         "domain": [
          0,
          0.22222222222222224
         ],
         "title": {
          "text": "Pourcentage"
         }
        },
        "yaxis6": {
         "anchor": "x6",
         "domain": [
          0,
          0.22222222222222224
         ]
        }
       }
      },
      "text/html": [
       "<div>\n",
       "        \n",
       "        \n",
       "            <div id=\"b927af0e-255b-45a5-b395-a26cb092c868\" class=\"plotly-graph-div\" style=\"height:1000px; width:1000px;\"></div>\n",
       "            <script type=\"text/javascript\">\n",
       "                require([\"plotly\"], function(Plotly) {\n",
       "                    window.PLOTLYENV=window.PLOTLYENV || {};\n",
       "                    \n",
       "                if (document.getElementById(\"b927af0e-255b-45a5-b395-a26cb092c868\")) {\n",
       "                    Plotly.newPlot(\n",
       "                        'b927af0e-255b-45a5-b395-a26cb092c868',\n",
       "                        [{\"line\": {\"color\": \"Black\"}, \"opacity\": 0.8, \"type\": \"scatter\", \"x\": [1980, 1981, 1982, 1983, 1984, 1985, 1986, 1987, 1988, 1989, 1990, 1991, 1992, 1993, 1994, 1995, 1996, 1997, 1998, 1999, 2000, 2001, 2002, 2003, 2004, 2005, 2006, 2007, 2008, 2009, 2010, 2011, 2012, 2013, 2014, 2015, 2016, 2017, 2018], \"xaxis\": \"x\", \"y\": [-0.001695788881810687, -0.0009631946634881428, -0.0003727308788394934, -0.0002919878651412411, 0.00022274340528688708, 0.0025718424445714196, 0.0022361129382750676, 0.0009732135690160138, 0.0001066863182879274, 0.00306483105415446, 0.0003443885210287623, 0.001764936025169077, -0.0008243249941665232, 0.0014375175065718326, 0.003150092478871126, -0.0006992237440081276, -0.002001451551127471, 0.00038456378310008866, -6.796727666495305e-05, -0.0016574855326308086, -1.7363807731916037e-05, 0.0014471893336546826, 0.0042976988278096515, 0.003609927294140383, 0.001113532436265241, 0.0014507196656151234, 0.004255520295148285, 0.002931460414263629, -0.002664888603682951, -0.0002982257747483819, 0.0025722763186949373, -0.002268553225613481, 0.0015144721383568106, 0.0007121405415314541, -0.005024026634853886, 0.000748275091211682, 0.0016275447116824004, 0.002499224678079026], \"yaxis\": \"y\"}, {\"type\": \"scatter\", \"x\": [1980, 1981, 1982, 1983, 1984, 1985, 1986, 1987, 1988, 1989, 1990, 1991, 1992, 1993, 1994, 1995, 1996, 1997, 1998, 1999, 2000, 2001, 2002, 2003, 2004, 2005, 2006, 2007, 2008, 2009, 2010, 2011, 2012, 2013, 2014, 2015, 2016, 2017, 2018], \"xaxis\": \"x\", \"y\": [0.0002228166249173902, -5.334467999864589e-06, -5.496553758321143e-05, -1.6064955553436454e-05, -3.0365433229984086e-06, 6.023845402923112e-05, 7.211790392123607e-05, 0.00017257003979559427, 0.0006448551124450774, 0.0007392957132272826, 0.0006089910737383009, 0.0007613311695036418, 0.0008344749326556222, 0.0008066741475024852, 0.0006386589226913897, 0.00043512845131196963, 0.0004067737021742318, 0.0005048868790024968, 0.000446515488773217, 0.0004803278090185081, 0.0005094622111716107, 0.0007246669605968861, 0.0009482016869757959, 0.0008893789186849894, 0.0009233553764071992, 0.0011793277716622035, 0.0014226820983790683, 0.0015950469663285143, 0.0017290446990481712, 0.0017751468128777636, 0.0020331093750404106, 0.0029273508664791194, 0.0014088740331332672, 0.0010766392626648247, 0.001018678216127844, 0.0013364688886274222, 0.0011741164067700293, 0.0008973395863155531], \"yaxis\": \"y\"}, {\"line\": {\"color\": \"Black\"}, \"opacity\": 0.8, \"type\": \"scatter\", \"x\": [1980, 1981, 1982, 1983, 1984, 1985, 1986, 1987, 1988, 1989, 1990, 1991, 1992, 1993, 1994, 1995, 1996, 1997, 1998, 1999, 2000, 2001, 2002, 2003, 2004, 2005, 2006, 2007, 2008, 2009, 2010, 2011, 2012, 2013, 2014, 2015, 2016, 2017, 2018], \"xaxis\": \"x2\", \"y\": [-0.001695788881810687, -0.0009631946634881428, -0.0003727308788394934, -0.0002919878651412411, 0.00022274340528688708, 0.0025718424445714196, 0.0022361129382750676, 0.0009732135690160138, 0.0001066863182879274, 0.00306483105415446, 0.0003443885210287623, 0.001764936025169077, -0.0008243249941665232, 0.0014375175065718326, 0.003150092478871126, -0.0006992237440081276, -0.002001451551127471, 0.00038456378310008866, -6.796727666495305e-05, -0.0016574855326308086, -1.7363807731916037e-05, 0.0014471893336546826, 0.0042976988278096515, 0.003609927294140383, 0.001113532436265241, 0.0014507196656151234, 0.004255520295148285, 0.002931460414263629, -0.002664888603682951, -0.0002982257747483819, 0.0025722763186949373, -0.002268553225613481, 0.0015144721383568106, 0.0007121405415314541, -0.005024026634853886, 0.000748275091211682, 0.0016275447116824004, 0.002499224678079026], \"yaxis\": \"y2\"}, {\"type\": \"scatter\", \"x\": [1980, 1981, 1982, 1983, 1984, 1985, 1986, 1987, 1988, 1989, 1990, 1991, 1992, 1993, 1994, 1995, 1996, 1997, 1998, 1999, 2000, 2001, 2002, 2003, 2004, 2005, 2006, 2007, 2008, 2009, 2010, 2011, 2012, 2013, 2014, 2015, 2016, 2017, 2018], \"xaxis\": \"x2\", \"y\": [-0.0020367740757232487, 0.002127114245163442, -0.002266324295476836, 0.00042371798579490696, -0.0011712337786617733, 0.0003877300284391905, -0.002772390421656896, -0.0002915230270579716, -0.001305476488060484, -0.0005517243519517345, 0.00041174233146344387, -0.0012721358644190784, -0.0005713814602020916, -0.0015031965761097266, -0.0014351742137857055, -0.0011986765424169127, -0.000996455523523138, -0.00037948997996117384, -0.0008279150361884137, -0.0004504654098005874, 0.0012758437522288391, -0.004816579750385161, -0.0002812359034194861, -0.0008123163281964108, -0.0012708499565837967, -0.0007922414365700237, -0.0024763356250090975, -0.0014534618516777586, 3.626642370341937e-05, -0.0012018452177728989, -0.001297147103727434, 0.0007194880982278895, -0.00027225536920450155, -0.0005856787655273088, 0.0006843190427372092, -0.0007281724646367027, -0.0007325471094027524, 0.0014462587471664712], \"yaxis\": \"y2\"}, {\"line\": {\"color\": \"Black\"}, \"opacity\": 0.8, \"type\": \"scatter\", \"x\": [1980, 1981, 1982, 1983, 1984, 1985, 1986, 1987, 1988, 1989, 1990, 1991, 1992, 1993, 1994, 1995, 1996, 1997, 1998, 1999, 2000, 2001, 2002, 2003, 2004, 2005, 2006, 2007, 2008, 2009, 2010, 2011, 2012, 2013, 2014, 2015, 2016, 2017, 2018], \"xaxis\": \"x3\", \"y\": [-0.001695788881810687, -0.0009631946634881428, -0.0003727308788394934, -0.0002919878651412411, 0.00022274340528688708, 0.0025718424445714196, 0.0022361129382750676, 0.0009732135690160138, 0.0001066863182879274, 0.00306483105415446, 0.0003443885210287623, 0.001764936025169077, -0.0008243249941665232, 0.0014375175065718326, 0.003150092478871126, -0.0006992237440081276, -0.002001451551127471, 0.00038456378310008866, -6.796727666495305e-05, -0.0016574855326308086, -1.7363807731916037e-05, 0.0014471893336546826, 0.0042976988278096515, 0.003609927294140383, 0.001113532436265241, 0.0014507196656151234, 0.004255520295148285, 0.002931460414263629, -0.002664888603682951, -0.0002982257747483819, 0.0025722763186949373, -0.002268553225613481, 0.0015144721383568106, 0.0007121405415314541, -0.005024026634853886, 0.000748275091211682, 0.0016275447116824004, 0.002499224678079026], \"yaxis\": \"y3\"}, {\"type\": \"scatter\", \"x\": [1980, 1981, 1982, 1983, 1984, 1985, 1986, 1987, 1988, 1989, 1990, 1991, 1992, 1993, 1994, 1995, 1996, 1997, 1998, 1999, 2000, 2001, 2002, 2003, 2004, 2005, 2006, 2007, 2008, 2009, 2010, 2011, 2012, 2013, 2014, 2015, 2016, 2017, 2018], \"xaxis\": \"x3\", \"y\": [0.0045850514372448555, 0.001998324961914457, 0.000694919253262678, 0.0027807387351039825, -0.000636887416632157, -0.011584814223788866, -0.005047005311050639, -0.001534020921785137, 0.00026691744657656444, -0.0042873454355301455, 0.00016955741711049938, -0.002098523492096444, 0.0005163458382385703, -0.0005730345222688467, -0.0024566562812917796, 0.0015126364527724093, 0.0017170899975546298, 4.100031365397695e-05, -0.00029414022118277996, 0.0020825169313128345, -0.0002854089161751895, -0.0015329443287023388, -0.00292512682919799, -0.0021868580820827766, -0.0007023159168258408, -0.000854853600694222, -0.0016119169228582019, -0.0005140187898740911, 2.3066643422694487e-05, 0.0009078070250243853, -0.0016662059484150872, 0.00022946265025074132, -0.00022604693678412668, -0.0008387472867124512, 0.0016522484703308381, 6.269438105885761e-05, -0.0005674594770929209, -0.0007212083193338737], \"yaxis\": \"y3\"}, {\"line\": {\"color\": \"Black\"}, \"opacity\": 0.8, \"type\": \"scatter\", \"x\": [1980, 1981, 1982, 1983, 1984, 1985, 1986, 1987, 1988, 1989, 1990, 1991, 1992, 1993, 1994, 1995, 1996, 1997, 1998, 1999, 2000, 2001, 2002, 2003, 2004, 2005, 2006, 2007, 2008, 2009, 2010, 2011, 2012, 2013, 2014, 2015, 2016, 2017, 2018], \"xaxis\": \"x4\", \"y\": [-0.001695788881810687, -0.0009631946634881428, -0.0003727308788394934, -0.0002919878651412411, 0.00022274340528688708, 0.0025718424445714196, 0.0022361129382750676, 0.0009732135690160138, 0.0001066863182879274, 0.00306483105415446, 0.0003443885210287623, 0.001764936025169077, -0.0008243249941665232, 0.0014375175065718326, 0.003150092478871126, -0.0006992237440081276, -0.002001451551127471, 0.00038456378310008866, -6.796727666495305e-05, -0.0016574855326308086, -1.7363807731916037e-05, 0.0014471893336546826, 0.0042976988278096515, 0.003609927294140383, 0.001113532436265241, 0.0014507196656151234, 0.004255520295148285, 0.002931460414263629, -0.002664888603682951, -0.0002982257747483819, 0.0025722763186949373, -0.002268553225613481, 0.0015144721383568106, 0.0007121405415314541, -0.005024026634853886, 0.000748275091211682, 0.0016275447116824004, 0.002499224678079026], \"yaxis\": \"y4\"}, {\"type\": \"scatter\", \"x\": [1980, 1981, 1982, 1983, 1984, 1985, 1986, 1987, 1988, 1989, 1990, 1991, 1992, 1993, 1994, 1995, 1996, 1997, 1998, 1999, 2000, 2001, 2002, 2003, 2004, 2005, 2006, 2007, 2008, 2009, 2010, 2011, 2012, 2013, 2014, 2015, 2016, 2017, 2018], \"xaxis\": \"x4\", \"y\": [0.0003064218585921452, 0.0025037631219803026, 0.00798673747556292, 0.003486289984691886, 0.006259902033754938, 0.004556789574547649, 0.00243358263178663, 0.001110037894190238, -0.0018207389146023354, 0.003634558625946132, 0.00013739560756229286, 0.0005881322769752379, -0.0015113516831851068, -0.0012879602636953569, 0.0007235509693207984, 0.0019571460645562565, 0.004024999381249037, -0.0012286528071936463, 0.0028190810990476978, -0.0008500735431910966, -0.001787131355918038, 0.0009993306420537041, 1.8780694558888644e-05, -6.622665976022791e-05, 0.00027973350316636616, -0.0009390347279436595, 0.0015637399364282834, -0.0026283087806338945, 0.0016349088842303428, 0.0007136663932371657, 0.0002866527064249202, -0.007847364952783917, 0.002321886922041744, -0.008837799476362379, -0.0075122778235492795, 0.017218931537661634, -0.0012810410604368232, -0.013472677201970611], \"yaxis\": \"y4\"}, {\"line\": {\"color\": \"Black\"}, \"opacity\": 0.8, \"type\": \"scatter\", \"x\": [1980, 1981, 1982, 1983, 1984, 1985, 1986, 1987, 1988, 1989, 1990, 1991, 1992, 1993, 1994, 1995, 1996, 1997, 1998, 1999, 2000, 2001, 2002, 2003, 2004, 2005, 2006, 2007, 2008, 2009, 2010, 2011, 2012, 2013, 2014, 2015, 2016, 2017, 2018], \"xaxis\": \"x5\", \"y\": [-0.001695788881810687, -0.0009631946634881428, -0.0003727308788394934, -0.0002919878651412411, 0.00022274340528688708, 0.0025718424445714196, 0.0022361129382750676, 0.0009732135690160138, 0.0001066863182879274, 0.00306483105415446, 0.0003443885210287623, 0.001764936025169077, -0.0008243249941665232, 0.0014375175065718326, 0.003150092478871126, -0.0006992237440081276, -0.002001451551127471, 0.00038456378310008866, -6.796727666495305e-05, -0.0016574855326308086, -1.7363807731916037e-05, 0.0014471893336546826, 0.0042976988278096515, 0.003609927294140383, 0.001113532436265241, 0.0014507196656151234, 0.004255520295148285, 0.002931460414263629, -0.002664888603682951, -0.0002982257747483819, 0.0025722763186949373, -0.002268553225613481, 0.0015144721383568106, 0.0007121405415314541, -0.005024026634853886, 0.000748275091211682, 0.0016275447116824004, 0.002499224678079026], \"yaxis\": \"y5\"}, {\"type\": \"scatter\", \"x\": [1980, 1981, 1982, 1983, 1984, 1985, 1986, 1987, 1988, 1989, 1990, 1991, 1992, 1993, 1994, 1995, 1996, 1997, 1998, 1999, 2000, 2001, 2002, 2003, 2004, 2005, 2006, 2007, 2008, 2009, 2010, 2011, 2012, 2013, 2014, 2015, 2016, 2017, 2018], \"xaxis\": \"x5\", \"y\": [0.0, 0.0, 0.0, 0.0, 0.0, 0.0, 0.0, 0.0, 0.0, 0.002598645808066943, 0.00023859248016543932, 0.0005116802586680474, -0.0003938213226827114, 0.00047431035213611305, 0.0001322319769591579, -8.911285403769343e-05, 0.00022134483099685187, 0.000641037627432443, -1.7247649168586344e-05, 0.0006122915454847993, -9.773667862198577e-05, -0.00038519749809841797, -0.00041106897185129833, 0.0009946144353884534, 0.00023571787197067316, 0.0004714357439413483, 0.0010463573828942115, 0.00021847022280208696, 0.001388435758071166, 0.0017276395250533543, 0.003978457741553814, 0.004754601954140182, 0.004182554923382081, 0.0027222539604418094, 0.0031189498913192825, -7.761442125863383e-05, 0.0033862884534323666, 0.004536131731338093], \"yaxis\": \"y5\"}],\n",
       "                        {\"annotations\": [{\"font\": {\"size\": 16}, \"showarrow\": false, \"text\": \"Gdp per capita - Population\", \"x\": 0.225, \"xanchor\": \"center\", \"xref\": \"paper\", \"y\": 1.0, \"yanchor\": \"bottom\", \"yref\": \"paper\"}, {\"font\": {\"size\": 16}, \"showarrow\": false, \"text\": \"Gdp per capita - Carbon intensity of fossil energy\", \"x\": 0.775, \"xanchor\": \"center\", \"xref\": \"paper\", \"y\": 1.0, \"yanchor\": \"bottom\", \"yref\": \"paper\"}, {\"font\": {\"size\": 16}, \"showarrow\": false, \"text\": \"Gdp per capita - Primary intensity\", \"x\": 0.225, \"xanchor\": \"center\", \"xref\": \"paper\", \"y\": 0.6111111111111112, \"yanchor\": \"bottom\", \"yref\": \"paper\"}, {\"font\": {\"size\": 16}, \"showarrow\": false, \"text\": \"Gdp per capita - Nuclear consumption\", \"x\": 0.775, \"xanchor\": \"center\", \"xref\": \"paper\", \"y\": 0.6111111111111112, \"yanchor\": \"bottom\", \"yref\": \"paper\"}, {\"font\": {\"size\": 16}, \"showarrow\": false, \"text\": \"Gdp per capita - Renewable consumption\", \"x\": 0.225, \"xanchor\": \"center\", \"xref\": \"paper\", \"y\": 0.22222222222222224, \"yanchor\": \"bottom\", \"yref\": \"paper\"}], \"height\": 1000, \"showlegend\": false, \"template\": {\"data\": {\"bar\": [{\"error_x\": {\"color\": \"#2a3f5f\"}, \"error_y\": {\"color\": \"#2a3f5f\"}, \"marker\": {\"line\": {\"color\": \"#E5ECF6\", \"width\": 0.5}}, \"type\": \"bar\"}], \"barpolar\": [{\"marker\": {\"line\": {\"color\": \"#E5ECF6\", \"width\": 0.5}}, \"type\": \"barpolar\"}], \"carpet\": [{\"aaxis\": {\"endlinecolor\": \"#2a3f5f\", \"gridcolor\": \"white\", \"linecolor\": \"white\", \"minorgridcolor\": \"white\", \"startlinecolor\": \"#2a3f5f\"}, \"baxis\": {\"endlinecolor\": \"#2a3f5f\", \"gridcolor\": \"white\", \"linecolor\": \"white\", \"minorgridcolor\": \"white\", \"startlinecolor\": \"#2a3f5f\"}, \"type\": \"carpet\"}], \"choropleth\": [{\"colorbar\": {\"outlinewidth\": 0, \"ticks\": \"\"}, \"type\": \"choropleth\"}], \"contour\": [{\"colorbar\": {\"outlinewidth\": 0, \"ticks\": \"\"}, \"colorscale\": [[0.0, \"#0d0887\"], [0.1111111111111111, \"#46039f\"], [0.2222222222222222, \"#7201a8\"], [0.3333333333333333, \"#9c179e\"], [0.4444444444444444, \"#bd3786\"], [0.5555555555555556, \"#d8576b\"], [0.6666666666666666, \"#ed7953\"], [0.7777777777777778, \"#fb9f3a\"], [0.8888888888888888, \"#fdca26\"], [1.0, \"#f0f921\"]], \"type\": \"contour\"}], \"contourcarpet\": [{\"colorbar\": {\"outlinewidth\": 0, \"ticks\": \"\"}, \"type\": \"contourcarpet\"}], \"heatmap\": [{\"colorbar\": {\"outlinewidth\": 0, \"ticks\": \"\"}, \"colorscale\": [[0.0, \"#0d0887\"], [0.1111111111111111, \"#46039f\"], [0.2222222222222222, \"#7201a8\"], [0.3333333333333333, \"#9c179e\"], [0.4444444444444444, \"#bd3786\"], [0.5555555555555556, \"#d8576b\"], [0.6666666666666666, \"#ed7953\"], [0.7777777777777778, \"#fb9f3a\"], [0.8888888888888888, \"#fdca26\"], [1.0, \"#f0f921\"]], \"type\": \"heatmap\"}], \"heatmapgl\": [{\"colorbar\": {\"outlinewidth\": 0, \"ticks\": \"\"}, \"colorscale\": [[0.0, \"#0d0887\"], [0.1111111111111111, \"#46039f\"], [0.2222222222222222, \"#7201a8\"], [0.3333333333333333, \"#9c179e\"], [0.4444444444444444, \"#bd3786\"], [0.5555555555555556, \"#d8576b\"], [0.6666666666666666, \"#ed7953\"], [0.7777777777777778, \"#fb9f3a\"], [0.8888888888888888, \"#fdca26\"], [1.0, \"#f0f921\"]], \"type\": \"heatmapgl\"}], \"histogram\": [{\"marker\": {\"colorbar\": {\"outlinewidth\": 0, \"ticks\": \"\"}}, \"type\": \"histogram\"}], \"histogram2d\": [{\"colorbar\": {\"outlinewidth\": 0, \"ticks\": \"\"}, \"colorscale\": [[0.0, \"#0d0887\"], [0.1111111111111111, \"#46039f\"], [0.2222222222222222, \"#7201a8\"], [0.3333333333333333, \"#9c179e\"], [0.4444444444444444, \"#bd3786\"], [0.5555555555555556, \"#d8576b\"], [0.6666666666666666, \"#ed7953\"], [0.7777777777777778, \"#fb9f3a\"], [0.8888888888888888, \"#fdca26\"], [1.0, \"#f0f921\"]], \"type\": \"histogram2d\"}], \"histogram2dcontour\": [{\"colorbar\": {\"outlinewidth\": 0, \"ticks\": \"\"}, \"colorscale\": [[0.0, \"#0d0887\"], [0.1111111111111111, \"#46039f\"], [0.2222222222222222, \"#7201a8\"], [0.3333333333333333, \"#9c179e\"], [0.4444444444444444, \"#bd3786\"], [0.5555555555555556, \"#d8576b\"], [0.6666666666666666, \"#ed7953\"], [0.7777777777777778, \"#fb9f3a\"], [0.8888888888888888, \"#fdca26\"], [1.0, \"#f0f921\"]], \"type\": \"histogram2dcontour\"}], \"mesh3d\": [{\"colorbar\": {\"outlinewidth\": 0, \"ticks\": \"\"}, \"type\": \"mesh3d\"}], \"parcoords\": [{\"line\": {\"colorbar\": {\"outlinewidth\": 0, \"ticks\": \"\"}}, \"type\": \"parcoords\"}], \"pie\": [{\"automargin\": true, \"type\": \"pie\"}], \"scatter\": [{\"marker\": {\"colorbar\": {\"outlinewidth\": 0, \"ticks\": \"\"}}, \"type\": \"scatter\"}], \"scatter3d\": [{\"line\": {\"colorbar\": {\"outlinewidth\": 0, \"ticks\": \"\"}}, \"marker\": {\"colorbar\": {\"outlinewidth\": 0, \"ticks\": \"\"}}, \"type\": \"scatter3d\"}], \"scattercarpet\": [{\"marker\": {\"colorbar\": {\"outlinewidth\": 0, \"ticks\": \"\"}}, \"type\": \"scattercarpet\"}], \"scattergeo\": [{\"marker\": {\"colorbar\": {\"outlinewidth\": 0, \"ticks\": \"\"}}, \"type\": \"scattergeo\"}], \"scattergl\": [{\"marker\": {\"colorbar\": {\"outlinewidth\": 0, \"ticks\": \"\"}}, \"type\": \"scattergl\"}], \"scattermapbox\": [{\"marker\": {\"colorbar\": {\"outlinewidth\": 0, \"ticks\": \"\"}}, \"type\": \"scattermapbox\"}], \"scatterpolar\": [{\"marker\": {\"colorbar\": {\"outlinewidth\": 0, \"ticks\": \"\"}}, \"type\": \"scatterpolar\"}], \"scatterpolargl\": [{\"marker\": {\"colorbar\": {\"outlinewidth\": 0, \"ticks\": \"\"}}, \"type\": \"scatterpolargl\"}], \"scatterternary\": [{\"marker\": {\"colorbar\": {\"outlinewidth\": 0, \"ticks\": \"\"}}, \"type\": \"scatterternary\"}], \"surface\": [{\"colorbar\": {\"outlinewidth\": 0, \"ticks\": \"\"}, \"colorscale\": [[0.0, \"#0d0887\"], [0.1111111111111111, \"#46039f\"], [0.2222222222222222, \"#7201a8\"], [0.3333333333333333, \"#9c179e\"], [0.4444444444444444, \"#bd3786\"], [0.5555555555555556, \"#d8576b\"], [0.6666666666666666, \"#ed7953\"], [0.7777777777777778, \"#fb9f3a\"], [0.8888888888888888, \"#fdca26\"], [1.0, \"#f0f921\"]], \"type\": \"surface\"}], \"table\": [{\"cells\": {\"fill\": {\"color\": \"#EBF0F8\"}, \"line\": {\"color\": \"white\"}}, \"header\": {\"fill\": {\"color\": \"#C8D4E3\"}, \"line\": {\"color\": \"white\"}}, \"type\": \"table\"}]}, \"layout\": {\"annotationdefaults\": {\"arrowcolor\": \"#2a3f5f\", \"arrowhead\": 0, \"arrowwidth\": 1}, \"coloraxis\": {\"colorbar\": {\"outlinewidth\": 0, \"ticks\": \"\"}}, \"colorscale\": {\"diverging\": [[0, \"#8e0152\"], [0.1, \"#c51b7d\"], [0.2, \"#de77ae\"], [0.3, \"#f1b6da\"], [0.4, \"#fde0ef\"], [0.5, \"#f7f7f7\"], [0.6, \"#e6f5d0\"], [0.7, \"#b8e186\"], [0.8, \"#7fbc41\"], [0.9, \"#4d9221\"], [1, \"#276419\"]], \"sequential\": [[0.0, \"#0d0887\"], [0.1111111111111111, \"#46039f\"], [0.2222222222222222, \"#7201a8\"], [0.3333333333333333, \"#9c179e\"], [0.4444444444444444, \"#bd3786\"], [0.5555555555555556, \"#d8576b\"], [0.6666666666666666, \"#ed7953\"], [0.7777777777777778, \"#fb9f3a\"], [0.8888888888888888, \"#fdca26\"], [1.0, \"#f0f921\"]], \"sequentialminus\": [[0.0, \"#0d0887\"], [0.1111111111111111, \"#46039f\"], [0.2222222222222222, \"#7201a8\"], [0.3333333333333333, \"#9c179e\"], [0.4444444444444444, \"#bd3786\"], [0.5555555555555556, \"#d8576b\"], [0.6666666666666666, \"#ed7953\"], [0.7777777777777778, \"#fb9f3a\"], [0.8888888888888888, \"#fdca26\"], [1.0, \"#f0f921\"]]}, \"colorway\": [\"#636efa\", \"#EF553B\", \"#00cc96\", \"#ab63fa\", \"#FFA15A\", \"#19d3f3\", \"#FF6692\", \"#B6E880\", \"#FF97FF\", \"#FECB52\"], \"font\": {\"color\": \"#2a3f5f\"}, \"geo\": {\"bgcolor\": \"white\", \"lakecolor\": \"white\", \"landcolor\": \"#E5ECF6\", \"showlakes\": true, \"showland\": true, \"subunitcolor\": \"white\"}, \"hoverlabel\": {\"align\": \"left\"}, \"hovermode\": \"closest\", \"mapbox\": {\"style\": \"light\"}, \"paper_bgcolor\": \"white\", \"plot_bgcolor\": \"#E5ECF6\", \"polar\": {\"angularaxis\": {\"gridcolor\": \"white\", \"linecolor\": \"white\", \"ticks\": \"\"}, \"bgcolor\": \"#E5ECF6\", \"radialaxis\": {\"gridcolor\": \"white\", \"linecolor\": \"white\", \"ticks\": \"\"}}, \"scene\": {\"xaxis\": {\"backgroundcolor\": \"#E5ECF6\", \"gridcolor\": \"white\", \"gridwidth\": 2, \"linecolor\": \"white\", \"showbackground\": true, \"ticks\": \"\", \"zerolinecolor\": \"white\"}, \"yaxis\": {\"backgroundcolor\": \"#E5ECF6\", \"gridcolor\": \"white\", \"gridwidth\": 2, \"linecolor\": \"white\", \"showbackground\": true, \"ticks\": \"\", \"zerolinecolor\": \"white\"}, \"zaxis\": {\"backgroundcolor\": \"#E5ECF6\", \"gridcolor\": \"white\", \"gridwidth\": 2, \"linecolor\": \"white\", \"showbackground\": true, \"ticks\": \"\", \"zerolinecolor\": \"white\"}}, \"shapedefaults\": {\"line\": {\"color\": \"#2a3f5f\"}}, \"ternary\": {\"aaxis\": {\"gridcolor\": \"white\", \"linecolor\": \"white\", \"ticks\": \"\"}, \"baxis\": {\"gridcolor\": \"white\", \"linecolor\": \"white\", \"ticks\": \"\"}, \"bgcolor\": \"#E5ECF6\", \"caxis\": {\"gridcolor\": \"white\", \"linecolor\": \"white\", \"ticks\": \"\"}}, \"title\": {\"x\": 0.05}, \"xaxis\": {\"automargin\": true, \"gridcolor\": \"white\", \"linecolor\": \"white\", \"ticks\": \"\", \"title\": {\"standoff\": 15}, \"zerolinecolor\": \"white\", \"zerolinewidth\": 2}, \"yaxis\": {\"automargin\": true, \"gridcolor\": \"white\", \"linecolor\": \"white\", \"ticks\": \"\", \"title\": {\"standoff\": 15}, \"zerolinecolor\": \"white\", \"zerolinewidth\": 2}}}, \"title\": {\"text\": \"Variation in function of time of gdp per capita with respect to other predictive variables\\n\"}, \"width\": 1000, \"xaxis\": {\"anchor\": \"y\", \"domain\": [0.0, 0.45], \"title\": {\"text\": \"Years\"}}, \"xaxis2\": {\"anchor\": \"y2\", \"domain\": [0.55, 1.0], \"title\": {\"text\": \"Years\"}}, \"xaxis3\": {\"anchor\": \"y3\", \"domain\": [0.0, 0.45], \"title\": {\"text\": \"Years\"}}, \"xaxis4\": {\"anchor\": \"y4\", \"domain\": [0.55, 1.0], \"title\": {\"text\": \"Years\"}}, \"xaxis5\": {\"anchor\": \"y5\", \"domain\": [0.0, 0.45], \"title\": {\"text\": \"Years\"}}, \"xaxis6\": {\"anchor\": \"y6\", \"domain\": [0.55, 1.0]}, \"yaxis\": {\"anchor\": \"x\", \"domain\": [0.7777777777777778, 1.0], \"title\": {\"text\": \"Pourcentage\"}}, \"yaxis2\": {\"anchor\": \"x2\", \"domain\": [0.7777777777777778, 1.0], \"title\": {\"text\": \"Pourcentage\"}}, \"yaxis3\": {\"anchor\": \"x3\", \"domain\": [0.3888888888888889, 0.6111111111111112], \"title\": {\"text\": \"Pourcentage\"}}, \"yaxis4\": {\"anchor\": \"x4\", \"domain\": [0.3888888888888889, 0.6111111111111112], \"title\": {\"text\": \"Pourcentage\"}}, \"yaxis5\": {\"anchor\": \"x5\", \"domain\": [0.0, 0.22222222222222224], \"title\": {\"text\": \"Pourcentage\"}}, \"yaxis6\": {\"anchor\": \"x6\", \"domain\": [0.0, 0.22222222222222224]}},\n",
       "                        {\"responsive\": true}\n",
       "                    ).then(function(){\n",
       "                            \n",
       "var gd = document.getElementById('b927af0e-255b-45a5-b395-a26cb092c868');\n",
       "var x = new MutationObserver(function (mutations, observer) {{\n",
       "        var display = window.getComputedStyle(gd).display;\n",
       "        if (!display || display === 'none') {{\n",
       "            console.log([gd, 'removed!']);\n",
       "            Plotly.purge(gd);\n",
       "            observer.disconnect();\n",
       "        }}\n",
       "}});\n",
       "\n",
       "// Listen for the removal of the full notebook cells\n",
       "var notebookContainer = gd.closest('#notebook-container');\n",
       "if (notebookContainer) {{\n",
       "    x.observe(notebookContainer, {childList: true});\n",
       "}}\n",
       "\n",
       "// Listen for the clearing of the current output cell\n",
       "var outputEl = gd.closest('.output');\n",
       "if (outputEl) {{\n",
       "    x.observe(outputEl, {childList: true});\n",
       "}}\n",
       "\n",
       "                        })\n",
       "                };\n",
       "                });\n",
       "            </script>\n",
       "        </div>"
      ]
     },
     "metadata": {},
     "output_type": "display_data"
    }
   ],
   "source": [
    "# Initialize figure with subplots\n",
    "fig = make_subplots(\n",
    "    rows=3, cols=2, subplot_titles=(\"Gdp per capita - Population\",\n",
    "                                    \"Gdp per capita - Carbon intensity of fossil energy\",\n",
    "                                    \"Gdp per capita - Primary intensity\", \"Gdp per capita - Nuclear consumption\",\n",
    "                                    \"Gdp per capita - Renewable consumption\"))\n",
    "\n",
    "plotly_descriptive_variable(fig, names, temporal_var, 1, [0,2,3,4,5])"
   ]
  },
  {
   "cell_type": "code",
   "execution_count": 8,
   "metadata": {},
   "outputs": [
    {
     "data": {
      "application/vnd.plotly.v1+json": {
       "config": {
        "plotlyServerURL": "https://plot.ly"
       },
       "data": [
        {
         "line": {
          "color": "Black"
         },
         "opacity": 0.8,
         "type": "scatter",
         "x": [
          1980,
          1981,
          1982,
          1983,
          1984,
          1985,
          1986,
          1987,
          1988,
          1989,
          1990,
          1991,
          1992,
          1993,
          1994,
          1995,
          1996,
          1997,
          1998,
          1999,
          2000,
          2001,
          2002,
          2003,
          2004,
          2005,
          2006,
          2007,
          2008,
          2009,
          2010,
          2011,
          2012,
          2013,
          2014,
          2015,
          2016,
          2017,
          2018
         ],
         "xaxis": "x",
         "y": [
          -0.0020367740757232487,
          0.002127114245163442,
          -0.002266324295476836,
          0.00042371798579490696,
          -0.0011712337786617733,
          0.0003877300284391905,
          -0.002772390421656896,
          -0.0002915230270579716,
          -0.001305476488060484,
          -0.0005517243519517345,
          0.00041174233146344387,
          -0.0012721358644190784,
          -0.0005713814602020916,
          -0.0015031965761097266,
          -0.0014351742137857055,
          -0.0011986765424169127,
          -0.000996455523523138,
          -0.00037948997996117384,
          -0.0008279150361884137,
          -0.0004504654098005874,
          0.0012758437522288391,
          -0.004816579750385161,
          -0.0002812359034194861,
          -0.0008123163281964108,
          -0.0012708499565837967,
          -0.0007922414365700237,
          -0.0024763356250090975,
          -0.0014534618516777586,
          3.626642370341937e-05,
          -0.0012018452177728989,
          -0.001297147103727434,
          0.0007194880982278895,
          -0.00027225536920450155,
          -0.0005856787655273088,
          0.0006843190427372092,
          -0.0007281724646367027,
          -0.0007325471094027524,
          0.0014462587471664712
         ],
         "yaxis": "y"
        },
        {
         "type": "scatter",
         "x": [
          1980,
          1981,
          1982,
          1983,
          1984,
          1985,
          1986,
          1987,
          1988,
          1989,
          1990,
          1991,
          1992,
          1993,
          1994,
          1995,
          1996,
          1997,
          1998,
          1999,
          2000,
          2001,
          2002,
          2003,
          2004,
          2005,
          2006,
          2007,
          2008,
          2009,
          2010,
          2011,
          2012,
          2013,
          2014,
          2015,
          2016,
          2017,
          2018
         ],
         "xaxis": "x",
         "y": [
          0.0002228166249173902,
          -5.334467999864589e-06,
          -5.496553758321143e-05,
          -1.6064955553436454e-05,
          -3.0365433229984086e-06,
          6.023845402923112e-05,
          7.211790392123607e-05,
          0.00017257003979559427,
          0.0006448551124450774,
          0.0007392957132272826,
          0.0006089910737383009,
          0.0007613311695036418,
          0.0008344749326556222,
          0.0008066741475024852,
          0.0006386589226913897,
          0.00043512845131196963,
          0.0004067737021742318,
          0.0005048868790024968,
          0.000446515488773217,
          0.0004803278090185081,
          0.0005094622111716107,
          0.0007246669605968861,
          0.0009482016869757959,
          0.0008893789186849894,
          0.0009233553764071992,
          0.0011793277716622035,
          0.0014226820983790683,
          0.0015950469663285143,
          0.0017290446990481712,
          0.0017751468128777636,
          0.0020331093750404106,
          0.0029273508664791194,
          0.0014088740331332672,
          0.0010766392626648247,
          0.001018678216127844,
          0.0013364688886274222,
          0.0011741164067700293,
          0.0008973395863155531
         ],
         "yaxis": "y"
        },
        {
         "line": {
          "color": "Black"
         },
         "opacity": 0.8,
         "type": "scatter",
         "x": [
          1980,
          1981,
          1982,
          1983,
          1984,
          1985,
          1986,
          1987,
          1988,
          1989,
          1990,
          1991,
          1992,
          1993,
          1994,
          1995,
          1996,
          1997,
          1998,
          1999,
          2000,
          2001,
          2002,
          2003,
          2004,
          2005,
          2006,
          2007,
          2008,
          2009,
          2010,
          2011,
          2012,
          2013,
          2014,
          2015,
          2016,
          2017,
          2018
         ],
         "xaxis": "x2",
         "y": [
          -0.0020367740757232487,
          0.002127114245163442,
          -0.002266324295476836,
          0.00042371798579490696,
          -0.0011712337786617733,
          0.0003877300284391905,
          -0.002772390421656896,
          -0.0002915230270579716,
          -0.001305476488060484,
          -0.0005517243519517345,
          0.00041174233146344387,
          -0.0012721358644190784,
          -0.0005713814602020916,
          -0.0015031965761097266,
          -0.0014351742137857055,
          -0.0011986765424169127,
          -0.000996455523523138,
          -0.00037948997996117384,
          -0.0008279150361884137,
          -0.0004504654098005874,
          0.0012758437522288391,
          -0.004816579750385161,
          -0.0002812359034194861,
          -0.0008123163281964108,
          -0.0012708499565837967,
          -0.0007922414365700237,
          -0.0024763356250090975,
          -0.0014534618516777586,
          3.626642370341937e-05,
          -0.0012018452177728989,
          -0.001297147103727434,
          0.0007194880982278895,
          -0.00027225536920450155,
          -0.0005856787655273088,
          0.0006843190427372092,
          -0.0007281724646367027,
          -0.0007325471094027524,
          0.0014462587471664712
         ],
         "yaxis": "y2"
        },
        {
         "type": "scatter",
         "x": [
          1980,
          1981,
          1982,
          1983,
          1984,
          1985,
          1986,
          1987,
          1988,
          1989,
          1990,
          1991,
          1992,
          1993,
          1994,
          1995,
          1996,
          1997,
          1998,
          1999,
          2000,
          2001,
          2002,
          2003,
          2004,
          2005,
          2006,
          2007,
          2008,
          2009,
          2010,
          2011,
          2012,
          2013,
          2014,
          2015,
          2016,
          2017,
          2018
         ],
         "xaxis": "x2",
         "y": [
          -0.001695788881810687,
          -0.0009631946634881428,
          -0.0003727308788394934,
          -0.0002919878651412411,
          0.00022274340528688708,
          0.0025718424445714196,
          0.0022361129382750676,
          0.0009732135690160138,
          0.0001066863182879274,
          0.00306483105415446,
          0.0003443885210287623,
          0.001764936025169077,
          -0.0008243249941665232,
          0.0014375175065718326,
          0.003150092478871126,
          -0.0006992237440081276,
          -0.002001451551127471,
          0.00038456378310008866,
          -6.796727666495305e-05,
          -0.0016574855326308086,
          -1.7363807731916037e-05,
          0.0014471893336546826,
          0.0042976988278096515,
          0.003609927294140383,
          0.001113532436265241,
          0.0014507196656151234,
          0.004255520295148285,
          0.002931460414263629,
          -0.002664888603682951,
          -0.0002982257747483819,
          0.0025722763186949373,
          -0.002268553225613481,
          0.0015144721383568106,
          0.0007121405415314541,
          -0.005024026634853886,
          0.000748275091211682,
          0.0016275447116824004,
          0.002499224678079026
         ],
         "yaxis": "y2"
        },
        {
         "line": {
          "color": "Black"
         },
         "opacity": 0.8,
         "type": "scatter",
         "x": [
          1980,
          1981,
          1982,
          1983,
          1984,
          1985,
          1986,
          1987,
          1988,
          1989,
          1990,
          1991,
          1992,
          1993,
          1994,
          1995,
          1996,
          1997,
          1998,
          1999,
          2000,
          2001,
          2002,
          2003,
          2004,
          2005,
          2006,
          2007,
          2008,
          2009,
          2010,
          2011,
          2012,
          2013,
          2014,
          2015,
          2016,
          2017,
          2018
         ],
         "xaxis": "x3",
         "y": [
          -0.0020367740757232487,
          0.002127114245163442,
          -0.002266324295476836,
          0.00042371798579490696,
          -0.0011712337786617733,
          0.0003877300284391905,
          -0.002772390421656896,
          -0.0002915230270579716,
          -0.001305476488060484,
          -0.0005517243519517345,
          0.00041174233146344387,
          -0.0012721358644190784,
          -0.0005713814602020916,
          -0.0015031965761097266,
          -0.0014351742137857055,
          -0.0011986765424169127,
          -0.000996455523523138,
          -0.00037948997996117384,
          -0.0008279150361884137,
          -0.0004504654098005874,
          0.0012758437522288391,
          -0.004816579750385161,
          -0.0002812359034194861,
          -0.0008123163281964108,
          -0.0012708499565837967,
          -0.0007922414365700237,
          -0.0024763356250090975,
          -0.0014534618516777586,
          3.626642370341937e-05,
          -0.0012018452177728989,
          -0.001297147103727434,
          0.0007194880982278895,
          -0.00027225536920450155,
          -0.0005856787655273088,
          0.0006843190427372092,
          -0.0007281724646367027,
          -0.0007325471094027524,
          0.0014462587471664712
         ],
         "yaxis": "y3"
        },
        {
         "type": "scatter",
         "x": [
          1980,
          1981,
          1982,
          1983,
          1984,
          1985,
          1986,
          1987,
          1988,
          1989,
          1990,
          1991,
          1992,
          1993,
          1994,
          1995,
          1996,
          1997,
          1998,
          1999,
          2000,
          2001,
          2002,
          2003,
          2004,
          2005,
          2006,
          2007,
          2008,
          2009,
          2010,
          2011,
          2012,
          2013,
          2014,
          2015,
          2016,
          2017,
          2018
         ],
         "xaxis": "x3",
         "y": [
          0.0045850514372448555,
          0.001998324961914457,
          0.000694919253262678,
          0.0027807387351039825,
          -0.000636887416632157,
          -0.011584814223788866,
          -0.005047005311050639,
          -0.001534020921785137,
          0.00026691744657656444,
          -0.0042873454355301455,
          0.00016955741711049938,
          -0.002098523492096444,
          0.0005163458382385703,
          -0.0005730345222688467,
          -0.0024566562812917796,
          0.0015126364527724093,
          0.0017170899975546298,
          4.100031365397695e-05,
          -0.00029414022118277996,
          0.0020825169313128345,
          -0.0002854089161751895,
          -0.0015329443287023388,
          -0.00292512682919799,
          -0.0021868580820827766,
          -0.0007023159168258408,
          -0.000854853600694222,
          -0.0016119169228582019,
          -0.0005140187898740911,
          2.3066643422694487e-05,
          0.0009078070250243853,
          -0.0016662059484150872,
          0.00022946265025074132,
          -0.00022604693678412668,
          -0.0008387472867124512,
          0.0016522484703308381,
          6.269438105885761e-05,
          -0.0005674594770929209,
          -0.0007212083193338737
         ],
         "yaxis": "y3"
        },
        {
         "line": {
          "color": "Black"
         },
         "opacity": 0.8,
         "type": "scatter",
         "x": [
          1980,
          1981,
          1982,
          1983,
          1984,
          1985,
          1986,
          1987,
          1988,
          1989,
          1990,
          1991,
          1992,
          1993,
          1994,
          1995,
          1996,
          1997,
          1998,
          1999,
          2000,
          2001,
          2002,
          2003,
          2004,
          2005,
          2006,
          2007,
          2008,
          2009,
          2010,
          2011,
          2012,
          2013,
          2014,
          2015,
          2016,
          2017,
          2018
         ],
         "xaxis": "x4",
         "y": [
          -0.0020367740757232487,
          0.002127114245163442,
          -0.002266324295476836,
          0.00042371798579490696,
          -0.0011712337786617733,
          0.0003877300284391905,
          -0.002772390421656896,
          -0.0002915230270579716,
          -0.001305476488060484,
          -0.0005517243519517345,
          0.00041174233146344387,
          -0.0012721358644190784,
          -0.0005713814602020916,
          -0.0015031965761097266,
          -0.0014351742137857055,
          -0.0011986765424169127,
          -0.000996455523523138,
          -0.00037948997996117384,
          -0.0008279150361884137,
          -0.0004504654098005874,
          0.0012758437522288391,
          -0.004816579750385161,
          -0.0002812359034194861,
          -0.0008123163281964108,
          -0.0012708499565837967,
          -0.0007922414365700237,
          -0.0024763356250090975,
          -0.0014534618516777586,
          3.626642370341937e-05,
          -0.0012018452177728989,
          -0.001297147103727434,
          0.0007194880982278895,
          -0.00027225536920450155,
          -0.0005856787655273088,
          0.0006843190427372092,
          -0.0007281724646367027,
          -0.0007325471094027524,
          0.0014462587471664712
         ],
         "yaxis": "y4"
        },
        {
         "type": "scatter",
         "x": [
          1980,
          1981,
          1982,
          1983,
          1984,
          1985,
          1986,
          1987,
          1988,
          1989,
          1990,
          1991,
          1992,
          1993,
          1994,
          1995,
          1996,
          1997,
          1998,
          1999,
          2000,
          2001,
          2002,
          2003,
          2004,
          2005,
          2006,
          2007,
          2008,
          2009,
          2010,
          2011,
          2012,
          2013,
          2014,
          2015,
          2016,
          2017,
          2018
         ],
         "xaxis": "x4",
         "y": [
          0.0003064218585921452,
          0.0025037631219803026,
          0.00798673747556292,
          0.003486289984691886,
          0.006259902033754938,
          0.004556789574547649,
          0.00243358263178663,
          0.001110037894190238,
          -0.0018207389146023354,
          0.003634558625946132,
          0.00013739560756229286,
          0.0005881322769752379,
          -0.0015113516831851068,
          -0.0012879602636953569,
          0.0007235509693207984,
          0.0019571460645562565,
          0.004024999381249037,
          -0.0012286528071936463,
          0.0028190810990476978,
          -0.0008500735431910966,
          -0.001787131355918038,
          0.0009993306420537041,
          1.8780694558888644e-05,
          -6.622665976022791e-05,
          0.00027973350316636616,
          -0.0009390347279436595,
          0.0015637399364282834,
          -0.0026283087806338945,
          0.0016349088842303428,
          0.0007136663932371657,
          0.0002866527064249202,
          -0.007847364952783917,
          0.002321886922041744,
          -0.008837799476362379,
          -0.0075122778235492795,
          0.017218931537661634,
          -0.0012810410604368232,
          -0.013472677201970611
         ],
         "yaxis": "y4"
        },
        {
         "line": {
          "color": "Black"
         },
         "opacity": 0.8,
         "type": "scatter",
         "x": [
          1980,
          1981,
          1982,
          1983,
          1984,
          1985,
          1986,
          1987,
          1988,
          1989,
          1990,
          1991,
          1992,
          1993,
          1994,
          1995,
          1996,
          1997,
          1998,
          1999,
          2000,
          2001,
          2002,
          2003,
          2004,
          2005,
          2006,
          2007,
          2008,
          2009,
          2010,
          2011,
          2012,
          2013,
          2014,
          2015,
          2016,
          2017,
          2018
         ],
         "xaxis": "x5",
         "y": [
          -0.0020367740757232487,
          0.002127114245163442,
          -0.002266324295476836,
          0.00042371798579490696,
          -0.0011712337786617733,
          0.0003877300284391905,
          -0.002772390421656896,
          -0.0002915230270579716,
          -0.001305476488060484,
          -0.0005517243519517345,
          0.00041174233146344387,
          -0.0012721358644190784,
          -0.0005713814602020916,
          -0.0015031965761097266,
          -0.0014351742137857055,
          -0.0011986765424169127,
          -0.000996455523523138,
          -0.00037948997996117384,
          -0.0008279150361884137,
          -0.0004504654098005874,
          0.0012758437522288391,
          -0.004816579750385161,
          -0.0002812359034194861,
          -0.0008123163281964108,
          -0.0012708499565837967,
          -0.0007922414365700237,
          -0.0024763356250090975,
          -0.0014534618516777586,
          3.626642370341937e-05,
          -0.0012018452177728989,
          -0.001297147103727434,
          0.0007194880982278895,
          -0.00027225536920450155,
          -0.0005856787655273088,
          0.0006843190427372092,
          -0.0007281724646367027,
          -0.0007325471094027524,
          0.0014462587471664712
         ],
         "yaxis": "y5"
        },
        {
         "type": "scatter",
         "x": [
          1980,
          1981,
          1982,
          1983,
          1984,
          1985,
          1986,
          1987,
          1988,
          1989,
          1990,
          1991,
          1992,
          1993,
          1994,
          1995,
          1996,
          1997,
          1998,
          1999,
          2000,
          2001,
          2002,
          2003,
          2004,
          2005,
          2006,
          2007,
          2008,
          2009,
          2010,
          2011,
          2012,
          2013,
          2014,
          2015,
          2016,
          2017,
          2018
         ],
         "xaxis": "x5",
         "y": [
          0,
          0,
          0,
          0,
          0,
          0,
          0,
          0,
          0,
          0.002598645808066943,
          0.00023859248016543932,
          0.0005116802586680474,
          -0.0003938213226827114,
          0.00047431035213611305,
          0.0001322319769591579,
          -8.911285403769343e-05,
          0.00022134483099685187,
          0.000641037627432443,
          -1.7247649168586344e-05,
          0.0006122915454847993,
          -9.773667862198577e-05,
          -0.00038519749809841797,
          -0.00041106897185129833,
          0.0009946144353884534,
          0.00023571787197067316,
          0.0004714357439413483,
          0.0010463573828942115,
          0.00021847022280208696,
          0.001388435758071166,
          0.0017276395250533543,
          0.003978457741553814,
          0.004754601954140182,
          0.004182554923382081,
          0.0027222539604418094,
          0.0031189498913192825,
          -7.761442125863383e-05,
          0.0033862884534323666,
          0.004536131731338093
         ],
         "yaxis": "y5"
        }
       ],
       "layout": {
        "annotations": [
         {
          "font": {
           "size": 16
          },
          "showarrow": false,
          "text": "Carbon intensity of fossil energy - Population",
          "x": 0.225,
          "xanchor": "center",
          "xref": "paper",
          "y": 1,
          "yanchor": "bottom",
          "yref": "paper"
         },
         {
          "font": {
           "size": 16
          },
          "showarrow": false,
          "text": "Carbon intensity of fossil energy - Gdp per capita",
          "x": 0.775,
          "xanchor": "center",
          "xref": "paper",
          "y": 1,
          "yanchor": "bottom",
          "yref": "paper"
         },
         {
          "font": {
           "size": 16
          },
          "showarrow": false,
          "text": "Carbon intensity of fossil energy - Primary intensity",
          "x": 0.225,
          "xanchor": "center",
          "xref": "paper",
          "y": 0.6111111111111112,
          "yanchor": "bottom",
          "yref": "paper"
         },
         {
          "font": {
           "size": 16
          },
          "showarrow": false,
          "text": "Carbon intensity of fossil energy - Nuclear consumption",
          "x": 0.775,
          "xanchor": "center",
          "xref": "paper",
          "y": 0.6111111111111112,
          "yanchor": "bottom",
          "yref": "paper"
         },
         {
          "font": {
           "size": 16
          },
          "showarrow": false,
          "text": "Carbon intensity of fossil energy - Renewable consumption",
          "x": 0.225,
          "xanchor": "center",
          "xref": "paper",
          "y": 0.22222222222222224,
          "yanchor": "bottom",
          "yref": "paper"
         }
        ],
        "height": 1000,
        "showlegend": false,
        "template": {
         "data": {
          "bar": [
           {
            "error_x": {
             "color": "#2a3f5f"
            },
            "error_y": {
             "color": "#2a3f5f"
            },
            "marker": {
             "line": {
              "color": "#E5ECF6",
              "width": 0.5
             }
            },
            "type": "bar"
           }
          ],
          "barpolar": [
           {
            "marker": {
             "line": {
              "color": "#E5ECF6",
              "width": 0.5
             }
            },
            "type": "barpolar"
           }
          ],
          "carpet": [
           {
            "aaxis": {
             "endlinecolor": "#2a3f5f",
             "gridcolor": "white",
             "linecolor": "white",
             "minorgridcolor": "white",
             "startlinecolor": "#2a3f5f"
            },
            "baxis": {
             "endlinecolor": "#2a3f5f",
             "gridcolor": "white",
             "linecolor": "white",
             "minorgridcolor": "white",
             "startlinecolor": "#2a3f5f"
            },
            "type": "carpet"
           }
          ],
          "choropleth": [
           {
            "colorbar": {
             "outlinewidth": 0,
             "ticks": ""
            },
            "type": "choropleth"
           }
          ],
          "contour": [
           {
            "colorbar": {
             "outlinewidth": 0,
             "ticks": ""
            },
            "colorscale": [
             [
              0,
              "#0d0887"
             ],
             [
              0.1111111111111111,
              "#46039f"
             ],
             [
              0.2222222222222222,
              "#7201a8"
             ],
             [
              0.3333333333333333,
              "#9c179e"
             ],
             [
              0.4444444444444444,
              "#bd3786"
             ],
             [
              0.5555555555555556,
              "#d8576b"
             ],
             [
              0.6666666666666666,
              "#ed7953"
             ],
             [
              0.7777777777777778,
              "#fb9f3a"
             ],
             [
              0.8888888888888888,
              "#fdca26"
             ],
             [
              1,
              "#f0f921"
             ]
            ],
            "type": "contour"
           }
          ],
          "contourcarpet": [
           {
            "colorbar": {
             "outlinewidth": 0,
             "ticks": ""
            },
            "type": "contourcarpet"
           }
          ],
          "heatmap": [
           {
            "colorbar": {
             "outlinewidth": 0,
             "ticks": ""
            },
            "colorscale": [
             [
              0,
              "#0d0887"
             ],
             [
              0.1111111111111111,
              "#46039f"
             ],
             [
              0.2222222222222222,
              "#7201a8"
             ],
             [
              0.3333333333333333,
              "#9c179e"
             ],
             [
              0.4444444444444444,
              "#bd3786"
             ],
             [
              0.5555555555555556,
              "#d8576b"
             ],
             [
              0.6666666666666666,
              "#ed7953"
             ],
             [
              0.7777777777777778,
              "#fb9f3a"
             ],
             [
              0.8888888888888888,
              "#fdca26"
             ],
             [
              1,
              "#f0f921"
             ]
            ],
            "type": "heatmap"
           }
          ],
          "heatmapgl": [
           {
            "colorbar": {
             "outlinewidth": 0,
             "ticks": ""
            },
            "colorscale": [
             [
              0,
              "#0d0887"
             ],
             [
              0.1111111111111111,
              "#46039f"
             ],
             [
              0.2222222222222222,
              "#7201a8"
             ],
             [
              0.3333333333333333,
              "#9c179e"
             ],
             [
              0.4444444444444444,
              "#bd3786"
             ],
             [
              0.5555555555555556,
              "#d8576b"
             ],
             [
              0.6666666666666666,
              "#ed7953"
             ],
             [
              0.7777777777777778,
              "#fb9f3a"
             ],
             [
              0.8888888888888888,
              "#fdca26"
             ],
             [
              1,
              "#f0f921"
             ]
            ],
            "type": "heatmapgl"
           }
          ],
          "histogram": [
           {
            "marker": {
             "colorbar": {
              "outlinewidth": 0,
              "ticks": ""
             }
            },
            "type": "histogram"
           }
          ],
          "histogram2d": [
           {
            "colorbar": {
             "outlinewidth": 0,
             "ticks": ""
            },
            "colorscale": [
             [
              0,
              "#0d0887"
             ],
             [
              0.1111111111111111,
              "#46039f"
             ],
             [
              0.2222222222222222,
              "#7201a8"
             ],
             [
              0.3333333333333333,
              "#9c179e"
             ],
             [
              0.4444444444444444,
              "#bd3786"
             ],
             [
              0.5555555555555556,
              "#d8576b"
             ],
             [
              0.6666666666666666,
              "#ed7953"
             ],
             [
              0.7777777777777778,
              "#fb9f3a"
             ],
             [
              0.8888888888888888,
              "#fdca26"
             ],
             [
              1,
              "#f0f921"
             ]
            ],
            "type": "histogram2d"
           }
          ],
          "histogram2dcontour": [
           {
            "colorbar": {
             "outlinewidth": 0,
             "ticks": ""
            },
            "colorscale": [
             [
              0,
              "#0d0887"
             ],
             [
              0.1111111111111111,
              "#46039f"
             ],
             [
              0.2222222222222222,
              "#7201a8"
             ],
             [
              0.3333333333333333,
              "#9c179e"
             ],
             [
              0.4444444444444444,
              "#bd3786"
             ],
             [
              0.5555555555555556,
              "#d8576b"
             ],
             [
              0.6666666666666666,
              "#ed7953"
             ],
             [
              0.7777777777777778,
              "#fb9f3a"
             ],
             [
              0.8888888888888888,
              "#fdca26"
             ],
             [
              1,
              "#f0f921"
             ]
            ],
            "type": "histogram2dcontour"
           }
          ],
          "mesh3d": [
           {
            "colorbar": {
             "outlinewidth": 0,
             "ticks": ""
            },
            "type": "mesh3d"
           }
          ],
          "parcoords": [
           {
            "line": {
             "colorbar": {
              "outlinewidth": 0,
              "ticks": ""
             }
            },
            "type": "parcoords"
           }
          ],
          "pie": [
           {
            "automargin": true,
            "type": "pie"
           }
          ],
          "scatter": [
           {
            "marker": {
             "colorbar": {
              "outlinewidth": 0,
              "ticks": ""
             }
            },
            "type": "scatter"
           }
          ],
          "scatter3d": [
           {
            "line": {
             "colorbar": {
              "outlinewidth": 0,
              "ticks": ""
             }
            },
            "marker": {
             "colorbar": {
              "outlinewidth": 0,
              "ticks": ""
             }
            },
            "type": "scatter3d"
           }
          ],
          "scattercarpet": [
           {
            "marker": {
             "colorbar": {
              "outlinewidth": 0,
              "ticks": ""
             }
            },
            "type": "scattercarpet"
           }
          ],
          "scattergeo": [
           {
            "marker": {
             "colorbar": {
              "outlinewidth": 0,
              "ticks": ""
             }
            },
            "type": "scattergeo"
           }
          ],
          "scattergl": [
           {
            "marker": {
             "colorbar": {
              "outlinewidth": 0,
              "ticks": ""
             }
            },
            "type": "scattergl"
           }
          ],
          "scattermapbox": [
           {
            "marker": {
             "colorbar": {
              "outlinewidth": 0,
              "ticks": ""
             }
            },
            "type": "scattermapbox"
           }
          ],
          "scatterpolar": [
           {
            "marker": {
             "colorbar": {
              "outlinewidth": 0,
              "ticks": ""
             }
            },
            "type": "scatterpolar"
           }
          ],
          "scatterpolargl": [
           {
            "marker": {
             "colorbar": {
              "outlinewidth": 0,
              "ticks": ""
             }
            },
            "type": "scatterpolargl"
           }
          ],
          "scatterternary": [
           {
            "marker": {
             "colorbar": {
              "outlinewidth": 0,
              "ticks": ""
             }
            },
            "type": "scatterternary"
           }
          ],
          "surface": [
           {
            "colorbar": {
             "outlinewidth": 0,
             "ticks": ""
            },
            "colorscale": [
             [
              0,
              "#0d0887"
             ],
             [
              0.1111111111111111,
              "#46039f"
             ],
             [
              0.2222222222222222,
              "#7201a8"
             ],
             [
              0.3333333333333333,
              "#9c179e"
             ],
             [
              0.4444444444444444,
              "#bd3786"
             ],
             [
              0.5555555555555556,
              "#d8576b"
             ],
             [
              0.6666666666666666,
              "#ed7953"
             ],
             [
              0.7777777777777778,
              "#fb9f3a"
             ],
             [
              0.8888888888888888,
              "#fdca26"
             ],
             [
              1,
              "#f0f921"
             ]
            ],
            "type": "surface"
           }
          ],
          "table": [
           {
            "cells": {
             "fill": {
              "color": "#EBF0F8"
             },
             "line": {
              "color": "white"
             }
            },
            "header": {
             "fill": {
              "color": "#C8D4E3"
             },
             "line": {
              "color": "white"
             }
            },
            "type": "table"
           }
          ]
         },
         "layout": {
          "annotationdefaults": {
           "arrowcolor": "#2a3f5f",
           "arrowhead": 0,
           "arrowwidth": 1
          },
          "coloraxis": {
           "colorbar": {
            "outlinewidth": 0,
            "ticks": ""
           }
          },
          "colorscale": {
           "diverging": [
            [
             0,
             "#8e0152"
            ],
            [
             0.1,
             "#c51b7d"
            ],
            [
             0.2,
             "#de77ae"
            ],
            [
             0.3,
             "#f1b6da"
            ],
            [
             0.4,
             "#fde0ef"
            ],
            [
             0.5,
             "#f7f7f7"
            ],
            [
             0.6,
             "#e6f5d0"
            ],
            [
             0.7,
             "#b8e186"
            ],
            [
             0.8,
             "#7fbc41"
            ],
            [
             0.9,
             "#4d9221"
            ],
            [
             1,
             "#276419"
            ]
           ],
           "sequential": [
            [
             0,
             "#0d0887"
            ],
            [
             0.1111111111111111,
             "#46039f"
            ],
            [
             0.2222222222222222,
             "#7201a8"
            ],
            [
             0.3333333333333333,
             "#9c179e"
            ],
            [
             0.4444444444444444,
             "#bd3786"
            ],
            [
             0.5555555555555556,
             "#d8576b"
            ],
            [
             0.6666666666666666,
             "#ed7953"
            ],
            [
             0.7777777777777778,
             "#fb9f3a"
            ],
            [
             0.8888888888888888,
             "#fdca26"
            ],
            [
             1,
             "#f0f921"
            ]
           ],
           "sequentialminus": [
            [
             0,
             "#0d0887"
            ],
            [
             0.1111111111111111,
             "#46039f"
            ],
            [
             0.2222222222222222,
             "#7201a8"
            ],
            [
             0.3333333333333333,
             "#9c179e"
            ],
            [
             0.4444444444444444,
             "#bd3786"
            ],
            [
             0.5555555555555556,
             "#d8576b"
            ],
            [
             0.6666666666666666,
             "#ed7953"
            ],
            [
             0.7777777777777778,
             "#fb9f3a"
            ],
            [
             0.8888888888888888,
             "#fdca26"
            ],
            [
             1,
             "#f0f921"
            ]
           ]
          },
          "colorway": [
           "#636efa",
           "#EF553B",
           "#00cc96",
           "#ab63fa",
           "#FFA15A",
           "#19d3f3",
           "#FF6692",
           "#B6E880",
           "#FF97FF",
           "#FECB52"
          ],
          "font": {
           "color": "#2a3f5f"
          },
          "geo": {
           "bgcolor": "white",
           "lakecolor": "white",
           "landcolor": "#E5ECF6",
           "showlakes": true,
           "showland": true,
           "subunitcolor": "white"
          },
          "hoverlabel": {
           "align": "left"
          },
          "hovermode": "closest",
          "mapbox": {
           "style": "light"
          },
          "paper_bgcolor": "white",
          "plot_bgcolor": "#E5ECF6",
          "polar": {
           "angularaxis": {
            "gridcolor": "white",
            "linecolor": "white",
            "ticks": ""
           },
           "bgcolor": "#E5ECF6",
           "radialaxis": {
            "gridcolor": "white",
            "linecolor": "white",
            "ticks": ""
           }
          },
          "scene": {
           "xaxis": {
            "backgroundcolor": "#E5ECF6",
            "gridcolor": "white",
            "gridwidth": 2,
            "linecolor": "white",
            "showbackground": true,
            "ticks": "",
            "zerolinecolor": "white"
           },
           "yaxis": {
            "backgroundcolor": "#E5ECF6",
            "gridcolor": "white",
            "gridwidth": 2,
            "linecolor": "white",
            "showbackground": true,
            "ticks": "",
            "zerolinecolor": "white"
           },
           "zaxis": {
            "backgroundcolor": "#E5ECF6",
            "gridcolor": "white",
            "gridwidth": 2,
            "linecolor": "white",
            "showbackground": true,
            "ticks": "",
            "zerolinecolor": "white"
           }
          },
          "shapedefaults": {
           "line": {
            "color": "#2a3f5f"
           }
          },
          "ternary": {
           "aaxis": {
            "gridcolor": "white",
            "linecolor": "white",
            "ticks": ""
           },
           "baxis": {
            "gridcolor": "white",
            "linecolor": "white",
            "ticks": ""
           },
           "bgcolor": "#E5ECF6",
           "caxis": {
            "gridcolor": "white",
            "linecolor": "white",
            "ticks": ""
           }
          },
          "title": {
           "x": 0.05
          },
          "xaxis": {
           "automargin": true,
           "gridcolor": "white",
           "linecolor": "white",
           "ticks": "",
           "title": {
            "standoff": 15
           },
           "zerolinecolor": "white",
           "zerolinewidth": 2
          },
          "yaxis": {
           "automargin": true,
           "gridcolor": "white",
           "linecolor": "white",
           "ticks": "",
           "title": {
            "standoff": 15
           },
           "zerolinecolor": "white",
           "zerolinewidth": 2
          }
         }
        },
        "title": {
         "text": "Variation in function of time of Carbon intensity of fossil energy with respect to other predictive variables\n"
        },
        "width": 1000,
        "xaxis": {
         "anchor": "y",
         "domain": [
          0,
          0.45
         ],
         "title": {
          "text": "Years"
         }
        },
        "xaxis2": {
         "anchor": "y2",
         "domain": [
          0.55,
          1
         ],
         "title": {
          "text": "Years"
         }
        },
        "xaxis3": {
         "anchor": "y3",
         "domain": [
          0,
          0.45
         ],
         "title": {
          "text": "Years"
         }
        },
        "xaxis4": {
         "anchor": "y4",
         "domain": [
          0.55,
          1
         ],
         "title": {
          "text": "Years"
         }
        },
        "xaxis5": {
         "anchor": "y5",
         "domain": [
          0,
          0.45
         ],
         "title": {
          "text": "Years"
         }
        },
        "xaxis6": {
         "anchor": "y6",
         "domain": [
          0.55,
          1
         ]
        },
        "yaxis": {
         "anchor": "x",
         "domain": [
          0.7777777777777778,
          1
         ],
         "title": {
          "text": "Pourcentage"
         }
        },
        "yaxis2": {
         "anchor": "x2",
         "domain": [
          0.7777777777777778,
          1
         ],
         "title": {
          "text": "Pourcentage"
         }
        },
        "yaxis3": {
         "anchor": "x3",
         "domain": [
          0.3888888888888889,
          0.6111111111111112
         ],
         "title": {
          "text": "Pourcentage"
         }
        },
        "yaxis4": {
         "anchor": "x4",
         "domain": [
          0.3888888888888889,
          0.6111111111111112
         ],
         "title": {
          "text": "Pourcentage"
         }
        },
        "yaxis5": {
         "anchor": "x5",
         "domain": [
          0,
          0.22222222222222224
         ],
         "title": {
          "text": "Pourcentage"
         }
        },
        "yaxis6": {
         "anchor": "x6",
         "domain": [
          0,
          0.22222222222222224
         ]
        }
       }
      },
      "text/html": [
       "<div>\n",
       "        \n",
       "        \n",
       "            <div id=\"620f281a-e808-44b8-acc9-e0daa4ac0aad\" class=\"plotly-graph-div\" style=\"height:1000px; width:1000px;\"></div>\n",
       "            <script type=\"text/javascript\">\n",
       "                require([\"plotly\"], function(Plotly) {\n",
       "                    window.PLOTLYENV=window.PLOTLYENV || {};\n",
       "                    \n",
       "                if (document.getElementById(\"620f281a-e808-44b8-acc9-e0daa4ac0aad\")) {\n",
       "                    Plotly.newPlot(\n",
       "                        '620f281a-e808-44b8-acc9-e0daa4ac0aad',\n",
       "                        [{\"line\": {\"color\": \"Black\"}, \"opacity\": 0.8, \"type\": \"scatter\", \"x\": [1980, 1981, 1982, 1983, 1984, 1985, 1986, 1987, 1988, 1989, 1990, 1991, 1992, 1993, 1994, 1995, 1996, 1997, 1998, 1999, 2000, 2001, 2002, 2003, 2004, 2005, 2006, 2007, 2008, 2009, 2010, 2011, 2012, 2013, 2014, 2015, 2016, 2017, 2018], \"xaxis\": \"x\", \"y\": [-0.0020367740757232487, 0.002127114245163442, -0.002266324295476836, 0.00042371798579490696, -0.0011712337786617733, 0.0003877300284391905, -0.002772390421656896, -0.0002915230270579716, -0.001305476488060484, -0.0005517243519517345, 0.00041174233146344387, -0.0012721358644190784, -0.0005713814602020916, -0.0015031965761097266, -0.0014351742137857055, -0.0011986765424169127, -0.000996455523523138, -0.00037948997996117384, -0.0008279150361884137, -0.0004504654098005874, 0.0012758437522288391, -0.004816579750385161, -0.0002812359034194861, -0.0008123163281964108, -0.0012708499565837967, -0.0007922414365700237, -0.0024763356250090975, -0.0014534618516777586, 3.626642370341937e-05, -0.0012018452177728989, -0.001297147103727434, 0.0007194880982278895, -0.00027225536920450155, -0.0005856787655273088, 0.0006843190427372092, -0.0007281724646367027, -0.0007325471094027524, 0.0014462587471664712], \"yaxis\": \"y\"}, {\"type\": \"scatter\", \"x\": [1980, 1981, 1982, 1983, 1984, 1985, 1986, 1987, 1988, 1989, 1990, 1991, 1992, 1993, 1994, 1995, 1996, 1997, 1998, 1999, 2000, 2001, 2002, 2003, 2004, 2005, 2006, 2007, 2008, 2009, 2010, 2011, 2012, 2013, 2014, 2015, 2016, 2017, 2018], \"xaxis\": \"x\", \"y\": [0.0002228166249173902, -5.334467999864589e-06, -5.496553758321143e-05, -1.6064955553436454e-05, -3.0365433229984086e-06, 6.023845402923112e-05, 7.211790392123607e-05, 0.00017257003979559427, 0.0006448551124450774, 0.0007392957132272826, 0.0006089910737383009, 0.0007613311695036418, 0.0008344749326556222, 0.0008066741475024852, 0.0006386589226913897, 0.00043512845131196963, 0.0004067737021742318, 0.0005048868790024968, 0.000446515488773217, 0.0004803278090185081, 0.0005094622111716107, 0.0007246669605968861, 0.0009482016869757959, 0.0008893789186849894, 0.0009233553764071992, 0.0011793277716622035, 0.0014226820983790683, 0.0015950469663285143, 0.0017290446990481712, 0.0017751468128777636, 0.0020331093750404106, 0.0029273508664791194, 0.0014088740331332672, 0.0010766392626648247, 0.001018678216127844, 0.0013364688886274222, 0.0011741164067700293, 0.0008973395863155531], \"yaxis\": \"y\"}, {\"line\": {\"color\": \"Black\"}, \"opacity\": 0.8, \"type\": \"scatter\", \"x\": [1980, 1981, 1982, 1983, 1984, 1985, 1986, 1987, 1988, 1989, 1990, 1991, 1992, 1993, 1994, 1995, 1996, 1997, 1998, 1999, 2000, 2001, 2002, 2003, 2004, 2005, 2006, 2007, 2008, 2009, 2010, 2011, 2012, 2013, 2014, 2015, 2016, 2017, 2018], \"xaxis\": \"x2\", \"y\": [-0.0020367740757232487, 0.002127114245163442, -0.002266324295476836, 0.00042371798579490696, -0.0011712337786617733, 0.0003877300284391905, -0.002772390421656896, -0.0002915230270579716, -0.001305476488060484, -0.0005517243519517345, 0.00041174233146344387, -0.0012721358644190784, -0.0005713814602020916, -0.0015031965761097266, -0.0014351742137857055, -0.0011986765424169127, -0.000996455523523138, -0.00037948997996117384, -0.0008279150361884137, -0.0004504654098005874, 0.0012758437522288391, -0.004816579750385161, -0.0002812359034194861, -0.0008123163281964108, -0.0012708499565837967, -0.0007922414365700237, -0.0024763356250090975, -0.0014534618516777586, 3.626642370341937e-05, -0.0012018452177728989, -0.001297147103727434, 0.0007194880982278895, -0.00027225536920450155, -0.0005856787655273088, 0.0006843190427372092, -0.0007281724646367027, -0.0007325471094027524, 0.0014462587471664712], \"yaxis\": \"y2\"}, {\"type\": \"scatter\", \"x\": [1980, 1981, 1982, 1983, 1984, 1985, 1986, 1987, 1988, 1989, 1990, 1991, 1992, 1993, 1994, 1995, 1996, 1997, 1998, 1999, 2000, 2001, 2002, 2003, 2004, 2005, 2006, 2007, 2008, 2009, 2010, 2011, 2012, 2013, 2014, 2015, 2016, 2017, 2018], \"xaxis\": \"x2\", \"y\": [-0.001695788881810687, -0.0009631946634881428, -0.0003727308788394934, -0.0002919878651412411, 0.00022274340528688708, 0.0025718424445714196, 0.0022361129382750676, 0.0009732135690160138, 0.0001066863182879274, 0.00306483105415446, 0.0003443885210287623, 0.001764936025169077, -0.0008243249941665232, 0.0014375175065718326, 0.003150092478871126, -0.0006992237440081276, -0.002001451551127471, 0.00038456378310008866, -6.796727666495305e-05, -0.0016574855326308086, -1.7363807731916037e-05, 0.0014471893336546826, 0.0042976988278096515, 0.003609927294140383, 0.001113532436265241, 0.0014507196656151234, 0.004255520295148285, 0.002931460414263629, -0.002664888603682951, -0.0002982257747483819, 0.0025722763186949373, -0.002268553225613481, 0.0015144721383568106, 0.0007121405415314541, -0.005024026634853886, 0.000748275091211682, 0.0016275447116824004, 0.002499224678079026], \"yaxis\": \"y2\"}, {\"line\": {\"color\": \"Black\"}, \"opacity\": 0.8, \"type\": \"scatter\", \"x\": [1980, 1981, 1982, 1983, 1984, 1985, 1986, 1987, 1988, 1989, 1990, 1991, 1992, 1993, 1994, 1995, 1996, 1997, 1998, 1999, 2000, 2001, 2002, 2003, 2004, 2005, 2006, 2007, 2008, 2009, 2010, 2011, 2012, 2013, 2014, 2015, 2016, 2017, 2018], \"xaxis\": \"x3\", \"y\": [-0.0020367740757232487, 0.002127114245163442, -0.002266324295476836, 0.00042371798579490696, -0.0011712337786617733, 0.0003877300284391905, -0.002772390421656896, -0.0002915230270579716, -0.001305476488060484, -0.0005517243519517345, 0.00041174233146344387, -0.0012721358644190784, -0.0005713814602020916, -0.0015031965761097266, -0.0014351742137857055, -0.0011986765424169127, -0.000996455523523138, -0.00037948997996117384, -0.0008279150361884137, -0.0004504654098005874, 0.0012758437522288391, -0.004816579750385161, -0.0002812359034194861, -0.0008123163281964108, -0.0012708499565837967, -0.0007922414365700237, -0.0024763356250090975, -0.0014534618516777586, 3.626642370341937e-05, -0.0012018452177728989, -0.001297147103727434, 0.0007194880982278895, -0.00027225536920450155, -0.0005856787655273088, 0.0006843190427372092, -0.0007281724646367027, -0.0007325471094027524, 0.0014462587471664712], \"yaxis\": \"y3\"}, {\"type\": \"scatter\", \"x\": [1980, 1981, 1982, 1983, 1984, 1985, 1986, 1987, 1988, 1989, 1990, 1991, 1992, 1993, 1994, 1995, 1996, 1997, 1998, 1999, 2000, 2001, 2002, 2003, 2004, 2005, 2006, 2007, 2008, 2009, 2010, 2011, 2012, 2013, 2014, 2015, 2016, 2017, 2018], \"xaxis\": \"x3\", \"y\": [0.0045850514372448555, 0.001998324961914457, 0.000694919253262678, 0.0027807387351039825, -0.000636887416632157, -0.011584814223788866, -0.005047005311050639, -0.001534020921785137, 0.00026691744657656444, -0.0042873454355301455, 0.00016955741711049938, -0.002098523492096444, 0.0005163458382385703, -0.0005730345222688467, -0.0024566562812917796, 0.0015126364527724093, 0.0017170899975546298, 4.100031365397695e-05, -0.00029414022118277996, 0.0020825169313128345, -0.0002854089161751895, -0.0015329443287023388, -0.00292512682919799, -0.0021868580820827766, -0.0007023159168258408, -0.000854853600694222, -0.0016119169228582019, -0.0005140187898740911, 2.3066643422694487e-05, 0.0009078070250243853, -0.0016662059484150872, 0.00022946265025074132, -0.00022604693678412668, -0.0008387472867124512, 0.0016522484703308381, 6.269438105885761e-05, -0.0005674594770929209, -0.0007212083193338737], \"yaxis\": \"y3\"}, {\"line\": {\"color\": \"Black\"}, \"opacity\": 0.8, \"type\": \"scatter\", \"x\": [1980, 1981, 1982, 1983, 1984, 1985, 1986, 1987, 1988, 1989, 1990, 1991, 1992, 1993, 1994, 1995, 1996, 1997, 1998, 1999, 2000, 2001, 2002, 2003, 2004, 2005, 2006, 2007, 2008, 2009, 2010, 2011, 2012, 2013, 2014, 2015, 2016, 2017, 2018], \"xaxis\": \"x4\", \"y\": [-0.0020367740757232487, 0.002127114245163442, -0.002266324295476836, 0.00042371798579490696, -0.0011712337786617733, 0.0003877300284391905, -0.002772390421656896, -0.0002915230270579716, -0.001305476488060484, -0.0005517243519517345, 0.00041174233146344387, -0.0012721358644190784, -0.0005713814602020916, -0.0015031965761097266, -0.0014351742137857055, -0.0011986765424169127, -0.000996455523523138, -0.00037948997996117384, -0.0008279150361884137, -0.0004504654098005874, 0.0012758437522288391, -0.004816579750385161, -0.0002812359034194861, -0.0008123163281964108, -0.0012708499565837967, -0.0007922414365700237, -0.0024763356250090975, -0.0014534618516777586, 3.626642370341937e-05, -0.0012018452177728989, -0.001297147103727434, 0.0007194880982278895, -0.00027225536920450155, -0.0005856787655273088, 0.0006843190427372092, -0.0007281724646367027, -0.0007325471094027524, 0.0014462587471664712], \"yaxis\": \"y4\"}, {\"type\": \"scatter\", \"x\": [1980, 1981, 1982, 1983, 1984, 1985, 1986, 1987, 1988, 1989, 1990, 1991, 1992, 1993, 1994, 1995, 1996, 1997, 1998, 1999, 2000, 2001, 2002, 2003, 2004, 2005, 2006, 2007, 2008, 2009, 2010, 2011, 2012, 2013, 2014, 2015, 2016, 2017, 2018], \"xaxis\": \"x4\", \"y\": [0.0003064218585921452, 0.0025037631219803026, 0.00798673747556292, 0.003486289984691886, 0.006259902033754938, 0.004556789574547649, 0.00243358263178663, 0.001110037894190238, -0.0018207389146023354, 0.003634558625946132, 0.00013739560756229286, 0.0005881322769752379, -0.0015113516831851068, -0.0012879602636953569, 0.0007235509693207984, 0.0019571460645562565, 0.004024999381249037, -0.0012286528071936463, 0.0028190810990476978, -0.0008500735431910966, -0.001787131355918038, 0.0009993306420537041, 1.8780694558888644e-05, -6.622665976022791e-05, 0.00027973350316636616, -0.0009390347279436595, 0.0015637399364282834, -0.0026283087806338945, 0.0016349088842303428, 0.0007136663932371657, 0.0002866527064249202, -0.007847364952783917, 0.002321886922041744, -0.008837799476362379, -0.0075122778235492795, 0.017218931537661634, -0.0012810410604368232, -0.013472677201970611], \"yaxis\": \"y4\"}, {\"line\": {\"color\": \"Black\"}, \"opacity\": 0.8, \"type\": \"scatter\", \"x\": [1980, 1981, 1982, 1983, 1984, 1985, 1986, 1987, 1988, 1989, 1990, 1991, 1992, 1993, 1994, 1995, 1996, 1997, 1998, 1999, 2000, 2001, 2002, 2003, 2004, 2005, 2006, 2007, 2008, 2009, 2010, 2011, 2012, 2013, 2014, 2015, 2016, 2017, 2018], \"xaxis\": \"x5\", \"y\": [-0.0020367740757232487, 0.002127114245163442, -0.002266324295476836, 0.00042371798579490696, -0.0011712337786617733, 0.0003877300284391905, -0.002772390421656896, -0.0002915230270579716, -0.001305476488060484, -0.0005517243519517345, 0.00041174233146344387, -0.0012721358644190784, -0.0005713814602020916, -0.0015031965761097266, -0.0014351742137857055, -0.0011986765424169127, -0.000996455523523138, -0.00037948997996117384, -0.0008279150361884137, -0.0004504654098005874, 0.0012758437522288391, -0.004816579750385161, -0.0002812359034194861, -0.0008123163281964108, -0.0012708499565837967, -0.0007922414365700237, -0.0024763356250090975, -0.0014534618516777586, 3.626642370341937e-05, -0.0012018452177728989, -0.001297147103727434, 0.0007194880982278895, -0.00027225536920450155, -0.0005856787655273088, 0.0006843190427372092, -0.0007281724646367027, -0.0007325471094027524, 0.0014462587471664712], \"yaxis\": \"y5\"}, {\"type\": \"scatter\", \"x\": [1980, 1981, 1982, 1983, 1984, 1985, 1986, 1987, 1988, 1989, 1990, 1991, 1992, 1993, 1994, 1995, 1996, 1997, 1998, 1999, 2000, 2001, 2002, 2003, 2004, 2005, 2006, 2007, 2008, 2009, 2010, 2011, 2012, 2013, 2014, 2015, 2016, 2017, 2018], \"xaxis\": \"x5\", \"y\": [0.0, 0.0, 0.0, 0.0, 0.0, 0.0, 0.0, 0.0, 0.0, 0.002598645808066943, 0.00023859248016543932, 0.0005116802586680474, -0.0003938213226827114, 0.00047431035213611305, 0.0001322319769591579, -8.911285403769343e-05, 0.00022134483099685187, 0.000641037627432443, -1.7247649168586344e-05, 0.0006122915454847993, -9.773667862198577e-05, -0.00038519749809841797, -0.00041106897185129833, 0.0009946144353884534, 0.00023571787197067316, 0.0004714357439413483, 0.0010463573828942115, 0.00021847022280208696, 0.001388435758071166, 0.0017276395250533543, 0.003978457741553814, 0.004754601954140182, 0.004182554923382081, 0.0027222539604418094, 0.0031189498913192825, -7.761442125863383e-05, 0.0033862884534323666, 0.004536131731338093], \"yaxis\": \"y5\"}],\n",
       "                        {\"annotations\": [{\"font\": {\"size\": 16}, \"showarrow\": false, \"text\": \"Carbon intensity of fossil energy - Population\", \"x\": 0.225, \"xanchor\": \"center\", \"xref\": \"paper\", \"y\": 1.0, \"yanchor\": \"bottom\", \"yref\": \"paper\"}, {\"font\": {\"size\": 16}, \"showarrow\": false, \"text\": \"Carbon intensity of fossil energy - Gdp per capita\", \"x\": 0.775, \"xanchor\": \"center\", \"xref\": \"paper\", \"y\": 1.0, \"yanchor\": \"bottom\", \"yref\": \"paper\"}, {\"font\": {\"size\": 16}, \"showarrow\": false, \"text\": \"Carbon intensity of fossil energy - Primary intensity\", \"x\": 0.225, \"xanchor\": \"center\", \"xref\": \"paper\", \"y\": 0.6111111111111112, \"yanchor\": \"bottom\", \"yref\": \"paper\"}, {\"font\": {\"size\": 16}, \"showarrow\": false, \"text\": \"Carbon intensity of fossil energy - Nuclear consumption\", \"x\": 0.775, \"xanchor\": \"center\", \"xref\": \"paper\", \"y\": 0.6111111111111112, \"yanchor\": \"bottom\", \"yref\": \"paper\"}, {\"font\": {\"size\": 16}, \"showarrow\": false, \"text\": \"Carbon intensity of fossil energy - Renewable consumption\", \"x\": 0.225, \"xanchor\": \"center\", \"xref\": \"paper\", \"y\": 0.22222222222222224, \"yanchor\": \"bottom\", \"yref\": \"paper\"}], \"height\": 1000, \"showlegend\": false, \"template\": {\"data\": {\"bar\": [{\"error_x\": {\"color\": \"#2a3f5f\"}, \"error_y\": {\"color\": \"#2a3f5f\"}, \"marker\": {\"line\": {\"color\": \"#E5ECF6\", \"width\": 0.5}}, \"type\": \"bar\"}], \"barpolar\": [{\"marker\": {\"line\": {\"color\": \"#E5ECF6\", \"width\": 0.5}}, \"type\": \"barpolar\"}], \"carpet\": [{\"aaxis\": {\"endlinecolor\": \"#2a3f5f\", \"gridcolor\": \"white\", \"linecolor\": \"white\", \"minorgridcolor\": \"white\", \"startlinecolor\": \"#2a3f5f\"}, \"baxis\": {\"endlinecolor\": \"#2a3f5f\", \"gridcolor\": \"white\", \"linecolor\": \"white\", \"minorgridcolor\": \"white\", \"startlinecolor\": \"#2a3f5f\"}, \"type\": \"carpet\"}], \"choropleth\": [{\"colorbar\": {\"outlinewidth\": 0, \"ticks\": \"\"}, \"type\": \"choropleth\"}], \"contour\": [{\"colorbar\": {\"outlinewidth\": 0, \"ticks\": \"\"}, \"colorscale\": [[0.0, \"#0d0887\"], [0.1111111111111111, \"#46039f\"], [0.2222222222222222, \"#7201a8\"], [0.3333333333333333, \"#9c179e\"], [0.4444444444444444, \"#bd3786\"], [0.5555555555555556, \"#d8576b\"], [0.6666666666666666, \"#ed7953\"], [0.7777777777777778, \"#fb9f3a\"], [0.8888888888888888, \"#fdca26\"], [1.0, \"#f0f921\"]], \"type\": \"contour\"}], \"contourcarpet\": [{\"colorbar\": {\"outlinewidth\": 0, \"ticks\": \"\"}, \"type\": \"contourcarpet\"}], \"heatmap\": [{\"colorbar\": {\"outlinewidth\": 0, \"ticks\": \"\"}, \"colorscale\": [[0.0, \"#0d0887\"], [0.1111111111111111, \"#46039f\"], [0.2222222222222222, \"#7201a8\"], [0.3333333333333333, \"#9c179e\"], [0.4444444444444444, \"#bd3786\"], [0.5555555555555556, \"#d8576b\"], [0.6666666666666666, \"#ed7953\"], [0.7777777777777778, \"#fb9f3a\"], [0.8888888888888888, \"#fdca26\"], [1.0, \"#f0f921\"]], \"type\": \"heatmap\"}], \"heatmapgl\": [{\"colorbar\": {\"outlinewidth\": 0, \"ticks\": \"\"}, \"colorscale\": [[0.0, \"#0d0887\"], [0.1111111111111111, \"#46039f\"], [0.2222222222222222, \"#7201a8\"], [0.3333333333333333, \"#9c179e\"], [0.4444444444444444, \"#bd3786\"], [0.5555555555555556, \"#d8576b\"], [0.6666666666666666, \"#ed7953\"], [0.7777777777777778, \"#fb9f3a\"], [0.8888888888888888, \"#fdca26\"], [1.0, \"#f0f921\"]], \"type\": \"heatmapgl\"}], \"histogram\": [{\"marker\": {\"colorbar\": {\"outlinewidth\": 0, \"ticks\": \"\"}}, \"type\": \"histogram\"}], \"histogram2d\": [{\"colorbar\": {\"outlinewidth\": 0, \"ticks\": \"\"}, \"colorscale\": [[0.0, \"#0d0887\"], [0.1111111111111111, \"#46039f\"], [0.2222222222222222, \"#7201a8\"], [0.3333333333333333, \"#9c179e\"], [0.4444444444444444, \"#bd3786\"], [0.5555555555555556, \"#d8576b\"], [0.6666666666666666, \"#ed7953\"], [0.7777777777777778, \"#fb9f3a\"], [0.8888888888888888, \"#fdca26\"], [1.0, \"#f0f921\"]], \"type\": \"histogram2d\"}], \"histogram2dcontour\": [{\"colorbar\": {\"outlinewidth\": 0, \"ticks\": \"\"}, \"colorscale\": [[0.0, \"#0d0887\"], [0.1111111111111111, \"#46039f\"], [0.2222222222222222, \"#7201a8\"], [0.3333333333333333, \"#9c179e\"], [0.4444444444444444, \"#bd3786\"], [0.5555555555555556, \"#d8576b\"], [0.6666666666666666, \"#ed7953\"], [0.7777777777777778, \"#fb9f3a\"], [0.8888888888888888, \"#fdca26\"], [1.0, \"#f0f921\"]], \"type\": \"histogram2dcontour\"}], \"mesh3d\": [{\"colorbar\": {\"outlinewidth\": 0, \"ticks\": \"\"}, \"type\": \"mesh3d\"}], \"parcoords\": [{\"line\": {\"colorbar\": {\"outlinewidth\": 0, \"ticks\": \"\"}}, \"type\": \"parcoords\"}], \"pie\": [{\"automargin\": true, \"type\": \"pie\"}], \"scatter\": [{\"marker\": {\"colorbar\": {\"outlinewidth\": 0, \"ticks\": \"\"}}, \"type\": \"scatter\"}], \"scatter3d\": [{\"line\": {\"colorbar\": {\"outlinewidth\": 0, \"ticks\": \"\"}}, \"marker\": {\"colorbar\": {\"outlinewidth\": 0, \"ticks\": \"\"}}, \"type\": \"scatter3d\"}], \"scattercarpet\": [{\"marker\": {\"colorbar\": {\"outlinewidth\": 0, \"ticks\": \"\"}}, \"type\": \"scattercarpet\"}], \"scattergeo\": [{\"marker\": {\"colorbar\": {\"outlinewidth\": 0, \"ticks\": \"\"}}, \"type\": \"scattergeo\"}], \"scattergl\": [{\"marker\": {\"colorbar\": {\"outlinewidth\": 0, \"ticks\": \"\"}}, \"type\": \"scattergl\"}], \"scattermapbox\": [{\"marker\": {\"colorbar\": {\"outlinewidth\": 0, \"ticks\": \"\"}}, \"type\": \"scattermapbox\"}], \"scatterpolar\": [{\"marker\": {\"colorbar\": {\"outlinewidth\": 0, \"ticks\": \"\"}}, \"type\": \"scatterpolar\"}], \"scatterpolargl\": [{\"marker\": {\"colorbar\": {\"outlinewidth\": 0, \"ticks\": \"\"}}, \"type\": \"scatterpolargl\"}], \"scatterternary\": [{\"marker\": {\"colorbar\": {\"outlinewidth\": 0, \"ticks\": \"\"}}, \"type\": \"scatterternary\"}], \"surface\": [{\"colorbar\": {\"outlinewidth\": 0, \"ticks\": \"\"}, \"colorscale\": [[0.0, \"#0d0887\"], [0.1111111111111111, \"#46039f\"], [0.2222222222222222, \"#7201a8\"], [0.3333333333333333, \"#9c179e\"], [0.4444444444444444, \"#bd3786\"], [0.5555555555555556, \"#d8576b\"], [0.6666666666666666, \"#ed7953\"], [0.7777777777777778, \"#fb9f3a\"], [0.8888888888888888, \"#fdca26\"], [1.0, \"#f0f921\"]], \"type\": \"surface\"}], \"table\": [{\"cells\": {\"fill\": {\"color\": \"#EBF0F8\"}, \"line\": {\"color\": \"white\"}}, \"header\": {\"fill\": {\"color\": \"#C8D4E3\"}, \"line\": {\"color\": \"white\"}}, \"type\": \"table\"}]}, \"layout\": {\"annotationdefaults\": {\"arrowcolor\": \"#2a3f5f\", \"arrowhead\": 0, \"arrowwidth\": 1}, \"coloraxis\": {\"colorbar\": {\"outlinewidth\": 0, \"ticks\": \"\"}}, \"colorscale\": {\"diverging\": [[0, \"#8e0152\"], [0.1, \"#c51b7d\"], [0.2, \"#de77ae\"], [0.3, \"#f1b6da\"], [0.4, \"#fde0ef\"], [0.5, \"#f7f7f7\"], [0.6, \"#e6f5d0\"], [0.7, \"#b8e186\"], [0.8, \"#7fbc41\"], [0.9, \"#4d9221\"], [1, \"#276419\"]], \"sequential\": [[0.0, \"#0d0887\"], [0.1111111111111111, \"#46039f\"], [0.2222222222222222, \"#7201a8\"], [0.3333333333333333, \"#9c179e\"], [0.4444444444444444, \"#bd3786\"], [0.5555555555555556, \"#d8576b\"], [0.6666666666666666, \"#ed7953\"], [0.7777777777777778, \"#fb9f3a\"], [0.8888888888888888, \"#fdca26\"], [1.0, \"#f0f921\"]], \"sequentialminus\": [[0.0, \"#0d0887\"], [0.1111111111111111, \"#46039f\"], [0.2222222222222222, \"#7201a8\"], [0.3333333333333333, \"#9c179e\"], [0.4444444444444444, \"#bd3786\"], [0.5555555555555556, \"#d8576b\"], [0.6666666666666666, \"#ed7953\"], [0.7777777777777778, \"#fb9f3a\"], [0.8888888888888888, \"#fdca26\"], [1.0, \"#f0f921\"]]}, \"colorway\": [\"#636efa\", \"#EF553B\", \"#00cc96\", \"#ab63fa\", \"#FFA15A\", \"#19d3f3\", \"#FF6692\", \"#B6E880\", \"#FF97FF\", \"#FECB52\"], \"font\": {\"color\": \"#2a3f5f\"}, \"geo\": {\"bgcolor\": \"white\", \"lakecolor\": \"white\", \"landcolor\": \"#E5ECF6\", \"showlakes\": true, \"showland\": true, \"subunitcolor\": \"white\"}, \"hoverlabel\": {\"align\": \"left\"}, \"hovermode\": \"closest\", \"mapbox\": {\"style\": \"light\"}, \"paper_bgcolor\": \"white\", \"plot_bgcolor\": \"#E5ECF6\", \"polar\": {\"angularaxis\": {\"gridcolor\": \"white\", \"linecolor\": \"white\", \"ticks\": \"\"}, \"bgcolor\": \"#E5ECF6\", \"radialaxis\": {\"gridcolor\": \"white\", \"linecolor\": \"white\", \"ticks\": \"\"}}, \"scene\": {\"xaxis\": {\"backgroundcolor\": \"#E5ECF6\", \"gridcolor\": \"white\", \"gridwidth\": 2, \"linecolor\": \"white\", \"showbackground\": true, \"ticks\": \"\", \"zerolinecolor\": \"white\"}, \"yaxis\": {\"backgroundcolor\": \"#E5ECF6\", \"gridcolor\": \"white\", \"gridwidth\": 2, \"linecolor\": \"white\", \"showbackground\": true, \"ticks\": \"\", \"zerolinecolor\": \"white\"}, \"zaxis\": {\"backgroundcolor\": \"#E5ECF6\", \"gridcolor\": \"white\", \"gridwidth\": 2, \"linecolor\": \"white\", \"showbackground\": true, \"ticks\": \"\", \"zerolinecolor\": \"white\"}}, \"shapedefaults\": {\"line\": {\"color\": \"#2a3f5f\"}}, \"ternary\": {\"aaxis\": {\"gridcolor\": \"white\", \"linecolor\": \"white\", \"ticks\": \"\"}, \"baxis\": {\"gridcolor\": \"white\", \"linecolor\": \"white\", \"ticks\": \"\"}, \"bgcolor\": \"#E5ECF6\", \"caxis\": {\"gridcolor\": \"white\", \"linecolor\": \"white\", \"ticks\": \"\"}}, \"title\": {\"x\": 0.05}, \"xaxis\": {\"automargin\": true, \"gridcolor\": \"white\", \"linecolor\": \"white\", \"ticks\": \"\", \"title\": {\"standoff\": 15}, \"zerolinecolor\": \"white\", \"zerolinewidth\": 2}, \"yaxis\": {\"automargin\": true, \"gridcolor\": \"white\", \"linecolor\": \"white\", \"ticks\": \"\", \"title\": {\"standoff\": 15}, \"zerolinecolor\": \"white\", \"zerolinewidth\": 2}}}, \"title\": {\"text\": \"Variation in function of time of Carbon intensity of fossil energy with respect to other predictive variables\\n\"}, \"width\": 1000, \"xaxis\": {\"anchor\": \"y\", \"domain\": [0.0, 0.45], \"title\": {\"text\": \"Years\"}}, \"xaxis2\": {\"anchor\": \"y2\", \"domain\": [0.55, 1.0], \"title\": {\"text\": \"Years\"}}, \"xaxis3\": {\"anchor\": \"y3\", \"domain\": [0.0, 0.45], \"title\": {\"text\": \"Years\"}}, \"xaxis4\": {\"anchor\": \"y4\", \"domain\": [0.55, 1.0], \"title\": {\"text\": \"Years\"}}, \"xaxis5\": {\"anchor\": \"y5\", \"domain\": [0.0, 0.45], \"title\": {\"text\": \"Years\"}}, \"xaxis6\": {\"anchor\": \"y6\", \"domain\": [0.55, 1.0]}, \"yaxis\": {\"anchor\": \"x\", \"domain\": [0.7777777777777778, 1.0], \"title\": {\"text\": \"Pourcentage\"}}, \"yaxis2\": {\"anchor\": \"x2\", \"domain\": [0.7777777777777778, 1.0], \"title\": {\"text\": \"Pourcentage\"}}, \"yaxis3\": {\"anchor\": \"x3\", \"domain\": [0.3888888888888889, 0.6111111111111112], \"title\": {\"text\": \"Pourcentage\"}}, \"yaxis4\": {\"anchor\": \"x4\", \"domain\": [0.3888888888888889, 0.6111111111111112], \"title\": {\"text\": \"Pourcentage\"}}, \"yaxis5\": {\"anchor\": \"x5\", \"domain\": [0.0, 0.22222222222222224], \"title\": {\"text\": \"Pourcentage\"}}, \"yaxis6\": {\"anchor\": \"x6\", \"domain\": [0.0, 0.22222222222222224]}},\n",
       "                        {\"responsive\": true}\n",
       "                    ).then(function(){\n",
       "                            \n",
       "var gd = document.getElementById('620f281a-e808-44b8-acc9-e0daa4ac0aad');\n",
       "var x = new MutationObserver(function (mutations, observer) {{\n",
       "        var display = window.getComputedStyle(gd).display;\n",
       "        if (!display || display === 'none') {{\n",
       "            console.log([gd, 'removed!']);\n",
       "            Plotly.purge(gd);\n",
       "            observer.disconnect();\n",
       "        }}\n",
       "}});\n",
       "\n",
       "// Listen for the removal of the full notebook cells\n",
       "var notebookContainer = gd.closest('#notebook-container');\n",
       "if (notebookContainer) {{\n",
       "    x.observe(notebookContainer, {childList: true});\n",
       "}}\n",
       "\n",
       "// Listen for the clearing of the current output cell\n",
       "var outputEl = gd.closest('.output');\n",
       "if (outputEl) {{\n",
       "    x.observe(outputEl, {childList: true});\n",
       "}}\n",
       "\n",
       "                        })\n",
       "                };\n",
       "                });\n",
       "            </script>\n",
       "        </div>"
      ]
     },
     "metadata": {},
     "output_type": "display_data"
    }
   ],
   "source": [
    "# Initialize figure with subplots\n",
    "fig = make_subplots(\n",
    "    rows=3, cols=2, subplot_titles=(\"Carbon intensity of fossil energy - Population\",\n",
    "                                    \"Carbon intensity of fossil energy - Gdp per capita\",\n",
    "                                    \"Carbon intensity of fossil energy - Primary intensity\",\n",
    "                                    \"Carbon intensity of fossil energy - Nuclear consumption\",\n",
    "                                    \"Carbon intensity of fossil energy - Renewable consumption\"))\n",
    "\n",
    "plotly_descriptive_variable(fig, names, temporal_var, 2, [0,1,3,4,5])"
   ]
  },
  {
   "cell_type": "markdown",
   "metadata": {},
   "source": [
    "Subset selection on a regression model\n",
    "\n",
    "- Best subset selection\n",
    "- Forward stepwise selection\n",
    "- Criteria for choosing the optimal model : Cp, AIC, BIC, R2adj\n",
    "\n",
    "Explanations from the book \"Introduction to Statistical Learning (ISLR)\" Chapter 6"
   ]
  },
  {
   "cell_type": "code",
   "execution_count": 10,
   "metadata": {},
   "outputs": [],
   "source": [
    "from sklearn import linear_model\n",
    "from sklearn.metrics import mean_squared_error \n",
    "from sklearn.metrics import r2_score\n",
    "from RegscorePy import *\n",
    "import itertools\n",
    "from tqdm.notebook import trange\n",
    "\n",
    "import math  \n",
    "from sklearn.linear_model import LinearRegression\n",
    "from sklearn.preprocessing import PolynomialFeatures\n",
    "from sklearn.pipeline import make_pipeline\n",
    "from sklearn.linear_model import Ridge\n",
    "\n",
    "from sklearn.kernel_ridge import KernelRidge\n",
    "from sklearn.model_selection import GridSearchCV\n",
    "\n",
    "data = scaled_bel_info\n",
    "#data = bel_info\n",
    "\n",
    "def regression_model(X, y_true, model):\n",
    "    \n",
    "    if model == 'poly':\n",
    "        model = make_pipeline(PolynomialFeatures(4), Ridge())\n",
    "    if model == 'kr':\n",
    "        model = GridSearchCV(KernelRidge(kernel='rbf', gamma=0.1), cv=5, iid=True,\n",
    "                  param_grid={\"alpha\": [1e0, 0.1, 1e-2, 1e-3],\n",
    "                              \"gamma\": np.logspace(-2, 2, 5)})\n",
    "    \n",
    "    a = 39-12 ; b = 39\n",
    "    \n",
    "    x_train = X[0:a]; y_train = y_true[0:a]\n",
    "    x_test = X[a:b]; y_test = y_true[a:b]\n",
    "    \n",
    "    model.fit(x_train, y_train)\n",
    "    y_pred = model.predict(x_test)\n",
    "    \n",
    "    mse = mean_squared_error(y_test, y_pred) \n",
    "    r2 = r2_score(y_test, y_pred)\n",
    "    bics = bic.bic(y_test, y_pred, x_test.shape[1])\n",
    "    \n",
    "    return mse, r2, bics\n",
    "\n",
    "def criteria_matrix(nb_param_list, name_var_list, criteria, name_criteria):\n",
    "    criteria_dict = {}\n",
    "    for i in range(len(criteria)): criteria_dict[i] = [nb_param_list[i], list(name_var_list[i]), criteria[i]]\n",
    "    \n",
    "    criteria_res = pd.DataFrame.from_dict(criteria_dict, orient='index')\n",
    "    criteria_res.columns = [\"number of variables\", \"variables\", name_criteria]\n",
    "    \n",
    "    return criteria_res\n",
    "\n",
    "def best_combo(n, nb_param_list, name_var_list, criteria, name_criteria):\n",
    "    \n",
    "    criteria_mat = criteria_matrix(nb_param_list, name_var_list, criteria, name_criteria)\n",
    "    \n",
    "    nb_var = list()\n",
    "    \n",
    "    for i in range(n):\n",
    "        is_i = criteria_mat['number of variables'] == i+1\n",
    "        if name_criteria == \"r2\":\n",
    "            nb_var.append(criteria_mat[is_i].sort_values(by=[name_criteria], ascending = False)[0:1])\n",
    "        else:\n",
    "            nb_var.append(criteria_mat[is_i].sort_values(by=[name_criteria])[0:1])\n",
    "    \n",
    "    return pd.concat(nb_var)\n",
    "\n",
    "def regression_metrics(data, var_name, model):\n",
    "    y_train = data[var_name]\n",
    "    x_train = data.drop(var_name, axis=1)\n",
    "    mse_list, r2_list, bic_list, nb_var_list, name_var_list  = list(), list(), list(), list(), list()\n",
    "    \n",
    "    for k in trange(1, len(x_train.columns) + 1, desc = 'Loop...'): \n",
    "    \n",
    "        for combo in itertools.combinations(x_train.columns, k):\n",
    "            reg_result = regression_model(x_train[list(combo)], y_train, model)\n",
    "            mse_list.append(reg_result[0])\n",
    "            r2_list.append(reg_result[1])\n",
    "            bic_list.append(reg_result[2])\n",
    "            nb_var_list.append(len(combo))\n",
    "            name_var_list.append(combo)\n",
    "        \n",
    "    return nb_var_list, name_var_list, mse_list, r2_list, bic_list"
   ]
  },
  {
   "cell_type": "markdown",
   "metadata": {},
   "source": [
    "## POPULATION ##"
   ]
  },
  {
   "cell_type": "code",
   "execution_count": 11,
   "metadata": {},
   "outputs": [
    {
     "data": {
      "application/vnd.jupyter.widget-view+json": {
       "model_id": "5bcd22e5bb44462193a1a188ba2aec94",
       "version_major": 2,
       "version_minor": 0
      },
      "text/plain": [
       "HBox(children=(IntProgress(value=0, description='Loop...', max=5, style=ProgressStyle(description_width='initi…"
      ]
     },
     "metadata": {},
     "output_type": "display_data"
    },
    {
     "name": "stdout",
     "output_type": "stream",
     "text": [
      "\n"
     ]
    },
    {
     "data": {
      "text/html": [
       "<div>\n",
       "<style scoped>\n",
       "    .dataframe tbody tr th:only-of-type {\n",
       "        vertical-align: middle;\n",
       "    }\n",
       "\n",
       "    .dataframe tbody tr th {\n",
       "        vertical-align: top;\n",
       "    }\n",
       "\n",
       "    .dataframe thead th {\n",
       "        text-align: right;\n",
       "    }\n",
       "</style>\n",
       "<table border=\"1\" class=\"dataframe\">\n",
       "  <thead>\n",
       "    <tr style=\"text-align: right;\">\n",
       "      <th></th>\n",
       "      <th>number of variables</th>\n",
       "      <th>variables</th>\n",
       "      <th>bic</th>\n",
       "    </tr>\n",
       "  </thead>\n",
       "  <tbody>\n",
       "    <tr>\n",
       "      <td>1</td>\n",
       "      <td>1</td>\n",
       "      <td>[Carbon intensity of fossil energy]</td>\n",
       "      <td>-9.169248</td>\n",
       "    </tr>\n",
       "    <tr>\n",
       "      <td>5</td>\n",
       "      <td>2</td>\n",
       "      <td>[gdp per capita, Carbon intensity of fossil en...</td>\n",
       "      <td>-11.438068</td>\n",
       "    </tr>\n",
       "    <tr>\n",
       "      <td>15</td>\n",
       "      <td>3</td>\n",
       "      <td>[gdp per capita, Carbon intensity of fossil en...</td>\n",
       "      <td>-10.282001</td>\n",
       "    </tr>\n",
       "    <tr>\n",
       "      <td>25</td>\n",
       "      <td>4</td>\n",
       "      <td>[gdp per capita, Carbon intensity of fossil en...</td>\n",
       "      <td>7.518375</td>\n",
       "    </tr>\n",
       "    <tr>\n",
       "      <td>30</td>\n",
       "      <td>5</td>\n",
       "      <td>[gdp per capita, Carbon intensity of fossil en...</td>\n",
       "      <td>24.784559</td>\n",
       "    </tr>\n",
       "  </tbody>\n",
       "</table>\n",
       "</div>"
      ],
      "text/plain": [
       "    number of variables                                          variables  \\\n",
       "1                     1                [Carbon intensity of fossil energy]   \n",
       "5                     2  [gdp per capita, Carbon intensity of fossil en...   \n",
       "15                    3  [gdp per capita, Carbon intensity of fossil en...   \n",
       "25                    4  [gdp per capita, Carbon intensity of fossil en...   \n",
       "30                    5  [gdp per capita, Carbon intensity of fossil en...   \n",
       "\n",
       "          bic  \n",
       "1   -9.169248  \n",
       "5  -11.438068  \n",
       "15 -10.282001  \n",
       "25   7.518375  \n",
       "30  24.784559  "
      ]
     },
     "execution_count": 11,
     "metadata": {},
     "output_type": "execute_result"
    }
   ],
   "source": [
    "# model_lin, model_poly_4, kr\n",
    "result = regression_metrics(data, 'population', 'poly')\n",
    "# result number of var, name of var, mse, r2, bic\n",
    "\n",
    "# mse\n",
    "best_combo_mse = best_combo(5, result[0], result[1], result[2], \"mse\")\n",
    "# r2\n",
    "best_combo_r2 = best_combo(5, result[0], result[1], result[3], \"r2\")\n",
    "# bic\n",
    "best_combo_bic = best_combo(5, result[0], result[1], result[4], \"bic\")\n",
    "\n",
    "best_combo_bic"
   ]
  },
  {
   "cell_type": "markdown",
   "metadata": {},
   "source": [
    "### Conclusion ###\n",
    "\n",
    "Assumption : None of these variables can explain the population variable."
   ]
  },
  {
   "cell_type": "markdown",
   "metadata": {},
   "source": [
    "## ASSUMPTION FOR THE OTHER VARIABLES ##\n",
    "\n",
    "BIC value represent the lost of information when using a specific model."
   ]
  },
  {
   "cell_type": "markdown",
   "metadata": {},
   "source": [
    "## gdp per capita ##"
   ]
  },
  {
   "cell_type": "code",
   "execution_count": 12,
   "metadata": {},
   "outputs": [
    {
     "data": {
      "application/vnd.jupyter.widget-view+json": {
       "model_id": "562fd74c89c94958a8cb4a4177cdc612",
       "version_major": 2,
       "version_minor": 0
      },
      "text/plain": [
       "HBox(children=(IntProgress(value=0, description='Loop...', max=5, style=ProgressStyle(description_width='initi…"
      ]
     },
     "metadata": {},
     "output_type": "display_data"
    },
    {
     "name": "stdout",
     "output_type": "stream",
     "text": [
      "\n"
     ]
    },
    {
     "data": {
      "text/html": [
       "<div>\n",
       "<style scoped>\n",
       "    .dataframe tbody tr th:only-of-type {\n",
       "        vertical-align: middle;\n",
       "    }\n",
       "\n",
       "    .dataframe tbody tr th {\n",
       "        vertical-align: top;\n",
       "    }\n",
       "\n",
       "    .dataframe thead th {\n",
       "        text-align: right;\n",
       "    }\n",
       "</style>\n",
       "<table border=\"1\" class=\"dataframe\">\n",
       "  <thead>\n",
       "    <tr style=\"text-align: right;\">\n",
       "      <th></th>\n",
       "      <th>number of variables</th>\n",
       "      <th>variables</th>\n",
       "      <th>bic</th>\n",
       "    </tr>\n",
       "  </thead>\n",
       "  <tbody>\n",
       "    <tr>\n",
       "      <td>1</td>\n",
       "      <td>1</td>\n",
       "      <td>[Carbon intensity of fossil energy]</td>\n",
       "      <td>-25.608485</td>\n",
       "    </tr>\n",
       "    <tr>\n",
       "      <td>6</td>\n",
       "      <td>2</td>\n",
       "      <td>[population, primary intensity]</td>\n",
       "      <td>-37.807048</td>\n",
       "    </tr>\n",
       "    <tr>\n",
       "      <td>21</td>\n",
       "      <td>3</td>\n",
       "      <td>[Carbon intensity of fossil energy, primary in...</td>\n",
       "      <td>-31.436369</td>\n",
       "    </tr>\n",
       "    <tr>\n",
       "      <td>29</td>\n",
       "      <td>4</td>\n",
       "      <td>[Carbon intensity of fossil energy, primary in...</td>\n",
       "      <td>-13.398715</td>\n",
       "    </tr>\n",
       "    <tr>\n",
       "      <td>30</td>\n",
       "      <td>5</td>\n",
       "      <td>[population, Carbon intensity of fossil energy...</td>\n",
       "      <td>-3.604507</td>\n",
       "    </tr>\n",
       "  </tbody>\n",
       "</table>\n",
       "</div>"
      ],
      "text/plain": [
       "    number of variables                                          variables  \\\n",
       "1                     1                [Carbon intensity of fossil energy]   \n",
       "6                     2                    [population, primary intensity]   \n",
       "21                    3  [Carbon intensity of fossil energy, primary in...   \n",
       "29                    4  [Carbon intensity of fossil energy, primary in...   \n",
       "30                    5  [population, Carbon intensity of fossil energy...   \n",
       "\n",
       "          bic  \n",
       "1  -25.608485  \n",
       "6  -37.807048  \n",
       "21 -31.436369  \n",
       "29 -13.398715  \n",
       "30  -3.604507  "
      ]
     },
     "execution_count": 12,
     "metadata": {},
     "output_type": "execute_result"
    }
   ],
   "source": [
    "result = regression_metrics(data, 'gdp per capita', 'kr') # model_poly_4\n",
    "# result number of var, name of var, mse, r2, bic\n",
    "\n",
    "# mse\n",
    "best_combo_mse = best_combo(5, result[0], result[1], result[2], \"mse\")\n",
    "# r2\n",
    "best_combo_r2 = best_combo(5, result[0], result[1], result[3], \"r2\")\n",
    "# bic\n",
    "best_combo_bic = best_combo(5, result[0], result[1], result[4], \"bic\")\n",
    "\n",
    "best_combo_bic"
   ]
  },
  {
   "cell_type": "markdown",
   "metadata": {},
   "source": [
    "### Conclusion ###"
   ]
  },
  {
   "cell_type": "markdown",
   "metadata": {},
   "source": [
    "With a polynomial regression of degree we have a BIC equal to **-27** and the choosen variables are **population and primary intensity**.\n",
    "\n",
    "With a ridge regression we have a BIC equal to **-37**  and the choosen variables are **population and primary intensity**."
   ]
  },
  {
   "cell_type": "markdown",
   "metadata": {},
   "source": [
    "# Carbon intensity of fossil energy ##"
   ]
  },
  {
   "cell_type": "code",
   "execution_count": 13,
   "metadata": {},
   "outputs": [
    {
     "data": {
      "application/vnd.jupyter.widget-view+json": {
       "model_id": "b9593b7a547d4b8fb2193aa658bb418d",
       "version_major": 2,
       "version_minor": 0
      },
      "text/plain": [
       "HBox(children=(IntProgress(value=0, description='Loop...', max=5, style=ProgressStyle(description_width='initi…"
      ]
     },
     "metadata": {},
     "output_type": "display_data"
    },
    {
     "name": "stdout",
     "output_type": "stream",
     "text": [
      "\n"
     ]
    },
    {
     "data": {
      "text/html": [
       "<div>\n",
       "<style scoped>\n",
       "    .dataframe tbody tr th:only-of-type {\n",
       "        vertical-align: middle;\n",
       "    }\n",
       "\n",
       "    .dataframe tbody tr th {\n",
       "        vertical-align: top;\n",
       "    }\n",
       "\n",
       "    .dataframe thead th {\n",
       "        text-align: right;\n",
       "    }\n",
       "</style>\n",
       "<table border=\"1\" class=\"dataframe\">\n",
       "  <thead>\n",
       "    <tr style=\"text-align: right;\">\n",
       "      <th></th>\n",
       "      <th>number of variables</th>\n",
       "      <th>variables</th>\n",
       "      <th>bic</th>\n",
       "    </tr>\n",
       "  </thead>\n",
       "  <tbody>\n",
       "    <tr>\n",
       "      <td>1</td>\n",
       "      <td>1</td>\n",
       "      <td>[gdp per capita]</td>\n",
       "      <td>-34.154942</td>\n",
       "    </tr>\n",
       "    <tr>\n",
       "      <td>9</td>\n",
       "      <td>2</td>\n",
       "      <td>[gdp per capita, primary intensity]</td>\n",
       "      <td>-10.918491</td>\n",
       "    </tr>\n",
       "    <tr>\n",
       "      <td>20</td>\n",
       "      <td>3</td>\n",
       "      <td>[population, nuclear consumption, renewable co...</td>\n",
       "      <td>-14.007072</td>\n",
       "    </tr>\n",
       "    <tr>\n",
       "      <td>27</td>\n",
       "      <td>4</td>\n",
       "      <td>[population, gdp per capita, nuclear consumpti...</td>\n",
       "      <td>-27.268288</td>\n",
       "    </tr>\n",
       "    <tr>\n",
       "      <td>30</td>\n",
       "      <td>5</td>\n",
       "      <td>[population, gdp per capita, primary intensity...</td>\n",
       "      <td>-26.642802</td>\n",
       "    </tr>\n",
       "  </tbody>\n",
       "</table>\n",
       "</div>"
      ],
      "text/plain": [
       "    number of variables                                          variables  \\\n",
       "1                     1                                   [gdp per capita]   \n",
       "9                     2                [gdp per capita, primary intensity]   \n",
       "20                    3  [population, nuclear consumption, renewable co...   \n",
       "27                    4  [population, gdp per capita, nuclear consumpti...   \n",
       "30                    5  [population, gdp per capita, primary intensity...   \n",
       "\n",
       "          bic  \n",
       "1  -34.154942  \n",
       "9  -10.918491  \n",
       "20 -14.007072  \n",
       "27 -27.268288  \n",
       "30 -26.642802  "
      ]
     },
     "execution_count": 13,
     "metadata": {},
     "output_type": "execute_result"
    }
   ],
   "source": [
    "result = regression_metrics(data, 'Carbon intensity of fossil energy', 'kr') # model_poly_4\n",
    "# result number of var, name of var, mse, r2, bic\n",
    "\n",
    "# mse\n",
    "best_combo_mse = best_combo(5, result[0], result[1], result[2], \"mse\")\n",
    "# r2\n",
    "best_combo_r2 = best_combo(5, result[0], result[1], result[3], \"r2\")\n",
    "# bic\n",
    "best_combo_bic = best_combo(5, result[0], result[1], result[4], \"bic\")\n",
    "\n",
    "best_combo_bic"
   ]
  },
  {
   "cell_type": "markdown",
   "metadata": {},
   "source": [
    "### Conclusion ###"
   ]
  },
  {
   "cell_type": "markdown",
   "metadata": {},
   "source": [
    "With a polynomial regression of degree we have a BIC equal to **-26** and the choosen variables are **population and gdp**.\n",
    "\n",
    "With a ridge regression we have a BIC equal to **-34**  and the choosen variables are **population**."
   ]
  },
  {
   "cell_type": "markdown",
   "metadata": {},
   "source": [
    "## primary intensity ##"
   ]
  },
  {
   "cell_type": "code",
   "execution_count": 14,
   "metadata": {},
   "outputs": [
    {
     "data": {
      "application/vnd.jupyter.widget-view+json": {
       "model_id": "cf5400eca20d414b8b3e33eccf8268bd",
       "version_major": 2,
       "version_minor": 0
      },
      "text/plain": [
       "HBox(children=(IntProgress(value=0, description='Loop...', max=5, style=ProgressStyle(description_width='initi…"
      ]
     },
     "metadata": {},
     "output_type": "display_data"
    },
    {
     "name": "stdout",
     "output_type": "stream",
     "text": [
      "\n"
     ]
    },
    {
     "data": {
      "text/html": [
       "<div>\n",
       "<style scoped>\n",
       "    .dataframe tbody tr th:only-of-type {\n",
       "        vertical-align: middle;\n",
       "    }\n",
       "\n",
       "    .dataframe tbody tr th {\n",
       "        vertical-align: top;\n",
       "    }\n",
       "\n",
       "    .dataframe thead th {\n",
       "        text-align: right;\n",
       "    }\n",
       "</style>\n",
       "<table border=\"1\" class=\"dataframe\">\n",
       "  <thead>\n",
       "    <tr style=\"text-align: right;\">\n",
       "      <th></th>\n",
       "      <th>number of variables</th>\n",
       "      <th>variables</th>\n",
       "      <th>bic</th>\n",
       "    </tr>\n",
       "  </thead>\n",
       "  <tbody>\n",
       "    <tr>\n",
       "      <td>2</td>\n",
       "      <td>1</td>\n",
       "      <td>[Carbon intensity of fossil energy]</td>\n",
       "      <td>-46.936742</td>\n",
       "    </tr>\n",
       "    <tr>\n",
       "      <td>10</td>\n",
       "      <td>2</td>\n",
       "      <td>[gdp per capita, nuclear consumption]</td>\n",
       "      <td>-34.175060</td>\n",
       "    </tr>\n",
       "    <tr>\n",
       "      <td>21</td>\n",
       "      <td>3</td>\n",
       "      <td>[gdp per capita, Carbon intensity of fossil en...</td>\n",
       "      <td>-36.559097</td>\n",
       "    </tr>\n",
       "    <tr>\n",
       "      <td>25</td>\n",
       "      <td>4</td>\n",
       "      <td>[population, gdp per capita, Carbon intensity ...</td>\n",
       "      <td>-29.297197</td>\n",
       "    </tr>\n",
       "    <tr>\n",
       "      <td>30</td>\n",
       "      <td>5</td>\n",
       "      <td>[population, gdp per capita, Carbon intensity ...</td>\n",
       "      <td>-14.277249</td>\n",
       "    </tr>\n",
       "  </tbody>\n",
       "</table>\n",
       "</div>"
      ],
      "text/plain": [
       "    number of variables                                          variables  \\\n",
       "2                     1                [Carbon intensity of fossil energy]   \n",
       "10                    2              [gdp per capita, nuclear consumption]   \n",
       "21                    3  [gdp per capita, Carbon intensity of fossil en...   \n",
       "25                    4  [population, gdp per capita, Carbon intensity ...   \n",
       "30                    5  [population, gdp per capita, Carbon intensity ...   \n",
       "\n",
       "          bic  \n",
       "2  -46.936742  \n",
       "10 -34.175060  \n",
       "21 -36.559097  \n",
       "25 -29.297197  \n",
       "30 -14.277249  "
      ]
     },
     "execution_count": 14,
     "metadata": {},
     "output_type": "execute_result"
    }
   ],
   "source": [
    "result = regression_metrics(data, 'primary intensity', 'kr') # model_poly_4\n",
    "# result number of var, name of var, mse, r2, bic\n",
    "\n",
    "# mse\n",
    "best_combo_mse = best_combo(5, result[0], result[1], result[2], \"mse\")\n",
    "# r2\n",
    "best_combo_r2 = best_combo(5, result[0], result[1], result[3], \"r2\")\n",
    "# bic\n",
    "best_combo_bic = best_combo(5, result[0], result[1], result[4], \"bic\")\n",
    "\n",
    "best_combo_bic"
   ]
  },
  {
   "cell_type": "markdown",
   "metadata": {},
   "source": [
    "### Conclusion ###"
   ]
  },
  {
   "cell_type": "markdown",
   "metadata": {},
   "source": [
    "With a polynomial regression of degree we have a BIC equal to **-43** and the choosen variables are **gdp per capita**.\n",
    "\n",
    "With a ridge regression we have a BIC equal to **-46**  and the choosen variables are **Carbon intensity of fossil energy**."
   ]
  },
  {
   "cell_type": "markdown",
   "metadata": {},
   "source": [
    "## nuclear consumption ##"
   ]
  },
  {
   "cell_type": "code",
   "execution_count": 15,
   "metadata": {},
   "outputs": [
    {
     "data": {
      "application/vnd.jupyter.widget-view+json": {
       "model_id": "cedd2c27a2d4492f94543fec49a2ceac",
       "version_major": 2,
       "version_minor": 0
      },
      "text/plain": [
       "HBox(children=(IntProgress(value=0, description='Loop...', max=5, style=ProgressStyle(description_width='initi…"
      ]
     },
     "metadata": {},
     "output_type": "display_data"
    },
    {
     "name": "stdout",
     "output_type": "stream",
     "text": [
      "\n"
     ]
    },
    {
     "data": {
      "text/html": [
       "<div>\n",
       "<style scoped>\n",
       "    .dataframe tbody tr th:only-of-type {\n",
       "        vertical-align: middle;\n",
       "    }\n",
       "\n",
       "    .dataframe tbody tr th {\n",
       "        vertical-align: top;\n",
       "    }\n",
       "\n",
       "    .dataframe thead th {\n",
       "        text-align: right;\n",
       "    }\n",
       "</style>\n",
       "<table border=\"1\" class=\"dataframe\">\n",
       "  <thead>\n",
       "    <tr style=\"text-align: right;\">\n",
       "      <th></th>\n",
       "      <th>number of variables</th>\n",
       "      <th>variables</th>\n",
       "      <th>bic</th>\n",
       "    </tr>\n",
       "  </thead>\n",
       "  <tbody>\n",
       "    <tr>\n",
       "      <td>0</td>\n",
       "      <td>1</td>\n",
       "      <td>[population]</td>\n",
       "      <td>-8.639573</td>\n",
       "    </tr>\n",
       "    <tr>\n",
       "      <td>8</td>\n",
       "      <td>2</td>\n",
       "      <td>[population, renewable consumption]</td>\n",
       "      <td>-5.636557</td>\n",
       "    </tr>\n",
       "    <tr>\n",
       "      <td>22</td>\n",
       "      <td>3</td>\n",
       "      <td>[gdp per capita, Carbon intensity of fossil en...</td>\n",
       "      <td>-3.256243</td>\n",
       "    </tr>\n",
       "    <tr>\n",
       "      <td>26</td>\n",
       "      <td>4</td>\n",
       "      <td>[population, gdp per capita, Carbon intensity ...</td>\n",
       "      <td>-0.108183</td>\n",
       "    </tr>\n",
       "    <tr>\n",
       "      <td>30</td>\n",
       "      <td>5</td>\n",
       "      <td>[population, gdp per capita, Carbon intensity ...</td>\n",
       "      <td>2.168793</td>\n",
       "    </tr>\n",
       "  </tbody>\n",
       "</table>\n",
       "</div>"
      ],
      "text/plain": [
       "    number of variables                                          variables  \\\n",
       "0                     1                                       [population]   \n",
       "8                     2                [population, renewable consumption]   \n",
       "22                    3  [gdp per capita, Carbon intensity of fossil en...   \n",
       "26                    4  [population, gdp per capita, Carbon intensity ...   \n",
       "30                    5  [population, gdp per capita, Carbon intensity ...   \n",
       "\n",
       "         bic  \n",
       "0  -8.639573  \n",
       "8  -5.636557  \n",
       "22 -3.256243  \n",
       "26 -0.108183  \n",
       "30  2.168793  "
      ]
     },
     "execution_count": 15,
     "metadata": {},
     "output_type": "execute_result"
    }
   ],
   "source": [
    "result = regression_metrics(data, 'nuclear consumption', 'kr') # model_poly_4\n",
    "# result number of var, name of var, mse, r2, bic\n",
    "\n",
    "# mse\n",
    "best_combo_mse = best_combo(5, result[0], result[1], result[2], \"mse\")\n",
    "# r2\n",
    "best_combo_r2 = best_combo(5, result[0], result[1], result[3], \"r2\")\n",
    "# bic\n",
    "best_combo_bic = best_combo(5, result[0], result[1], result[4], \"bic\")\n",
    "\n",
    "best_combo_bic"
   ]
  },
  {
   "cell_type": "markdown",
   "metadata": {},
   "source": [
    "### Conclusion ###"
   ]
  },
  {
   "cell_type": "markdown",
   "metadata": {},
   "source": [
    "With a polynomial regression of degree we have a BIC equal to **-8** and the choosen variables are **gdp per capita and Carbon intensity of fossil energy**.\n",
    "\n",
    "With a ridge regression we have a BIC equal to **-8**  and the choosen variables are **population**."
   ]
  },
  {
   "cell_type": "markdown",
   "metadata": {},
   "source": [
    "## renewable consumption ##"
   ]
  },
  {
   "cell_type": "code",
   "execution_count": 16,
   "metadata": {},
   "outputs": [
    {
     "data": {
      "application/vnd.jupyter.widget-view+json": {
       "model_id": "c151091801ea49a880309b22bb98b679",
       "version_major": 2,
       "version_minor": 0
      },
      "text/plain": [
       "HBox(children=(IntProgress(value=0, description='Loop...', max=5, style=ProgressStyle(description_width='initi…"
      ]
     },
     "metadata": {},
     "output_type": "display_data"
    },
    {
     "name": "stdout",
     "output_type": "stream",
     "text": [
      "\n"
     ]
    },
    {
     "data": {
      "text/html": [
       "<div>\n",
       "<style scoped>\n",
       "    .dataframe tbody tr th:only-of-type {\n",
       "        vertical-align: middle;\n",
       "    }\n",
       "\n",
       "    .dataframe tbody tr th {\n",
       "        vertical-align: top;\n",
       "    }\n",
       "\n",
       "    .dataframe thead th {\n",
       "        text-align: right;\n",
       "    }\n",
       "</style>\n",
       "<table border=\"1\" class=\"dataframe\">\n",
       "  <thead>\n",
       "    <tr style=\"text-align: right;\">\n",
       "      <th></th>\n",
       "      <th>number of variables</th>\n",
       "      <th>variables</th>\n",
       "      <th>bic</th>\n",
       "    </tr>\n",
       "  </thead>\n",
       "  <tbody>\n",
       "    <tr>\n",
       "      <td>0</td>\n",
       "      <td>1</td>\n",
       "      <td>[population]</td>\n",
       "      <td>13.473836</td>\n",
       "    </tr>\n",
       "    <tr>\n",
       "      <td>8</td>\n",
       "      <td>2</td>\n",
       "      <td>[population, nuclear consumption]</td>\n",
       "      <td>13.197902</td>\n",
       "    </tr>\n",
       "    <tr>\n",
       "      <td>19</td>\n",
       "      <td>3</td>\n",
       "      <td>[population, Carbon intensity of fossil energy...</td>\n",
       "      <td>13.638265</td>\n",
       "    </tr>\n",
       "    <tr>\n",
       "      <td>28</td>\n",
       "      <td>4</td>\n",
       "      <td>[population, Carbon intensity of fossil energy...</td>\n",
       "      <td>16.671063</td>\n",
       "    </tr>\n",
       "    <tr>\n",
       "      <td>30</td>\n",
       "      <td>5</td>\n",
       "      <td>[population, gdp per capita, Carbon intensity ...</td>\n",
       "      <td>23.116817</td>\n",
       "    </tr>\n",
       "  </tbody>\n",
       "</table>\n",
       "</div>"
      ],
      "text/plain": [
       "    number of variables                                          variables  \\\n",
       "0                     1                                       [population]   \n",
       "8                     2                  [population, nuclear consumption]   \n",
       "19                    3  [population, Carbon intensity of fossil energy...   \n",
       "28                    4  [population, Carbon intensity of fossil energy...   \n",
       "30                    5  [population, gdp per capita, Carbon intensity ...   \n",
       "\n",
       "          bic  \n",
       "0   13.473836  \n",
       "8   13.197902  \n",
       "19  13.638265  \n",
       "28  16.671063  \n",
       "30  23.116817  "
      ]
     },
     "execution_count": 16,
     "metadata": {},
     "output_type": "execute_result"
    }
   ],
   "source": [
    "result = regression_metrics(data, 'renewable consumption', 'kr') # model_poly_4\n",
    "# result number of var, name of var, mse, r2, bic\n",
    "\n",
    "# mse\n",
    "best_combo_mse = best_combo(5, result[0], result[1], result[2], \"mse\")\n",
    "# r2\n",
    "best_combo_r2 = best_combo(5, result[0], result[1], result[3], \"r2\")\n",
    "# bic\n",
    "best_combo_bic = best_combo(5, result[0], result[1], result[4], \"bic\")\n",
    "\n",
    "best_combo_bic"
   ]
  },
  {
   "cell_type": "markdown",
   "metadata": {},
   "source": [
    "With a polynomial regression of degree we have a BIC equal to **11** and the choosen variables are **gdp per capita and Carbon intensity of fossil energy**.\n",
    "\n",
    "With a ridge regression we have a BIC equal to **13**  and the choosen variables are **population and nuclear consumption**."
   ]
  },
  {
   "cell_type": "markdown",
   "metadata": {},
   "source": [
    "# Initialization of the objects representing the predictive variables #"
   ]
  },
  {
   "cell_type": "markdown",
   "metadata": {},
   "source": [
    "We are going to use a function called Predictive_var in order to deal with the evolution of each variable."
   ]
  },
  {
   "cell_type": "markdown",
   "metadata": {},
   "source": [
    "Gdp -> Poly : **population and primary intensity**, Kr : **population and primary intensity**\n",
    "\n",
    "Carbon intensity of fossil energy -> Poly : **population and gdp**, Kr : **population**\n",
    "\n",
    "Primary energy -> : Poly : **gdp per capita**, Kr : **Carbon intensity of fossil energy**\n",
    "\n",
    "Nuclear -> Poly : **gdp per capita and Carbon intensity of fossil energy**, Kr : **population**\n",
    "\n",
    "Ren -> Poly : **gdp per capita and Carbon intensity of fossil energy**, Kr : **population and nuclear consumption**"
   ]
  },
  {
   "cell_type": "code",
   "execution_count": 373,
   "metadata": {},
   "outputs": [],
   "source": [
    "class Predictive_Var:\n",
    "    years = list()\n",
    "    for i in range(39) : years.append(1980+i)\n",
    "        \n",
    "    def __init__(self, name, data, var_names=False, cursor=False, model=False):\n",
    "        self.name = name\n",
    "        self.model = model\n",
    "        self.data = data\n",
    "        self.data_2018 = data[38]\n",
    "        self.last_value = self.data_2018 # Value of this variable in 2018\n",
    "        self.slope = 0 # Evolution in function of time of the value of this variable\n",
    "        self.actual_data = list()\n",
    "        self.type = None # How is going to evolve. Ex : lin, exp, quadra.    \n",
    "        self.cursor = cursor\n",
    "        self.var_names = var_names\n",
    "        self.evol = list()\n",
    "        self.init = True\n",
    "    \n",
    "    def cursor_scenario(self, level, init=True): # initial scenario induced by the value of a new cursor\n",
    "        \n",
    "        if level is not False:\n",
    "            self.slope = level/100\n",
    "        else:\n",
    "            self.slope = 0\n",
    "            \n",
    "        self.last_value = self.data_2018\n",
    "        \n",
    "    def forecast_new_value(self, list_pred):\n",
    "        if self.model is False: # for population var\n",
    "            new = self.last_value + self.slope*self.last_value\n",
    "            self.last_value = new\n",
    "            self.actual_data.append(new)\n",
    "        else:\n",
    "            x_test = list_pred[self.var_names]\n",
    "            y_pred = float(self.model.predict(x_test))\n",
    "            \n",
    "            slope_effect = float(self.slope*(self.last_value/100))\n",
    "            self.actual_data.append(float(y_pred + slope_effect))\n",
    "        \n",
    "        evol = float(((self.actual_data[len(self.actual_data)-1] - self.last_value)/abs(self.last_value))*100)\n",
    "        self.evol.append(evol)\n",
    "        \"\"\"\n",
    "        print(self.name+\"\\n\")\n",
    "        print(\"Prediction by the model : \" + str(y_pred))\n",
    "        print(\"Slope effect : \" + str(slope_effect))\n",
    "        print(self.evol)\n",
    "        print(\"Actual value : \"+str(self.actual_data[len(self.actual_data)-1]))\n",
    "        \"\"\"\n",
    "        self.last_value = self.actual_data[len(self.actual_data)-1]\n",
    "        \n",
    "        \n",
    "    # to modify\n",
    "    def show_data(self, data=False):\n",
    "        fig = go.Figure()\n",
    "        fig.add_trace(go.Scatter(x=years, y=self.data, name=self.name, opacity=0.8))\n",
    "        \n",
    "        if data is not False:\n",
    "            years_f = list()\n",
    "            for i in range(13) : years_f.append(2018+i)\n",
    "            data.insert(0, self.data[len(self.data)-1])\n",
    "            fig.add_trace(go.Scatter(x=years_f, y=data, name=self.name, opacity=0.8))\n",
    "        \n",
    "        # Use date string to set xaxis range\n",
    "        fig.update_layout(title_text=self.name)\n",
    "\n",
    "        fig.update_xaxes(title_text=\"Years\")\n",
    "        fig.update_yaxes(title_text=\"[ ]\"),\n",
    "        fig.update_layout(legend_orientation=\"h\")\n",
    "        fig.show()\n",
    "\n",
    "def model_trained(data, y_name, x_name, model):\n",
    "    \n",
    "    if model == 'poly':\n",
    "        model = make_pipeline(PolynomialFeatures(4), Ridge())\n",
    "    if model == 'kr':\n",
    "        model = GridSearchCV(KernelRidge(kernel='rbf', gamma=0.1), cv=5, iid=True,\n",
    "                  param_grid={\"alpha\": [1e0, 0.1, 1e-2, 1e-3],\n",
    "                              \"gamma\": np.logspace(-2, 2, 5)})\n",
    "\n",
    "    y_train = data[y_name] # y_test = data[y_name]\n",
    "    x_train = data[x_name] # x_test = data[x_name]\n",
    "    \n",
    "    model.fit(x_train, y_train)\n",
    "    \n",
    "    #y_pred = model.predict(x_test)\n",
    "    #bics = bic.bic(y_test, y_pred, x_test.shape[1])\n",
    "    #print(bics)\n",
    "\n",
    "    return model\n",
    "\n",
    "def get_pred(dict_var):\n",
    "    pred = {}\n",
    "    for name in dict_var:\n",
    "        var = dict_var[name]\n",
    "        pred[name] = var.last_value\n",
    "        \n",
    "    pred = pd.DataFrame.from_dict(pred, orient='index').transpose()\n",
    "\n",
    "    return pred\n",
    "\n",
    "def init_variable(data):\n",
    "\n",
    "    # Instances of Predictive_Var\n",
    "\n",
    "    var_pop = Predictive_Var(\"population\", data['population'], cursor =[-3, -1, 0, 5, 10])\n",
    "\n",
    "    #carbon_combi = ['population', 'gdp per capita']\n",
    "    carbon_combi = ['population', 'gdp per capita', 'nuclear consumption', 'primary intensity']\n",
    "    model_carbon = model_trained(data, 'Carbon intensity of fossil energy', carbon_combi, 'kr')\n",
    "    var_carbon = Predictive_Var('Carbon intensity of fossil energy', data['Carbon intensity of fossil energy'],\n",
    "                                carbon_combi, model = model_carbon, cursor=[10, 4, 0, -2, -4])\n",
    "\n",
    "    #gdp_combi = ['population', 'primary intensity']\n",
    "    gdp_combi = ['population', 'primary intensity', 'nuclear consumption', 'Carbon intensity of fossil energy']\n",
    "    model_gdp = model_trained(data, 'gdp per capita', gdp_combi, 'kr')\n",
    "    var_gdp = Predictive_Var(\"gdp per capita\", data['gdp per capita'], gdp_combi,\n",
    "                             model = model_gdp, cursor=[-4, -2, 0, 4, 10])\n",
    "\n",
    "    #prim_combi = ['gdp per capita']\n",
    "    prim_combi = ['population', 'gdp per capita', 'nuclear consumption', 'Carbon intensity of fossil energy']\n",
    "    model_prim = model_trained(data, 'primary intensity', prim_combi, 'kr')\n",
    "    var_prim = Predictive_Var(\"primary intensity\", data['primary intensity'], prim_combi,\n",
    "                              model = model_prim, cursor=[10, 4, 0, -2, -4])\n",
    "\n",
    "    #nuc_combi = ['gdp per capita', 'Carbon intensity of fossil energy']\n",
    "    nuc_combi = ['population', 'gdp per capita', 'primary intensity', 'Carbon intensity of fossil energy']\n",
    "    model_nuc = model_trained(data, 'nuclear consumption', nuc_combi, 'kr')\n",
    "    var_nuc = Predictive_Var(\"nuclear consumption\", data['nuclear consumption'], nuc_combi,\n",
    "                             model = model_nuc, cursor=[40, 20, 0, -5, -10])\n",
    "\n",
    "    ren_combi = ['nuclear consumption', 'Carbon intensity of fossil energy']\n",
    "    model_ren = model_trained(data, 'renewable consumption', ren_combi, 'kr') \n",
    "    var_ren = Predictive_Var(\"renewable consumption\", data['renewable consumption'],\n",
    "                             ren_combi,\n",
    "                             model = model_ren, cursor=[-2, -1, 0, 2, 7])\n",
    "\n",
    "    list_var = [var_pop, var_gdp, var_carbon, var_prim, var_nuc, var_ren]\n",
    "\n",
    "    var_dict = {}\n",
    "    for i in range(len(names)): var_dict[names[i]] = list_var[i]\n",
    "        \n",
    "    return var_dict\n",
    "\n",
    "def total_forecast(data, pop_sce=False, carbon_sce=False, gdp_sce=False,\n",
    "                   prim_sce=False, nuc_sce=False, ren_sce=False):\n",
    "    var_dict = init_variable(data)\n",
    "    var_dict['population'].cursor_scenario(pop_sce)\n",
    "    var_dict['Carbon intensity of fossil energy'].cursor_scenario(carbon_sce)\n",
    "    var_dict['gdp per capita'].cursor_scenario(gdp_sce)\n",
    "    var_dict['primary intensity'].cursor_scenario(prim_sce)\n",
    "    var_dict['nuclear consumption'].cursor_scenario(nuc_sce)\n",
    "    var_dict['renewable consumption'].cursor_scenario(ren_sce)\n",
    "    for i in range(12):\n",
    "        \n",
    "        predictions = get_pred(var_dict)\n",
    "        \n",
    "        var_dict['population'].forecast_new_value(predictions)\n",
    "        var_dict['Carbon intensity of fossil energy'].forecast_new_value(predictions)\n",
    "        var_dict['gdp per capita'].forecast_new_value(predictions)\n",
    "        var_dict['primary intensity'].forecast_new_value(predictions)\n",
    "        var_dict['nuclear consumption'].forecast_new_value(predictions)\n",
    "        var_dict['renewable consumption'].forecast_new_value(predictions)\n",
    "        predictions = get_pred(var_dict)\n",
    "    \n",
    "    return var_dict\n",
    "#total_forecast(data, pop_sce=3)\n",
    "#for name in names : var_dict[name].show_data(var_dict[name].actual_data)\n",
    "\n",
    "def model_cons_co2(data, y_name, x_name, model):\n",
    "    \n",
    "    a = 39-12 ; b = 39\n",
    "    \n",
    "    if model == 'poly':\n",
    "        model = make_pipeline(PolynomialFeatures(4), Ridge())\n",
    "    if model == 'kr':\n",
    "        model = GridSearchCV(KernelRidge(kernel='rbf', gamma=0.1), cv=5, iid=True,\n",
    "                  param_grid={\"alpha\": [1e0, 0.1, 1e-2, 1e-3],\n",
    "                              \"gamma\": np.logspace(-2, 2, 5)})\n",
    "    if model == 'lin':\n",
    "        model = LinearRegression()\n",
    "\n",
    "    x_train = data[x_name][0:a]\n",
    "    y_train = data[y_name][0:a]\n",
    "\n",
    "    x_test = data[x_name][a:b]\n",
    "    y_test = data[y_name][a:b]\n",
    "    \n",
    "    model.fit(x_train, y_train)\n",
    "    \n",
    "    y_train_predict = model.predict(x_train)\n",
    "    y_test_predict = model.predict(x_test)\n",
    "    \n",
    "    return [y_train_predict, y_test_predict, y_train, y_test]\n",
    "\n",
    "def evaluation_model(y_true, y_pred):\n",
    "    list_pred = list()\n",
    "    \n",
    "    y_true = list(np.resize(y_true, (1,len(y_true)))[0])\n",
    "    \n",
    "    for i in range(len(y_pred)):\n",
    "        pred = list(np.resize(y_pred[i], (1,len(y_pred[i])))[0])\n",
    "        list_pred.append(math.sqrt(mean_squared_error(y_true, pred)))\n",
    "    \n",
    "    return list_pred\n",
    "\n",
    "def plot_evaluation(y_test, y_test_predict, name_model, color_name):\n",
    "    \n",
    "    a = 39-12 ; b = 39\n",
    "    \n",
    "    fig = go.Figure()\n",
    "    \n",
    "    y_test = np.resize(y_test, (1,len(y_test)))[0]\n",
    "    y_test = pd.Series(y_test)\n",
    "    \n",
    "    for i in range(len(name_model)):\n",
    "        \n",
    "        test_predict = np.resize(y_test_predict[i], (1,len(y_test_predict[i])))[0]\n",
    "        test_predict = pd.Series(test_predict)\n",
    "        \n",
    "        fig.add_trace(go.Scatter(x=years[a:b], y=(test_predict-y_test)*(test_predict-y_test),\n",
    "                                 name=name_model[i], opacity=0.8, line=dict(color=color_name[i])))\n",
    "\n",
    "    # Use date string to set xaxis range\n",
    "    fig.update_layout(title_text=\"Evaluation of the models\")\n",
    "\n",
    "    fig.update_xaxes(title_text=\"Years\")\n",
    "    fig.update_yaxes(title_text=\"Square of residuals [Mtoe^2]\"),\n",
    "    fig.update_layout(legend_orientation=\"h\")\n",
    "    fig.show()\n",
    "\n",
    "def fig_init():\n",
    "\n",
    "    # Initialize figure with subplots\n",
    "    fig = make_subplots(rows=1, cols=2, subplot_titles=(\"Fossil consumption between 1980 and 2006\",\n",
    "                                                        \"Fossil consumption between 2006 and 2018\"))\n",
    "    # Update xaxis properties\n",
    "    fig.update_xaxes(title_text=\"\", row=1, col=1); fig.update_xaxes(title_text=\"\", row=1, col=2)\n",
    "\n",
    "    # Update yaxis properties\n",
    "    fig.update_yaxes(title_text=\"Consumption [Mtoe]\", row=1, col=1)\n",
    "    fig.update_yaxes(title_text=\"Consumption [Mtoe]\", row=1, col=2)\n",
    "\n",
    "    # Update title and height\n",
    "    fig.update_layout(title_text=\"\",\n",
    "                      height=400, width=1000, showlegend=True)\n",
    "    fig.update_layout(legend_orientation=\"h\")\n",
    "    \n",
    "    return fig\n",
    "\n",
    "def plotly_plot(fig, y_train_predict, y_test_predict, name_model, color_name, years):\n",
    "    \n",
    "    a = 39-12 ; b = 39\n",
    "    \n",
    "    for i in range(len(name_model)):\n",
    "    \n",
    "        train_predict = np.resize(y_train_predict[i], (1,len(y_train_predict[i])))[0]\n",
    "        train_predict = pd.Series(train_predict)\n",
    "    \n",
    "        fig.add_trace(go.Scatter(x=years[0:a], y=train_predict, opacity=0.8, line=dict(color=color_name[i]),\n",
    "                                 showlegend=False), row=1, col=1)\n",
    "                                 \n",
    "        test_predict = np.resize(y_test_predict[i], (1,len(y_test_predict[i])))[0]\n",
    "        test_predict = pd.Series(test_predict)\n",
    "                      \n",
    "        fig.add_trace(go.Scatter(x=years[a:b], y=test_predict, opacity=0.8, line=dict(color=color_name[i]),\n",
    "                                 name = name_model[i]),row=1, col=2)\n",
    "\n",
    "    fig.show()\n",
    "    \n",
    "def CO2_consumption_model(data, y_name, x_name, model):\n",
    "    \n",
    "    if model == 'poly':\n",
    "        model = make_pipeline(PolynomialFeatures(4), Ridge())\n",
    "    if model == 'kr':\n",
    "        model = GridSearchCV(KernelRidge(kernel='rbf', gamma=0.1), cv=5, iid=True,\n",
    "                  param_grid={\"alpha\": [1e0, 0.1, 1e-2, 1e-3],\n",
    "                              \"gamma\": np.logspace(-2, 2, 5)})\n",
    "\n",
    "    y_train = data[y_name] # y_test = data[y_name]\n",
    "    x_train = data[x_name] # x_test = data[x_name]\n",
    "    \n",
    "    model.fit(x_train, y_train)\n",
    "\n",
    "    return model\n",
    "\n",
    "def input_predictive_var(names, dict_var):\n",
    "    pred_dict = {}\n",
    "    for name in names:\n",
    "        length = len(dict_var[name].actual_data)\n",
    "        pred_dict[name] = dict_var[name].actual_data\n",
    "    \n",
    "    forecast_pred_var = pd.DataFrame.from_dict(pred_dict, orient='index').transpose()\n",
    "    \n",
    "    return forecast_pred_var\n",
    "\n",
    "def get_data(file_name, col_delete):\n",
    "    \n",
    "    data = pd.read_csv(file_name)\n",
    "    years = data['Years']\n",
    "    data = data.drop(col_delete, axis=1)\n",
    "    names = data.columns\n",
    "    # Scaled the data first\n",
    "    scaler = preprocessing.StandardScaler()\n",
    "    # Fit your data on the scaler object\n",
    "    scaled_data = scaler.fit_transform(data)\n",
    "    scaled_data = pd.DataFrame(scaled_data, columns=data.columns)\n",
    "    \n",
    "    nb_columns = len(scaled_data.columns)\n",
    "    x_name = list(scaled_data.columns)[0:nb_columns-1]\n",
    "    y_name = list(scaled_data.columns).pop()\n",
    "    \n",
    "    return years, scaled_data, names, x_name, y_name\n",
    "\n",
    "def compare_models_plot(data, y_name, x_name, show=False):\n",
    "    res_kr = model_cons_co2(data, y_name, x_name, 'kr')\n",
    "    res_poly = model_cons_co2(data, y_name, x_name, 'poly')\n",
    "    res_lin = model_cons_co2(data, y_name, x_name, 'lin')\n",
    "    \n",
    "    y_train_predict = [res_kr[2], res_kr[0], res_poly[0], res_lin[0]]\n",
    "    y_test_predict = [res_kr[3], res_kr[1], res_poly[1], res_lin[1]]\n",
    "\n",
    "    name_model = [\"real\", \"kr\", \"poly deg 4\", \"lin\"]\n",
    "\n",
    "    list_colors = ['Black', '#1f77b4', '#ff7f0e', '#2ca02c', '#d62728', '#9467bd',\n",
    "                   '#8c564b', '#e377c2', '#7f7f7f', '#bcbd22', '17becf']\n",
    "    color_name = [list_colors[0], list_colors[1], list_colors[2], list_colors[3], list_colors[4]]\n",
    "\n",
    "    fig = fig_init()\n",
    "    if show is True:\n",
    "        plotly_plot(fig, y_train_predict, y_test_predict, name_model, color_name, years)\n",
    "        \n",
    "def var_after_scenario(data, names, years, pop_sce=False, carbon_sce=False, gdp_sce=False, prim_sce=False,\n",
    "                       nuc_sce=False, ren_sce=False, show=False):\n",
    "    \n",
    "    dict_var = total_forecast(data2, pop_sce=pop_sce, gdp_sce=gdp_sce,\n",
    "                              carbon_sce=carbon_sce, prim_sce= prim_sce, nuc_sce=nuc_sce, ren_sce=ren_sce)\n",
    "    if show is True:\n",
    "        show_pred_var(dict_var, names, years)\n",
    "        #for name in names2: dict_var[name].show_data(data = dict_var[name].actual_data) # PLOT\n",
    "    \n",
    "    return dict_var\n",
    "\n",
    "def show_pred_var(dict_var, names, years):\n",
    "    \n",
    "    fig = make_subplots(\n",
    "    rows=3, cols=2, subplot_titles=(\"Population\", \"Gdp per capita\", \"Carbon intensity of fossil energy\",\n",
    "                                    \"Primary intensity\", \"Renewable consumption\"))\n",
    "    \n",
    "    row = [1, 1, 2, 2, 3]\n",
    "    col = [1, 2, 1, 2, 1]\n",
    "    \n",
    "    years_f = list()\n",
    "    for i in range(13) : years_f.append(2018+i)\n",
    "    \n",
    "    for i in range(len(row)):\n",
    "        \n",
    "        data = dict_var[names[i]].data\n",
    "        actual_data = dict_var[names[i]].actual_data\n",
    "        \n",
    "        fig.add_trace(go.Scatter(x=years, y=data, opacity=0.8, line=dict(color=\"Black\")),\n",
    "                      row=row[i], col=col[i])        \n",
    "        \n",
    "        actual_data.insert(0, data[len(data)-1])\n",
    "        actual_data = pd.Series(actual_data)\n",
    "        \n",
    "        fig.add_trace(go.Scatter(x=years_f, y=actual_data, opacity=0.8), row=row[i], col=col[i])\n",
    "        fig.update_xaxes(title_text=\"Years\", row=row[i], col=col[i])\n",
    "        fig.update_yaxes(title_text=\"[ ]\", row=row[i], col=col[i])\n",
    "        \n",
    "        \n",
    "        # Update title and height F\n",
    "    fig.update_layout(title_text=\"Forecast of the predictive variables for a specific scenario\",\n",
    "                      height=1000, width=1000, showlegend=False)\n",
    "\n",
    "    fig.show()\n",
    "\n",
    "def show_consumption_emission(data_cons, data_emi):\n",
    "    \n",
    "    years_f = list()\n",
    "    for i in range(13+38) : years_f.append(1980+i)\n",
    "        \n",
    "    a = 39-13; b = 39\n",
    "        \n",
    "    fig = make_subplots(rows=1, cols=2, subplot_titles=(\"Consumption of fossil energy\",\n",
    "                                                        \"Emission of CO2 due to fossil energy\"))\n",
    "    \n",
    "    fig.add_trace(go.Scatter(x=years_f[0:a], y=data_cons[0:a], opacity=0.8), row=1, col=1)\n",
    "    fig.add_trace(go.Scatter(x=years_f[a-1:b], y=data_cons[a-1:b], opacity=0.8), row=1, col=1)\n",
    "    fig.update_xaxes(title_text=\"Years\", row=1, col=1)\n",
    "    fig.update_yaxes(title_text=\"[ ]\", row=1, col=1)\n",
    "    \n",
    "    fig.add_trace(go.Scatter(x=years_f[0:a], y=data_emi[0:a], opacity=0.8), row=1, col=2)\n",
    "    fig.add_trace(go.Scatter(x=years_f[a-1:b], y=data_emi[a-1:b], opacity=0.8), row=1, col=2)\n",
    "    fig.update_xaxes(title_text=\"Years\", row=1, col=2)\n",
    "    fig.update_yaxes(title_text=\"[ ]\", row=1, col=2)\n",
    "    \n",
    "    # Update title and height\n",
    "    fig.update_layout(title_text=\" \", height=500, width=1000, showlegend=False)\n",
    "\n",
    "    fig.show()\n",
    "    \n",
    "def consumption_emission_CO2(model, data, old_data, show=False):\n",
    "\n",
    "    data_cons_f = model_CO2.predict(data)\n",
    "    data_emi_f = [data['Carbon intensity of fossil energy'][i]*data_cons_f[i]\n",
    "                          for i in range(data.shape[0])]\n",
    "    \n",
    "    data_cons = list(itertools.chain(list(old_data['fossil consumption']), data_cons_f))\n",
    "    \n",
    "    old_data_emi = [old_data['Carbon intensity of fossil energy'][i]*old_data['fossil consumption'][i]\n",
    "                for i in range(old_data.shape[0])]\n",
    "    data_emi = list(itertools.chain(old_data_emi, data_emi_f))\n",
    "    \n",
    "    return data_cons, data_emi"
   ]
  },
  {
   "cell_type": "code",
   "execution_count": 375,
   "metadata": {},
   "outputs": [
    {
     "data": {
      "application/vnd.plotly.v1+json": {
       "config": {
        "plotlyServerURL": "https://plot.ly"
       },
       "data": [
        {
         "opacity": 0.8,
         "type": "scatter",
         "x": [
          1980,
          1981,
          1982,
          1983,
          1984,
          1985,
          1986,
          1987,
          1988,
          1989,
          1990,
          1991,
          1992,
          1993,
          1994,
          1995,
          1996,
          1997,
          1998,
          1999,
          2000,
          2001,
          2002,
          2003,
          2004,
          2005
         ],
         "xaxis": "x",
         "y": [
          -0.15138833388718026,
          -0.7284776019683573,
          -1.4559201596699276,
          -1.9356529982089579,
          -1.825415265893959,
          -1.7934971625636944,
          -1.8140151866242695,
          -1.5275739695507164,
          -1.362403826856116,
          -1.1128620664708935,
          -0.9345006100422883,
          -0.6126603918040407,
          -0.6381545444843595,
          -0.7569014295256931,
          -0.18450874345364762,
          -0.04085266752807983,
          0.5881477252938029,
          0.46058626920095425,
          0.7629425860104738,
          0.508980188284462,
          0.7237186838011522,
          0.620005095456889,
          0.65862635634981,
          1.1346115145160671,
          1.1389740904636352,
          1.041620694571945
         ],
         "yaxis": "y"
        },
        {
         "opacity": 0.8,
         "type": "scatter",
         "x": [
          2005,
          2006,
          2007,
          2008,
          2009,
          2010,
          2011,
          2012,
          2013,
          2014,
          2015,
          2016,
          2017,
          2018
         ],
         "xaxis": "x",
         "y": [
          1.041620694571945,
          0.9188452109013812,
          0.8704977643596863,
          1.4076216194617113,
          0.5963644540534072,
          1.5842121127987692,
          0.5720844062860543,
          0.39699230215131787,
          0.6063421019541726,
          0.0033635178054624852,
          0.5018399136979781,
          0.5367505829599769,
          0.5089663440949119,
          0.7326914240582879
         ],
         "yaxis": "y"
        },
        {
         "opacity": 0.8,
         "type": "scatter",
         "x": [
          1980,
          1981,
          1982,
          1983,
          1984,
          1985,
          1986,
          1987,
          1988,
          1989,
          1990,
          1991,
          1992,
          1993,
          1994,
          1995,
          1996,
          1997,
          1998,
          1999,
          2000,
          2001,
          2002,
          2003,
          2004,
          2005
         ],
         "xaxis": "x2",
         "y": [
          -0.23558064591448194,
          -0.985234875840514,
          -2.278760749616277,
          -2.5909418594524163,
          -2.5207307778349675,
          -2.266594363639732,
          -2.3628595455423596,
          -1.5662501732860423,
          -1.3571809267288308,
          -0.9633142813646314,
          -0.7573625843782719,
          -0.5217541843366723,
          -0.46228360054348744,
          -0.5050567274383425,
          -0.09538164128434856,
          -0.015255682959765015,
          0.1491331437262031,
          0.0708927657807323,
          0.08847810174693645,
          0.016886963871913272,
          -0.008589457577569723,
          0.07174443022547419,
          -0.24101911400148443,
          -0.44711147325799944,
          -0.5413513398816092,
          -0.627453892558899
         ],
         "yaxis": "y2"
        },
        {
         "opacity": 0.8,
         "type": "scatter",
         "x": [
          2005,
          2006,
          2007,
          2008,
          2009,
          2010,
          2011,
          2012,
          2013,
          2014,
          2015,
          2016,
          2017,
          2018
         ],
         "xaxis": "x2",
         "y": [
          -0.627453892558899,
          -0.6262908366172518,
          -0.8089013669976342,
          -1.5126107857438091,
          -0.6386822197999087,
          -1.8870248996731538,
          -0.7556427241179805,
          -0.4958076533823227,
          -0.7737746997147945,
          -0.004489298673374201,
          -0.6354655814849682,
          -0.7187566665902273,
          -0.7188352873451498,
          -0.9288458027247675
         ],
         "yaxis": "y2"
        }
       ],
       "layout": {
        "annotations": [
         {
          "font": {
           "size": 16
          },
          "showarrow": false,
          "text": "Consumption of fossil energy",
          "x": 0.225,
          "xanchor": "center",
          "xref": "paper",
          "y": 1,
          "yanchor": "bottom",
          "yref": "paper"
         },
         {
          "font": {
           "size": 16
          },
          "showarrow": false,
          "text": "Emission of CO2 due to fossil energy",
          "x": 0.775,
          "xanchor": "center",
          "xref": "paper",
          "y": 1,
          "yanchor": "bottom",
          "yref": "paper"
         }
        ],
        "height": 500,
        "showlegend": false,
        "template": {
         "data": {
          "bar": [
           {
            "error_x": {
             "color": "#2a3f5f"
            },
            "error_y": {
             "color": "#2a3f5f"
            },
            "marker": {
             "line": {
              "color": "#E5ECF6",
              "width": 0.5
             }
            },
            "type": "bar"
           }
          ],
          "barpolar": [
           {
            "marker": {
             "line": {
              "color": "#E5ECF6",
              "width": 0.5
             }
            },
            "type": "barpolar"
           }
          ],
          "carpet": [
           {
            "aaxis": {
             "endlinecolor": "#2a3f5f",
             "gridcolor": "white",
             "linecolor": "white",
             "minorgridcolor": "white",
             "startlinecolor": "#2a3f5f"
            },
            "baxis": {
             "endlinecolor": "#2a3f5f",
             "gridcolor": "white",
             "linecolor": "white",
             "minorgridcolor": "white",
             "startlinecolor": "#2a3f5f"
            },
            "type": "carpet"
           }
          ],
          "choropleth": [
           {
            "colorbar": {
             "outlinewidth": 0,
             "ticks": ""
            },
            "type": "choropleth"
           }
          ],
          "contour": [
           {
            "colorbar": {
             "outlinewidth": 0,
             "ticks": ""
            },
            "colorscale": [
             [
              0,
              "#0d0887"
             ],
             [
              0.1111111111111111,
              "#46039f"
             ],
             [
              0.2222222222222222,
              "#7201a8"
             ],
             [
              0.3333333333333333,
              "#9c179e"
             ],
             [
              0.4444444444444444,
              "#bd3786"
             ],
             [
              0.5555555555555556,
              "#d8576b"
             ],
             [
              0.6666666666666666,
              "#ed7953"
             ],
             [
              0.7777777777777778,
              "#fb9f3a"
             ],
             [
              0.8888888888888888,
              "#fdca26"
             ],
             [
              1,
              "#f0f921"
             ]
            ],
            "type": "contour"
           }
          ],
          "contourcarpet": [
           {
            "colorbar": {
             "outlinewidth": 0,
             "ticks": ""
            },
            "type": "contourcarpet"
           }
          ],
          "heatmap": [
           {
            "colorbar": {
             "outlinewidth": 0,
             "ticks": ""
            },
            "colorscale": [
             [
              0,
              "#0d0887"
             ],
             [
              0.1111111111111111,
              "#46039f"
             ],
             [
              0.2222222222222222,
              "#7201a8"
             ],
             [
              0.3333333333333333,
              "#9c179e"
             ],
             [
              0.4444444444444444,
              "#bd3786"
             ],
             [
              0.5555555555555556,
              "#d8576b"
             ],
             [
              0.6666666666666666,
              "#ed7953"
             ],
             [
              0.7777777777777778,
              "#fb9f3a"
             ],
             [
              0.8888888888888888,
              "#fdca26"
             ],
             [
              1,
              "#f0f921"
             ]
            ],
            "type": "heatmap"
           }
          ],
          "heatmapgl": [
           {
            "colorbar": {
             "outlinewidth": 0,
             "ticks": ""
            },
            "colorscale": [
             [
              0,
              "#0d0887"
             ],
             [
              0.1111111111111111,
              "#46039f"
             ],
             [
              0.2222222222222222,
              "#7201a8"
             ],
             [
              0.3333333333333333,
              "#9c179e"
             ],
             [
              0.4444444444444444,
              "#bd3786"
             ],
             [
              0.5555555555555556,
              "#d8576b"
             ],
             [
              0.6666666666666666,
              "#ed7953"
             ],
             [
              0.7777777777777778,
              "#fb9f3a"
             ],
             [
              0.8888888888888888,
              "#fdca26"
             ],
             [
              1,
              "#f0f921"
             ]
            ],
            "type": "heatmapgl"
           }
          ],
          "histogram": [
           {
            "marker": {
             "colorbar": {
              "outlinewidth": 0,
              "ticks": ""
             }
            },
            "type": "histogram"
           }
          ],
          "histogram2d": [
           {
            "colorbar": {
             "outlinewidth": 0,
             "ticks": ""
            },
            "colorscale": [
             [
              0,
              "#0d0887"
             ],
             [
              0.1111111111111111,
              "#46039f"
             ],
             [
              0.2222222222222222,
              "#7201a8"
             ],
             [
              0.3333333333333333,
              "#9c179e"
             ],
             [
              0.4444444444444444,
              "#bd3786"
             ],
             [
              0.5555555555555556,
              "#d8576b"
             ],
             [
              0.6666666666666666,
              "#ed7953"
             ],
             [
              0.7777777777777778,
              "#fb9f3a"
             ],
             [
              0.8888888888888888,
              "#fdca26"
             ],
             [
              1,
              "#f0f921"
             ]
            ],
            "type": "histogram2d"
           }
          ],
          "histogram2dcontour": [
           {
            "colorbar": {
             "outlinewidth": 0,
             "ticks": ""
            },
            "colorscale": [
             [
              0,
              "#0d0887"
             ],
             [
              0.1111111111111111,
              "#46039f"
             ],
             [
              0.2222222222222222,
              "#7201a8"
             ],
             [
              0.3333333333333333,
              "#9c179e"
             ],
             [
              0.4444444444444444,
              "#bd3786"
             ],
             [
              0.5555555555555556,
              "#d8576b"
             ],
             [
              0.6666666666666666,
              "#ed7953"
             ],
             [
              0.7777777777777778,
              "#fb9f3a"
             ],
             [
              0.8888888888888888,
              "#fdca26"
             ],
             [
              1,
              "#f0f921"
             ]
            ],
            "type": "histogram2dcontour"
           }
          ],
          "mesh3d": [
           {
            "colorbar": {
             "outlinewidth": 0,
             "ticks": ""
            },
            "type": "mesh3d"
           }
          ],
          "parcoords": [
           {
            "line": {
             "colorbar": {
              "outlinewidth": 0,
              "ticks": ""
             }
            },
            "type": "parcoords"
           }
          ],
          "pie": [
           {
            "automargin": true,
            "type": "pie"
           }
          ],
          "scatter": [
           {
            "marker": {
             "colorbar": {
              "outlinewidth": 0,
              "ticks": ""
             }
            },
            "type": "scatter"
           }
          ],
          "scatter3d": [
           {
            "line": {
             "colorbar": {
              "outlinewidth": 0,
              "ticks": ""
             }
            },
            "marker": {
             "colorbar": {
              "outlinewidth": 0,
              "ticks": ""
             }
            },
            "type": "scatter3d"
           }
          ],
          "scattercarpet": [
           {
            "marker": {
             "colorbar": {
              "outlinewidth": 0,
              "ticks": ""
             }
            },
            "type": "scattercarpet"
           }
          ],
          "scattergeo": [
           {
            "marker": {
             "colorbar": {
              "outlinewidth": 0,
              "ticks": ""
             }
            },
            "type": "scattergeo"
           }
          ],
          "scattergl": [
           {
            "marker": {
             "colorbar": {
              "outlinewidth": 0,
              "ticks": ""
             }
            },
            "type": "scattergl"
           }
          ],
          "scattermapbox": [
           {
            "marker": {
             "colorbar": {
              "outlinewidth": 0,
              "ticks": ""
             }
            },
            "type": "scattermapbox"
           }
          ],
          "scatterpolar": [
           {
            "marker": {
             "colorbar": {
              "outlinewidth": 0,
              "ticks": ""
             }
            },
            "type": "scatterpolar"
           }
          ],
          "scatterpolargl": [
           {
            "marker": {
             "colorbar": {
              "outlinewidth": 0,
              "ticks": ""
             }
            },
            "type": "scatterpolargl"
           }
          ],
          "scatterternary": [
           {
            "marker": {
             "colorbar": {
              "outlinewidth": 0,
              "ticks": ""
             }
            },
            "type": "scatterternary"
           }
          ],
          "surface": [
           {
            "colorbar": {
             "outlinewidth": 0,
             "ticks": ""
            },
            "colorscale": [
             [
              0,
              "#0d0887"
             ],
             [
              0.1111111111111111,
              "#46039f"
             ],
             [
              0.2222222222222222,
              "#7201a8"
             ],
             [
              0.3333333333333333,
              "#9c179e"
             ],
             [
              0.4444444444444444,
              "#bd3786"
             ],
             [
              0.5555555555555556,
              "#d8576b"
             ],
             [
              0.6666666666666666,
              "#ed7953"
             ],
             [
              0.7777777777777778,
              "#fb9f3a"
             ],
             [
              0.8888888888888888,
              "#fdca26"
             ],
             [
              1,
              "#f0f921"
             ]
            ],
            "type": "surface"
           }
          ],
          "table": [
           {
            "cells": {
             "fill": {
              "color": "#EBF0F8"
             },
             "line": {
              "color": "white"
             }
            },
            "header": {
             "fill": {
              "color": "#C8D4E3"
             },
             "line": {
              "color": "white"
             }
            },
            "type": "table"
           }
          ]
         },
         "layout": {
          "annotationdefaults": {
           "arrowcolor": "#2a3f5f",
           "arrowhead": 0,
           "arrowwidth": 1
          },
          "coloraxis": {
           "colorbar": {
            "outlinewidth": 0,
            "ticks": ""
           }
          },
          "colorscale": {
           "diverging": [
            [
             0,
             "#8e0152"
            ],
            [
             0.1,
             "#c51b7d"
            ],
            [
             0.2,
             "#de77ae"
            ],
            [
             0.3,
             "#f1b6da"
            ],
            [
             0.4,
             "#fde0ef"
            ],
            [
             0.5,
             "#f7f7f7"
            ],
            [
             0.6,
             "#e6f5d0"
            ],
            [
             0.7,
             "#b8e186"
            ],
            [
             0.8,
             "#7fbc41"
            ],
            [
             0.9,
             "#4d9221"
            ],
            [
             1,
             "#276419"
            ]
           ],
           "sequential": [
            [
             0,
             "#0d0887"
            ],
            [
             0.1111111111111111,
             "#46039f"
            ],
            [
             0.2222222222222222,
             "#7201a8"
            ],
            [
             0.3333333333333333,
             "#9c179e"
            ],
            [
             0.4444444444444444,
             "#bd3786"
            ],
            [
             0.5555555555555556,
             "#d8576b"
            ],
            [
             0.6666666666666666,
             "#ed7953"
            ],
            [
             0.7777777777777778,
             "#fb9f3a"
            ],
            [
             0.8888888888888888,
             "#fdca26"
            ],
            [
             1,
             "#f0f921"
            ]
           ],
           "sequentialminus": [
            [
             0,
             "#0d0887"
            ],
            [
             0.1111111111111111,
             "#46039f"
            ],
            [
             0.2222222222222222,
             "#7201a8"
            ],
            [
             0.3333333333333333,
             "#9c179e"
            ],
            [
             0.4444444444444444,
             "#bd3786"
            ],
            [
             0.5555555555555556,
             "#d8576b"
            ],
            [
             0.6666666666666666,
             "#ed7953"
            ],
            [
             0.7777777777777778,
             "#fb9f3a"
            ],
            [
             0.8888888888888888,
             "#fdca26"
            ],
            [
             1,
             "#f0f921"
            ]
           ]
          },
          "colorway": [
           "#636efa",
           "#EF553B",
           "#00cc96",
           "#ab63fa",
           "#FFA15A",
           "#19d3f3",
           "#FF6692",
           "#B6E880",
           "#FF97FF",
           "#FECB52"
          ],
          "font": {
           "color": "#2a3f5f"
          },
          "geo": {
           "bgcolor": "white",
           "lakecolor": "white",
           "landcolor": "#E5ECF6",
           "showlakes": true,
           "showland": true,
           "subunitcolor": "white"
          },
          "hoverlabel": {
           "align": "left"
          },
          "hovermode": "closest",
          "mapbox": {
           "style": "light"
          },
          "paper_bgcolor": "white",
          "plot_bgcolor": "#E5ECF6",
          "polar": {
           "angularaxis": {
            "gridcolor": "white",
            "linecolor": "white",
            "ticks": ""
           },
           "bgcolor": "#E5ECF6",
           "radialaxis": {
            "gridcolor": "white",
            "linecolor": "white",
            "ticks": ""
           }
          },
          "scene": {
           "xaxis": {
            "backgroundcolor": "#E5ECF6",
            "gridcolor": "white",
            "gridwidth": 2,
            "linecolor": "white",
            "showbackground": true,
            "ticks": "",
            "zerolinecolor": "white"
           },
           "yaxis": {
            "backgroundcolor": "#E5ECF6",
            "gridcolor": "white",
            "gridwidth": 2,
            "linecolor": "white",
            "showbackground": true,
            "ticks": "",
            "zerolinecolor": "white"
           },
           "zaxis": {
            "backgroundcolor": "#E5ECF6",
            "gridcolor": "white",
            "gridwidth": 2,
            "linecolor": "white",
            "showbackground": true,
            "ticks": "",
            "zerolinecolor": "white"
           }
          },
          "shapedefaults": {
           "line": {
            "color": "#2a3f5f"
           }
          },
          "ternary": {
           "aaxis": {
            "gridcolor": "white",
            "linecolor": "white",
            "ticks": ""
           },
           "baxis": {
            "gridcolor": "white",
            "linecolor": "white",
            "ticks": ""
           },
           "bgcolor": "#E5ECF6",
           "caxis": {
            "gridcolor": "white",
            "linecolor": "white",
            "ticks": ""
           }
          },
          "title": {
           "x": 0.05
          },
          "xaxis": {
           "automargin": true,
           "gridcolor": "white",
           "linecolor": "white",
           "ticks": "",
           "title": {
            "standoff": 15
           },
           "zerolinecolor": "white",
           "zerolinewidth": 2
          },
          "yaxis": {
           "automargin": true,
           "gridcolor": "white",
           "linecolor": "white",
           "ticks": "",
           "title": {
            "standoff": 15
           },
           "zerolinecolor": "white",
           "zerolinewidth": 2
          }
         }
        },
        "title": {
         "text": " "
        },
        "width": 1000,
        "xaxis": {
         "anchor": "y",
         "domain": [
          0,
          0.45
         ],
         "title": {
          "text": "Years"
         }
        },
        "xaxis2": {
         "anchor": "y2",
         "domain": [
          0.55,
          1
         ],
         "title": {
          "text": "Years"
         }
        },
        "yaxis": {
         "anchor": "x",
         "domain": [
          0,
          1
         ],
         "title": {
          "text": "[ ]"
         }
        },
        "yaxis2": {
         "anchor": "x2",
         "domain": [
          0,
          1
         ],
         "title": {
          "text": "[ ]"
         }
        }
       }
      },
      "text/html": [
       "<div>\n",
       "        \n",
       "        \n",
       "            <div id=\"17c74daf-8f00-4f6b-9650-21cc950729a0\" class=\"plotly-graph-div\" style=\"height:500px; width:1000px;\"></div>\n",
       "            <script type=\"text/javascript\">\n",
       "                require([\"plotly\"], function(Plotly) {\n",
       "                    window.PLOTLYENV=window.PLOTLYENV || {};\n",
       "                    \n",
       "                if (document.getElementById(\"17c74daf-8f00-4f6b-9650-21cc950729a0\")) {\n",
       "                    Plotly.newPlot(\n",
       "                        '17c74daf-8f00-4f6b-9650-21cc950729a0',\n",
       "                        [{\"opacity\": 0.8, \"type\": \"scatter\", \"x\": [1980, 1981, 1982, 1983, 1984, 1985, 1986, 1987, 1988, 1989, 1990, 1991, 1992, 1993, 1994, 1995, 1996, 1997, 1998, 1999, 2000, 2001, 2002, 2003, 2004, 2005], \"xaxis\": \"x\", \"y\": [-0.15138833388718026, -0.7284776019683573, -1.4559201596699276, -1.9356529982089579, -1.825415265893959, -1.7934971625636944, -1.8140151866242695, -1.5275739695507164, -1.362403826856116, -1.1128620664708935, -0.9345006100422883, -0.6126603918040407, -0.6381545444843595, -0.7569014295256931, -0.18450874345364762, -0.04085266752807983, 0.5881477252938029, 0.46058626920095425, 0.7629425860104738, 0.508980188284462, 0.7237186838011522, 0.620005095456889, 0.65862635634981, 1.1346115145160671, 1.1389740904636352, 1.041620694571945], \"yaxis\": \"y\"}, {\"opacity\": 0.8, \"type\": \"scatter\", \"x\": [2005, 2006, 2007, 2008, 2009, 2010, 2011, 2012, 2013, 2014, 2015, 2016, 2017, 2018], \"xaxis\": \"x\", \"y\": [1.041620694571945, 0.9188452109013812, 0.8704977643596863, 1.4076216194617113, 0.5963644540534072, 1.5842121127987692, 0.5720844062860543, 0.39699230215131787, 0.6063421019541726, 0.0033635178054624852, 0.5018399136979781, 0.5367505829599769, 0.5089663440949119, 0.7326914240582879], \"yaxis\": \"y\"}, {\"opacity\": 0.8, \"type\": \"scatter\", \"x\": [1980, 1981, 1982, 1983, 1984, 1985, 1986, 1987, 1988, 1989, 1990, 1991, 1992, 1993, 1994, 1995, 1996, 1997, 1998, 1999, 2000, 2001, 2002, 2003, 2004, 2005], \"xaxis\": \"x2\", \"y\": [-0.23558064591448194, -0.985234875840514, -2.278760749616277, -2.5909418594524163, -2.5207307778349675, -2.266594363639732, -2.3628595455423596, -1.5662501732860423, -1.3571809267288308, -0.9633142813646314, -0.7573625843782719, -0.5217541843366723, -0.46228360054348744, -0.5050567274383425, -0.09538164128434856, -0.015255682959765015, 0.1491331437262031, 0.0708927657807323, 0.08847810174693645, 0.016886963871913272, -0.008589457577569723, 0.07174443022547419, -0.24101911400148443, -0.44711147325799944, -0.5413513398816092, -0.627453892558899], \"yaxis\": \"y2\"}, {\"opacity\": 0.8, \"type\": \"scatter\", \"x\": [2005, 2006, 2007, 2008, 2009, 2010, 2011, 2012, 2013, 2014, 2015, 2016, 2017, 2018], \"xaxis\": \"x2\", \"y\": [-0.627453892558899, -0.6262908366172518, -0.8089013669976342, -1.5126107857438091, -0.6386822197999087, -1.8870248996731538, -0.7556427241179805, -0.4958076533823227, -0.7737746997147945, -0.004489298673374201, -0.6354655814849682, -0.7187566665902273, -0.7188352873451498, -0.9288458027247675], \"yaxis\": \"y2\"}],\n",
       "                        {\"annotations\": [{\"font\": {\"size\": 16}, \"showarrow\": false, \"text\": \"Consumption of fossil energy\", \"x\": 0.225, \"xanchor\": \"center\", \"xref\": \"paper\", \"y\": 1.0, \"yanchor\": \"bottom\", \"yref\": \"paper\"}, {\"font\": {\"size\": 16}, \"showarrow\": false, \"text\": \"Emission of CO2 due to fossil energy\", \"x\": 0.775, \"xanchor\": \"center\", \"xref\": \"paper\", \"y\": 1.0, \"yanchor\": \"bottom\", \"yref\": \"paper\"}], \"height\": 500, \"showlegend\": false, \"template\": {\"data\": {\"bar\": [{\"error_x\": {\"color\": \"#2a3f5f\"}, \"error_y\": {\"color\": \"#2a3f5f\"}, \"marker\": {\"line\": {\"color\": \"#E5ECF6\", \"width\": 0.5}}, \"type\": \"bar\"}], \"barpolar\": [{\"marker\": {\"line\": {\"color\": \"#E5ECF6\", \"width\": 0.5}}, \"type\": \"barpolar\"}], \"carpet\": [{\"aaxis\": {\"endlinecolor\": \"#2a3f5f\", \"gridcolor\": \"white\", \"linecolor\": \"white\", \"minorgridcolor\": \"white\", \"startlinecolor\": \"#2a3f5f\"}, \"baxis\": {\"endlinecolor\": \"#2a3f5f\", \"gridcolor\": \"white\", \"linecolor\": \"white\", \"minorgridcolor\": \"white\", \"startlinecolor\": \"#2a3f5f\"}, \"type\": \"carpet\"}], \"choropleth\": [{\"colorbar\": {\"outlinewidth\": 0, \"ticks\": \"\"}, \"type\": \"choropleth\"}], \"contour\": [{\"colorbar\": {\"outlinewidth\": 0, \"ticks\": \"\"}, \"colorscale\": [[0.0, \"#0d0887\"], [0.1111111111111111, \"#46039f\"], [0.2222222222222222, \"#7201a8\"], [0.3333333333333333, \"#9c179e\"], [0.4444444444444444, \"#bd3786\"], [0.5555555555555556, \"#d8576b\"], [0.6666666666666666, \"#ed7953\"], [0.7777777777777778, \"#fb9f3a\"], [0.8888888888888888, \"#fdca26\"], [1.0, \"#f0f921\"]], \"type\": \"contour\"}], \"contourcarpet\": [{\"colorbar\": {\"outlinewidth\": 0, \"ticks\": \"\"}, \"type\": \"contourcarpet\"}], \"heatmap\": [{\"colorbar\": {\"outlinewidth\": 0, \"ticks\": \"\"}, \"colorscale\": [[0.0, \"#0d0887\"], [0.1111111111111111, \"#46039f\"], [0.2222222222222222, \"#7201a8\"], [0.3333333333333333, \"#9c179e\"], [0.4444444444444444, \"#bd3786\"], [0.5555555555555556, \"#d8576b\"], [0.6666666666666666, \"#ed7953\"], [0.7777777777777778, \"#fb9f3a\"], [0.8888888888888888, \"#fdca26\"], [1.0, \"#f0f921\"]], \"type\": \"heatmap\"}], \"heatmapgl\": [{\"colorbar\": {\"outlinewidth\": 0, \"ticks\": \"\"}, \"colorscale\": [[0.0, \"#0d0887\"], [0.1111111111111111, \"#46039f\"], [0.2222222222222222, \"#7201a8\"], [0.3333333333333333, \"#9c179e\"], [0.4444444444444444, \"#bd3786\"], [0.5555555555555556, \"#d8576b\"], [0.6666666666666666, \"#ed7953\"], [0.7777777777777778, \"#fb9f3a\"], [0.8888888888888888, \"#fdca26\"], [1.0, \"#f0f921\"]], \"type\": \"heatmapgl\"}], \"histogram\": [{\"marker\": {\"colorbar\": {\"outlinewidth\": 0, \"ticks\": \"\"}}, \"type\": \"histogram\"}], \"histogram2d\": [{\"colorbar\": {\"outlinewidth\": 0, \"ticks\": \"\"}, \"colorscale\": [[0.0, \"#0d0887\"], [0.1111111111111111, \"#46039f\"], [0.2222222222222222, \"#7201a8\"], [0.3333333333333333, \"#9c179e\"], [0.4444444444444444, \"#bd3786\"], [0.5555555555555556, \"#d8576b\"], [0.6666666666666666, \"#ed7953\"], [0.7777777777777778, \"#fb9f3a\"], [0.8888888888888888, \"#fdca26\"], [1.0, \"#f0f921\"]], \"type\": \"histogram2d\"}], \"histogram2dcontour\": [{\"colorbar\": {\"outlinewidth\": 0, \"ticks\": \"\"}, \"colorscale\": [[0.0, \"#0d0887\"], [0.1111111111111111, \"#46039f\"], [0.2222222222222222, \"#7201a8\"], [0.3333333333333333, \"#9c179e\"], [0.4444444444444444, \"#bd3786\"], [0.5555555555555556, \"#d8576b\"], [0.6666666666666666, \"#ed7953\"], [0.7777777777777778, \"#fb9f3a\"], [0.8888888888888888, \"#fdca26\"], [1.0, \"#f0f921\"]], \"type\": \"histogram2dcontour\"}], \"mesh3d\": [{\"colorbar\": {\"outlinewidth\": 0, \"ticks\": \"\"}, \"type\": \"mesh3d\"}], \"parcoords\": [{\"line\": {\"colorbar\": {\"outlinewidth\": 0, \"ticks\": \"\"}}, \"type\": \"parcoords\"}], \"pie\": [{\"automargin\": true, \"type\": \"pie\"}], \"scatter\": [{\"marker\": {\"colorbar\": {\"outlinewidth\": 0, \"ticks\": \"\"}}, \"type\": \"scatter\"}], \"scatter3d\": [{\"line\": {\"colorbar\": {\"outlinewidth\": 0, \"ticks\": \"\"}}, \"marker\": {\"colorbar\": {\"outlinewidth\": 0, \"ticks\": \"\"}}, \"type\": \"scatter3d\"}], \"scattercarpet\": [{\"marker\": {\"colorbar\": {\"outlinewidth\": 0, \"ticks\": \"\"}}, \"type\": \"scattercarpet\"}], \"scattergeo\": [{\"marker\": {\"colorbar\": {\"outlinewidth\": 0, \"ticks\": \"\"}}, \"type\": \"scattergeo\"}], \"scattergl\": [{\"marker\": {\"colorbar\": {\"outlinewidth\": 0, \"ticks\": \"\"}}, \"type\": \"scattergl\"}], \"scattermapbox\": [{\"marker\": {\"colorbar\": {\"outlinewidth\": 0, \"ticks\": \"\"}}, \"type\": \"scattermapbox\"}], \"scatterpolar\": [{\"marker\": {\"colorbar\": {\"outlinewidth\": 0, \"ticks\": \"\"}}, \"type\": \"scatterpolar\"}], \"scatterpolargl\": [{\"marker\": {\"colorbar\": {\"outlinewidth\": 0, \"ticks\": \"\"}}, \"type\": \"scatterpolargl\"}], \"scatterternary\": [{\"marker\": {\"colorbar\": {\"outlinewidth\": 0, \"ticks\": \"\"}}, \"type\": \"scatterternary\"}], \"surface\": [{\"colorbar\": {\"outlinewidth\": 0, \"ticks\": \"\"}, \"colorscale\": [[0.0, \"#0d0887\"], [0.1111111111111111, \"#46039f\"], [0.2222222222222222, \"#7201a8\"], [0.3333333333333333, \"#9c179e\"], [0.4444444444444444, \"#bd3786\"], [0.5555555555555556, \"#d8576b\"], [0.6666666666666666, \"#ed7953\"], [0.7777777777777778, \"#fb9f3a\"], [0.8888888888888888, \"#fdca26\"], [1.0, \"#f0f921\"]], \"type\": \"surface\"}], \"table\": [{\"cells\": {\"fill\": {\"color\": \"#EBF0F8\"}, \"line\": {\"color\": \"white\"}}, \"header\": {\"fill\": {\"color\": \"#C8D4E3\"}, \"line\": {\"color\": \"white\"}}, \"type\": \"table\"}]}, \"layout\": {\"annotationdefaults\": {\"arrowcolor\": \"#2a3f5f\", \"arrowhead\": 0, \"arrowwidth\": 1}, \"coloraxis\": {\"colorbar\": {\"outlinewidth\": 0, \"ticks\": \"\"}}, \"colorscale\": {\"diverging\": [[0, \"#8e0152\"], [0.1, \"#c51b7d\"], [0.2, \"#de77ae\"], [0.3, \"#f1b6da\"], [0.4, \"#fde0ef\"], [0.5, \"#f7f7f7\"], [0.6, \"#e6f5d0\"], [0.7, \"#b8e186\"], [0.8, \"#7fbc41\"], [0.9, \"#4d9221\"], [1, \"#276419\"]], \"sequential\": [[0.0, \"#0d0887\"], [0.1111111111111111, \"#46039f\"], [0.2222222222222222, \"#7201a8\"], [0.3333333333333333, \"#9c179e\"], [0.4444444444444444, \"#bd3786\"], [0.5555555555555556, \"#d8576b\"], [0.6666666666666666, \"#ed7953\"], [0.7777777777777778, \"#fb9f3a\"], [0.8888888888888888, \"#fdca26\"], [1.0, \"#f0f921\"]], \"sequentialminus\": [[0.0, \"#0d0887\"], [0.1111111111111111, \"#46039f\"], [0.2222222222222222, \"#7201a8\"], [0.3333333333333333, \"#9c179e\"], [0.4444444444444444, \"#bd3786\"], [0.5555555555555556, \"#d8576b\"], [0.6666666666666666, \"#ed7953\"], [0.7777777777777778, \"#fb9f3a\"], [0.8888888888888888, \"#fdca26\"], [1.0, \"#f0f921\"]]}, \"colorway\": [\"#636efa\", \"#EF553B\", \"#00cc96\", \"#ab63fa\", \"#FFA15A\", \"#19d3f3\", \"#FF6692\", \"#B6E880\", \"#FF97FF\", \"#FECB52\"], \"font\": {\"color\": \"#2a3f5f\"}, \"geo\": {\"bgcolor\": \"white\", \"lakecolor\": \"white\", \"landcolor\": \"#E5ECF6\", \"showlakes\": true, \"showland\": true, \"subunitcolor\": \"white\"}, \"hoverlabel\": {\"align\": \"left\"}, \"hovermode\": \"closest\", \"mapbox\": {\"style\": \"light\"}, \"paper_bgcolor\": \"white\", \"plot_bgcolor\": \"#E5ECF6\", \"polar\": {\"angularaxis\": {\"gridcolor\": \"white\", \"linecolor\": \"white\", \"ticks\": \"\"}, \"bgcolor\": \"#E5ECF6\", \"radialaxis\": {\"gridcolor\": \"white\", \"linecolor\": \"white\", \"ticks\": \"\"}}, \"scene\": {\"xaxis\": {\"backgroundcolor\": \"#E5ECF6\", \"gridcolor\": \"white\", \"gridwidth\": 2, \"linecolor\": \"white\", \"showbackground\": true, \"ticks\": \"\", \"zerolinecolor\": \"white\"}, \"yaxis\": {\"backgroundcolor\": \"#E5ECF6\", \"gridcolor\": \"white\", \"gridwidth\": 2, \"linecolor\": \"white\", \"showbackground\": true, \"ticks\": \"\", \"zerolinecolor\": \"white\"}, \"zaxis\": {\"backgroundcolor\": \"#E5ECF6\", \"gridcolor\": \"white\", \"gridwidth\": 2, \"linecolor\": \"white\", \"showbackground\": true, \"ticks\": \"\", \"zerolinecolor\": \"white\"}}, \"shapedefaults\": {\"line\": {\"color\": \"#2a3f5f\"}}, \"ternary\": {\"aaxis\": {\"gridcolor\": \"white\", \"linecolor\": \"white\", \"ticks\": \"\"}, \"baxis\": {\"gridcolor\": \"white\", \"linecolor\": \"white\", \"ticks\": \"\"}, \"bgcolor\": \"#E5ECF6\", \"caxis\": {\"gridcolor\": \"white\", \"linecolor\": \"white\", \"ticks\": \"\"}}, \"title\": {\"x\": 0.05}, \"xaxis\": {\"automargin\": true, \"gridcolor\": \"white\", \"linecolor\": \"white\", \"ticks\": \"\", \"title\": {\"standoff\": 15}, \"zerolinecolor\": \"white\", \"zerolinewidth\": 2}, \"yaxis\": {\"automargin\": true, \"gridcolor\": \"white\", \"linecolor\": \"white\", \"ticks\": \"\", \"title\": {\"standoff\": 15}, \"zerolinecolor\": \"white\", \"zerolinewidth\": 2}}}, \"title\": {\"text\": \" \"}, \"width\": 1000, \"xaxis\": {\"anchor\": \"y\", \"domain\": [0.0, 0.45], \"title\": {\"text\": \"Years\"}}, \"xaxis2\": {\"anchor\": \"y2\", \"domain\": [0.55, 1.0], \"title\": {\"text\": \"Years\"}}, \"yaxis\": {\"anchor\": \"x\", \"domain\": [0.0, 1.0], \"title\": {\"text\": \"[ ]\"}}, \"yaxis2\": {\"anchor\": \"x2\", \"domain\": [0.0, 1.0], \"title\": {\"text\": \"[ ]\"}}},\n",
       "                        {\"responsive\": true}\n",
       "                    ).then(function(){\n",
       "                            \n",
       "var gd = document.getElementById('17c74daf-8f00-4f6b-9650-21cc950729a0');\n",
       "var x = new MutationObserver(function (mutations, observer) {{\n",
       "        var display = window.getComputedStyle(gd).display;\n",
       "        if (!display || display === 'none') {{\n",
       "            console.log([gd, 'removed!']);\n",
       "            Plotly.purge(gd);\n",
       "            observer.disconnect();\n",
       "        }}\n",
       "}});\n",
       "\n",
       "// Listen for the removal of the full notebook cells\n",
       "var notebookContainer = gd.closest('#notebook-container');\n",
       "if (notebookContainer) {{\n",
       "    x.observe(notebookContainer, {childList: true});\n",
       "}}\n",
       "\n",
       "// Listen for the clearing of the current output cell\n",
       "var outputEl = gd.closest('.output');\n",
       "if (outputEl) {{\n",
       "    x.observe(outputEl, {childList: true});\n",
       "}}\n",
       "\n",
       "                        })\n",
       "                };\n",
       "                });\n",
       "            </script>\n",
       "        </div>"
      ]
     },
     "metadata": {},
     "output_type": "display_data"
    }
   ],
   "source": [
    "file_name = '/home/cj/Bureau/Master2/big-data/03_MILESTONES/belgium_information.csv'  \n",
    "years, data1, names1, x1_name, y1_name = get_data(file_name, 'Years')\n",
    "\n",
    "file_name = '/home/cj/Bureau/Master2/big-data/03_MILESTONES/belgium_information.csv'  \n",
    "years, data2, names2, x2_name, y2_name = get_data(file_name, ['Years', 'fossil consumption'])\n",
    "\n",
    "compare_models_plot(data1, y1_name, x1_name) # PLOT\n",
    "\n",
    "dict_var = var_after_scenario(data, names2, years, pop_sce=3, show=False)\n",
    "# scenario algorithm have to be mofified !\n",
    "\n",
    "model_CO2 = CO2_consumption_model(data1, y1_name, x1_name, \"kr\")\n",
    "input_data = input_predictive_var(names2, dict_var)\n",
    "data_cons, data_emi = consumption_emission_CO2(model_CO2, input_data, data1)\n",
    "\n",
    "\n",
    "show_consumption_emission(data_cons, data_emi)\n",
    "\n",
    "# OBSERVATIONS -> INVERSION !!!!"
   ]
  },
  {
   "cell_type": "markdown",
   "metadata": {},
   "source": [
    "# Comments #"
   ]
  },
  {
   "cell_type": "markdown",
   "metadata": {},
   "source": [
    "- Every model that lead to an increase of the carbon is a bad model or bad choice variables !\n",
    "- An increase of the population cannot lead to an over-enrichment of the population\n",
    "- A too important decrease of the primary intensity is not acceptable either. \n",
    "- An augmentation of the population cannot lead to a decrease of the nuclear consumption neither the renewable energy\n",
    "- One conclusion could be to delete the renewable variable because of the lack of data .."
   ]
  },
  {
   "cell_type": "markdown",
   "metadata": {},
   "source": [
    "## TODO and done ##\n",
    "- kernel based regression -> to be understood !\n",
    "- for now just work with poly 4 \n",
    "- pca ? on peut le faire dans le sens des variables apportant le plus de variabilité !!!\n",
    "- ou alors pour chaque variable on regarde quel variable est le plus atteint par une modification de celle-ci, puis on reprend cette variable choisie et on fait de même ainsi de suite. Je pense que celà peut etre fait avec PCA justement. OU TU PEUX TOUT SIMPLEMENT REGARDER LA MATRICE DE CORRELATION (UNE DES DEUX)\n",
    "- validation and testing set ! The BIC choice has to be made on the testing set ..\n",
    "- arima model on consumption in order to verify -> second milestone will be better\n",
    "- say everything I done in the report\n",
    "- we will have to choose which model to take for each variables.\n",
    "- understand kr !\n",
    "- mettre un terme d'erreur qui evolue en fonction du temps pour le forecast\n",
    "- sliding window..\n",
    "- courbe choisie curseur compare a courbe modofifée par les interactions \n",
    "- le model ne peut pas aller en dessous de 0 ..\n",
    "- essayez de travailler avec des données non scaled aussi .. "
   ]
  }
 ],
 "metadata": {
  "kernelspec": {
   "display_name": "Python 3.7.4 64-bit ('rstudio': conda)",
   "language": "python",
   "name": "python37464bitrstudioconda85139be567af4fb89143852fd1a4ee46"
  },
  "language_info": {
   "codemirror_mode": {
    "name": "ipython",
    "version": 3
   },
   "file_extension": ".py",
   "mimetype": "text/x-python",
   "name": "python",
   "nbconvert_exporter": "python",
   "pygments_lexer": "ipython3",
   "version": "3.7.4"
  }
 },
 "nbformat": 4,
 "nbformat_minor": 2
}
