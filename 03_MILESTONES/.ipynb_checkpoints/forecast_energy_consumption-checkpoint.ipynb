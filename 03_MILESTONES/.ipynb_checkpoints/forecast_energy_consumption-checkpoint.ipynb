{
 "cells": [
  {
   "cell_type": "code",
   "execution_count": null,
   "metadata": {},
   "outputs": [],
   "source": [
    "!pip install cufflinks plotly"
   ]
  },
  {
   "cell_type": "code",
   "execution_count": null,
   "metadata": {},
   "outputs": [],
   "source": [
    "import pandas as pd\n",
    "import plotly.graph_objects as go\n",
    "\n",
    "file_name = 'belgium_information.csv' \n",
    "bel_info = pd.read_csv(file_name)\n",
    "bel_info.tail()"
   ]
  },
  {
   "cell_type": "code",
   "execution_count": null,
   "metadata": {},
   "outputs": [],
   "source": [
    "\n",
    "plotly.offline.init_notebook_mode(connected=True)\n",
    "\n",
    "fig = go.Figure()\n",
    "fig.add_trace(go.Scatter(\n",
    "                x=bel_info['Years'],\n",
    "                y=bel_info['fossil consumption'],\n",
    "                name=\"Fossil energy consumption\",\n",
    "                opacity=0.8))\n",
    "\n",
    "fig.add_trace(go.Scatter(\n",
    "                x=bel_info['Years'],\n",
    "                y=bel_info['renewable consumption'],\n",
    "                name=\"Renewable energy consumption\",\n",
    "                opacity=0.8))\n",
    "\n",
    "fig.add_trace(go.Scatter(\n",
    "                x=bel_info['Years'],\n",
    "                y=bel_info['nuclear consumption'],\n",
    "                name=\"Nuclear energy consumption\",\n",
    "                opacity=0.8))\n",
    "\n",
    "# Use date string to set xaxis range\n",
    "fig.update_layout(title_text=\"Primary energy consumption\")\n",
    "\n",
    "fig.update_xaxes(title_text=\"Years\")\n",
    "fig.update_yaxes(title_text=\"Energy consumption[Mtoe]\"),\n",
    "\n",
    "fig.show()\n"
   ]
  },
  {
   "cell_type": "code",
   "execution_count": null,
   "metadata": {},
   "outputs": [],
   "source": [
    "file_name = 'energy_emission_bel.csv' \n",
    "bel_emi = pd.read_csv(file_name)\n",
    "bel_emi.tail()"
   ]
  },
  {
   "cell_type": "code",
   "execution_count": null,
   "metadata": {},
   "outputs": [],
   "source": [
    "fig = go.Figure()\n",
    "fig.add_trace(go.Scatter(\n",
    "                x=bel_emi['Years'],\n",
    "                y=bel_emi['CO2 fossil'],\n",
    "                name=\"CO2 emission of Fossil energy\",\n",
    "                opacity=0.8))\n",
    "\n",
    "fig.add_trace(go.Scatter(\n",
    "                x=bel_emi['Years'],\n",
    "                y=bel_emi['CO2 renewable'],\n",
    "                name=\"CO2 emission of renewable energy\",\n",
    "                opacity=0.8))\n",
    "\n",
    "fig.add_trace(go.Scatter(\n",
    "                x=bel_emi['Years'],\n",
    "                y=bel_emi['CO2 nuclear'],\n",
    "                name=\"CO2 emission nuclear energy\",\n",
    "                opacity=0.8))\n",
    "\n",
    "# Use date string to set xaxis range\n",
    "fig.update_layout(title_text=\"CO2 emission of primary energy\")\n",
    "\n",
    "fig.update_xaxes(title_text=\"Years\")\n",
    "fig.update_yaxes(title_text=\"CO2 emission [Mt CO2]\"),\n",
    "\n",
    "fig.show()"
   ]
  },
  {
   "cell_type": "code",
   "execution_count": null,
   "metadata": {},
   "outputs": [],
   "source": [
    "months = ['Fossil energy', 'Renewable energy', 'Nuclear energy']\n",
    "\n",
    "fig = go.Figure()\n",
    "fig.add_trace(go.Bar(\n",
    "    x=months,\n",
    "    y=[bel_emi['CO2 fossil'][38],\n",
    "       bel_emi['CO2 renewable'][38],\n",
    "       bel_emi['CO2 nuclear'][38]],\n",
    "    name=\"Consumption of energy [Mtoe]\"\n",
    "))\n",
    "\n",
    "fig.add_trace(go.Bar(\n",
    "    x=months,\n",
    "    y=[bel_info['fossil consumption'][38],\n",
    "       bel_info['renewable consumption'][38],\n",
    "       bel_info['nuclear consumption'][38]],\n",
    "    name=\"CO2 emission of energy [Mt CO2]\"\n",
    "))\n",
    "\n",
    "# Here we modify the tickangle of the xaxis, resulting in rotated labels.\n",
    "fig.update_layout(barmode='group',\n",
    "                  xaxis_tickangle=-45, title_text=\"Consumption and CO2 emission of primary energy in 2018\")\n",
    "fig.show()"
   ]
  },
  {
   "cell_type": "markdown",
   "metadata": {},
   "source": [
    "### Scatter plot ###\n",
    "Also go see R code"
   ]
  },
  {
   "cell_type": "code",
   "execution_count": null,
   "metadata": {},
   "outputs": [],
   "source": [
    "bel_info = bel_info.drop(\"Years\", axis=1)"
   ]
  },
  {
   "cell_type": "code",
   "execution_count": null,
   "metadata": {},
   "outputs": [],
   "source": [
    "# library & dataset\n",
    "import matplotlib.pyplot as plt\n",
    "import seaborn as sns\n",
    " \n",
    "# left\n",
    "sns.pairplot(bel_info, kind=\"scatter\", palette=\"Set2\")\n",
    "plt.show()\n",
    " \n",
    "# right: you can give other arguments with plot_kws.\n",
    "sns.pairplot(bel_info, kind=\"scatter\", plot_kws=dict(s=80, edgecolor=\"white\", linewidth=2.5))\n",
    "plt.show()"
   ]
  },
  {
   "cell_type": "code",
   "execution_count": null,
   "metadata": {},
   "outputs": [],
   "source": [
    "from matplotlib import pyplot\n",
    "import numpy as np\n",
    "from sklearn.preprocessing import StandardScaler\n",
    "from sklearn import preprocessing\n",
    "from sklearn.linear_model import LinearRegression\n",
    "\n",
    "# Create linear regression object.\n",
    "mlr= LinearRegression()\n",
    "\n",
    "data = bel_info.to_numpy()\n",
    "\n",
    "x_train = data[:,0:6]\n",
    "y_train = data[:,6:7]\n",
    "\n",
    "# Fit linear regression.\n",
    "mlr.fit(x_train, y_train)\n",
    "\n",
    "# Get the slope and intercept of the line best fit.\n",
    "print(mlr.intercept_)\n",
    "# \n",
    "print(mlr.coef_)\n",
    "#\n",
    "predicted = mlr.predict(x_train)"
   ]
  },
  {
   "cell_type": "markdown",
   "metadata": {},
   "source": [
    "#### Last coefficient is equal to zero !! Renewable energy has no impact on the consumption of co2 energy, which is normal looking to the dataset we have####"
   ]
  },
  {
   "cell_type": "code",
   "execution_count": null,
   "metadata": {},
   "outputs": [],
   "source": [
    "y_train = np.resize(data[:,6:7], (1,len(predicted)))[0]\n",
    "y_train = pd.Series(y_train)\n",
    "predicted = np.resize(predicted, (1,len(predicted)))[0]\n",
    "predict = pd.Series(predicted)"
   ]
  },
  {
   "cell_type": "code",
   "execution_count": null,
   "metadata": {},
   "outputs": [],
   "source": [
    "fig = go.Figure()\n",
    "fig.add_trace(go.Scatter(\n",
    "                x=bel_emi['Years'],\n",
    "                y=predicted,\n",
    "                name=\"Fitted (with least square regression)\",\n",
    "                opacity=0.8))\n",
    "\n",
    "fig.add_trace(go.Scatter(\n",
    "                x=bel_emi['Years'],\n",
    "                y=y_train,\n",
    "                name=\"Real\",\n",
    "                opacity=0.8))\n",
    "\n",
    "\n",
    "# Use date string to set xaxis range\n",
    "fig.update_layout(title_text=\"Consumption of fossil energy\")\n",
    "                  \n",
    "\n",
    "fig.update_xaxes(title_text=\"Years\")\n",
    "fig.update_yaxes(title_text=\"Consumption [Mtoe]\"),\n",
    "\n",
    "fig.show()"
   ]
  },
  {
   "cell_type": "code",
   "execution_count": null,
   "metadata": {},
   "outputs": [],
   "source": [
    "plt.plot(y_train, predicted, 'o')\n",
    "\n",
    "m, b = np.polyfit(y_train, predicted, 1)\n",
    "\n",
    "plt.plot(y_train, m*y_train + b)"
   ]
  },
  {
   "cell_type": "code",
   "execution_count": null,
   "metadata": {},
   "outputs": [],
   "source": []
  },
  {
   "cell_type": "markdown",
   "metadata": {},
   "source": [
    "#### Scenario based forecasting (AR) for each variable  ####"
   ]
  },
  {
   "cell_type": "markdown",
   "metadata": {},
   "source": [
    "1. PLOT all the variable \n",
    "2. You can either use simple methods (AR,etc) to predict the behaviour\n",
    "3. You can choose a scenario (value for each variable)\n",
    "Read this it might be important !! https://otexts.com/fpp2/forecasting-regression.html"
   ]
  },
  {
   "cell_type": "code",
   "execution_count": null,
   "metadata": {},
   "outputs": [],
   "source": [
    "from plotly.subplots import make_subplots\n",
    "import plotly.graph_objects as go\n",
    "\n",
    "years = list()\n",
    "for i in range(39) : years.append(1980+i)\n",
    "\n",
    "# Initialize figure with subplots\n",
    "fig = make_subplots(\n",
    "    rows=3, cols=3, subplot_titles=(\"Belgian population\", \"Belgian gdp per capita\",\n",
    "                                    \"Belgian carbon intensity of fossil energy\",\n",
    "                                    \"Belgian primary energy intensity\",\n",
    "                                    \"Nuclear energy consumption\",\n",
    "                                    \"Renewable energy consumption\",\n",
    "                                    \"\", \"Fossil energy consumption\"\n",
    "                                    )\n",
    ")\n",
    "\n",
    "\n",
    "# Add traces\n",
    "fig.add_trace(go.Scatter(x=years, y=bel_info['population']), row=1, col=1)\n",
    "fig.add_trace(go.Scatter(x=years, y=bel_info['gdp per capita']), row=1, col=2)\n",
    "fig.add_trace(go.Scatter(x=years, y=bel_info['Carbon intensity of fossil energy']), row=1, col=3)\n",
    "fig.add_trace(go.Scatter(x=years, y=bel_info['primary intensity']), row=2, col=1)\n",
    "fig.add_trace(go.Scatter(x=years, y=bel_info['nuclear consumption']), row=2, col=2)\n",
    "fig.add_trace(go.Scatter(x=years, y=bel_info['renewable consumption']), row=2, col=3)\n",
    "fig.add_trace(go.Scatter(x=years, y=bel_info['fossil consumption']), row=3, col=2)\n",
    "\n",
    "# Update xaxis properties\n",
    "fig.update_xaxes(title_text=\"Years\", row=1, col=1)\n",
    "fig.update_xaxes(title_text=\"Years\", row=1, col=2)\n",
    "fig.update_xaxes(title_text=\"Years\", row=1, col=3)\n",
    "fig.update_xaxes(title_text=\"Years\", row=2, col=1)\n",
    "fig.update_xaxes(title_text=\"Years\", row=2, col=2)\n",
    "fig.update_xaxes(title_text=\"Years\", row=2, col=3)\n",
    "fig.update_xaxes(title_text=\"Years\", row=3, col=2)\n",
    "\n",
    "\"\"\"\n",
    "# Update yaxis properties\n",
    "fig.update_yaxes(title_text=\"Population\", row=1, col=1)\n",
    "fig.update_yaxes(title_text=\"Gdp per capita\", row=1, col=2)\n",
    "fig.update_yaxes(title_text=\"Carbon intensity of fossil energy\", row=1, col=3)\n",
    "fig.update_yaxes(title_text=\"Primary energy intensity\", row=2, col=1)\n",
    "\"\"\"\n",
    "fig.update_yaxes(title_text=\"Mtoe\", row=2, col=2)\n",
    "fig.update_yaxes(title_text=\"Mtoe\", row=2, col=3)\n",
    "fig.update_yaxes(title_text=\"Mtoe\", row=3, col=2)\n",
    "\n",
    "\n",
    "# Update title and height\n",
    "fig.update_layout(title_text=\"\", height=800, width=1000, showlegend=False)\n",
    "\n",
    "fig.show()"
   ]
  },
  {
   "cell_type": "code",
   "execution_count": null,
   "metadata": {},
   "outputs": [],
   "source": [
    "# Analyser les coefs de la regression avec les graphs !!"
   ]
  },
  {
   "cell_type": "code",
   "execution_count": null,
   "metadata": {},
   "outputs": [],
   "source": [
    "fig = go.Figure()\n",
    "fig.add_trace(go.Scatter(\n",
    "                x=bel_emi['Years'],\n",
    "                y=predicted,\n",
    "                name=\"Fitted (with least square regression)\",\n",
    "                opacity=0.8))\n",
    "\n",
    "fig.add_trace(go.Scatter(\n",
    "                x=bel_emi['Years'],\n",
    "                y=y_train,\n",
    "                name=\"Real\",\n",
    "                opacity=0.8))\n",
    "\n",
    "\n",
    "# Use date string to set xaxis range\n",
    "fig.update_layout(title_text=\"Consumption of fossil energy\")\n",
    "                  \n",
    "\n",
    "fig.update_xaxes(title_text=\"Years\")\n",
    "fig.update_yaxes(title_text=\"Consumption [Mtoe]\"),\n",
    "\n",
    "fig.show()"
   ]
  },
  {
   "cell_type": "markdown",
   "metadata": {},
   "source": [
    "Population : AR-MA-ARIMA model no assumption\n",
    "\n",
    "gdp : assumption -> curseur\n",
    "\n",
    "carbon intensity of fossil energy -> curseur\n",
    "\n",
    "primary energy intensity -> curseur\n",
    "\n",
    "nuclear consumption -> curseur\n",
    "\n",
    "renewable consumption -> curseur\n",
    "\n",
    "fossil consumption -> curseur"
   ]
  },
  {
   "cell_type": "code",
   "execution_count": null,
   "metadata": {},
   "outputs": [],
   "source": []
  }
 ],
 "metadata": {
  "kernelspec": {
   "display_name": "Python 3",
   "language": "python",
   "name": "python3"
  },
  "language_info": {
   "codemirror_mode": {
    "name": "ipython",
    "version": 3
   },
   "file_extension": ".py",
   "mimetype": "text/x-python",
   "name": "python",
   "nbconvert_exporter": "python",
   "pygments_lexer": "ipython3",
   "version": "3.7.0"
  }
 },
 "nbformat": 4,
 "nbformat_minor": 2
}
