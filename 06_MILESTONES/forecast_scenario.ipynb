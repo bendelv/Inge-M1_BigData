{
 "cells": [
  {
   "cell_type": "markdown",
   "metadata": {},
   "source": [
    "# Scenario based forecasting application on European Union carbon emissions from 2019 to 2030"
   ]
  },
  {
   "cell_type": "code",
   "execution_count": 1,
   "metadata": {},
   "outputs": [
    {
     "data": {
      "text/html": [
       "        <script type=\"text/javascript\">\n",
       "        window.PlotlyConfig = {MathJaxConfig: 'local'};\n",
       "        if (window.MathJax) {MathJax.Hub.Config({SVG: {font: \"STIX-Web\"}});}\n",
       "        if (typeof require !== 'undefined') {\n",
       "        require.undef(\"plotly\");\n",
       "        requirejs.config({\n",
       "            paths: {\n",
       "                'plotly': ['https://cdn.plot.ly/plotly-latest.min']\n",
       "            }\n",
       "        });\n",
       "        require(['plotly'], function(Plotly) {\n",
       "            window._Plotly = Plotly;\n",
       "        });\n",
       "        }\n",
       "        </script>\n",
       "        "
      ]
     },
     "metadata": {},
     "output_type": "display_data"
    }
   ],
   "source": [
    "import pandas as pd\n",
    "import numpy as np\n",
    "import matplotlib.pyplot as plt\n",
    "import seaborn as sns\n",
    "import random\n",
    "import pickle\n",
    "import scipy.stats\n",
    "\n",
    "import plotly.graph_objects as go\n",
    "import plotly\n",
    "from plotly.subplots import make_subplots\n",
    "plotly.offline.init_notebook_mode(connected=True)\n",
    "np.seterr(divide='ignore', invalid='ignore')\n",
    "\n",
    "import plotly.express as px\n",
    "\n",
    "\n",
    "ssp1 = ['pop_SSP1.csv', 'gdp_cap_SSP1.csv', 'EnergyIntensity_SSP1.csv',\n",
    "        'oil_SSP1.csv', 'coal_SSP1.csv', 'gas_SSP1.csv', 'total_cons_SSP1.csv']\n",
    "ssp2 = ['pop_SSP2.csv', 'gdp_cap_SSP2.csv', 'EnergyIntensity_SSP2.csv',\n",
    "        'oil_SSP2.csv', 'coal_SSP2.csv', 'gas_SSP2.csv', 'total_cons_SSP2.csv']\n",
    "ssp3 = ['pop_SSP3.csv', 'gdp_cap_SSP3.csv', 'EnergyIntensity_SSP3.csv',\n",
    "        'oil_SSP3.csv', 'coal_SSP3.csv', 'gas_SSP3.csv', 'total_cons_SSP3.csv']\n",
    "ssp4 = ['pop_SSP4.csv', 'gdp_cap_SSP4.csv', 'EnergyIntensity_SSP4.csv',\n",
    "        'oil_SSP4.csv', 'coal_SSP4.csv', 'gas_SSP4.csv', 'total_cons_SSP4.csv']\n",
    "ssp5 = ['pop_SSP5.csv', 'gdp_cap_SSP5.csv', 'EnergyIntensity_SSP5.csv',\n",
    "        'oil_SSP5.csv', 'coal_SSP5.csv', 'gas_SSP5.csv', 'total_cons_SSP5.csv']\n",
    "list_ssp = [ssp1, ssp2, ssp3, ssp4, ssp5]\n",
    "\n",
    "\n",
    "# File containing the projections (2018-2030) of the different variables \n",
    "file_proj = \"proj_values_EU28/\"\n",
    "\n",
    "# File containing the projections rates (2018-2030) of the different variables \n",
    "file_rates = \"proj_rates/\"\n",
    "\n",
    "# real projections of the carbon emissions\n",
    "file_real_proj = \"proj_values_EU28/raw_co2R_SSP\"\n",
    "\n",
    "# parameters of the normal distributions for the emission factors (coal, gas, oil)\n",
    "file_emi_factor_normal = \"fossil_fuel_emi_factors_normal_param.csv\"\n",
    "# parameters of the normal distributions for the emission factors (coal, gas, oil))\n",
    "file_emi_factor_tri = \"/home/cj/big-data/06_MILESTONES/fossil_fuel_emi_factors_triangular_param.csv\"\n",
    "file_emi_factor = {'normal':file_emi_factor_normal, 'triangular':file_emi_factor_tri}\n",
    "\n",
    "years = list()\n",
    "for i in range(13) : years.append(2018+i)\n",
    "list_colors = ['#1f77b4', '#ff7f0e', '#2ca02c', '#d62728', '#9467bd',\n",
    "               '#8c564b', '#e377c2', '#7f7f7f', '#bcbd22', '17becf']\n",
    "\n",
    "value_1990 = 4408526411.17188*10**(-6) # from ktoe to Mtoe\n",
    "target_2030 = value_1990-0.40*(value_1990)\n",
    "target_2030_ = list()\n",
    "for i in range(len(years)): target_2030_.append(target_2030)"
   ]
  },
  {
   "cell_type": "code",
   "execution_count": 2,
   "metadata": {},
   "outputs": [],
   "source": [
    "def get_mean_std(file_, scenario, rates=False):\n",
    "    df_mean = pd.DataFrame({})\n",
    "    df_std = pd.DataFrame({})\n",
    "    \n",
    "    for file in scenario:\n",
    "        df = pd.read_csv(file_ + file, index_col=['Unnamed: 0'])\n",
    "        m = df.mean()\n",
    "        col_name = file.split('_')[0]\n",
    "        df_mean[col_name] = m\n",
    "\n",
    "        std = df.std()\n",
    "        col_name = file.split('_')[0]\n",
    "        df_std[col_name] = std\n",
    "    if rates is True:\n",
    "        df_mean.index = np.arange(2019, 2032)\n",
    "        df_std.index = np.arange(2019, 2032)\n",
    "        df_mean = df_mean[0:13]\n",
    "        df_std = df_std[0:13]\n",
    "    else:\n",
    "        df_mean.index = np.arange(2018, 2031)\n",
    "        df_std.index = np.arange(2018, 2031)\n",
    "        \n",
    "    \n",
    "    names_col = ['pop','gdp', 'ener_int', 'cons_oil', 'cons_coal', 'cons_gas', 'total_cons']\n",
    "    df_mean.columns = names_col\n",
    "    df_std.columns = names_col\n",
    "\n",
    "    return df_mean, df_std\n",
    "\n",
    "def get_emi_factor_distribution(distri):\n",
    "    file = file_emi_factor[distri]\n",
    "    params = pd.read_csv(file, index_col=0)\n",
    "    return params.transpose()    \n",
    "\n",
    "def kaya_identity(cons_oil, cons_coal, cons_gas, emi_fact_coal, emi_fact_oil, emi_fact_gas):\n",
    "    return ((cons_oil*emi_fact_oil)+(cons_coal*emi_fact_oil)+(cons_gas*emi_fact_oil))\n",
    "\n",
    "def kaya_identity_rates(gdp_rates, ei_rates, ci_rates):\n",
    "    ci_rates=0\n",
    "    return (1+gdp_rates)*(1+ei_rates)*(1+ci_rates)-1\n",
    "\n",
    "def mean_forecast(x):\n",
    "    mean_forecast = list()\n",
    "    for i in range(13) : mean_forecast.append(np.mean(x[i]))\n",
    "    return mean_forecast\n",
    "\n",
    "def show_average_forecast(list_forecast_ssp, name):\n",
    "    fig = go.Figure()\n",
    "    for i in range(len(list_forecast_ssp)):\n",
    "        fig.add_trace(go.Scatter(x=years, y=list_forecast_ssp[i], opacity=0.8,\n",
    "                                 line=dict(color=list_colors[i]), name= \"ssp\"+str(i+1)))\n",
    "        \n",
    "    fig.add_trace(go.Scatter(x=years, y=target_2030_, opacity=0.8,\n",
    "                             line=dict(color=\"Black\"), name=\"EU target\"))\n",
    "    \n",
    "    # Use date string to set xaxis range\n",
    "    fig.update_layout(\n",
    "        title_text=\"Forecasts of CO2 emissions in function of the family of scenarios based on \"+name)\n",
    "\n",
    "\n",
    "    fig.update_xaxes(title_text=\"Years\")\n",
    "    fig.update_yaxes(title_text=\"CO2 emissions [MtCO2eq]\"),\n",
    "    #fig.update_layout(legend_orientation=\"h\")\n",
    "    fig.show()\n",
    "    \n",
    "def show_projection_CO2(list_projection_CO2):\n",
    "    fig = go.Figure()\n",
    "    for i in range(5):\n",
    "        fig.add_trace(go.Scatter(x=years, y=list_projection_CO2[i], opacity=0.8,\n",
    "                                 line=dict(color=list_colors[i]), name=\"SSP\"+str(i+1)))\n",
    "    \n",
    "    fig.add_trace(go.Scatter(x=years, y=target_2030_, opacity=0.8,\n",
    "                             line=dict(color=\"Black\"), name=\"EU target\"))\n",
    "    \n",
    "    # Use date string to set xaxis range\n",
    "    fig.update_layout(title_text=\"CO2 emission projections for each SSPS Family\")\n",
    "\n",
    "\n",
    "    fig.update_xaxes(title_text=\"Years\")\n",
    "    fig.update_yaxes(title_text=\"CO2 emissions [MtCO2eq]\"),\n",
    "    #fig.update_layout(legend_orientation=\"h\")\n",
    "    fig.show()\n",
    "\n",
    "    \n",
    "def projection_vs_forecasts(emi, name, show=False):\n",
    "    \n",
    "    list_colors = ['#1f77b4', '#ff7f0e', '#2ca02c', '#d62728', '#9467bd',\n",
    "                   '#8c564b', '#e377c2', '#7f7f7f', '#bcbd22', '17becf']\n",
    "    \n",
    "    fig = go.Figure()\n",
    "    \n",
    "    fig = make_subplots(rows=3, cols=2, subplot_titles=(\"SSP1\", \"SSP2\", \"SSP3\", \"SSP4\", \"SSP5\"))\n",
    "    \n",
    "    roww = [1, 1, 2, 2, 3]\n",
    "    coll = [1, 2, 1, 2, 1]\n",
    "    \n",
    "    for i in range(len(coll)):\n",
    "        for j in range(len(emi)):\n",
    "            y=emi[j][i]\n",
    "            fig.add_trace(go.Scatter(x=years, y=y, opacity=0.8, line=dict(color=list_colors[j+2]), \n",
    "                                    name=name[j]), row=roww[i], col=coll[i])\n",
    "            \n",
    "        fig.add_trace(go.Scatter(x=years, y=target_2030_, opacity=0.8,\n",
    "                             line=dict(color=\"Black\"), name=\"EU target\"), row=roww[i], col=coll[i])\n",
    "                            \n",
    "        fig.update_xaxes(title_text=\"Years\", row=roww[i], col=coll[i])\n",
    "        fig.update_yaxes(title_text=\"CO2 emissions [MtCO2eq]\", row=roww[i], col=coll[i])\n",
    "    \n",
    "    fig.update_layout(title_text=\"Comparison between forecasts with projections for each SSP family\",\n",
    "                      height=1000, width=1000, showlegend=True, legend_orientation=\"h\")\n",
    "    if show is True:\n",
    "        fig.show()\n",
    "    \n",
    "def show_real_projections(file, show=False):\n",
    "    list_file = list()\n",
    "    projection_CO2 = list()\n",
    "    for i in range(5):\n",
    "        list_file.append(file+str(i+1)+\".csv\")\n",
    "        projection_CO2.append(pd.read_csv(list_file[i]).iloc[0][1:])\n",
    "    \n",
    "    if show is True:\n",
    "        show_projection_CO2(projection_CO2)\n",
    "    \n",
    "    return projection_CO2\n",
    "\n",
    "def show_goals(emi_list, name, show=False):\n",
    "    fig = go.Figure()\n",
    "    fig = make_subplots(rows=3, cols=2, subplot_titles=(\"SSP1\", \"SSP2\", \"SSP3\", \"SSP4\", \"SSP5\"))\n",
    "    \n",
    "    roww = [1, 1, 2, 2, 3]\n",
    "    coll = [1, 2, 1, 2, 1]\n",
    "\n",
    "    x_name = name\n",
    "  \n",
    "    for i in range(len(coll)):\n",
    "        values = list()\n",
    "        color = list()\n",
    "        for j in range(len(emi_list)):\n",
    "            values.append(emi_list[j][i][11])\n",
    "            color.append(list_colors[j+1])\n",
    "        values.append(target_2030)\n",
    "        color.append(list_colors[0])\n",
    "    \n",
    "        fig.add_trace(go.Bar(x=x_name, y=values, marker_color = color, textposition='auto'),\n",
    "                      row=roww[i], col=coll[i])\n",
    "    \n",
    "        fig.update_xaxes(row=roww[i], col=coll[i])\n",
    "        fig.update_yaxes(title_text=\"CO2 emissions [MtCO2eq2]\", row=roww[i], col=coll[i])\n",
    "        \n",
    "    fig.update_layout(title_text=\"Target set by the European Union for CO2 emissions\"+\n",
    "                      \" in 2030 compared to forecasts and projections\",\n",
    "                      height=1000, width=1000, showlegend=False, legend_orientation=\"h\")\n",
    "    if show is True:\n",
    "        fig.show()\n",
    "\n",
    "def from_rates_to_data(emi, val_2018):\n",
    "    emi[0] = val_2018 + emi[0]*val_2018/100\n",
    "    for i in range(1, 13):\n",
    "        emi[i] = emi[i-1] + emi[i]*emi[i-1]/100\n",
    "    return emi\n",
    "\n",
    "def from_value_to_rates(value_1, value_2):\n",
    "\n",
    "    zipped_lists = zip(value_1, value_2)\n",
    "    fossil_emi_rates_fact = [100*(value_2-value_1)/value_1 for (value_1, value_2) in zipped_lists]\n",
    "        \n",
    "    return np.array(fossil_emi_rates_fact)\n",
    "\n",
    "def monte_carlo_simulation(file, distri, ssp, samples):\n",
    "    mean, std = get_mean_std(file, ssp)\n",
    "    params = get_emi_factor_distribution(distri)\n",
    "    emi_sim = np.zeros((13, samples)) \n",
    "    \n",
    "    for i in range(13):\n",
    "        oil_sim = np.random.normal(mean['cons_oil'].iloc[i], std['cons_oil'].iloc[i], samples)\n",
    "        coal_sim = np.random.normal(mean['cons_coal'].iloc[i], std['cons_coal'].iloc[i], samples)\n",
    "        gas_sim = np.random.normal(mean['cons_gas'].iloc[i], std['cons_gas'].iloc[i], samples)\n",
    "        \n",
    "        if distri == 'normal':\n",
    "            emi_fact_oil = np.random.normal(params['oil']['mean'], params['oil']['std'], samples)\n",
    "            emi_fact_coal = np.random.normal(params['coal']['mean'], params['coal']['std'], samples)\n",
    "            emi_fact_gas = np.random.normal(params['gas']['mean'], params['gas']['std'], samples)\n",
    "        elif distri == 'triangular':\n",
    "            emi_fact_oil = np.random.triangular(params['oil']['left'], params['oil']['mode'],\n",
    "                                            params['oil']['right'], samples)\n",
    "            emi_fact_coal = np.random.triangular(params['coal']['left'], params['coal']['mode'],\n",
    "                                             params['coal']['right'], samples)\n",
    "            emi_fact_gas = np.random.triangular(params['gas']['left'], params['gas']['mode'],\n",
    "                                            params['gas']['right'], samples)\n",
    "\n",
    "        emi_sim[i] = kaya_identity(oil_sim, coal_sim, gas_sim, emi_fact_coal, emi_fact_oil, emi_fact_gas)\n",
    "    \n",
    "    return emi_sim\n",
    "\n",
    "\n",
    "def get_emission_factor(oil_cons, coal_cons, gas_cons, emi_fact_oil, emi_fact_coal, emi_fact_gas, total_cons):\n",
    "    emi = kaya_identity(oil_cons, coal_cons, gas_cons, emi_fact_oil, emi_fact_coal, emi_fact_gas)\n",
    "    return emi/total_cons\n",
    "    \n",
    "def get_emission_factor_rates(samples, params, distri, ssp):\n",
    "    \n",
    "    mean, std = get_mean_std(file_proj, ssp)\n",
    "    carbon_intensity = np.zeros((14, samples))\n",
    "    # Emission factor (fossil energy) of year 2017\n",
    "    carbon_intensity_2017 = 2.012290082158105\n",
    "    carbon_intensity_2017_ = list()\n",
    "    for i in range(samples): carbon_intensity_2017_.append(carbon_intensity_2017)\n",
    "    carbon_intensity[0] = np.array(carbon_intensity_2017_)\n",
    "   \n",
    "    for i in range(13-12):\n",
    "        if distri == 'normal':\n",
    "            emi_fact_oil = np.random.normal(params['oil']['mean'], params['oil']['std'], samples)\n",
    "            emi_fact_coal = np.random.normal(params['coal']['mean'], params['coal']['std'], samples)\n",
    "            emi_fact_gas = np.random.normal(params['gas']['mean'], params['gas']['std'], samples)\n",
    "        elif distri == 'triangular':\n",
    "            emi_fact_oil = np.random.triangular(params['oil']['left'], params['oil']['mode'],\n",
    "                                            params['oil']['right'], samples)\n",
    "            emi_fact_coal = np.random.triangular(params['coal']['left'], params['coal']['mode'],\n",
    "                                             params['coal']['right'], samples)\n",
    "            emi_fact_gas = np.random.triangular(params['gas']['left'], params['gas']['mode'],\n",
    "                                            params['gas']['right'], samples)\n",
    "        else:\n",
    "            return print('No such distribution')\n",
    "\n",
    "        oil_cons = np.random.normal(mean['cons_oil'].iloc[i], std['cons_oil'].iloc[i], samples)\n",
    "        coal_cons = np.random.normal(mean['cons_coal'].iloc[i], std['cons_coal'].iloc[i], samples)\n",
    "        gas_cons = np.random.normal(mean['cons_gas'].iloc[i], std['cons_gas'].iloc[i], samples)\n",
    "        \n",
    "        total_cons = np.random.normal(mean['total_cons'].iloc[i], std['total_cons'].iloc[i], samples)\n",
    "        carbon_intensity[i+1] = get_emission_factor(oil_cons, coal_cons, gas_cons, emi_fact_oil,\n",
    "                                                  emi_fact_coal, emi_fact_gas, total_cons)\n",
    "\n",
    "    carbon_intensity_rates = np.zeros((13, samples))\n",
    "    for i in range(len(carbon_intensity)-1):\n",
    "        carbon_intensity_rates[i] = (carbon_intensity[i+1]-carbon_intensity[i])/carbon_intensity[i]\n",
    "        \n",
    "    return carbon_intensity_rates\n",
    "\n",
    "def monte_carlo_simulation_rates(file_rates, ssp, distri, samples):\n",
    "    \n",
    "    mean_rates, std_rates = get_mean_std(file_rates, ssp, rates = True)\n",
    "    emi_sim = np.zeros((13, samples)) \n",
    "   \n",
    "    # 2018 CO2 emission : 3457 MtCO2.\n",
    "    emission_2018 = 3457\n",
    "    \n",
    "    params = get_emi_factor_distribution(distri) # used for emission factor rates of fossil energie.\n",
    "       \n",
    "    for i in range(13):\n",
    "    \n",
    "        gdp_rates = np.random.normal(mean_rates['gdp'].iloc[i], std_rates['gdp'].iloc[i], samples)\n",
    "        ei_rates = np.random.normal(mean_rates['ener_int'].iloc[i], std_rates['ener_int'].iloc[i], samples)\n",
    "        \n",
    "        carbon_intensity_rates = get_emission_factor_rates(samples, params, distri, ssp)\n",
    "        \n",
    "        emi_sim[i] = kaya_identity_rates(gdp_rates, ei_rates, carbon_intensity_rates)\n",
    "       \n",
    "    emi_sim = from_rates_to_data(emi_sim, emission_2018)\n",
    "    \n",
    "    return emi_sim\n",
    "\n",
    "\n",
    "def get_carbon_emissions(samples, distri=False, file_rates=False, show=False):\n",
    "    \n",
    "    #list_ssp = [ssp1] # a enlever\n",
    "    \n",
    "    list_average_emi_ssp = list()\n",
    "    for ssp in list_ssp:\n",
    "        if file_rates is False:\n",
    "            emi_ssp = monte_carlo_simulation(file_proj, distri, ssp, samples)\n",
    "        else:\n",
    "            emi_ssp = monte_carlo_simulation_rates(file_rates, ssp, distri, samples)\n",
    "\n",
    "        list_average_emi_ssp.append(mean_forecast(emi_ssp))\n",
    "        \n",
    "    if show is True:\n",
    "        if file_rates is False:\n",
    "            show_average_forecast(list_average_emi_ssp, 'Kaya model')\n",
    "        else:\n",
    "            show_average_forecast(list_average_emi_ssp, 'the derivative of Kaya model')\n",
    "            \n",
    "    return list_average_emi_ssp"
   ]
  },
  {
   "cell_type": "code",
   "execution_count": 3,
   "metadata": {
    "scrolled": false
   },
   "outputs": [
    {
     "data": {
      "application/vnd.plotly.v1+json": {
       "config": {
        "plotlyServerURL": "https://plot.ly"
       },
       "data": [
        {
         "line": {
          "color": "#1f77b4"
         },
         "name": "ssp1",
         "opacity": 0.8,
         "type": "scatter",
         "x": [
          2018,
          2019,
          2020,
          2021,
          2022,
          2023,
          2024,
          2025,
          2026,
          2027,
          2028,
          2029,
          2030
         ],
         "y": [
          2879.2909901654793,
          2831.601636311761,
          2787.267598387013,
          2782.385845193768,
          2757.371957556564,
          2710.0559539948704,
          2680.9269997628235,
          2668.2189968273547,
          2649.8353038239134,
          2616.6626298798155,
          2586.4540835187104,
          2579.704157139634,
          2553.3126986092934
         ]
        },
        {
         "line": {
          "color": "#ff7f0e"
         },
         "name": "ssp2",
         "opacity": 0.8,
         "type": "scatter",
         "x": [
          2018,
          2019,
          2020,
          2021,
          2022,
          2023,
          2024,
          2025,
          2026,
          2027,
          2028,
          2029,
          2030
         ],
         "y": [
          2886.631484057213,
          2865.122893570635,
          2836.7936109534676,
          2834.680518972229,
          2810.4018467228393,
          2766.71986676472,
          2772.6392531504284,
          2768.333716623643,
          2723.548763690437,
          2724.8892464748556,
          2710.9366994676802,
          2686.4805653422623,
          2669.364009301654
         ]
        },
        {
         "line": {
          "color": "#2ca02c"
         },
         "name": "ssp3",
         "opacity": 0.8,
         "type": "scatter",
         "x": [
          2018,
          2019,
          2020,
          2021,
          2022,
          2023,
          2024,
          2025,
          2026,
          2027,
          2028,
          2029,
          2030
         ],
         "y": [
          2906.5205828900307,
          2886.74121976931,
          2886.8076896040375,
          2863.127769632853,
          2867.1447292871485,
          2873.8375986525734,
          2846.382982702838,
          2842.9670321212525,
          2809.5699357984017,
          2810.365530658215,
          2801.442642720105,
          2777.716997362838,
          2786.135667313316
         ]
        },
        {
         "line": {
          "color": "#d62728"
         },
         "name": "ssp4",
         "opacity": 0.8,
         "type": "scatter",
         "x": [
          2018,
          2019,
          2020,
          2021,
          2022,
          2023,
          2024,
          2025,
          2026,
          2027,
          2028,
          2029,
          2030
         ],
         "y": [
          2894.5481152301777,
          2854.621946267831,
          2814.9811450246775,
          2808.2483952076072,
          2774.2040319486123,
          2762.903913139411,
          2732.053423005525,
          2696.1353518960163,
          2689.5509836696983,
          2654.001836434329,
          2668.47217284611,
          2629.301854956817,
          2627.4501641673623
         ]
        },
        {
         "line": {
          "color": "#9467bd"
         },
         "name": "ssp5",
         "opacity": 0.8,
         "type": "scatter",
         "x": [
          2018,
          2019,
          2020,
          2021,
          2022,
          2023,
          2024,
          2025,
          2026,
          2027,
          2028,
          2029,
          2030
         ],
         "y": [
          2918.6979561900075,
          2927.4593719760655,
          2929.367001745913,
          2932.521356650144,
          2969.9193982778975,
          2981.5678185762895,
          2996.0425968420927,
          3008.912759065436,
          3030.951529655321,
          3024.259868916667,
          3080.8477637855844,
          3093.4803468340388,
          3070.8231914091953
         ]
        },
        {
         "line": {
          "color": "Black"
         },
         "name": "EU target",
         "opacity": 0.8,
         "type": "scatter",
         "x": [
          2018,
          2019,
          2020,
          2021,
          2022,
          2023,
          2024,
          2025,
          2026,
          2027,
          2028,
          2029,
          2030
         ],
         "y": [
          2645.1158467031278,
          2645.1158467031278,
          2645.1158467031278,
          2645.1158467031278,
          2645.1158467031278,
          2645.1158467031278,
          2645.1158467031278,
          2645.1158467031278,
          2645.1158467031278,
          2645.1158467031278,
          2645.1158467031278,
          2645.1158467031278,
          2645.1158467031278
         ]
        }
       ],
       "layout": {
        "template": {
         "data": {
          "bar": [
           {
            "error_x": {
             "color": "#2a3f5f"
            },
            "error_y": {
             "color": "#2a3f5f"
            },
            "marker": {
             "line": {
              "color": "#E5ECF6",
              "width": 0.5
             }
            },
            "type": "bar"
           }
          ],
          "barpolar": [
           {
            "marker": {
             "line": {
              "color": "#E5ECF6",
              "width": 0.5
             }
            },
            "type": "barpolar"
           }
          ],
          "carpet": [
           {
            "aaxis": {
             "endlinecolor": "#2a3f5f",
             "gridcolor": "white",
             "linecolor": "white",
             "minorgridcolor": "white",
             "startlinecolor": "#2a3f5f"
            },
            "baxis": {
             "endlinecolor": "#2a3f5f",
             "gridcolor": "white",
             "linecolor": "white",
             "minorgridcolor": "white",
             "startlinecolor": "#2a3f5f"
            },
            "type": "carpet"
           }
          ],
          "choropleth": [
           {
            "colorbar": {
             "outlinewidth": 0,
             "ticks": ""
            },
            "type": "choropleth"
           }
          ],
          "contour": [
           {
            "colorbar": {
             "outlinewidth": 0,
             "ticks": ""
            },
            "colorscale": [
             [
              0,
              "#0d0887"
             ],
             [
              0.1111111111111111,
              "#46039f"
             ],
             [
              0.2222222222222222,
              "#7201a8"
             ],
             [
              0.3333333333333333,
              "#9c179e"
             ],
             [
              0.4444444444444444,
              "#bd3786"
             ],
             [
              0.5555555555555556,
              "#d8576b"
             ],
             [
              0.6666666666666666,
              "#ed7953"
             ],
             [
              0.7777777777777778,
              "#fb9f3a"
             ],
             [
              0.8888888888888888,
              "#fdca26"
             ],
             [
              1,
              "#f0f921"
             ]
            ],
            "type": "contour"
           }
          ],
          "contourcarpet": [
           {
            "colorbar": {
             "outlinewidth": 0,
             "ticks": ""
            },
            "type": "contourcarpet"
           }
          ],
          "heatmap": [
           {
            "colorbar": {
             "outlinewidth": 0,
             "ticks": ""
            },
            "colorscale": [
             [
              0,
              "#0d0887"
             ],
             [
              0.1111111111111111,
              "#46039f"
             ],
             [
              0.2222222222222222,
              "#7201a8"
             ],
             [
              0.3333333333333333,
              "#9c179e"
             ],
             [
              0.4444444444444444,
              "#bd3786"
             ],
             [
              0.5555555555555556,
              "#d8576b"
             ],
             [
              0.6666666666666666,
              "#ed7953"
             ],
             [
              0.7777777777777778,
              "#fb9f3a"
             ],
             [
              0.8888888888888888,
              "#fdca26"
             ],
             [
              1,
              "#f0f921"
             ]
            ],
            "type": "heatmap"
           }
          ],
          "heatmapgl": [
           {
            "colorbar": {
             "outlinewidth": 0,
             "ticks": ""
            },
            "colorscale": [
             [
              0,
              "#0d0887"
             ],
             [
              0.1111111111111111,
              "#46039f"
             ],
             [
              0.2222222222222222,
              "#7201a8"
             ],
             [
              0.3333333333333333,
              "#9c179e"
             ],
             [
              0.4444444444444444,
              "#bd3786"
             ],
             [
              0.5555555555555556,
              "#d8576b"
             ],
             [
              0.6666666666666666,
              "#ed7953"
             ],
             [
              0.7777777777777778,
              "#fb9f3a"
             ],
             [
              0.8888888888888888,
              "#fdca26"
             ],
             [
              1,
              "#f0f921"
             ]
            ],
            "type": "heatmapgl"
           }
          ],
          "histogram": [
           {
            "marker": {
             "colorbar": {
              "outlinewidth": 0,
              "ticks": ""
             }
            },
            "type": "histogram"
           }
          ],
          "histogram2d": [
           {
            "colorbar": {
             "outlinewidth": 0,
             "ticks": ""
            },
            "colorscale": [
             [
              0,
              "#0d0887"
             ],
             [
              0.1111111111111111,
              "#46039f"
             ],
             [
              0.2222222222222222,
              "#7201a8"
             ],
             [
              0.3333333333333333,
              "#9c179e"
             ],
             [
              0.4444444444444444,
              "#bd3786"
             ],
             [
              0.5555555555555556,
              "#d8576b"
             ],
             [
              0.6666666666666666,
              "#ed7953"
             ],
             [
              0.7777777777777778,
              "#fb9f3a"
             ],
             [
              0.8888888888888888,
              "#fdca26"
             ],
             [
              1,
              "#f0f921"
             ]
            ],
            "type": "histogram2d"
           }
          ],
          "histogram2dcontour": [
           {
            "colorbar": {
             "outlinewidth": 0,
             "ticks": ""
            },
            "colorscale": [
             [
              0,
              "#0d0887"
             ],
             [
              0.1111111111111111,
              "#46039f"
             ],
             [
              0.2222222222222222,
              "#7201a8"
             ],
             [
              0.3333333333333333,
              "#9c179e"
             ],
             [
              0.4444444444444444,
              "#bd3786"
             ],
             [
              0.5555555555555556,
              "#d8576b"
             ],
             [
              0.6666666666666666,
              "#ed7953"
             ],
             [
              0.7777777777777778,
              "#fb9f3a"
             ],
             [
              0.8888888888888888,
              "#fdca26"
             ],
             [
              1,
              "#f0f921"
             ]
            ],
            "type": "histogram2dcontour"
           }
          ],
          "mesh3d": [
           {
            "colorbar": {
             "outlinewidth": 0,
             "ticks": ""
            },
            "type": "mesh3d"
           }
          ],
          "parcoords": [
           {
            "line": {
             "colorbar": {
              "outlinewidth": 0,
              "ticks": ""
             }
            },
            "type": "parcoords"
           }
          ],
          "pie": [
           {
            "automargin": true,
            "type": "pie"
           }
          ],
          "scatter": [
           {
            "marker": {
             "colorbar": {
              "outlinewidth": 0,
              "ticks": ""
             }
            },
            "type": "scatter"
           }
          ],
          "scatter3d": [
           {
            "line": {
             "colorbar": {
              "outlinewidth": 0,
              "ticks": ""
             }
            },
            "marker": {
             "colorbar": {
              "outlinewidth": 0,
              "ticks": ""
             }
            },
            "type": "scatter3d"
           }
          ],
          "scattercarpet": [
           {
            "marker": {
             "colorbar": {
              "outlinewidth": 0,
              "ticks": ""
             }
            },
            "type": "scattercarpet"
           }
          ],
          "scattergeo": [
           {
            "marker": {
             "colorbar": {
              "outlinewidth": 0,
              "ticks": ""
             }
            },
            "type": "scattergeo"
           }
          ],
          "scattergl": [
           {
            "marker": {
             "colorbar": {
              "outlinewidth": 0,
              "ticks": ""
             }
            },
            "type": "scattergl"
           }
          ],
          "scattermapbox": [
           {
            "marker": {
             "colorbar": {
              "outlinewidth": 0,
              "ticks": ""
             }
            },
            "type": "scattermapbox"
           }
          ],
          "scatterpolar": [
           {
            "marker": {
             "colorbar": {
              "outlinewidth": 0,
              "ticks": ""
             }
            },
            "type": "scatterpolar"
           }
          ],
          "scatterpolargl": [
           {
            "marker": {
             "colorbar": {
              "outlinewidth": 0,
              "ticks": ""
             }
            },
            "type": "scatterpolargl"
           }
          ],
          "scatterternary": [
           {
            "marker": {
             "colorbar": {
              "outlinewidth": 0,
              "ticks": ""
             }
            },
            "type": "scatterternary"
           }
          ],
          "surface": [
           {
            "colorbar": {
             "outlinewidth": 0,
             "ticks": ""
            },
            "colorscale": [
             [
              0,
              "#0d0887"
             ],
             [
              0.1111111111111111,
              "#46039f"
             ],
             [
              0.2222222222222222,
              "#7201a8"
             ],
             [
              0.3333333333333333,
              "#9c179e"
             ],
             [
              0.4444444444444444,
              "#bd3786"
             ],
             [
              0.5555555555555556,
              "#d8576b"
             ],
             [
              0.6666666666666666,
              "#ed7953"
             ],
             [
              0.7777777777777778,
              "#fb9f3a"
             ],
             [
              0.8888888888888888,
              "#fdca26"
             ],
             [
              1,
              "#f0f921"
             ]
            ],
            "type": "surface"
           }
          ],
          "table": [
           {
            "cells": {
             "fill": {
              "color": "#EBF0F8"
             },
             "line": {
              "color": "white"
             }
            },
            "header": {
             "fill": {
              "color": "#C8D4E3"
             },
             "line": {
              "color": "white"
             }
            },
            "type": "table"
           }
          ]
         },
         "layout": {
          "annotationdefaults": {
           "arrowcolor": "#2a3f5f",
           "arrowhead": 0,
           "arrowwidth": 1
          },
          "coloraxis": {
           "colorbar": {
            "outlinewidth": 0,
            "ticks": ""
           }
          },
          "colorscale": {
           "diverging": [
            [
             0,
             "#8e0152"
            ],
            [
             0.1,
             "#c51b7d"
            ],
            [
             0.2,
             "#de77ae"
            ],
            [
             0.3,
             "#f1b6da"
            ],
            [
             0.4,
             "#fde0ef"
            ],
            [
             0.5,
             "#f7f7f7"
            ],
            [
             0.6,
             "#e6f5d0"
            ],
            [
             0.7,
             "#b8e186"
            ],
            [
             0.8,
             "#7fbc41"
            ],
            [
             0.9,
             "#4d9221"
            ],
            [
             1,
             "#276419"
            ]
           ],
           "sequential": [
            [
             0,
             "#0d0887"
            ],
            [
             0.1111111111111111,
             "#46039f"
            ],
            [
             0.2222222222222222,
             "#7201a8"
            ],
            [
             0.3333333333333333,
             "#9c179e"
            ],
            [
             0.4444444444444444,
             "#bd3786"
            ],
            [
             0.5555555555555556,
             "#d8576b"
            ],
            [
             0.6666666666666666,
             "#ed7953"
            ],
            [
             0.7777777777777778,
             "#fb9f3a"
            ],
            [
             0.8888888888888888,
             "#fdca26"
            ],
            [
             1,
             "#f0f921"
            ]
           ],
           "sequentialminus": [
            [
             0,
             "#0d0887"
            ],
            [
             0.1111111111111111,
             "#46039f"
            ],
            [
             0.2222222222222222,
             "#7201a8"
            ],
            [
             0.3333333333333333,
             "#9c179e"
            ],
            [
             0.4444444444444444,
             "#bd3786"
            ],
            [
             0.5555555555555556,
             "#d8576b"
            ],
            [
             0.6666666666666666,
             "#ed7953"
            ],
            [
             0.7777777777777778,
             "#fb9f3a"
            ],
            [
             0.8888888888888888,
             "#fdca26"
            ],
            [
             1,
             "#f0f921"
            ]
           ]
          },
          "colorway": [
           "#636efa",
           "#EF553B",
           "#00cc96",
           "#ab63fa",
           "#FFA15A",
           "#19d3f3",
           "#FF6692",
           "#B6E880",
           "#FF97FF",
           "#FECB52"
          ],
          "font": {
           "color": "#2a3f5f"
          },
          "geo": {
           "bgcolor": "white",
           "lakecolor": "white",
           "landcolor": "#E5ECF6",
           "showlakes": true,
           "showland": true,
           "subunitcolor": "white"
          },
          "hoverlabel": {
           "align": "left"
          },
          "hovermode": "closest",
          "mapbox": {
           "style": "light"
          },
          "paper_bgcolor": "white",
          "plot_bgcolor": "#E5ECF6",
          "polar": {
           "angularaxis": {
            "gridcolor": "white",
            "linecolor": "white",
            "ticks": ""
           },
           "bgcolor": "#E5ECF6",
           "radialaxis": {
            "gridcolor": "white",
            "linecolor": "white",
            "ticks": ""
           }
          },
          "scene": {
           "xaxis": {
            "backgroundcolor": "#E5ECF6",
            "gridcolor": "white",
            "gridwidth": 2,
            "linecolor": "white",
            "showbackground": true,
            "ticks": "",
            "zerolinecolor": "white"
           },
           "yaxis": {
            "backgroundcolor": "#E5ECF6",
            "gridcolor": "white",
            "gridwidth": 2,
            "linecolor": "white",
            "showbackground": true,
            "ticks": "",
            "zerolinecolor": "white"
           },
           "zaxis": {
            "backgroundcolor": "#E5ECF6",
            "gridcolor": "white",
            "gridwidth": 2,
            "linecolor": "white",
            "showbackground": true,
            "ticks": "",
            "zerolinecolor": "white"
           }
          },
          "shapedefaults": {
           "line": {
            "color": "#2a3f5f"
           }
          },
          "ternary": {
           "aaxis": {
            "gridcolor": "white",
            "linecolor": "white",
            "ticks": ""
           },
           "baxis": {
            "gridcolor": "white",
            "linecolor": "white",
            "ticks": ""
           },
           "bgcolor": "#E5ECF6",
           "caxis": {
            "gridcolor": "white",
            "linecolor": "white",
            "ticks": ""
           }
          },
          "title": {
           "x": 0.05
          },
          "xaxis": {
           "automargin": true,
           "gridcolor": "white",
           "linecolor": "white",
           "ticks": "",
           "title": {
            "standoff": 15
           },
           "zerolinecolor": "white",
           "zerolinewidth": 2
          },
          "yaxis": {
           "automargin": true,
           "gridcolor": "white",
           "linecolor": "white",
           "ticks": "",
           "title": {
            "standoff": 15
           },
           "zerolinecolor": "white",
           "zerolinewidth": 2
          }
         }
        },
        "title": {
         "text": "Forecasts of CO2 emissions in function of the family of scenarios based on Kaya model"
        },
        "xaxis": {
         "title": {
          "text": "Years"
         }
        },
        "yaxis": {
         "title": {
          "text": "CO2 emissions [MtCO2eq]"
         }
        }
       }
      },
      "text/html": [
       "<div>\n",
       "        \n",
       "        \n",
       "            <div id=\"19fb56bc-b479-4711-8270-18bf76c6fdad\" class=\"plotly-graph-div\" style=\"height:525px; width:100%;\"></div>\n",
       "            <script type=\"text/javascript\">\n",
       "                require([\"plotly\"], function(Plotly) {\n",
       "                    window.PLOTLYENV=window.PLOTLYENV || {};\n",
       "                    \n",
       "                if (document.getElementById(\"19fb56bc-b479-4711-8270-18bf76c6fdad\")) {\n",
       "                    Plotly.newPlot(\n",
       "                        '19fb56bc-b479-4711-8270-18bf76c6fdad',\n",
       "                        [{\"line\": {\"color\": \"#1f77b4\"}, \"name\": \"ssp1\", \"opacity\": 0.8, \"type\": \"scatter\", \"x\": [2018, 2019, 2020, 2021, 2022, 2023, 2024, 2025, 2026, 2027, 2028, 2029, 2030], \"y\": [2879.2909901654793, 2831.601636311761, 2787.267598387013, 2782.385845193768, 2757.371957556564, 2710.0559539948704, 2680.9269997628235, 2668.2189968273547, 2649.8353038239134, 2616.6626298798155, 2586.4540835187104, 2579.704157139634, 2553.3126986092934]}, {\"line\": {\"color\": \"#ff7f0e\"}, \"name\": \"ssp2\", \"opacity\": 0.8, \"type\": \"scatter\", \"x\": [2018, 2019, 2020, 2021, 2022, 2023, 2024, 2025, 2026, 2027, 2028, 2029, 2030], \"y\": [2886.631484057213, 2865.122893570635, 2836.7936109534676, 2834.680518972229, 2810.4018467228393, 2766.71986676472, 2772.6392531504284, 2768.333716623643, 2723.548763690437, 2724.8892464748556, 2710.9366994676802, 2686.4805653422623, 2669.364009301654]}, {\"line\": {\"color\": \"#2ca02c\"}, \"name\": \"ssp3\", \"opacity\": 0.8, \"type\": \"scatter\", \"x\": [2018, 2019, 2020, 2021, 2022, 2023, 2024, 2025, 2026, 2027, 2028, 2029, 2030], \"y\": [2906.5205828900307, 2886.74121976931, 2886.8076896040375, 2863.127769632853, 2867.1447292871485, 2873.8375986525734, 2846.382982702838, 2842.9670321212525, 2809.5699357984017, 2810.365530658215, 2801.442642720105, 2777.716997362838, 2786.135667313316]}, {\"line\": {\"color\": \"#d62728\"}, \"name\": \"ssp4\", \"opacity\": 0.8, \"type\": \"scatter\", \"x\": [2018, 2019, 2020, 2021, 2022, 2023, 2024, 2025, 2026, 2027, 2028, 2029, 2030], \"y\": [2894.5481152301777, 2854.621946267831, 2814.9811450246775, 2808.2483952076072, 2774.2040319486123, 2762.903913139411, 2732.053423005525, 2696.1353518960163, 2689.5509836696983, 2654.001836434329, 2668.47217284611, 2629.301854956817, 2627.4501641673623]}, {\"line\": {\"color\": \"#9467bd\"}, \"name\": \"ssp5\", \"opacity\": 0.8, \"type\": \"scatter\", \"x\": [2018, 2019, 2020, 2021, 2022, 2023, 2024, 2025, 2026, 2027, 2028, 2029, 2030], \"y\": [2918.6979561900075, 2927.4593719760655, 2929.367001745913, 2932.521356650144, 2969.9193982778975, 2981.5678185762895, 2996.0425968420927, 3008.912759065436, 3030.951529655321, 3024.259868916667, 3080.8477637855844, 3093.4803468340388, 3070.8231914091953]}, {\"line\": {\"color\": \"Black\"}, \"name\": \"EU target\", \"opacity\": 0.8, \"type\": \"scatter\", \"x\": [2018, 2019, 2020, 2021, 2022, 2023, 2024, 2025, 2026, 2027, 2028, 2029, 2030], \"y\": [2645.1158467031278, 2645.1158467031278, 2645.1158467031278, 2645.1158467031278, 2645.1158467031278, 2645.1158467031278, 2645.1158467031278, 2645.1158467031278, 2645.1158467031278, 2645.1158467031278, 2645.1158467031278, 2645.1158467031278, 2645.1158467031278]}],\n",
       "                        {\"template\": {\"data\": {\"bar\": [{\"error_x\": {\"color\": \"#2a3f5f\"}, \"error_y\": {\"color\": \"#2a3f5f\"}, \"marker\": {\"line\": {\"color\": \"#E5ECF6\", \"width\": 0.5}}, \"type\": \"bar\"}], \"barpolar\": [{\"marker\": {\"line\": {\"color\": \"#E5ECF6\", \"width\": 0.5}}, \"type\": \"barpolar\"}], \"carpet\": [{\"aaxis\": {\"endlinecolor\": \"#2a3f5f\", \"gridcolor\": \"white\", \"linecolor\": \"white\", \"minorgridcolor\": \"white\", \"startlinecolor\": \"#2a3f5f\"}, \"baxis\": {\"endlinecolor\": \"#2a3f5f\", \"gridcolor\": \"white\", \"linecolor\": \"white\", \"minorgridcolor\": \"white\", \"startlinecolor\": \"#2a3f5f\"}, \"type\": \"carpet\"}], \"choropleth\": [{\"colorbar\": {\"outlinewidth\": 0, \"ticks\": \"\"}, \"type\": \"choropleth\"}], \"contour\": [{\"colorbar\": {\"outlinewidth\": 0, \"ticks\": \"\"}, \"colorscale\": [[0.0, \"#0d0887\"], [0.1111111111111111, \"#46039f\"], [0.2222222222222222, \"#7201a8\"], [0.3333333333333333, \"#9c179e\"], [0.4444444444444444, \"#bd3786\"], [0.5555555555555556, \"#d8576b\"], [0.6666666666666666, \"#ed7953\"], [0.7777777777777778, \"#fb9f3a\"], [0.8888888888888888, \"#fdca26\"], [1.0, \"#f0f921\"]], \"type\": \"contour\"}], \"contourcarpet\": [{\"colorbar\": {\"outlinewidth\": 0, \"ticks\": \"\"}, \"type\": \"contourcarpet\"}], \"heatmap\": [{\"colorbar\": {\"outlinewidth\": 0, \"ticks\": \"\"}, \"colorscale\": [[0.0, \"#0d0887\"], [0.1111111111111111, \"#46039f\"], [0.2222222222222222, \"#7201a8\"], [0.3333333333333333, \"#9c179e\"], [0.4444444444444444, \"#bd3786\"], [0.5555555555555556, \"#d8576b\"], [0.6666666666666666, \"#ed7953\"], [0.7777777777777778, \"#fb9f3a\"], [0.8888888888888888, \"#fdca26\"], [1.0, \"#f0f921\"]], \"type\": \"heatmap\"}], \"heatmapgl\": [{\"colorbar\": {\"outlinewidth\": 0, \"ticks\": \"\"}, \"colorscale\": [[0.0, \"#0d0887\"], [0.1111111111111111, \"#46039f\"], [0.2222222222222222, \"#7201a8\"], [0.3333333333333333, \"#9c179e\"], [0.4444444444444444, \"#bd3786\"], [0.5555555555555556, \"#d8576b\"], [0.6666666666666666, \"#ed7953\"], [0.7777777777777778, \"#fb9f3a\"], [0.8888888888888888, \"#fdca26\"], [1.0, \"#f0f921\"]], \"type\": \"heatmapgl\"}], \"histogram\": [{\"marker\": {\"colorbar\": {\"outlinewidth\": 0, \"ticks\": \"\"}}, \"type\": \"histogram\"}], \"histogram2d\": [{\"colorbar\": {\"outlinewidth\": 0, \"ticks\": \"\"}, \"colorscale\": [[0.0, \"#0d0887\"], [0.1111111111111111, \"#46039f\"], [0.2222222222222222, \"#7201a8\"], [0.3333333333333333, \"#9c179e\"], [0.4444444444444444, \"#bd3786\"], [0.5555555555555556, \"#d8576b\"], [0.6666666666666666, \"#ed7953\"], [0.7777777777777778, \"#fb9f3a\"], [0.8888888888888888, \"#fdca26\"], [1.0, \"#f0f921\"]], \"type\": \"histogram2d\"}], \"histogram2dcontour\": [{\"colorbar\": {\"outlinewidth\": 0, \"ticks\": \"\"}, \"colorscale\": [[0.0, \"#0d0887\"], [0.1111111111111111, \"#46039f\"], [0.2222222222222222, \"#7201a8\"], [0.3333333333333333, \"#9c179e\"], [0.4444444444444444, \"#bd3786\"], [0.5555555555555556, \"#d8576b\"], [0.6666666666666666, \"#ed7953\"], [0.7777777777777778, \"#fb9f3a\"], [0.8888888888888888, \"#fdca26\"], [1.0, \"#f0f921\"]], \"type\": \"histogram2dcontour\"}], \"mesh3d\": [{\"colorbar\": {\"outlinewidth\": 0, \"ticks\": \"\"}, \"type\": \"mesh3d\"}], \"parcoords\": [{\"line\": {\"colorbar\": {\"outlinewidth\": 0, \"ticks\": \"\"}}, \"type\": \"parcoords\"}], \"pie\": [{\"automargin\": true, \"type\": \"pie\"}], \"scatter\": [{\"marker\": {\"colorbar\": {\"outlinewidth\": 0, \"ticks\": \"\"}}, \"type\": \"scatter\"}], \"scatter3d\": [{\"line\": {\"colorbar\": {\"outlinewidth\": 0, \"ticks\": \"\"}}, \"marker\": {\"colorbar\": {\"outlinewidth\": 0, \"ticks\": \"\"}}, \"type\": \"scatter3d\"}], \"scattercarpet\": [{\"marker\": {\"colorbar\": {\"outlinewidth\": 0, \"ticks\": \"\"}}, \"type\": \"scattercarpet\"}], \"scattergeo\": [{\"marker\": {\"colorbar\": {\"outlinewidth\": 0, \"ticks\": \"\"}}, \"type\": \"scattergeo\"}], \"scattergl\": [{\"marker\": {\"colorbar\": {\"outlinewidth\": 0, \"ticks\": \"\"}}, \"type\": \"scattergl\"}], \"scattermapbox\": [{\"marker\": {\"colorbar\": {\"outlinewidth\": 0, \"ticks\": \"\"}}, \"type\": \"scattermapbox\"}], \"scatterpolar\": [{\"marker\": {\"colorbar\": {\"outlinewidth\": 0, \"ticks\": \"\"}}, \"type\": \"scatterpolar\"}], \"scatterpolargl\": [{\"marker\": {\"colorbar\": {\"outlinewidth\": 0, \"ticks\": \"\"}}, \"type\": \"scatterpolargl\"}], \"scatterternary\": [{\"marker\": {\"colorbar\": {\"outlinewidth\": 0, \"ticks\": \"\"}}, \"type\": \"scatterternary\"}], \"surface\": [{\"colorbar\": {\"outlinewidth\": 0, \"ticks\": \"\"}, \"colorscale\": [[0.0, \"#0d0887\"], [0.1111111111111111, \"#46039f\"], [0.2222222222222222, \"#7201a8\"], [0.3333333333333333, \"#9c179e\"], [0.4444444444444444, \"#bd3786\"], [0.5555555555555556, \"#d8576b\"], [0.6666666666666666, \"#ed7953\"], [0.7777777777777778, \"#fb9f3a\"], [0.8888888888888888, \"#fdca26\"], [1.0, \"#f0f921\"]], \"type\": \"surface\"}], \"table\": [{\"cells\": {\"fill\": {\"color\": \"#EBF0F8\"}, \"line\": {\"color\": \"white\"}}, \"header\": {\"fill\": {\"color\": \"#C8D4E3\"}, \"line\": {\"color\": \"white\"}}, \"type\": \"table\"}]}, \"layout\": {\"annotationdefaults\": {\"arrowcolor\": \"#2a3f5f\", \"arrowhead\": 0, \"arrowwidth\": 1}, \"coloraxis\": {\"colorbar\": {\"outlinewidth\": 0, \"ticks\": \"\"}}, \"colorscale\": {\"diverging\": [[0, \"#8e0152\"], [0.1, \"#c51b7d\"], [0.2, \"#de77ae\"], [0.3, \"#f1b6da\"], [0.4, \"#fde0ef\"], [0.5, \"#f7f7f7\"], [0.6, \"#e6f5d0\"], [0.7, \"#b8e186\"], [0.8, \"#7fbc41\"], [0.9, \"#4d9221\"], [1, \"#276419\"]], \"sequential\": [[0.0, \"#0d0887\"], [0.1111111111111111, \"#46039f\"], [0.2222222222222222, \"#7201a8\"], [0.3333333333333333, \"#9c179e\"], [0.4444444444444444, \"#bd3786\"], [0.5555555555555556, \"#d8576b\"], [0.6666666666666666, \"#ed7953\"], [0.7777777777777778, \"#fb9f3a\"], [0.8888888888888888, \"#fdca26\"], [1.0, \"#f0f921\"]], \"sequentialminus\": [[0.0, \"#0d0887\"], [0.1111111111111111, \"#46039f\"], [0.2222222222222222, \"#7201a8\"], [0.3333333333333333, \"#9c179e\"], [0.4444444444444444, \"#bd3786\"], [0.5555555555555556, \"#d8576b\"], [0.6666666666666666, \"#ed7953\"], [0.7777777777777778, \"#fb9f3a\"], [0.8888888888888888, \"#fdca26\"], [1.0, \"#f0f921\"]]}, \"colorway\": [\"#636efa\", \"#EF553B\", \"#00cc96\", \"#ab63fa\", \"#FFA15A\", \"#19d3f3\", \"#FF6692\", \"#B6E880\", \"#FF97FF\", \"#FECB52\"], \"font\": {\"color\": \"#2a3f5f\"}, \"geo\": {\"bgcolor\": \"white\", \"lakecolor\": \"white\", \"landcolor\": \"#E5ECF6\", \"showlakes\": true, \"showland\": true, \"subunitcolor\": \"white\"}, \"hoverlabel\": {\"align\": \"left\"}, \"hovermode\": \"closest\", \"mapbox\": {\"style\": \"light\"}, \"paper_bgcolor\": \"white\", \"plot_bgcolor\": \"#E5ECF6\", \"polar\": {\"angularaxis\": {\"gridcolor\": \"white\", \"linecolor\": \"white\", \"ticks\": \"\"}, \"bgcolor\": \"#E5ECF6\", \"radialaxis\": {\"gridcolor\": \"white\", \"linecolor\": \"white\", \"ticks\": \"\"}}, \"scene\": {\"xaxis\": {\"backgroundcolor\": \"#E5ECF6\", \"gridcolor\": \"white\", \"gridwidth\": 2, \"linecolor\": \"white\", \"showbackground\": true, \"ticks\": \"\", \"zerolinecolor\": \"white\"}, \"yaxis\": {\"backgroundcolor\": \"#E5ECF6\", \"gridcolor\": \"white\", \"gridwidth\": 2, \"linecolor\": \"white\", \"showbackground\": true, \"ticks\": \"\", \"zerolinecolor\": \"white\"}, \"zaxis\": {\"backgroundcolor\": \"#E5ECF6\", \"gridcolor\": \"white\", \"gridwidth\": 2, \"linecolor\": \"white\", \"showbackground\": true, \"ticks\": \"\", \"zerolinecolor\": \"white\"}}, \"shapedefaults\": {\"line\": {\"color\": \"#2a3f5f\"}}, \"ternary\": {\"aaxis\": {\"gridcolor\": \"white\", \"linecolor\": \"white\", \"ticks\": \"\"}, \"baxis\": {\"gridcolor\": \"white\", \"linecolor\": \"white\", \"ticks\": \"\"}, \"bgcolor\": \"#E5ECF6\", \"caxis\": {\"gridcolor\": \"white\", \"linecolor\": \"white\", \"ticks\": \"\"}}, \"title\": {\"x\": 0.05}, \"xaxis\": {\"automargin\": true, \"gridcolor\": \"white\", \"linecolor\": \"white\", \"ticks\": \"\", \"title\": {\"standoff\": 15}, \"zerolinecolor\": \"white\", \"zerolinewidth\": 2}, \"yaxis\": {\"automargin\": true, \"gridcolor\": \"white\", \"linecolor\": \"white\", \"ticks\": \"\", \"title\": {\"standoff\": 15}, \"zerolinecolor\": \"white\", \"zerolinewidth\": 2}}}, \"title\": {\"text\": \"Forecasts of CO2 emissions in function of the family of scenarios based on Kaya model\"}, \"xaxis\": {\"title\": {\"text\": \"Years\"}}, \"yaxis\": {\"title\": {\"text\": \"CO2 emissions [MtCO2eq]\"}}},\n",
       "                        {\"responsive\": true}\n",
       "                    ).then(function(){\n",
       "                            \n",
       "var gd = document.getElementById('19fb56bc-b479-4711-8270-18bf76c6fdad');\n",
       "var x = new MutationObserver(function (mutations, observer) {{\n",
       "        var display = window.getComputedStyle(gd).display;\n",
       "        if (!display || display === 'none') {{\n",
       "            console.log([gd, 'removed!']);\n",
       "            Plotly.purge(gd);\n",
       "            observer.disconnect();\n",
       "        }}\n",
       "}});\n",
       "\n",
       "// Listen for the removal of the full notebook cells\n",
       "var notebookContainer = gd.closest('#notebook-container');\n",
       "if (notebookContainer) {{\n",
       "    x.observe(notebookContainer, {childList: true});\n",
       "}}\n",
       "\n",
       "// Listen for the clearing of the current output cell\n",
       "var outputEl = gd.closest('.output');\n",
       "if (outputEl) {{\n",
       "    x.observe(outputEl, {childList: true});\n",
       "}}\n",
       "\n",
       "                        })\n",
       "                };\n",
       "                });\n",
       "            </script>\n",
       "        </div>"
      ]
     },
     "metadata": {},
     "output_type": "display_data"
    },
    {
     "data": {
      "application/vnd.plotly.v1+json": {
       "config": {
        "plotlyServerURL": "https://plot.ly"
       },
       "data": [
        {
         "line": {
          "color": "#1f77b4"
         },
         "name": "ssp1",
         "opacity": 0.8,
         "type": "scatter",
         "x": [
          2018,
          2019,
          2020,
          2021,
          2022,
          2023,
          2024,
          2025,
          2026,
          2027,
          2028,
          2029,
          2030
         ],
         "y": [
          3228.1618535470775,
          3024.672008423996,
          2831.2022959060814,
          2660.140130846132,
          2503.874633921943,
          2361.649083182716,
          2231.9397399875143,
          2117.245230917869,
          2008.2284102864041,
          1911.1688814133206,
          1820.9951301852375,
          1739.6873873527823,
          1665.0477099926636
         ]
        },
        {
         "line": {
          "color": "#ff7f0e"
         },
         "name": "ssp2",
         "opacity": 0.8,
         "type": "scatter",
         "x": [
          2018,
          2019,
          2020,
          2021,
          2022,
          2023,
          2024,
          2025,
          2026,
          2027,
          2028,
          2029,
          2030
         ],
         "y": [
          3316.034970557209,
          3183.203319040904,
          3059.2662808144864,
          2953.994694790013,
          2856.515825806643,
          2766.647930106316,
          2688.215048584019,
          2614.814417308495,
          2544.7805755556897,
          2484.083154381454,
          2427.765808138029,
          2377.4133220968674,
          2330.9712966089405
         ]
        },
        {
         "line": {
          "color": "#2ca02c"
         },
         "name": "ssp3",
         "opacity": 0.8,
         "type": "scatter",
         "x": [
          2018,
          2019,
          2020,
          2021,
          2022,
          2023,
          2024,
          2025,
          2026,
          2027,
          2028,
          2029,
          2030
         ],
         "y": [
          3395.7723346450307,
          3340.6240058048015,
          3289.431374309763,
          3242.7986899924335,
          3201.379349131384,
          3162.1578302027797,
          3125.5717807060005,
          3090.460744157073,
          3058.785126851,
          3029.6797293263176,
          3002.6360643409416,
          2979.461677311072,
          2956.83414166268
         ]
        },
        {
         "line": {
          "color": "#d62728"
         },
         "name": "ssp4",
         "opacity": 0.8,
         "type": "scatter",
         "x": [
          2018,
          2019,
          2020,
          2021,
          2022,
          2023,
          2024,
          2025,
          2026,
          2027,
          2028,
          2029,
          2030
         ],
         "y": [
          3294.0982809317215,
          3140.1443435962437,
          2999.13930141372,
          2873.0863503268206,
          2755.77255724102,
          2656.132004232128,
          2560.3473012214554,
          2471.8496772570984,
          2394.007102197189,
          2321.495053520114,
          2256.6520891849887,
          2196.600838114964,
          2141.720440393461
         ]
        },
        {
         "line": {
          "color": "#9467bd"
         },
         "name": "ssp5",
         "opacity": 0.8,
         "type": "scatter",
         "x": [
          2018,
          2019,
          2020,
          2021,
          2022,
          2023,
          2024,
          2025,
          2026,
          2027,
          2028,
          2029,
          2030
         ],
         "y": [
          3303.0072259178096,
          3153.916290821684,
          3013.3982723128975,
          2884.847347347925,
          2759.5740914485937,
          2641.188184566007,
          2529.5146474140593,
          2424.401899369173,
          2327.6478386086005,
          2236.3076489349196,
          2148.222610193927,
          2065.6277213535445,
          1985.9599138106903
         ]
        },
        {
         "line": {
          "color": "Black"
         },
         "name": "EU target",
         "opacity": 0.8,
         "type": "scatter",
         "x": [
          2018,
          2019,
          2020,
          2021,
          2022,
          2023,
          2024,
          2025,
          2026,
          2027,
          2028,
          2029,
          2030
         ],
         "y": [
          2645.1158467031278,
          2645.1158467031278,
          2645.1158467031278,
          2645.1158467031278,
          2645.1158467031278,
          2645.1158467031278,
          2645.1158467031278,
          2645.1158467031278,
          2645.1158467031278,
          2645.1158467031278,
          2645.1158467031278,
          2645.1158467031278,
          2645.1158467031278
         ]
        }
       ],
       "layout": {
        "template": {
         "data": {
          "bar": [
           {
            "error_x": {
             "color": "#2a3f5f"
            },
            "error_y": {
             "color": "#2a3f5f"
            },
            "marker": {
             "line": {
              "color": "#E5ECF6",
              "width": 0.5
             }
            },
            "type": "bar"
           }
          ],
          "barpolar": [
           {
            "marker": {
             "line": {
              "color": "#E5ECF6",
              "width": 0.5
             }
            },
            "type": "barpolar"
           }
          ],
          "carpet": [
           {
            "aaxis": {
             "endlinecolor": "#2a3f5f",
             "gridcolor": "white",
             "linecolor": "white",
             "minorgridcolor": "white",
             "startlinecolor": "#2a3f5f"
            },
            "baxis": {
             "endlinecolor": "#2a3f5f",
             "gridcolor": "white",
             "linecolor": "white",
             "minorgridcolor": "white",
             "startlinecolor": "#2a3f5f"
            },
            "type": "carpet"
           }
          ],
          "choropleth": [
           {
            "colorbar": {
             "outlinewidth": 0,
             "ticks": ""
            },
            "type": "choropleth"
           }
          ],
          "contour": [
           {
            "colorbar": {
             "outlinewidth": 0,
             "ticks": ""
            },
            "colorscale": [
             [
              0,
              "#0d0887"
             ],
             [
              0.1111111111111111,
              "#46039f"
             ],
             [
              0.2222222222222222,
              "#7201a8"
             ],
             [
              0.3333333333333333,
              "#9c179e"
             ],
             [
              0.4444444444444444,
              "#bd3786"
             ],
             [
              0.5555555555555556,
              "#d8576b"
             ],
             [
              0.6666666666666666,
              "#ed7953"
             ],
             [
              0.7777777777777778,
              "#fb9f3a"
             ],
             [
              0.8888888888888888,
              "#fdca26"
             ],
             [
              1,
              "#f0f921"
             ]
            ],
            "type": "contour"
           }
          ],
          "contourcarpet": [
           {
            "colorbar": {
             "outlinewidth": 0,
             "ticks": ""
            },
            "type": "contourcarpet"
           }
          ],
          "heatmap": [
           {
            "colorbar": {
             "outlinewidth": 0,
             "ticks": ""
            },
            "colorscale": [
             [
              0,
              "#0d0887"
             ],
             [
              0.1111111111111111,
              "#46039f"
             ],
             [
              0.2222222222222222,
              "#7201a8"
             ],
             [
              0.3333333333333333,
              "#9c179e"
             ],
             [
              0.4444444444444444,
              "#bd3786"
             ],
             [
              0.5555555555555556,
              "#d8576b"
             ],
             [
              0.6666666666666666,
              "#ed7953"
             ],
             [
              0.7777777777777778,
              "#fb9f3a"
             ],
             [
              0.8888888888888888,
              "#fdca26"
             ],
             [
              1,
              "#f0f921"
             ]
            ],
            "type": "heatmap"
           }
          ],
          "heatmapgl": [
           {
            "colorbar": {
             "outlinewidth": 0,
             "ticks": ""
            },
            "colorscale": [
             [
              0,
              "#0d0887"
             ],
             [
              0.1111111111111111,
              "#46039f"
             ],
             [
              0.2222222222222222,
              "#7201a8"
             ],
             [
              0.3333333333333333,
              "#9c179e"
             ],
             [
              0.4444444444444444,
              "#bd3786"
             ],
             [
              0.5555555555555556,
              "#d8576b"
             ],
             [
              0.6666666666666666,
              "#ed7953"
             ],
             [
              0.7777777777777778,
              "#fb9f3a"
             ],
             [
              0.8888888888888888,
              "#fdca26"
             ],
             [
              1,
              "#f0f921"
             ]
            ],
            "type": "heatmapgl"
           }
          ],
          "histogram": [
           {
            "marker": {
             "colorbar": {
              "outlinewidth": 0,
              "ticks": ""
             }
            },
            "type": "histogram"
           }
          ],
          "histogram2d": [
           {
            "colorbar": {
             "outlinewidth": 0,
             "ticks": ""
            },
            "colorscale": [
             [
              0,
              "#0d0887"
             ],
             [
              0.1111111111111111,
              "#46039f"
             ],
             [
              0.2222222222222222,
              "#7201a8"
             ],
             [
              0.3333333333333333,
              "#9c179e"
             ],
             [
              0.4444444444444444,
              "#bd3786"
             ],
             [
              0.5555555555555556,
              "#d8576b"
             ],
             [
              0.6666666666666666,
              "#ed7953"
             ],
             [
              0.7777777777777778,
              "#fb9f3a"
             ],
             [
              0.8888888888888888,
              "#fdca26"
             ],
             [
              1,
              "#f0f921"
             ]
            ],
            "type": "histogram2d"
           }
          ],
          "histogram2dcontour": [
           {
            "colorbar": {
             "outlinewidth": 0,
             "ticks": ""
            },
            "colorscale": [
             [
              0,
              "#0d0887"
             ],
             [
              0.1111111111111111,
              "#46039f"
             ],
             [
              0.2222222222222222,
              "#7201a8"
             ],
             [
              0.3333333333333333,
              "#9c179e"
             ],
             [
              0.4444444444444444,
              "#bd3786"
             ],
             [
              0.5555555555555556,
              "#d8576b"
             ],
             [
              0.6666666666666666,
              "#ed7953"
             ],
             [
              0.7777777777777778,
              "#fb9f3a"
             ],
             [
              0.8888888888888888,
              "#fdca26"
             ],
             [
              1,
              "#f0f921"
             ]
            ],
            "type": "histogram2dcontour"
           }
          ],
          "mesh3d": [
           {
            "colorbar": {
             "outlinewidth": 0,
             "ticks": ""
            },
            "type": "mesh3d"
           }
          ],
          "parcoords": [
           {
            "line": {
             "colorbar": {
              "outlinewidth": 0,
              "ticks": ""
             }
            },
            "type": "parcoords"
           }
          ],
          "pie": [
           {
            "automargin": true,
            "type": "pie"
           }
          ],
          "scatter": [
           {
            "marker": {
             "colorbar": {
              "outlinewidth": 0,
              "ticks": ""
             }
            },
            "type": "scatter"
           }
          ],
          "scatter3d": [
           {
            "line": {
             "colorbar": {
              "outlinewidth": 0,
              "ticks": ""
             }
            },
            "marker": {
             "colorbar": {
              "outlinewidth": 0,
              "ticks": ""
             }
            },
            "type": "scatter3d"
           }
          ],
          "scattercarpet": [
           {
            "marker": {
             "colorbar": {
              "outlinewidth": 0,
              "ticks": ""
             }
            },
            "type": "scattercarpet"
           }
          ],
          "scattergeo": [
           {
            "marker": {
             "colorbar": {
              "outlinewidth": 0,
              "ticks": ""
             }
            },
            "type": "scattergeo"
           }
          ],
          "scattergl": [
           {
            "marker": {
             "colorbar": {
              "outlinewidth": 0,
              "ticks": ""
             }
            },
            "type": "scattergl"
           }
          ],
          "scattermapbox": [
           {
            "marker": {
             "colorbar": {
              "outlinewidth": 0,
              "ticks": ""
             }
            },
            "type": "scattermapbox"
           }
          ],
          "scatterpolar": [
           {
            "marker": {
             "colorbar": {
              "outlinewidth": 0,
              "ticks": ""
             }
            },
            "type": "scatterpolar"
           }
          ],
          "scatterpolargl": [
           {
            "marker": {
             "colorbar": {
              "outlinewidth": 0,
              "ticks": ""
             }
            },
            "type": "scatterpolargl"
           }
          ],
          "scatterternary": [
           {
            "marker": {
             "colorbar": {
              "outlinewidth": 0,
              "ticks": ""
             }
            },
            "type": "scatterternary"
           }
          ],
          "surface": [
           {
            "colorbar": {
             "outlinewidth": 0,
             "ticks": ""
            },
            "colorscale": [
             [
              0,
              "#0d0887"
             ],
             [
              0.1111111111111111,
              "#46039f"
             ],
             [
              0.2222222222222222,
              "#7201a8"
             ],
             [
              0.3333333333333333,
              "#9c179e"
             ],
             [
              0.4444444444444444,
              "#bd3786"
             ],
             [
              0.5555555555555556,
              "#d8576b"
             ],
             [
              0.6666666666666666,
              "#ed7953"
             ],
             [
              0.7777777777777778,
              "#fb9f3a"
             ],
             [
              0.8888888888888888,
              "#fdca26"
             ],
             [
              1,
              "#f0f921"
             ]
            ],
            "type": "surface"
           }
          ],
          "table": [
           {
            "cells": {
             "fill": {
              "color": "#EBF0F8"
             },
             "line": {
              "color": "white"
             }
            },
            "header": {
             "fill": {
              "color": "#C8D4E3"
             },
             "line": {
              "color": "white"
             }
            },
            "type": "table"
           }
          ]
         },
         "layout": {
          "annotationdefaults": {
           "arrowcolor": "#2a3f5f",
           "arrowhead": 0,
           "arrowwidth": 1
          },
          "coloraxis": {
           "colorbar": {
            "outlinewidth": 0,
            "ticks": ""
           }
          },
          "colorscale": {
           "diverging": [
            [
             0,
             "#8e0152"
            ],
            [
             0.1,
             "#c51b7d"
            ],
            [
             0.2,
             "#de77ae"
            ],
            [
             0.3,
             "#f1b6da"
            ],
            [
             0.4,
             "#fde0ef"
            ],
            [
             0.5,
             "#f7f7f7"
            ],
            [
             0.6,
             "#e6f5d0"
            ],
            [
             0.7,
             "#b8e186"
            ],
            [
             0.8,
             "#7fbc41"
            ],
            [
             0.9,
             "#4d9221"
            ],
            [
             1,
             "#276419"
            ]
           ],
           "sequential": [
            [
             0,
             "#0d0887"
            ],
            [
             0.1111111111111111,
             "#46039f"
            ],
            [
             0.2222222222222222,
             "#7201a8"
            ],
            [
             0.3333333333333333,
             "#9c179e"
            ],
            [
             0.4444444444444444,
             "#bd3786"
            ],
            [
             0.5555555555555556,
             "#d8576b"
            ],
            [
             0.6666666666666666,
             "#ed7953"
            ],
            [
             0.7777777777777778,
             "#fb9f3a"
            ],
            [
             0.8888888888888888,
             "#fdca26"
            ],
            [
             1,
             "#f0f921"
            ]
           ],
           "sequentialminus": [
            [
             0,
             "#0d0887"
            ],
            [
             0.1111111111111111,
             "#46039f"
            ],
            [
             0.2222222222222222,
             "#7201a8"
            ],
            [
             0.3333333333333333,
             "#9c179e"
            ],
            [
             0.4444444444444444,
             "#bd3786"
            ],
            [
             0.5555555555555556,
             "#d8576b"
            ],
            [
             0.6666666666666666,
             "#ed7953"
            ],
            [
             0.7777777777777778,
             "#fb9f3a"
            ],
            [
             0.8888888888888888,
             "#fdca26"
            ],
            [
             1,
             "#f0f921"
            ]
           ]
          },
          "colorway": [
           "#636efa",
           "#EF553B",
           "#00cc96",
           "#ab63fa",
           "#FFA15A",
           "#19d3f3",
           "#FF6692",
           "#B6E880",
           "#FF97FF",
           "#FECB52"
          ],
          "font": {
           "color": "#2a3f5f"
          },
          "geo": {
           "bgcolor": "white",
           "lakecolor": "white",
           "landcolor": "#E5ECF6",
           "showlakes": true,
           "showland": true,
           "subunitcolor": "white"
          },
          "hoverlabel": {
           "align": "left"
          },
          "hovermode": "closest",
          "mapbox": {
           "style": "light"
          },
          "paper_bgcolor": "white",
          "plot_bgcolor": "#E5ECF6",
          "polar": {
           "angularaxis": {
            "gridcolor": "white",
            "linecolor": "white",
            "ticks": ""
           },
           "bgcolor": "#E5ECF6",
           "radialaxis": {
            "gridcolor": "white",
            "linecolor": "white",
            "ticks": ""
           }
          },
          "scene": {
           "xaxis": {
            "backgroundcolor": "#E5ECF6",
            "gridcolor": "white",
            "gridwidth": 2,
            "linecolor": "white",
            "showbackground": true,
            "ticks": "",
            "zerolinecolor": "white"
           },
           "yaxis": {
            "backgroundcolor": "#E5ECF6",
            "gridcolor": "white",
            "gridwidth": 2,
            "linecolor": "white",
            "showbackground": true,
            "ticks": "",
            "zerolinecolor": "white"
           },
           "zaxis": {
            "backgroundcolor": "#E5ECF6",
            "gridcolor": "white",
            "gridwidth": 2,
            "linecolor": "white",
            "showbackground": true,
            "ticks": "",
            "zerolinecolor": "white"
           }
          },
          "shapedefaults": {
           "line": {
            "color": "#2a3f5f"
           }
          },
          "ternary": {
           "aaxis": {
            "gridcolor": "white",
            "linecolor": "white",
            "ticks": ""
           },
           "baxis": {
            "gridcolor": "white",
            "linecolor": "white",
            "ticks": ""
           },
           "bgcolor": "#E5ECF6",
           "caxis": {
            "gridcolor": "white",
            "linecolor": "white",
            "ticks": ""
           }
          },
          "title": {
           "x": 0.05
          },
          "xaxis": {
           "automargin": true,
           "gridcolor": "white",
           "linecolor": "white",
           "ticks": "",
           "title": {
            "standoff": 15
           },
           "zerolinecolor": "white",
           "zerolinewidth": 2
          },
          "yaxis": {
           "automargin": true,
           "gridcolor": "white",
           "linecolor": "white",
           "ticks": "",
           "title": {
            "standoff": 15
           },
           "zerolinecolor": "white",
           "zerolinewidth": 2
          }
         }
        },
        "title": {
         "text": "Forecasts of CO2 emissions in function of the family of scenarios based on the derivative of Kaya model"
        },
        "xaxis": {
         "title": {
          "text": "Years"
         }
        },
        "yaxis": {
         "title": {
          "text": "CO2 emissions [MtCO2eq]"
         }
        }
       }
      },
      "text/html": [
       "<div>\n",
       "        \n",
       "        \n",
       "            <div id=\"2a26c0bf-d815-4d48-95c3-db4024a888bc\" class=\"plotly-graph-div\" style=\"height:525px; width:100%;\"></div>\n",
       "            <script type=\"text/javascript\">\n",
       "                require([\"plotly\"], function(Plotly) {\n",
       "                    window.PLOTLYENV=window.PLOTLYENV || {};\n",
       "                    \n",
       "                if (document.getElementById(\"2a26c0bf-d815-4d48-95c3-db4024a888bc\")) {\n",
       "                    Plotly.newPlot(\n",
       "                        '2a26c0bf-d815-4d48-95c3-db4024a888bc',\n",
       "                        [{\"line\": {\"color\": \"#1f77b4\"}, \"name\": \"ssp1\", \"opacity\": 0.8, \"type\": \"scatter\", \"x\": [2018, 2019, 2020, 2021, 2022, 2023, 2024, 2025, 2026, 2027, 2028, 2029, 2030], \"y\": [3228.1618535470775, 3024.672008423996, 2831.2022959060814, 2660.140130846132, 2503.874633921943, 2361.649083182716, 2231.9397399875143, 2117.245230917869, 2008.2284102864041, 1911.1688814133206, 1820.9951301852375, 1739.6873873527823, 1665.0477099926636]}, {\"line\": {\"color\": \"#ff7f0e\"}, \"name\": \"ssp2\", \"opacity\": 0.8, \"type\": \"scatter\", \"x\": [2018, 2019, 2020, 2021, 2022, 2023, 2024, 2025, 2026, 2027, 2028, 2029, 2030], \"y\": [3316.034970557209, 3183.203319040904, 3059.2662808144864, 2953.994694790013, 2856.515825806643, 2766.647930106316, 2688.215048584019, 2614.814417308495, 2544.7805755556897, 2484.083154381454, 2427.765808138029, 2377.4133220968674, 2330.9712966089405]}, {\"line\": {\"color\": \"#2ca02c\"}, \"name\": \"ssp3\", \"opacity\": 0.8, \"type\": \"scatter\", \"x\": [2018, 2019, 2020, 2021, 2022, 2023, 2024, 2025, 2026, 2027, 2028, 2029, 2030], \"y\": [3395.7723346450307, 3340.6240058048015, 3289.431374309763, 3242.7986899924335, 3201.379349131384, 3162.1578302027797, 3125.5717807060005, 3090.460744157073, 3058.785126851, 3029.6797293263176, 3002.6360643409416, 2979.461677311072, 2956.83414166268]}, {\"line\": {\"color\": \"#d62728\"}, \"name\": \"ssp4\", \"opacity\": 0.8, \"type\": \"scatter\", \"x\": [2018, 2019, 2020, 2021, 2022, 2023, 2024, 2025, 2026, 2027, 2028, 2029, 2030], \"y\": [3294.0982809317215, 3140.1443435962437, 2999.13930141372, 2873.0863503268206, 2755.77255724102, 2656.132004232128, 2560.3473012214554, 2471.8496772570984, 2394.007102197189, 2321.495053520114, 2256.6520891849887, 2196.600838114964, 2141.720440393461]}, {\"line\": {\"color\": \"#9467bd\"}, \"name\": \"ssp5\", \"opacity\": 0.8, \"type\": \"scatter\", \"x\": [2018, 2019, 2020, 2021, 2022, 2023, 2024, 2025, 2026, 2027, 2028, 2029, 2030], \"y\": [3303.0072259178096, 3153.916290821684, 3013.3982723128975, 2884.847347347925, 2759.5740914485937, 2641.188184566007, 2529.5146474140593, 2424.401899369173, 2327.6478386086005, 2236.3076489349196, 2148.222610193927, 2065.6277213535445, 1985.9599138106903]}, {\"line\": {\"color\": \"Black\"}, \"name\": \"EU target\", \"opacity\": 0.8, \"type\": \"scatter\", \"x\": [2018, 2019, 2020, 2021, 2022, 2023, 2024, 2025, 2026, 2027, 2028, 2029, 2030], \"y\": [2645.1158467031278, 2645.1158467031278, 2645.1158467031278, 2645.1158467031278, 2645.1158467031278, 2645.1158467031278, 2645.1158467031278, 2645.1158467031278, 2645.1158467031278, 2645.1158467031278, 2645.1158467031278, 2645.1158467031278, 2645.1158467031278]}],\n",
       "                        {\"template\": {\"data\": {\"bar\": [{\"error_x\": {\"color\": \"#2a3f5f\"}, \"error_y\": {\"color\": \"#2a3f5f\"}, \"marker\": {\"line\": {\"color\": \"#E5ECF6\", \"width\": 0.5}}, \"type\": \"bar\"}], \"barpolar\": [{\"marker\": {\"line\": {\"color\": \"#E5ECF6\", \"width\": 0.5}}, \"type\": \"barpolar\"}], \"carpet\": [{\"aaxis\": {\"endlinecolor\": \"#2a3f5f\", \"gridcolor\": \"white\", \"linecolor\": \"white\", \"minorgridcolor\": \"white\", \"startlinecolor\": \"#2a3f5f\"}, \"baxis\": {\"endlinecolor\": \"#2a3f5f\", \"gridcolor\": \"white\", \"linecolor\": \"white\", \"minorgridcolor\": \"white\", \"startlinecolor\": \"#2a3f5f\"}, \"type\": \"carpet\"}], \"choropleth\": [{\"colorbar\": {\"outlinewidth\": 0, \"ticks\": \"\"}, \"type\": \"choropleth\"}], \"contour\": [{\"colorbar\": {\"outlinewidth\": 0, \"ticks\": \"\"}, \"colorscale\": [[0.0, \"#0d0887\"], [0.1111111111111111, \"#46039f\"], [0.2222222222222222, \"#7201a8\"], [0.3333333333333333, \"#9c179e\"], [0.4444444444444444, \"#bd3786\"], [0.5555555555555556, \"#d8576b\"], [0.6666666666666666, \"#ed7953\"], [0.7777777777777778, \"#fb9f3a\"], [0.8888888888888888, \"#fdca26\"], [1.0, \"#f0f921\"]], \"type\": \"contour\"}], \"contourcarpet\": [{\"colorbar\": {\"outlinewidth\": 0, \"ticks\": \"\"}, \"type\": \"contourcarpet\"}], \"heatmap\": [{\"colorbar\": {\"outlinewidth\": 0, \"ticks\": \"\"}, \"colorscale\": [[0.0, \"#0d0887\"], [0.1111111111111111, \"#46039f\"], [0.2222222222222222, \"#7201a8\"], [0.3333333333333333, \"#9c179e\"], [0.4444444444444444, \"#bd3786\"], [0.5555555555555556, \"#d8576b\"], [0.6666666666666666, \"#ed7953\"], [0.7777777777777778, \"#fb9f3a\"], [0.8888888888888888, \"#fdca26\"], [1.0, \"#f0f921\"]], \"type\": \"heatmap\"}], \"heatmapgl\": [{\"colorbar\": {\"outlinewidth\": 0, \"ticks\": \"\"}, \"colorscale\": [[0.0, \"#0d0887\"], [0.1111111111111111, \"#46039f\"], [0.2222222222222222, \"#7201a8\"], [0.3333333333333333, \"#9c179e\"], [0.4444444444444444, \"#bd3786\"], [0.5555555555555556, \"#d8576b\"], [0.6666666666666666, \"#ed7953\"], [0.7777777777777778, \"#fb9f3a\"], [0.8888888888888888, \"#fdca26\"], [1.0, \"#f0f921\"]], \"type\": \"heatmapgl\"}], \"histogram\": [{\"marker\": {\"colorbar\": {\"outlinewidth\": 0, \"ticks\": \"\"}}, \"type\": \"histogram\"}], \"histogram2d\": [{\"colorbar\": {\"outlinewidth\": 0, \"ticks\": \"\"}, \"colorscale\": [[0.0, \"#0d0887\"], [0.1111111111111111, \"#46039f\"], [0.2222222222222222, \"#7201a8\"], [0.3333333333333333, \"#9c179e\"], [0.4444444444444444, \"#bd3786\"], [0.5555555555555556, \"#d8576b\"], [0.6666666666666666, \"#ed7953\"], [0.7777777777777778, \"#fb9f3a\"], [0.8888888888888888, \"#fdca26\"], [1.0, \"#f0f921\"]], \"type\": \"histogram2d\"}], \"histogram2dcontour\": [{\"colorbar\": {\"outlinewidth\": 0, \"ticks\": \"\"}, \"colorscale\": [[0.0, \"#0d0887\"], [0.1111111111111111, \"#46039f\"], [0.2222222222222222, \"#7201a8\"], [0.3333333333333333, \"#9c179e\"], [0.4444444444444444, \"#bd3786\"], [0.5555555555555556, \"#d8576b\"], [0.6666666666666666, \"#ed7953\"], [0.7777777777777778, \"#fb9f3a\"], [0.8888888888888888, \"#fdca26\"], [1.0, \"#f0f921\"]], \"type\": \"histogram2dcontour\"}], \"mesh3d\": [{\"colorbar\": {\"outlinewidth\": 0, \"ticks\": \"\"}, \"type\": \"mesh3d\"}], \"parcoords\": [{\"line\": {\"colorbar\": {\"outlinewidth\": 0, \"ticks\": \"\"}}, \"type\": \"parcoords\"}], \"pie\": [{\"automargin\": true, \"type\": \"pie\"}], \"scatter\": [{\"marker\": {\"colorbar\": {\"outlinewidth\": 0, \"ticks\": \"\"}}, \"type\": \"scatter\"}], \"scatter3d\": [{\"line\": {\"colorbar\": {\"outlinewidth\": 0, \"ticks\": \"\"}}, \"marker\": {\"colorbar\": {\"outlinewidth\": 0, \"ticks\": \"\"}}, \"type\": \"scatter3d\"}], \"scattercarpet\": [{\"marker\": {\"colorbar\": {\"outlinewidth\": 0, \"ticks\": \"\"}}, \"type\": \"scattercarpet\"}], \"scattergeo\": [{\"marker\": {\"colorbar\": {\"outlinewidth\": 0, \"ticks\": \"\"}}, \"type\": \"scattergeo\"}], \"scattergl\": [{\"marker\": {\"colorbar\": {\"outlinewidth\": 0, \"ticks\": \"\"}}, \"type\": \"scattergl\"}], \"scattermapbox\": [{\"marker\": {\"colorbar\": {\"outlinewidth\": 0, \"ticks\": \"\"}}, \"type\": \"scattermapbox\"}], \"scatterpolar\": [{\"marker\": {\"colorbar\": {\"outlinewidth\": 0, \"ticks\": \"\"}}, \"type\": \"scatterpolar\"}], \"scatterpolargl\": [{\"marker\": {\"colorbar\": {\"outlinewidth\": 0, \"ticks\": \"\"}}, \"type\": \"scatterpolargl\"}], \"scatterternary\": [{\"marker\": {\"colorbar\": {\"outlinewidth\": 0, \"ticks\": \"\"}}, \"type\": \"scatterternary\"}], \"surface\": [{\"colorbar\": {\"outlinewidth\": 0, \"ticks\": \"\"}, \"colorscale\": [[0.0, \"#0d0887\"], [0.1111111111111111, \"#46039f\"], [0.2222222222222222, \"#7201a8\"], [0.3333333333333333, \"#9c179e\"], [0.4444444444444444, \"#bd3786\"], [0.5555555555555556, \"#d8576b\"], [0.6666666666666666, \"#ed7953\"], [0.7777777777777778, \"#fb9f3a\"], [0.8888888888888888, \"#fdca26\"], [1.0, \"#f0f921\"]], \"type\": \"surface\"}], \"table\": [{\"cells\": {\"fill\": {\"color\": \"#EBF0F8\"}, \"line\": {\"color\": \"white\"}}, \"header\": {\"fill\": {\"color\": \"#C8D4E3\"}, \"line\": {\"color\": \"white\"}}, \"type\": \"table\"}]}, \"layout\": {\"annotationdefaults\": {\"arrowcolor\": \"#2a3f5f\", \"arrowhead\": 0, \"arrowwidth\": 1}, \"coloraxis\": {\"colorbar\": {\"outlinewidth\": 0, \"ticks\": \"\"}}, \"colorscale\": {\"diverging\": [[0, \"#8e0152\"], [0.1, \"#c51b7d\"], [0.2, \"#de77ae\"], [0.3, \"#f1b6da\"], [0.4, \"#fde0ef\"], [0.5, \"#f7f7f7\"], [0.6, \"#e6f5d0\"], [0.7, \"#b8e186\"], [0.8, \"#7fbc41\"], [0.9, \"#4d9221\"], [1, \"#276419\"]], \"sequential\": [[0.0, \"#0d0887\"], [0.1111111111111111, \"#46039f\"], [0.2222222222222222, \"#7201a8\"], [0.3333333333333333, \"#9c179e\"], [0.4444444444444444, \"#bd3786\"], [0.5555555555555556, \"#d8576b\"], [0.6666666666666666, \"#ed7953\"], [0.7777777777777778, \"#fb9f3a\"], [0.8888888888888888, \"#fdca26\"], [1.0, \"#f0f921\"]], \"sequentialminus\": [[0.0, \"#0d0887\"], [0.1111111111111111, \"#46039f\"], [0.2222222222222222, \"#7201a8\"], [0.3333333333333333, \"#9c179e\"], [0.4444444444444444, \"#bd3786\"], [0.5555555555555556, \"#d8576b\"], [0.6666666666666666, \"#ed7953\"], [0.7777777777777778, \"#fb9f3a\"], [0.8888888888888888, \"#fdca26\"], [1.0, \"#f0f921\"]]}, \"colorway\": [\"#636efa\", \"#EF553B\", \"#00cc96\", \"#ab63fa\", \"#FFA15A\", \"#19d3f3\", \"#FF6692\", \"#B6E880\", \"#FF97FF\", \"#FECB52\"], \"font\": {\"color\": \"#2a3f5f\"}, \"geo\": {\"bgcolor\": \"white\", \"lakecolor\": \"white\", \"landcolor\": \"#E5ECF6\", \"showlakes\": true, \"showland\": true, \"subunitcolor\": \"white\"}, \"hoverlabel\": {\"align\": \"left\"}, \"hovermode\": \"closest\", \"mapbox\": {\"style\": \"light\"}, \"paper_bgcolor\": \"white\", \"plot_bgcolor\": \"#E5ECF6\", \"polar\": {\"angularaxis\": {\"gridcolor\": \"white\", \"linecolor\": \"white\", \"ticks\": \"\"}, \"bgcolor\": \"#E5ECF6\", \"radialaxis\": {\"gridcolor\": \"white\", \"linecolor\": \"white\", \"ticks\": \"\"}}, \"scene\": {\"xaxis\": {\"backgroundcolor\": \"#E5ECF6\", \"gridcolor\": \"white\", \"gridwidth\": 2, \"linecolor\": \"white\", \"showbackground\": true, \"ticks\": \"\", \"zerolinecolor\": \"white\"}, \"yaxis\": {\"backgroundcolor\": \"#E5ECF6\", \"gridcolor\": \"white\", \"gridwidth\": 2, \"linecolor\": \"white\", \"showbackground\": true, \"ticks\": \"\", \"zerolinecolor\": \"white\"}, \"zaxis\": {\"backgroundcolor\": \"#E5ECF6\", \"gridcolor\": \"white\", \"gridwidth\": 2, \"linecolor\": \"white\", \"showbackground\": true, \"ticks\": \"\", \"zerolinecolor\": \"white\"}}, \"shapedefaults\": {\"line\": {\"color\": \"#2a3f5f\"}}, \"ternary\": {\"aaxis\": {\"gridcolor\": \"white\", \"linecolor\": \"white\", \"ticks\": \"\"}, \"baxis\": {\"gridcolor\": \"white\", \"linecolor\": \"white\", \"ticks\": \"\"}, \"bgcolor\": \"#E5ECF6\", \"caxis\": {\"gridcolor\": \"white\", \"linecolor\": \"white\", \"ticks\": \"\"}}, \"title\": {\"x\": 0.05}, \"xaxis\": {\"automargin\": true, \"gridcolor\": \"white\", \"linecolor\": \"white\", \"ticks\": \"\", \"title\": {\"standoff\": 15}, \"zerolinecolor\": \"white\", \"zerolinewidth\": 2}, \"yaxis\": {\"automargin\": true, \"gridcolor\": \"white\", \"linecolor\": \"white\", \"ticks\": \"\", \"title\": {\"standoff\": 15}, \"zerolinecolor\": \"white\", \"zerolinewidth\": 2}}}, \"title\": {\"text\": \"Forecasts of CO2 emissions in function of the family of scenarios based on the derivative of Kaya model\"}, \"xaxis\": {\"title\": {\"text\": \"Years\"}}, \"yaxis\": {\"title\": {\"text\": \"CO2 emissions [MtCO2eq]\"}}},\n",
       "                        {\"responsive\": true}\n",
       "                    ).then(function(){\n",
       "                            \n",
       "var gd = document.getElementById('2a26c0bf-d815-4d48-95c3-db4024a888bc');\n",
       "var x = new MutationObserver(function (mutations, observer) {{\n",
       "        var display = window.getComputedStyle(gd).display;\n",
       "        if (!display || display === 'none') {{\n",
       "            console.log([gd, 'removed!']);\n",
       "            Plotly.purge(gd);\n",
       "            observer.disconnect();\n",
       "        }}\n",
       "}});\n",
       "\n",
       "// Listen for the removal of the full notebook cells\n",
       "var notebookContainer = gd.closest('#notebook-container');\n",
       "if (notebookContainer) {{\n",
       "    x.observe(notebookContainer, {childList: true});\n",
       "}}\n",
       "\n",
       "// Listen for the clearing of the current output cell\n",
       "var outputEl = gd.closest('.output');\n",
       "if (outputEl) {{\n",
       "    x.observe(outputEl, {childList: true});\n",
       "}}\n",
       "\n",
       "                        })\n",
       "                };\n",
       "                });\n",
       "            </script>\n",
       "        </div>"
      ]
     },
     "metadata": {},
     "output_type": "display_data"
    }
   ],
   "source": [
    "samples = 1000\n",
    "emi_kaya_triangular = get_carbon_emissions(samples, distri='triangular', show=False)\n",
    "emi_kaya_normal = get_carbon_emissions(samples, distri='normal', show=True)\n",
    "emi_kaya_rates_normal = get_carbon_emissions(samples,'normal', file_rates, show=True)\n",
    "emi_kaya_rates_triangular = get_carbon_emissions(samples, 'triangular', file_rates, show=False)\n",
    "real_proj = show_real_projections(file_real_proj, show=False)\n",
    "show_goals([emi_kaya_normal, emi_kaya_rates_normal, real_proj],\n",
    "           name = ['Kaya model', 'Derivative of Kaya model', 'Projection', 'Target'], show=False)\n",
    "projection_vs_forecasts([emi_kaya_normal, emi_kaya_rates_normal, real_proj],\n",
    "                        name=['Kaya model', 'Derivative of Kaya model', 'Projections'], show=False)"
   ]
  },
  {
   "cell_type": "markdown",
   "metadata": {},
   "source": [
    "## Confidence intervalle : not done yet"
   ]
  },
  {
   "cell_type": "code",
   "execution_count": 4,
   "metadata": {},
   "outputs": [
    {
     "ename": "TypeError",
     "evalue": "monte_carlo_simulation() missing 1 required positional argument: 'samples'",
     "output_type": "error",
     "traceback": [
      "\u001b[0;31m---------------------------------------------------------------------------\u001b[0m",
      "\u001b[0;31mTypeError\u001b[0m                                 Traceback (most recent call last)",
      "\u001b[0;32m<ipython-input-4-991e293192a9>\u001b[0m in \u001b[0;36m<module>\u001b[0;34m\u001b[0m\n\u001b[1;32m      3\u001b[0m \u001b[0mi\u001b[0m \u001b[0;34m=\u001b[0m \u001b[0;36m0\u001b[0m\u001b[0;34m\u001b[0m\u001b[0;34m\u001b[0m\u001b[0m\n\u001b[1;32m      4\u001b[0m \u001b[0;32mfor\u001b[0m \u001b[0mssp\u001b[0m \u001b[0;32min\u001b[0m \u001b[0mlist_ssp\u001b[0m\u001b[0;34m:\u001b[0m\u001b[0;34m\u001b[0m\u001b[0;34m\u001b[0m\u001b[0m\n\u001b[0;32m----> 5\u001b[0;31m     \u001b[0mh\u001b[0m \u001b[0;34m=\u001b[0m \u001b[0;34m(\u001b[0m\u001b[0mmonte_carlo_simulation\u001b[0m\u001b[0;34m(\u001b[0m\u001b[0mssp\u001b[0m\u001b[0;34m,\u001b[0m \u001b[0msamples\u001b[0m\u001b[0;34m,\u001b[0m \u001b[0;34m'kaya 1'\u001b[0m\u001b[0;34m)\u001b[0m\u001b[0;34m[\u001b[0m\u001b[0;36m11\u001b[0m\u001b[0;34m]\u001b[0m\u001b[0;34m)\u001b[0m\u001b[0;34m\u001b[0m\u001b[0;34m\u001b[0m\u001b[0m\n\u001b[0m\u001b[1;32m      6\u001b[0m     \u001b[0ms\u001b[0m \u001b[0;34m=\u001b[0m \u001b[0mmean_confidence_interval\u001b[0m\u001b[0;34m(\u001b[0m\u001b[0mh\u001b[0m\u001b[0;34m)\u001b[0m\u001b[0;34m\u001b[0m\u001b[0;34m\u001b[0m\u001b[0m\n\u001b[1;32m      7\u001b[0m     \u001b[0mg\u001b[0m \u001b[0;34m=\u001b[0m \u001b[0;34m(\u001b[0m\u001b[0ms\u001b[0m\u001b[0;34m[\u001b[0m\u001b[0;36m2\u001b[0m\u001b[0;34m]\u001b[0m\u001b[0;34m-\u001b[0m\u001b[0ms\u001b[0m\u001b[0;34m[\u001b[0m\u001b[0;36m1\u001b[0m\u001b[0;34m]\u001b[0m\u001b[0;34m)\u001b[0m\u001b[0;34m*\u001b[0m\u001b[0;36m50\u001b[0m\u001b[0;34m\u001b[0m\u001b[0;34m\u001b[0m\u001b[0m\n",
      "\u001b[0;31mTypeError\u001b[0m: monte_carlo_simulation() missing 1 required positional argument: 'samples'"
     ]
    }
   ],
   "source": [
    "obj = 2.86\n",
    "prev = [3.03, 3.57, 3.63, 3.58, 4.36]\n",
    "i = 0\n",
    "for ssp in list_ssp:\n",
    "    h = (monte_carlo_simulation(ssp, samples, 'kaya 1')[11])\n",
    "    s = mean_confidence_interval(h)\n",
    "    g = (s[2]-s[1])*50\n",
    "    print([g/obj, g/prev[i]])\n",
    "    i = i+1\n",
    "\n",
    "h = (monte_carlo_simulation(ssp, samples, 'kaya 1')[11])\n",
    "s = mean_confidence_interval(h)\n",
    "s"
   ]
  },
  {
   "cell_type": "code",
   "execution_count": null,
   "metadata": {},
   "outputs": [],
   "source": []
  },
  {
   "cell_type": "code",
   "execution_count": null,
   "metadata": {},
   "outputs": [],
   "source": []
  },
  {
   "cell_type": "code",
   "execution_count": null,
   "metadata": {},
   "outputs": [],
   "source": []
  },
  {
   "cell_type": "code",
   "execution_count": null,
   "metadata": {},
   "outputs": [],
   "source": [
    "#gdp_list\n",
    "mean_rates_ci = []\n",
    "std_rates_ci = []\n",
    "for ssp in list_ssp:\n",
    "    mean_rates, std_rates = get_mean_std(file_rates, ssp, rates = True)\n",
    "    mean_rates_ci.append(mean_rates['carb_int'])\n",
    "    std_rates_ci.append(std_rates['carb_int'])\n",
    "\n",
    "# LES VALEURS DE STD SONT BCP TROP GRANDES !!!!!\n",
    "    \n",
    "print(mean_rates_ci)"
   ]
  }
 ],
 "metadata": {
  "kernelspec": {
   "display_name": "Python 3.7.4 64-bit ('rstudio': conda)",
   "language": "python",
   "name": "python37464bitrstudioconda85139be567af4fb89143852fd1a4ee46"
  },
  "language_info": {
   "codemirror_mode": {
    "name": "ipython",
    "version": 3
   },
   "file_extension": ".py",
   "mimetype": "text/x-python",
   "name": "python",
   "nbconvert_exporter": "python",
   "pygments_lexer": "ipython3",
   "version": "3.7.4"
  }
 },
 "nbformat": 4,
 "nbformat_minor": 4
}
