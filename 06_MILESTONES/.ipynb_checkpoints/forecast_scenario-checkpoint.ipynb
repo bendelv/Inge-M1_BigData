{
 "cells": [
  {
   "cell_type": "markdown",
   "metadata": {},
   "source": [
    "# Scenario based forecasting application on European Union carbon emissions from 2018 to 2030"
   ]
  },
  {
   "cell_type": "code",
   "execution_count": 1,
   "metadata": {},
   "outputs": [
    {
     "data": {
      "text/html": [
       "        <script type=\"text/javascript\">\n",
       "        window.PlotlyConfig = {MathJaxConfig: 'local'};\n",
       "        if (window.MathJax) {MathJax.Hub.Config({SVG: {font: \"STIX-Web\"}});}\n",
       "        if (typeof require !== 'undefined') {\n",
       "        require.undef(\"plotly\");\n",
       "        requirejs.config({\n",
       "            paths: {\n",
       "                'plotly': ['https://cdn.plot.ly/plotly-latest.min']\n",
       "            }\n",
       "        });\n",
       "        require(['plotly'], function(Plotly) {\n",
       "            window._Plotly = Plotly;\n",
       "        });\n",
       "        }\n",
       "        </script>\n",
       "        "
      ]
     },
     "metadata": {},
     "output_type": "display_data"
    }
   ],
   "source": [
    "import pandas as pd\n",
    "import numpy as np\n",
    "import math\n",
    "import matplotlib.pyplot as plt\n",
    "import seaborn as sns\n",
    "import random\n",
    "import pickle\n",
    "import scipy.stats\n",
    "\n",
    "import plotly.graph_objects as go\n",
    "import plotly\n",
    "from plotly.subplots import make_subplots\n",
    "plotly.offline.init_notebook_mode(connected=True)\n",
    "np.seterr(divide='ignore', invalid='ignore')\n",
    "\n",
    "import plotly.express as px\n",
    "\n",
    "\n",
    "ssp1 = ['pop_SSP1.csv', 'gdp_cap_SSP1.csv', 'EnergyIntensity_SSP1.csv',\n",
    "        'oil_SSP1.csv', 'coal_SSP1.csv', 'gas_SSP1.csv', 'total_cons_SSP1.csv']\n",
    "ssp2 = ['pop_SSP2.csv', 'gdp_cap_SSP2.csv', 'EnergyIntensity_SSP2.csv',\n",
    "        'oil_SSP2.csv', 'coal_SSP2.csv', 'gas_SSP2.csv', 'total_cons_SSP2.csv']\n",
    "ssp3 = ['pop_SSP3.csv', 'gdp_cap_SSP3.csv', 'EnergyIntensity_SSP3.csv',\n",
    "        'oil_SSP3.csv', 'coal_SSP3.csv', 'gas_SSP3.csv', 'total_cons_SSP3.csv']\n",
    "ssp4 = ['pop_SSP4.csv', 'gdp_cap_SSP4.csv', 'EnergyIntensity_SSP4.csv',\n",
    "        'oil_SSP4.csv', 'coal_SSP4.csv', 'gas_SSP4.csv', 'total_cons_SSP4.csv']\n",
    "ssp5 = ['pop_SSP5.csv', 'gdp_cap_SSP5.csv', 'EnergyIntensity_SSP5.csv',\n",
    "        'oil_SSP5.csv', 'coal_SSP5.csv', 'gas_SSP5.csv', 'total_cons_SSP5.csv']\n",
    "list_ssp = [ssp1, ssp2, ssp3, ssp4, ssp5]\n",
    "name_ssp = ['ssp1', 'ssp2', 'ssp3', 'ssp4', 'ssp5']\n",
    "\n",
    "\n",
    "# File containing the projections (2018-2030) of the different variables \n",
    "file_proj = \"proj_values_EU28/\"\n",
    "# File containing the projections rates (2018-2030) of the different variables \n",
    "file_rates = \"proj_rates/\"\n",
    "# real projections of the carbon emissions\n",
    "file_real_proj = \"proj_values_EU28/raw_co2R_SSP\"\n",
    "\n",
    "# parameters of the normal distributions for the emission factors (coal, gas, oil)\n",
    "file_emi_factor_normal = \"input_distrib/fossil_fuel_emi_factors_normal_param.csv\"\n",
    "# parameters of the normal distributions for the emission factors (coal, gas, oil))\n",
    "file_emi_factor_tri = \"input_distrib/fossil_fuel_emi_factors_triangular_param.csv\"\n",
    "list_param = {'normal': file_emi_factor_normal, 'triangular':file_emi_factor_tri}\n",
    "\n",
    "\n",
    "years = list()\n",
    "for i in range(14) : years.append(2017+i)\n",
    "years_rev = years[::-1]\n",
    "list_colors = ['#1f77b4', '#ff7f0e', '#2ca02c', '#d62728', '#9467bd',\n",
    "               '#8c564b', '#e377c2', '#7f7f7f', '#bcbd22', '17becf']\n",
    "\n",
    "value_1990 = 4408526411.17188*10**(-6) # from ktoe to Mtoe\n",
    "target_2030 = value_1990-0.40*(value_1990)\n",
    "target_2030_ = list()\n",
    "for i in range(len(years)): target_2030_.append(target_2030)\n",
    "    \n",
    "def get_mean_std(file_, scenario, rates=False):\n",
    "    \n",
    "    df_mean = pd.DataFrame({})\n",
    "    df_std = pd.DataFrame({})\n",
    "    \n",
    "    for file in scenario:\n",
    "        df = pd.read_csv(file_ + file, index_col=['Unnamed: 0'])\n",
    "        m = df.mean()\n",
    "        col_name = file.split('_')[0]\n",
    "        df_mean[col_name] = m\n",
    "\n",
    "        std = df.std()\n",
    "        col_name = file.split('_')[0]\n",
    "        df_std[col_name] = std\n",
    "    if rates is True:\n",
    "        df_mean.index = np.arange(2018, 2031)\n",
    "        df_std.index = np.arange(2018, 2031)\n",
    "\n",
    "    else:\n",
    "        df_mean.index = np.arange(2018, 2031)\n",
    "        df_std.index = np.arange(2018, 2031)\n",
    "        \n",
    "    \n",
    "    names_col = ['pop','gdp', 'ener_int', 'cons_oil', 'cons_coal', 'cons_gas', 'total_cons']\n",
    "    df_mean.columns = names_col\n",
    "    df_std.columns = names_col\n",
    "    \n",
    "    return df_mean, df_std\n",
    "\n",
    "def get_emi_factor_distribution(file_dict):\n",
    "    params = pd.read_csv(file_dict, index_col=0)\n",
    "    return params.transpose()    \n",
    "\n",
    "def initialise_distri(file_proj, ssp, name_file, rates=False):\n",
    "    mean, std = get_mean_std(file_proj, ssp, rates)\n",
    "    if rates is False:\n",
    "        mean = mean.drop(columns=['pop', 'gdp', 'ener_int'])\n",
    "        std = std.drop(columns=['pop', 'gdp', 'ener_int'])\n",
    "        mean.columns = ['mean_oil', 'mean_coal', 'mean_gas', 'mean_fossil']\n",
    "        std.columns = ['std_oil', 'std_coal', 'std_gas', 'std_fossil']\n",
    "        df = pd.concat([mean, std], axis=1, sort=False)\n",
    "        file = 'input_distrib/'+name_file+'_distribution.csv'\n",
    "        df.to_csv(file, index=years)\n",
    "        \n",
    "    else:\n",
    "        mean = mean.drop(columns=['pop'])\n",
    "        std = std.drop(columns=['pop'])\n",
    "        mean.columns = ['rates_mean_gdp', 'rates_mean_ei', 'rates_mean_oil', 'rates_mean_coal',\n",
    "                        'rates_mean_gas', 'rates_mean_fossil']\n",
    "        std.columns = ['rates_std_gdp', 'rates_std_ei', 'rates_std_oil', 'rates_std_coal',\n",
    "                       'rates_std_gas', 'rates_std_fossil']\n",
    "        df = pd.concat([mean, std], axis=1, sort=False)\n",
    "        file = 'input_distrib/'+name_file+'_distribution_rates.csv'\n",
    "        df.to_csv(file, index=years)\n",
    "    \n",
    "    return df\n",
    "    \n",
    "def initialise(file_proj, file_rates, list_ssp, name_ssp, list_param):\n",
    "    ssp_distri = {}\n",
    "    ssp_distri_rates = {}\n",
    "    for i in range(len(name_ssp)):\n",
    "        ssp_distri[name_ssp[i]] = initialise_distri(file_proj, list_ssp[i], name_ssp[i], rates=False)\n",
    "        ssp_distri_rates[name_ssp[i]] = initialise_distri(file_rates, list_ssp[i], name_ssp[i], rates=True)\n",
    "\n",
    "    param_dict = {}\n",
    "    for distri, file_distri in list_param.items(): \n",
    "        param_dict[distri] = get_emi_factor_distribution(file_distri)\n",
    "        \n",
    "    return ssp_distri, ssp_distri_rates, param_dict\n",
    "\n",
    "ssp_distri, ssp_distri_rates, param_dict = initialise(file_proj, file_rates, list_ssp, name_ssp, list_param)"
   ]
  },
  {
   "cell_type": "code",
   "execution_count": 2,
   "metadata": {},
   "outputs": [],
   "source": [
    "def mean_forecast(x):\n",
    "    mean_forecast = list()\n",
    "    for i in range(13) : mean_forecast.append(np.mean(x[i]))\n",
    "    return mean_forecast\n",
    "\n",
    "def std_forecast(x):\n",
    "    std_forecast = list()\n",
    "    for i in range(13) : std_forecast.append(np.std(x[i], ddof = 1))\n",
    "    return std_forecast\n",
    "\n",
    "def show_forecast(list_forecast_ssp, list_dev_forecast_ssp, nb_sample, name):\n",
    "    for i in range(len(list_forecast_ssp)):\n",
    "        fig = go.Figure()\n",
    "        \n",
    "        frcst_m = np.array(list_forecast_ssp[i].copy())\n",
    "        frcst_d = np.array(list_dev_forecast_ssp[i].copy())\n",
    "        frcst_m = np.append(3144, frcst_m)\n",
    "        frcst_d = np.append(0, frcst_d)\n",
    "        \n",
    "        confidence = 1.96 * frcst_d/math.sqrt(nb_sample)\n",
    "        y_upper = frcst_m + confidence\n",
    "        y_lower = frcst_m - confidence\n",
    "        y_lower = y_lower[::-1]\n",
    "        \n",
    "        x_final = np.concatenate((years,years_rev))\n",
    "        y_final = np.concatenate((y_upper,y_lower))\n",
    "\n",
    "        fig.add_trace(go.Scatter(\n",
    "            x=x_final,\n",
    "            y=y_final,\n",
    "            fill='toself',\n",
    "            fillcolor=list_colors[i],\n",
    "            opacity=0.1,\n",
    "            line_color='rgba(0, 0, 0, 0)',\n",
    "            showlegend=False,\n",
    "            name=\"SSP\"+str(i+1),\n",
    "        ))\n",
    "        fig.add_trace(go.Scatter(x=years, y=frcst_m, opacity=0.8,\n",
    "                                 line=dict(color=list_colors[i]), name= \"SSP\"+str(i+1)))\n",
    "        \n",
    "        fig.add_trace(go.Scatter(x=years, y=target_2030_, opacity=0.8, mode='lines',\n",
    "                                 line=dict(color=\"Black\"), name=\"EU target\"))\n",
    "    \n",
    "\n",
    "    \n",
    "        # Use date string to set xaxis range\n",
    "        fig.update_layout(\n",
    "            title_text=\"Forecasts of CO2 emissions in function of SSP\"+str(i+1)+\" based on \"+name)\n",
    "\n",
    "        fig.update_xaxes(title_text=\"Years\")\n",
    "        fig.update_yaxes(title_text=\"CO2 emissions [MtCO2eq]\"),\n",
    "        #fig.update_layout(legend_orientation=\"h\")\n",
    "        fig.show()\n",
    "\n",
    "def show_average_forecast(list_forecast_ssp, list_dev_forecast_ssp, nb_sample, name):\n",
    "    fig = go.Figure()\n",
    "    for i in range(len(list_forecast_ssp)):\n",
    "        frcst_m = np.array(list_forecast_ssp[i].copy())\n",
    "        frcst_d = np.array(list_dev_forecast_ssp[i].copy())\n",
    "        frcst_m = np.append(3144, frcst_m)\n",
    "        frcst_d = np.append(0, frcst_d)\n",
    "        \n",
    "        confidence = 1.96 * frcst_d/math.sqrt(nb_sample)\n",
    "        y_upper = frcst_m + confidence\n",
    "        y_lower = frcst_m - confidence\n",
    "        y_lower = y_lower[::-1]\n",
    "        \n",
    "        x_final = np.concatenate((years,years_rev))\n",
    "        y_final = np.concatenate((y_upper,y_lower))\n",
    "\n",
    "        fig.add_trace(go.Scatter(\n",
    "            x=x_final,\n",
    "            y=y_final,\n",
    "            fill='toself',\n",
    "            fillcolor=list_colors[i],\n",
    "            opacity=0.1,\n",
    "            line_color='rgba(0, 0, 0, 0)',\n",
    "            showlegend=False,\n",
    "            name=\"SSP\"+str(i+1),\n",
    "        ))\n",
    "        fig.add_trace(go.Scatter(x=years, y=frcst_m, opacity=0.8,\n",
    "                                 line=dict(color=list_colors[i]), name= \"SSP\"+str(i+1)))\n",
    "        \n",
    "    fig.add_trace(go.Scatter(x=years, y=target_2030_, opacity=0.8, mode='lines',\n",
    "                             line=dict(color=\"Black\"), name=\"EU target\"))\n",
    "    \n",
    "    # Use date string to set xaxis range\n",
    "    fig.update_layout(\n",
    "        title_text=\"Forecasts of CO2 emissions in function of the family of scenarios based on \"+name)\n",
    "\n",
    "\n",
    "    fig.update_xaxes(title_text=\"Years\")\n",
    "    fig.update_yaxes(title_text=\"CO2 emissions [MtCO2eq]\"),\n",
    "    #fig.update_layout(legend_orientation=\"h\")\n",
    "    fig.show()\n",
    "    \n",
    "def show_projection_CO2(list_projection_CO2):\n",
    "    fig = go.Figure()\n",
    "    for i in range(5):\n",
    "        co2_proj = list_projection_CO2[i].to_numpy()\n",
    "        co2_proj = np.append(3144, co2_proj)\n",
    "        fig.add_trace(go.Scatter(x=years, y=co2_proj, opacity=0.8,\n",
    "                                 line=dict(color=list_colors[i]), name=\"SSP\"+str(i+1)))\n",
    "    \n",
    "    fig.add_trace(go.Scatter(x=years, y=target_2030_, opacity=0.8, mode= 'lines',\n",
    "                             line=dict(color=\"Black\"), name=\"EU target\"))\n",
    "    \n",
    "    # Use date string to set xaxis range\n",
    "    fig.update_layout(title_text=\"CO2 emission projections for each SSPS Family\")\n",
    "\n",
    "\n",
    "    fig.update_xaxes(title_text=\"Years\")\n",
    "    fig.update_yaxes(title_text=\"CO2 emissions [MtCO2eq]\"),\n",
    "    #fig.update_layout(legend_orientation=\"h\")\n",
    "    fig.show()\n",
    "\n",
    "    \n",
    "def projection_vs_forecasts(emi, name, show=False):\n",
    "    \n",
    "    list_colors = ['#1f77b4', '#ff7f0e', '#2ca02c', '#d62728', '#9467bd',\n",
    "                   '#8c564b', '#e377c2', '#7f7f7f', '#bcbd22', '17becf']\n",
    "    \n",
    "    fig = go.Figure()\n",
    "    \n",
    "    fig = make_subplots(rows=3, cols=2, subplot_titles=(\"SSP1\", \"SSP2\", \"SSP3\", \"SSP4\", \"SSP5\"))\n",
    "    \n",
    "    roww = [1, 1, 2, 2, 3]\n",
    "    coll = [1, 2, 1, 2, 1]\n",
    "    \n",
    "    for i in range(len(coll)):\n",
    "        for j in range(len(emi)):\n",
    "            y=emi[j][i]\n",
    "            fig.add_trace(go.Scatter(x=years, y=y, opacity=0.8, line=dict(color=list_colors[j+2]), \n",
    "                                    name=name[j]), row=roww[i], col=coll[i])\n",
    "            \n",
    "        fig.add_trace(go.Scatter(x=years, y=target_2030_, opacity=0.8, mode ='lines',\n",
    "                             line=dict(color=\"Black\"), name=\"EU target\"), row=roww[i], col=coll[i])\n",
    "                            \n",
    "        fig.update_xaxes(title_text=\"Years\", row=roww[i], col=coll[i])\n",
    "        fig.update_yaxes(title_text=\"CO2 emissions [MtCO2eq]\", row=roww[i], col=coll[i])\n",
    "    \n",
    "    fig.update_layout(title_text=\"Comparison between forecasts with projections for each SSP family\",\n",
    "                      height=1000, width=1000, showlegend=True, legend_orientation=\"h\")\n",
    "    if show is True:\n",
    "        fig.show()\n",
    "    \n",
    "def show_real_projections(file, show=False):\n",
    "    list_file = list()\n",
    "    projection_CO2 = list()\n",
    "    for i in range(5):\n",
    "        list_file.append(file+str(i+1)+\".csv\")\n",
    "        projection_CO2.append(pd.read_csv(list_file[i]).iloc[0][1:])\n",
    "    \n",
    "    if show is True:\n",
    "        show_projection_CO2(projection_CO2)\n",
    "    \n",
    "    return projection_CO2\n",
    "\n",
    "def show_goals(emi_list, name, show=False):\n",
    "    fig = go.Figure()\n",
    "    fig = make_subplots(rows=3, cols=2, subplot_titles=(\"SSP1\", \"SSP2\", \"SSP3\", \"SSP4\", \"SSP5\"))\n",
    "    \n",
    "    roww = [1, 1, 2, 2, 3]\n",
    "    coll = [1, 2, 1, 2, 1]\n",
    "\n",
    "    x_name = name\n",
    "  \n",
    "    for i in range(len(coll)):\n",
    "        values = list()\n",
    "        color = list()\n",
    "        for j in range(len(emi_list)):\n",
    "            values.append(emi_list[j][i][11])\n",
    "            color.append(list_colors[j+1])\n",
    "        values.append(target_2030)\n",
    "        color.append(list_colors[0])\n",
    "    \n",
    "        fig.add_trace(go.Bar(x=x_name, y=values, marker_color = color, textposition='auto'),\n",
    "                      row=roww[i], col=coll[i])\n",
    "\n",
    "        fig.update_xaxes(row=roww[i], col=coll[i])\n",
    "        fig.update_yaxes(title_text=\"CO2 emissions [MtCO2eq2]\", row=roww[i], col=coll[i])\n",
    "        \n",
    "    fig.update_layout(title_text=\"Target set by the European Union for CO2 emissions\"+\n",
    "                      \" in 2030 compared to forecasts and projections\",\n",
    "                      height=1000, width=1000, showlegend=False, legend_orientation=\"h\")\n",
    "    if show is True:\n",
    "        fig.show()\n",
    "\n",
    "def from_rates_to_data(emi, val_2018):\n",
    "    emi[0] = val_2018 + emi[0]*val_2018/100\n",
    "    for i in range(1, 13):\n",
    "        emi[i] = emi[i-1] + emi[i]*emi[i-1]/100\n",
    "    return emi\n",
    "\n",
    "def from_value_to_rates(value_1, value_2):\n",
    "\n",
    "    zipped_lists = zip(value_1, value_2)\n",
    "    fossil_emi_rates_fact = [100*(value_2-value_1)/value_1 for (value_1, value_2) in zipped_lists]\n",
    "        \n",
    "    return np.array(fossil_emi_rates_fact)\n",
    "\n",
    "\n",
    "def kaya_identity(cons_oil, cons_coal, cons_gas, emi_fact_coal, emi_fact_oil, emi_fact_gas):\n",
    "    cons_coef_oil = 2.293\n",
    "    cons_coef_coal = 4.019\n",
    "    cons_coef_gas = 2.236 # [MtCO2/MtOilEq]\n",
    "    res1 = ((cons_oil*emi_fact_oil)+(cons_coal*emi_fact_oil)+(cons_gas*emi_fact_oil))\n",
    "    res2 = ((cons_oil*cons_coef_oil)+(cons_coal*cons_coef_coal)+(cons_gas*cons_coef_gas))\n",
    "    return res2\n",
    "\n",
    "def kaya_identity_rates(gdp_rates, ei_rates, ci_rates):\n",
    "    return (1+gdp_rates)*(1+ei_rates)*(1+ci_rates)-1\n",
    "\n",
    "\n",
    "def get_emission_factor(oil_cons, coal_cons, gas_cons, emi_fact_oil, emi_fact_coal, emi_fact_gas, total_cons):\n",
    "    emi = kaya_identity(oil_cons, coal_cons, gas_cons, emi_fact_oil, emi_fact_coal, emi_fact_gas)\n",
    "\n",
    "    return emi/total_cons\n",
    "    \n",
    "def get_carbon_intensity(samples, coef, var, distri):\n",
    "    \n",
    "    carbon_intensity = np.zeros((14, samples))\n",
    "    # Emission factor (fossil energy) of year 2017\n",
    "    carbon_intensity_2017 = 2.012290082158105\n",
    "    carbon_intensity_2017_ = list()\n",
    "    for i in range(samples): carbon_intensity_2017_.append(carbon_intensity_2017)\n",
    "    carbon_intensity[0] = np.array(carbon_intensity_2017_)\n",
    "   \n",
    "    for i in range(13):\n",
    "        if distri is 'normal':\n",
    "            coef_oil = np.random.normal(coef['oil']['mean'], coef['oil']['std'], samples)\n",
    "            coef_coal = np.random.normal(coef['coal']['mean'], coef['coal']['std'], samples)\n",
    "            coef_gas = np.random.normal(coef['gas']['mean'], coef['gas']['std'], samples)\n",
    "        elif distri is 'triangular':\n",
    "            coef_oil = np.random.triangular(coef['oil']['left'], coef['oil']['mode'],\n",
    "                                            coef['oil']['right'], samples)\n",
    "            coef_coal = np.random.triangular(coef['coal']['left'], coef['coal']['mode'],\n",
    "                                             coef['coal']['right'], samples)\n",
    "            coef_gas = np.random.triangular(coef['gas']['left'], coef['gas']['mode'],\n",
    "                                            coef['gas']['right'], samples)\n",
    "        else:\n",
    "            return print(\"Wrong distribution\")\n",
    "\n",
    "        oil_cons = np.random.normal(var['mean_oil'].iloc[i], var['std_oil'].iloc[i], samples)\n",
    "        coal_cons = np.random.normal(var['mean_coal'].iloc[i], var['std_oil'].iloc[i], samples)\n",
    "        gas_cons = np.random.normal(var['mean_gas'].iloc[i], var['std_oil'].iloc[i], samples)\n",
    "   \n",
    "        total_cons = np.random.normal(var['mean_fossil'].iloc[i], var['std_fossil'].iloc[i], samples)\n",
    "        carbon_intensity[i+1] = get_emission_factor(oil_cons, coal_cons, gas_cons, coef_oil,\n",
    "                                                  coef_coal, coef_gas, total_cons)\n",
    "\n",
    "    carbon_intensity_rates = np.zeros((13, samples))\n",
    "    for i in range(len(carbon_intensity)-1):\n",
    "        carbon_intensity_rates[i] = (carbon_intensity[i+1]-carbon_intensity[i])/carbon_intensity[i]\n",
    "        \n",
    "    return carbon_intensity_rates\n",
    "    \n",
    "    \n",
    "def monte_carlo_simulation_rates(samples, distri, coef, var, var_rates):\n",
    "\n",
    "    emi_sim = np.zeros((13, samples)) \n",
    "   \n",
    "    # 2018 CO2 emission : 3457 MtCO2.\n",
    "    #emission_2018 = 3457 \n",
    "    \n",
    "    emission_2017 = 3144\n",
    "    \n",
    "    carbon_intensity_rates = get_carbon_intensity(samples, coef, var, distri)\n",
    "    \n",
    "    for i in range(13):\n",
    "    \n",
    "        gdp_rates = np.random.normal(var_rates['rates_mean_gdp'].iloc[i],\n",
    "                                     var_rates['rates_std_gdp'].iloc[i], samples)\n",
    "        ei_rates = np.random.normal(var_rates['rates_mean_ei'].iloc[i],\n",
    "                                    var_rates['rates_std_ei'].iloc[i], samples)\n",
    "        emi_sim[i] = kaya_identity_rates(gdp_rates, ei_rates, carbon_intensity_rates[i])\n",
    "       \n",
    "    emi_sim = from_rates_to_data(emi_sim, emission_2017)\n",
    "    \n",
    "    return emi_sim\n",
    "\n",
    "def monte_carlo_simulation(samples, distri, coef, var):\n",
    "\n",
    "    emi_sim = np.zeros((13, samples)) \n",
    "    \n",
    "    for i in range(13):\n",
    "        oil_cons = np.random.normal(var['mean_oil'].iloc[i], var['std_oil'].iloc[i], samples)\n",
    "        coal_cons = np.random.normal(var['mean_coal'].iloc[i], var['std_oil'].iloc[i], samples)\n",
    "        gas_cons = np.random.normal(var['mean_gas'].iloc[i], var['std_oil'].iloc[i], samples)\n",
    "        \n",
    "        if distri is 'normal':\n",
    "            coef_oil = np.random.normal(coef['oil']['mean'], coef['oil']['std'], samples)\n",
    "            coef_coal = np.random.normal(coef['coal']['mean'], coef['coal']['std'], samples)\n",
    "            coef_gas = np.random.normal(coef['gas']['mean'], coef['gas']['std'], samples)\n",
    "        elif distri is 'triangular':\n",
    "            coef_oil = np.random.triangular(coef['oil']['left'], coef['oil']['mode'],\n",
    "                                            coef['oil']['right'], samples)\n",
    "            coef_coal = np.random.triangular(coef['coal']['left'], coef['coal']['mode'],\n",
    "                                             coef['coal']['right'], samples)\n",
    "            coef_gas = np.random.triangular(coef['gas']['left'], coef['gas']['mode'],\n",
    "                                            coef['gas']['right'], samples)\n",
    "        else:\n",
    "            return print(\"Wrong distribution\")\n",
    "        \n",
    "        emi_sim[i] = kaya_identity(oil_cons, coal_cons, gas_cons, coef_coal, coef_oil, coef_gas)\n",
    "    \n",
    "    return emi_sim\n",
    "  \n",
    "\n",
    "\n",
    "def get_carbon_emissions(samples, distri, coef, ssp_distri, ssp_distri_rates=False, show=False):\n",
    "    \n",
    "    list_average_emi_ssp = list()\n",
    "    list_dev_emi_ssp = list()\n",
    "    \n",
    "    for ssp in name_ssp:\n",
    "\n",
    "        if ssp_distri_rates is False:\n",
    "            emi_ssp = monte_carlo_simulation(samples, distri, coef[distri], ssp_distri[ssp])\n",
    "        else:\n",
    "            emi_ssp = monte_carlo_simulation_rates(samples, distri, coef[distri],\n",
    "                                                   ssp_distri[ssp], ssp_distri_rates[ssp])\n",
    "\n",
    "        list_average_emi_ssp.append(mean_forecast(emi_ssp))\n",
    "        list_dev_emi_ssp.append(std_forecast(emi_ssp))\n",
    "\n",
    "    if show is True:\n",
    "        if file_rates is False:\n",
    "            show_average_forecast(list_average_emi_ssp, list_dev_emi_ssp, samples,'Kaya model')\n",
    "            #show_forecast(list_average_emi_ssp, list_dev_emi_ssp, samples, 'Kaya model')\n",
    "            \n",
    "        else:\n",
    "            show_average_forecast(list_average_emi_ssp, list_dev_emi_ssp, samples, 'the derivative of Kaya model')\n",
    "            #show_forecast(list_average_emi_ssp, list_dev_emi_ssp, samples, 'the derivative of Kaya model')\n",
    " \n",
    "    return list_average_emi_ssp\n"
   ]
  },
  {
   "cell_type": "code",
   "execution_count": 3,
   "metadata": {
    "scrolled": false
   },
   "outputs": [
    {
     "data": {
      "application/vnd.plotly.v1+json": {
       "config": {
        "plotlyServerURL": "https://plot.ly"
       },
       "data": [
        {
         "fill": "toself",
         "fillcolor": "#1f77b4",
         "line": {
          "color": "rgba(0, 0, 0, 0)"
         },
         "name": "SSP1",
         "opacity": 0.1,
         "showlegend": false,
         "type": "scatter",
         "x": [
          2017,
          2018,
          2019,
          2020,
          2021,
          2022,
          2023,
          2024,
          2025,
          2026,
          2027,
          2028,
          2029,
          2030,
          2030,
          2029,
          2028,
          2027,
          2026,
          2025,
          2024,
          2023,
          2022,
          2021,
          2020,
          2019,
          2018,
          2017
         ],
         "y": [
          3144,
          2951.8579326766157,
          2765.667082517701,
          2598.046249031943,
          2441.1699560771185,
          2301.949583916467,
          2170.4462252471258,
          2049.950428940011,
          1939.697670451381,
          1842.8850397714748,
          1752.2718609928986,
          1669.2871785486107,
          1594.3860833437932,
          1525.0829076936463,
          1503.9858432451672,
          1572.6089768891272,
          1646.5977301589708,
          1728.6299347713382,
          1818.2000113837737,
          1914.029529797799,
          2024.0020481799374,
          2143.653305305703,
          2274.8750019055447,
          2414.3213529505347,
          2572.53502395477,
          2742.727687822447,
          2933.932344519817,
          3144
         ]
        },
        {
         "line": {
          "color": "#1f77b4"
         },
         "name": "SSP1",
         "opacity": 0.8,
         "type": "scatter",
         "x": [
          2017,
          2018,
          2019,
          2020,
          2021,
          2022,
          2023,
          2024,
          2025,
          2026,
          2027,
          2028,
          2029,
          2030
         ],
         "y": [
          3144,
          2942.8951385982164,
          2754.197385170074,
          2585.2906364933565,
          2427.7456545138266,
          2288.412292911006,
          2157.0497652764143,
          2036.9762385599743,
          1926.86360012459,
          1830.5425255776242,
          1740.4508978821184,
          1657.9424543537907,
          1583.4975301164602,
          1514.5343754694068
         ]
        },
        {
         "fill": "toself",
         "fillcolor": "#ff7f0e",
         "line": {
          "color": "rgba(0, 0, 0, 0)"
         },
         "name": "SSP2",
         "opacity": 0.1,
         "showlegend": false,
         "type": "scatter",
         "x": [
          2017,
          2018,
          2019,
          2020,
          2021,
          2022,
          2023,
          2024,
          2025,
          2026,
          2027,
          2028,
          2029,
          2030,
          2030,
          2029,
          2028,
          2027,
          2026,
          2025,
          2024,
          2023,
          2022,
          2021,
          2020,
          2019,
          2018,
          2017
         ],
         "y": [
          3144,
          3019.4577647642755,
          2902.8601423166056,
          2795.3775704143977,
          2697.2925429192605,
          2605.8630297860477,
          2524.986742497888,
          2454.7467125769267,
          2387.2664770992656,
          2324.405445278138,
          2268.0552276307108,
          2217.407495332556,
          2170.939854288098,
          2127.8969851687157,
          2106.27878793009,
          2149.257033063057,
          2195.646474879589,
          2246.1534395491935,
          2302.3089557058397,
          2365.07924990484,
          2432.674307439687,
          2503.050043077706,
          2584.148466119353,
          2676.355499547171,
          2775.6317301498852,
          2885.2570634550193,
          3005.6736630020696,
          3144
         ]
        },
        {
         "line": {
          "color": "#ff7f0e"
         },
         "name": "SSP2",
         "opacity": 0.8,
         "type": "scatter",
         "x": [
          2017,
          2018,
          2019,
          2020,
          2021,
          2022,
          2023,
          2024,
          2025,
          2026,
          2027,
          2028,
          2029,
          2030
         ],
         "y": [
          3144,
          3012.5657138831725,
          2894.0586028858124,
          2785.5046502821415,
          2686.8240212332157,
          2595.0057479527004,
          2514.018392787797,
          2443.7105100083068,
          2376.1728635020527,
          2313.357200491989,
          2257.104333589952,
          2206.5269851060725,
          2160.0984436755775,
          2117.087886549403
         ]
        },
        {
         "fill": "toself",
         "fillcolor": "#2ca02c",
         "line": {
          "color": "rgba(0, 0, 0, 0)"
         },
         "name": "SSP3",
         "opacity": 0.1,
         "showlegend": false,
         "type": "scatter",
         "x": [
          2017,
          2018,
          2019,
          2020,
          2021,
          2022,
          2023,
          2024,
          2025,
          2026,
          2027,
          2028,
          2029,
          2030,
          2030,
          2029,
          2028,
          2027,
          2026,
          2025,
          2024,
          2023,
          2022,
          2021,
          2020,
          2019,
          2018,
          2017
         ],
         "y": [
          3144,
          3093.5944385897615,
          3044.162126154515,
          2999.335698223268,
          2954.129702603368,
          2914.0990844425523,
          2878.549600786618,
          2845.331031682939,
          2815.320136267917,
          2788.54994472556,
          2765.713536056724,
          2740.9565716760894,
          2721.1689594140935,
          2702.6526367399883,
          2682.3877154730444,
          2701.3528384611864,
          2721.650187533662,
          2746.749179093176,
          2770.0525531968474,
          2797.186188576405,
          2827.968126162547,
          2861.5931826352567,
          2898.054698741741,
          2939.3750793575255,
          2985.9806605265258,
          3032.629321163754,
          3084.859625924771,
          3144
         ]
        },
        {
         "line": {
          "color": "#2ca02c"
         },
         "name": "SSP3",
         "opacity": 0.8,
         "type": "scatter",
         "x": [
          2017,
          2018,
          2019,
          2020,
          2021,
          2022,
          2023,
          2024,
          2025,
          2026,
          2027,
          2028,
          2029,
          2030
         ],
         "y": [
          3144,
          3089.2270322572663,
          3038.3957236591345,
          2992.658179374897,
          2946.7523909804468,
          2906.0768915921467,
          2870.0713917109374,
          2836.649578922743,
          2806.253162422161,
          2779.301248961204,
          2756.23135757495,
          2731.3033796048758,
          2711.26089893764,
          2692.5201761065164
         ]
        },
        {
         "fill": "toself",
         "fillcolor": "#d62728",
         "line": {
          "color": "rgba(0, 0, 0, 0)"
         },
         "name": "SSP4",
         "opacity": 0.1,
         "showlegend": false,
         "type": "scatter",
         "x": [
          2017,
          2018,
          2019,
          2020,
          2021,
          2022,
          2023,
          2024,
          2025,
          2026,
          2027,
          2028,
          2029,
          2030,
          2030,
          2029,
          2028,
          2027,
          2026,
          2025,
          2024,
          2023,
          2022,
          2021,
          2020,
          2019,
          2018,
          2017
         ],
         "y": [
          3144,
          3007.801974746613,
          2873.9015776205993,
          2750.4158761494245,
          2636.0904846987964,
          2536.632239982402,
          2439.1369369235094,
          2353.5303126365516,
          2272.7224543717807,
          2200.1063144073246,
          2133.960985766043,
          2072.031066528358,
          2014.8778725065831,
          1964.4130534032638,
          1937.997916432921,
          1987.9436798670172,
          2044.3377108196503,
          2105.7122768110335,
          2171.262322519164,
          2243.3953641475514,
          2323.6061948853267,
          2409.379062246891,
          2506.2380920037103,
          2606.6111095078472,
          2723.0808706782336,
          2849.063703043021,
          2989.222024147383,
          3144
         ]
        },
        {
         "line": {
          "color": "#d62728"
         },
         "name": "SSP4",
         "opacity": 0.8,
         "type": "scatter",
         "x": [
          2017,
          2018,
          2019,
          2020,
          2021,
          2022,
          2023,
          2024,
          2025,
          2026,
          2027,
          2028,
          2029,
          2030
         ],
         "y": [
          3144,
          2998.511999446998,
          2861.48264033181,
          2736.748373413829,
          2621.350797103322,
          2521.435165993056,
          2424.2579995852,
          2338.568253760939,
          2258.058909259666,
          2185.6843184632444,
          2119.8366312885382,
          2058.1843886740044,
          2001.4107761868001,
          1951.2054849180925
         ]
        },
        {
         "fill": "toself",
         "fillcolor": "#9467bd",
         "line": {
          "color": "rgba(0, 0, 0, 0)"
         },
         "name": "SSP5",
         "opacity": 0.1,
         "showlegend": false,
         "type": "scatter",
         "x": [
          2017,
          2018,
          2019,
          2020,
          2021,
          2022,
          2023,
          2024,
          2025,
          2026,
          2027,
          2028,
          2029,
          2030,
          2030,
          2029,
          2028,
          2027,
          2026,
          2025,
          2024,
          2023,
          2022,
          2021,
          2020,
          2019,
          2018,
          2017
         ],
         "y": [
          3144,
          3009.0668123799146,
          2878.022579605784,
          2751.6370106089707,
          2636.6845014288133,
          2523.922892064738,
          2417.081491417133,
          2317.717690960885,
          2219.498634149908,
          2129.655186945826,
          2044.6586804508777,
          1963.6828778710008,
          1889.1239972778415,
          1817.4205337570124,
          1798.9079398303638,
          1870.3609730614446,
          1944.754137688856,
          2025.3219389214744,
          2109.874055784989,
          2199.2337848084944,
          2297.217753521785,
          2396.464498857908,
          2503.610286188484,
          2616.4513958026523,
          2732.2233977871037,
          2860.5777346491386,
          2995.7094700345538,
          3144
         ]
        },
        {
         "line": {
          "color": "#9467bd"
         },
         "name": "SSP5",
         "opacity": 0.8,
         "type": "scatter",
         "x": [
          2017,
          2018,
          2019,
          2020,
          2021,
          2022,
          2023,
          2024,
          2025,
          2026,
          2027,
          2028,
          2029,
          2030
         ],
         "y": [
          3144,
          3002.388141207234,
          2869.3001571274613,
          2741.9302041980372,
          2626.567948615733,
          2513.766589126611,
          2406.7729951375204,
          2307.467722241335,
          2209.366209479201,
          2119.7646213654075,
          2034.990309686176,
          1954.2185077799284,
          1879.742485169643,
          1808.1642367936881
         ]
        },
        {
         "line": {
          "color": "Black"
         },
         "mode": "lines",
         "name": "EU target",
         "opacity": 0.8,
         "type": "scatter",
         "x": [
          2017,
          2018,
          2019,
          2020,
          2021,
          2022,
          2023,
          2024,
          2025,
          2026,
          2027,
          2028,
          2029,
          2030
         ],
         "y": [
          2645.1158467031278,
          2645.1158467031278,
          2645.1158467031278,
          2645.1158467031278,
          2645.1158467031278,
          2645.1158467031278,
          2645.1158467031278,
          2645.1158467031278,
          2645.1158467031278,
          2645.1158467031278,
          2645.1158467031278,
          2645.1158467031278,
          2645.1158467031278,
          2645.1158467031278
         ]
        }
       ],
       "layout": {
        "template": {
         "data": {
          "bar": [
           {
            "error_x": {
             "color": "#2a3f5f"
            },
            "error_y": {
             "color": "#2a3f5f"
            },
            "marker": {
             "line": {
              "color": "#E5ECF6",
              "width": 0.5
             }
            },
            "type": "bar"
           }
          ],
          "barpolar": [
           {
            "marker": {
             "line": {
              "color": "#E5ECF6",
              "width": 0.5
             }
            },
            "type": "barpolar"
           }
          ],
          "carpet": [
           {
            "aaxis": {
             "endlinecolor": "#2a3f5f",
             "gridcolor": "white",
             "linecolor": "white",
             "minorgridcolor": "white",
             "startlinecolor": "#2a3f5f"
            },
            "baxis": {
             "endlinecolor": "#2a3f5f",
             "gridcolor": "white",
             "linecolor": "white",
             "minorgridcolor": "white",
             "startlinecolor": "#2a3f5f"
            },
            "type": "carpet"
           }
          ],
          "choropleth": [
           {
            "colorbar": {
             "outlinewidth": 0,
             "ticks": ""
            },
            "type": "choropleth"
           }
          ],
          "contour": [
           {
            "colorbar": {
             "outlinewidth": 0,
             "ticks": ""
            },
            "colorscale": [
             [
              0,
              "#0d0887"
             ],
             [
              0.1111111111111111,
              "#46039f"
             ],
             [
              0.2222222222222222,
              "#7201a8"
             ],
             [
              0.3333333333333333,
              "#9c179e"
             ],
             [
              0.4444444444444444,
              "#bd3786"
             ],
             [
              0.5555555555555556,
              "#d8576b"
             ],
             [
              0.6666666666666666,
              "#ed7953"
             ],
             [
              0.7777777777777778,
              "#fb9f3a"
             ],
             [
              0.8888888888888888,
              "#fdca26"
             ],
             [
              1,
              "#f0f921"
             ]
            ],
            "type": "contour"
           }
          ],
          "contourcarpet": [
           {
            "colorbar": {
             "outlinewidth": 0,
             "ticks": ""
            },
            "type": "contourcarpet"
           }
          ],
          "heatmap": [
           {
            "colorbar": {
             "outlinewidth": 0,
             "ticks": ""
            },
            "colorscale": [
             [
              0,
              "#0d0887"
             ],
             [
              0.1111111111111111,
              "#46039f"
             ],
             [
              0.2222222222222222,
              "#7201a8"
             ],
             [
              0.3333333333333333,
              "#9c179e"
             ],
             [
              0.4444444444444444,
              "#bd3786"
             ],
             [
              0.5555555555555556,
              "#d8576b"
             ],
             [
              0.6666666666666666,
              "#ed7953"
             ],
             [
              0.7777777777777778,
              "#fb9f3a"
             ],
             [
              0.8888888888888888,
              "#fdca26"
             ],
             [
              1,
              "#f0f921"
             ]
            ],
            "type": "heatmap"
           }
          ],
          "heatmapgl": [
           {
            "colorbar": {
             "outlinewidth": 0,
             "ticks": ""
            },
            "colorscale": [
             [
              0,
              "#0d0887"
             ],
             [
              0.1111111111111111,
              "#46039f"
             ],
             [
              0.2222222222222222,
              "#7201a8"
             ],
             [
              0.3333333333333333,
              "#9c179e"
             ],
             [
              0.4444444444444444,
              "#bd3786"
             ],
             [
              0.5555555555555556,
              "#d8576b"
             ],
             [
              0.6666666666666666,
              "#ed7953"
             ],
             [
              0.7777777777777778,
              "#fb9f3a"
             ],
             [
              0.8888888888888888,
              "#fdca26"
             ],
             [
              1,
              "#f0f921"
             ]
            ],
            "type": "heatmapgl"
           }
          ],
          "histogram": [
           {
            "marker": {
             "colorbar": {
              "outlinewidth": 0,
              "ticks": ""
             }
            },
            "type": "histogram"
           }
          ],
          "histogram2d": [
           {
            "colorbar": {
             "outlinewidth": 0,
             "ticks": ""
            },
            "colorscale": [
             [
              0,
              "#0d0887"
             ],
             [
              0.1111111111111111,
              "#46039f"
             ],
             [
              0.2222222222222222,
              "#7201a8"
             ],
             [
              0.3333333333333333,
              "#9c179e"
             ],
             [
              0.4444444444444444,
              "#bd3786"
             ],
             [
              0.5555555555555556,
              "#d8576b"
             ],
             [
              0.6666666666666666,
              "#ed7953"
             ],
             [
              0.7777777777777778,
              "#fb9f3a"
             ],
             [
              0.8888888888888888,
              "#fdca26"
             ],
             [
              1,
              "#f0f921"
             ]
            ],
            "type": "histogram2d"
           }
          ],
          "histogram2dcontour": [
           {
            "colorbar": {
             "outlinewidth": 0,
             "ticks": ""
            },
            "colorscale": [
             [
              0,
              "#0d0887"
             ],
             [
              0.1111111111111111,
              "#46039f"
             ],
             [
              0.2222222222222222,
              "#7201a8"
             ],
             [
              0.3333333333333333,
              "#9c179e"
             ],
             [
              0.4444444444444444,
              "#bd3786"
             ],
             [
              0.5555555555555556,
              "#d8576b"
             ],
             [
              0.6666666666666666,
              "#ed7953"
             ],
             [
              0.7777777777777778,
              "#fb9f3a"
             ],
             [
              0.8888888888888888,
              "#fdca26"
             ],
             [
              1,
              "#f0f921"
             ]
            ],
            "type": "histogram2dcontour"
           }
          ],
          "mesh3d": [
           {
            "colorbar": {
             "outlinewidth": 0,
             "ticks": ""
            },
            "type": "mesh3d"
           }
          ],
          "parcoords": [
           {
            "line": {
             "colorbar": {
              "outlinewidth": 0,
              "ticks": ""
             }
            },
            "type": "parcoords"
           }
          ],
          "pie": [
           {
            "automargin": true,
            "type": "pie"
           }
          ],
          "scatter": [
           {
            "marker": {
             "colorbar": {
              "outlinewidth": 0,
              "ticks": ""
             }
            },
            "type": "scatter"
           }
          ],
          "scatter3d": [
           {
            "line": {
             "colorbar": {
              "outlinewidth": 0,
              "ticks": ""
             }
            },
            "marker": {
             "colorbar": {
              "outlinewidth": 0,
              "ticks": ""
             }
            },
            "type": "scatter3d"
           }
          ],
          "scattercarpet": [
           {
            "marker": {
             "colorbar": {
              "outlinewidth": 0,
              "ticks": ""
             }
            },
            "type": "scattercarpet"
           }
          ],
          "scattergeo": [
           {
            "marker": {
             "colorbar": {
              "outlinewidth": 0,
              "ticks": ""
             }
            },
            "type": "scattergeo"
           }
          ],
          "scattergl": [
           {
            "marker": {
             "colorbar": {
              "outlinewidth": 0,
              "ticks": ""
             }
            },
            "type": "scattergl"
           }
          ],
          "scattermapbox": [
           {
            "marker": {
             "colorbar": {
              "outlinewidth": 0,
              "ticks": ""
             }
            },
            "type": "scattermapbox"
           }
          ],
          "scatterpolar": [
           {
            "marker": {
             "colorbar": {
              "outlinewidth": 0,
              "ticks": ""
             }
            },
            "type": "scatterpolar"
           }
          ],
          "scatterpolargl": [
           {
            "marker": {
             "colorbar": {
              "outlinewidth": 0,
              "ticks": ""
             }
            },
            "type": "scatterpolargl"
           }
          ],
          "scatterternary": [
           {
            "marker": {
             "colorbar": {
              "outlinewidth": 0,
              "ticks": ""
             }
            },
            "type": "scatterternary"
           }
          ],
          "surface": [
           {
            "colorbar": {
             "outlinewidth": 0,
             "ticks": ""
            },
            "colorscale": [
             [
              0,
              "#0d0887"
             ],
             [
              0.1111111111111111,
              "#46039f"
             ],
             [
              0.2222222222222222,
              "#7201a8"
             ],
             [
              0.3333333333333333,
              "#9c179e"
             ],
             [
              0.4444444444444444,
              "#bd3786"
             ],
             [
              0.5555555555555556,
              "#d8576b"
             ],
             [
              0.6666666666666666,
              "#ed7953"
             ],
             [
              0.7777777777777778,
              "#fb9f3a"
             ],
             [
              0.8888888888888888,
              "#fdca26"
             ],
             [
              1,
              "#f0f921"
             ]
            ],
            "type": "surface"
           }
          ],
          "table": [
           {
            "cells": {
             "fill": {
              "color": "#EBF0F8"
             },
             "line": {
              "color": "white"
             }
            },
            "header": {
             "fill": {
              "color": "#C8D4E3"
             },
             "line": {
              "color": "white"
             }
            },
            "type": "table"
           }
          ]
         },
         "layout": {
          "annotationdefaults": {
           "arrowcolor": "#2a3f5f",
           "arrowhead": 0,
           "arrowwidth": 1
          },
          "coloraxis": {
           "colorbar": {
            "outlinewidth": 0,
            "ticks": ""
           }
          },
          "colorscale": {
           "diverging": [
            [
             0,
             "#8e0152"
            ],
            [
             0.1,
             "#c51b7d"
            ],
            [
             0.2,
             "#de77ae"
            ],
            [
             0.3,
             "#f1b6da"
            ],
            [
             0.4,
             "#fde0ef"
            ],
            [
             0.5,
             "#f7f7f7"
            ],
            [
             0.6,
             "#e6f5d0"
            ],
            [
             0.7,
             "#b8e186"
            ],
            [
             0.8,
             "#7fbc41"
            ],
            [
             0.9,
             "#4d9221"
            ],
            [
             1,
             "#276419"
            ]
           ],
           "sequential": [
            [
             0,
             "#0d0887"
            ],
            [
             0.1111111111111111,
             "#46039f"
            ],
            [
             0.2222222222222222,
             "#7201a8"
            ],
            [
             0.3333333333333333,
             "#9c179e"
            ],
            [
             0.4444444444444444,
             "#bd3786"
            ],
            [
             0.5555555555555556,
             "#d8576b"
            ],
            [
             0.6666666666666666,
             "#ed7953"
            ],
            [
             0.7777777777777778,
             "#fb9f3a"
            ],
            [
             0.8888888888888888,
             "#fdca26"
            ],
            [
             1,
             "#f0f921"
            ]
           ],
           "sequentialminus": [
            [
             0,
             "#0d0887"
            ],
            [
             0.1111111111111111,
             "#46039f"
            ],
            [
             0.2222222222222222,
             "#7201a8"
            ],
            [
             0.3333333333333333,
             "#9c179e"
            ],
            [
             0.4444444444444444,
             "#bd3786"
            ],
            [
             0.5555555555555556,
             "#d8576b"
            ],
            [
             0.6666666666666666,
             "#ed7953"
            ],
            [
             0.7777777777777778,
             "#fb9f3a"
            ],
            [
             0.8888888888888888,
             "#fdca26"
            ],
            [
             1,
             "#f0f921"
            ]
           ]
          },
          "colorway": [
           "#636efa",
           "#EF553B",
           "#00cc96",
           "#ab63fa",
           "#FFA15A",
           "#19d3f3",
           "#FF6692",
           "#B6E880",
           "#FF97FF",
           "#FECB52"
          ],
          "font": {
           "color": "#2a3f5f"
          },
          "geo": {
           "bgcolor": "white",
           "lakecolor": "white",
           "landcolor": "#E5ECF6",
           "showlakes": true,
           "showland": true,
           "subunitcolor": "white"
          },
          "hoverlabel": {
           "align": "left"
          },
          "hovermode": "closest",
          "mapbox": {
           "style": "light"
          },
          "paper_bgcolor": "white",
          "plot_bgcolor": "#E5ECF6",
          "polar": {
           "angularaxis": {
            "gridcolor": "white",
            "linecolor": "white",
            "ticks": ""
           },
           "bgcolor": "#E5ECF6",
           "radialaxis": {
            "gridcolor": "white",
            "linecolor": "white",
            "ticks": ""
           }
          },
          "scene": {
           "xaxis": {
            "backgroundcolor": "#E5ECF6",
            "gridcolor": "white",
            "gridwidth": 2,
            "linecolor": "white",
            "showbackground": true,
            "ticks": "",
            "zerolinecolor": "white"
           },
           "yaxis": {
            "backgroundcolor": "#E5ECF6",
            "gridcolor": "white",
            "gridwidth": 2,
            "linecolor": "white",
            "showbackground": true,
            "ticks": "",
            "zerolinecolor": "white"
           },
           "zaxis": {
            "backgroundcolor": "#E5ECF6",
            "gridcolor": "white",
            "gridwidth": 2,
            "linecolor": "white",
            "showbackground": true,
            "ticks": "",
            "zerolinecolor": "white"
           }
          },
          "shapedefaults": {
           "line": {
            "color": "#2a3f5f"
           }
          },
          "ternary": {
           "aaxis": {
            "gridcolor": "white",
            "linecolor": "white",
            "ticks": ""
           },
           "baxis": {
            "gridcolor": "white",
            "linecolor": "white",
            "ticks": ""
           },
           "bgcolor": "#E5ECF6",
           "caxis": {
            "gridcolor": "white",
            "linecolor": "white",
            "ticks": ""
           }
          },
          "title": {
           "x": 0.05
          },
          "xaxis": {
           "automargin": true,
           "gridcolor": "white",
           "linecolor": "white",
           "ticks": "",
           "title": {
            "standoff": 15
           },
           "zerolinecolor": "white",
           "zerolinewidth": 2
          },
          "yaxis": {
           "automargin": true,
           "gridcolor": "white",
           "linecolor": "white",
           "ticks": "",
           "title": {
            "standoff": 15
           },
           "zerolinecolor": "white",
           "zerolinewidth": 2
          }
         }
        },
        "title": {
         "text": "Forecasts of CO2 emissions in function of the family of scenarios based on the derivative of Kaya model"
        },
        "xaxis": {
         "title": {
          "text": "Years"
         }
        },
        "yaxis": {
         "title": {
          "text": "CO2 emissions [MtCO2eq]"
         }
        }
       }
      },
      "text/html": [
       "<div>\n",
       "        \n",
       "        \n",
       "            <div id=\"d98b02c5-b7ec-442e-a591-426cfcb39463\" class=\"plotly-graph-div\" style=\"height:525px; width:100%;\"></div>\n",
       "            <script type=\"text/javascript\">\n",
       "                require([\"plotly\"], function(Plotly) {\n",
       "                    window.PLOTLYENV=window.PLOTLYENV || {};\n",
       "                    \n",
       "                if (document.getElementById(\"d98b02c5-b7ec-442e-a591-426cfcb39463\")) {\n",
       "                    Plotly.newPlot(\n",
       "                        'd98b02c5-b7ec-442e-a591-426cfcb39463',\n",
       "                        [{\"fill\": \"toself\", \"fillcolor\": \"#1f77b4\", \"line\": {\"color\": \"rgba(0, 0, 0, 0)\"}, \"name\": \"SSP1\", \"opacity\": 0.1, \"showlegend\": false, \"type\": \"scatter\", \"x\": [2017, 2018, 2019, 2020, 2021, 2022, 2023, 2024, 2025, 2026, 2027, 2028, 2029, 2030, 2030, 2029, 2028, 2027, 2026, 2025, 2024, 2023, 2022, 2021, 2020, 2019, 2018, 2017], \"y\": [3144.0, 2951.8579326766157, 2765.667082517701, 2598.046249031943, 2441.1699560771185, 2301.949583916467, 2170.4462252471258, 2049.950428940011, 1939.697670451381, 1842.8850397714748, 1752.2718609928986, 1669.2871785486107, 1594.3860833437932, 1525.0829076936463, 1503.9858432451672, 1572.6089768891272, 1646.5977301589708, 1728.6299347713382, 1818.2000113837737, 1914.029529797799, 2024.0020481799374, 2143.653305305703, 2274.8750019055447, 2414.3213529505347, 2572.53502395477, 2742.727687822447, 2933.932344519817, 3144.0]}, {\"line\": {\"color\": \"#1f77b4\"}, \"name\": \"SSP1\", \"opacity\": 0.8, \"type\": \"scatter\", \"x\": [2017, 2018, 2019, 2020, 2021, 2022, 2023, 2024, 2025, 2026, 2027, 2028, 2029, 2030], \"y\": [3144.0, 2942.8951385982164, 2754.197385170074, 2585.2906364933565, 2427.7456545138266, 2288.412292911006, 2157.0497652764143, 2036.9762385599743, 1926.86360012459, 1830.5425255776242, 1740.4508978821184, 1657.9424543537907, 1583.4975301164602, 1514.5343754694068]}, {\"fill\": \"toself\", \"fillcolor\": \"#ff7f0e\", \"line\": {\"color\": \"rgba(0, 0, 0, 0)\"}, \"name\": \"SSP2\", \"opacity\": 0.1, \"showlegend\": false, \"type\": \"scatter\", \"x\": [2017, 2018, 2019, 2020, 2021, 2022, 2023, 2024, 2025, 2026, 2027, 2028, 2029, 2030, 2030, 2029, 2028, 2027, 2026, 2025, 2024, 2023, 2022, 2021, 2020, 2019, 2018, 2017], \"y\": [3144.0, 3019.4577647642755, 2902.8601423166056, 2795.3775704143977, 2697.2925429192605, 2605.8630297860477, 2524.986742497888, 2454.7467125769267, 2387.2664770992656, 2324.405445278138, 2268.0552276307108, 2217.407495332556, 2170.939854288098, 2127.8969851687157, 2106.27878793009, 2149.257033063057, 2195.646474879589, 2246.1534395491935, 2302.3089557058397, 2365.07924990484, 2432.674307439687, 2503.050043077706, 2584.148466119353, 2676.355499547171, 2775.6317301498852, 2885.2570634550193, 3005.6736630020696, 3144.0]}, {\"line\": {\"color\": \"#ff7f0e\"}, \"name\": \"SSP2\", \"opacity\": 0.8, \"type\": \"scatter\", \"x\": [2017, 2018, 2019, 2020, 2021, 2022, 2023, 2024, 2025, 2026, 2027, 2028, 2029, 2030], \"y\": [3144.0, 3012.5657138831725, 2894.0586028858124, 2785.5046502821415, 2686.8240212332157, 2595.0057479527004, 2514.018392787797, 2443.7105100083068, 2376.1728635020527, 2313.357200491989, 2257.104333589952, 2206.5269851060725, 2160.0984436755775, 2117.087886549403]}, {\"fill\": \"toself\", \"fillcolor\": \"#2ca02c\", \"line\": {\"color\": \"rgba(0, 0, 0, 0)\"}, \"name\": \"SSP3\", \"opacity\": 0.1, \"showlegend\": false, \"type\": \"scatter\", \"x\": [2017, 2018, 2019, 2020, 2021, 2022, 2023, 2024, 2025, 2026, 2027, 2028, 2029, 2030, 2030, 2029, 2028, 2027, 2026, 2025, 2024, 2023, 2022, 2021, 2020, 2019, 2018, 2017], \"y\": [3144.0, 3093.5944385897615, 3044.162126154515, 2999.335698223268, 2954.129702603368, 2914.0990844425523, 2878.549600786618, 2845.331031682939, 2815.320136267917, 2788.54994472556, 2765.713536056724, 2740.9565716760894, 2721.1689594140935, 2702.6526367399883, 2682.3877154730444, 2701.3528384611864, 2721.650187533662, 2746.749179093176, 2770.0525531968474, 2797.186188576405, 2827.968126162547, 2861.5931826352567, 2898.054698741741, 2939.3750793575255, 2985.9806605265258, 3032.629321163754, 3084.859625924771, 3144.0]}, {\"line\": {\"color\": \"#2ca02c\"}, \"name\": \"SSP3\", \"opacity\": 0.8, \"type\": \"scatter\", \"x\": [2017, 2018, 2019, 2020, 2021, 2022, 2023, 2024, 2025, 2026, 2027, 2028, 2029, 2030], \"y\": [3144.0, 3089.2270322572663, 3038.3957236591345, 2992.658179374897, 2946.7523909804468, 2906.0768915921467, 2870.0713917109374, 2836.649578922743, 2806.253162422161, 2779.301248961204, 2756.23135757495, 2731.3033796048758, 2711.26089893764, 2692.5201761065164]}, {\"fill\": \"toself\", \"fillcolor\": \"#d62728\", \"line\": {\"color\": \"rgba(0, 0, 0, 0)\"}, \"name\": \"SSP4\", \"opacity\": 0.1, \"showlegend\": false, \"type\": \"scatter\", \"x\": [2017, 2018, 2019, 2020, 2021, 2022, 2023, 2024, 2025, 2026, 2027, 2028, 2029, 2030, 2030, 2029, 2028, 2027, 2026, 2025, 2024, 2023, 2022, 2021, 2020, 2019, 2018, 2017], \"y\": [3144.0, 3007.801974746613, 2873.9015776205993, 2750.4158761494245, 2636.0904846987964, 2536.632239982402, 2439.1369369235094, 2353.5303126365516, 2272.7224543717807, 2200.1063144073246, 2133.960985766043, 2072.031066528358, 2014.8778725065831, 1964.4130534032638, 1937.997916432921, 1987.9436798670172, 2044.3377108196503, 2105.7122768110335, 2171.262322519164, 2243.3953641475514, 2323.6061948853267, 2409.379062246891, 2506.2380920037103, 2606.6111095078472, 2723.0808706782336, 2849.063703043021, 2989.222024147383, 3144.0]}, {\"line\": {\"color\": \"#d62728\"}, \"name\": \"SSP4\", \"opacity\": 0.8, \"type\": \"scatter\", \"x\": [2017, 2018, 2019, 2020, 2021, 2022, 2023, 2024, 2025, 2026, 2027, 2028, 2029, 2030], \"y\": [3144.0, 2998.511999446998, 2861.48264033181, 2736.748373413829, 2621.350797103322, 2521.435165993056, 2424.2579995852, 2338.568253760939, 2258.058909259666, 2185.6843184632444, 2119.8366312885382, 2058.1843886740044, 2001.4107761868001, 1951.2054849180925]}, {\"fill\": \"toself\", \"fillcolor\": \"#9467bd\", \"line\": {\"color\": \"rgba(0, 0, 0, 0)\"}, \"name\": \"SSP5\", \"opacity\": 0.1, \"showlegend\": false, \"type\": \"scatter\", \"x\": [2017, 2018, 2019, 2020, 2021, 2022, 2023, 2024, 2025, 2026, 2027, 2028, 2029, 2030, 2030, 2029, 2028, 2027, 2026, 2025, 2024, 2023, 2022, 2021, 2020, 2019, 2018, 2017], \"y\": [3144.0, 3009.0668123799146, 2878.022579605784, 2751.6370106089707, 2636.6845014288133, 2523.922892064738, 2417.081491417133, 2317.717690960885, 2219.498634149908, 2129.655186945826, 2044.6586804508777, 1963.6828778710008, 1889.1239972778415, 1817.4205337570124, 1798.9079398303638, 1870.3609730614446, 1944.754137688856, 2025.3219389214744, 2109.874055784989, 2199.2337848084944, 2297.217753521785, 2396.464498857908, 2503.610286188484, 2616.4513958026523, 2732.2233977871037, 2860.5777346491386, 2995.7094700345538, 3144.0]}, {\"line\": {\"color\": \"#9467bd\"}, \"name\": \"SSP5\", \"opacity\": 0.8, \"type\": \"scatter\", \"x\": [2017, 2018, 2019, 2020, 2021, 2022, 2023, 2024, 2025, 2026, 2027, 2028, 2029, 2030], \"y\": [3144.0, 3002.388141207234, 2869.3001571274613, 2741.9302041980372, 2626.567948615733, 2513.766589126611, 2406.7729951375204, 2307.467722241335, 2209.366209479201, 2119.7646213654075, 2034.990309686176, 1954.2185077799284, 1879.742485169643, 1808.1642367936881]}, {\"line\": {\"color\": \"Black\"}, \"mode\": \"lines\", \"name\": \"EU target\", \"opacity\": 0.8, \"type\": \"scatter\", \"x\": [2017, 2018, 2019, 2020, 2021, 2022, 2023, 2024, 2025, 2026, 2027, 2028, 2029, 2030], \"y\": [2645.1158467031278, 2645.1158467031278, 2645.1158467031278, 2645.1158467031278, 2645.1158467031278, 2645.1158467031278, 2645.1158467031278, 2645.1158467031278, 2645.1158467031278, 2645.1158467031278, 2645.1158467031278, 2645.1158467031278, 2645.1158467031278, 2645.1158467031278]}],\n",
       "                        {\"template\": {\"data\": {\"bar\": [{\"error_x\": {\"color\": \"#2a3f5f\"}, \"error_y\": {\"color\": \"#2a3f5f\"}, \"marker\": {\"line\": {\"color\": \"#E5ECF6\", \"width\": 0.5}}, \"type\": \"bar\"}], \"barpolar\": [{\"marker\": {\"line\": {\"color\": \"#E5ECF6\", \"width\": 0.5}}, \"type\": \"barpolar\"}], \"carpet\": [{\"aaxis\": {\"endlinecolor\": \"#2a3f5f\", \"gridcolor\": \"white\", \"linecolor\": \"white\", \"minorgridcolor\": \"white\", \"startlinecolor\": \"#2a3f5f\"}, \"baxis\": {\"endlinecolor\": \"#2a3f5f\", \"gridcolor\": \"white\", \"linecolor\": \"white\", \"minorgridcolor\": \"white\", \"startlinecolor\": \"#2a3f5f\"}, \"type\": \"carpet\"}], \"choropleth\": [{\"colorbar\": {\"outlinewidth\": 0, \"ticks\": \"\"}, \"type\": \"choropleth\"}], \"contour\": [{\"colorbar\": {\"outlinewidth\": 0, \"ticks\": \"\"}, \"colorscale\": [[0.0, \"#0d0887\"], [0.1111111111111111, \"#46039f\"], [0.2222222222222222, \"#7201a8\"], [0.3333333333333333, \"#9c179e\"], [0.4444444444444444, \"#bd3786\"], [0.5555555555555556, \"#d8576b\"], [0.6666666666666666, \"#ed7953\"], [0.7777777777777778, \"#fb9f3a\"], [0.8888888888888888, \"#fdca26\"], [1.0, \"#f0f921\"]], \"type\": \"contour\"}], \"contourcarpet\": [{\"colorbar\": {\"outlinewidth\": 0, \"ticks\": \"\"}, \"type\": \"contourcarpet\"}], \"heatmap\": [{\"colorbar\": {\"outlinewidth\": 0, \"ticks\": \"\"}, \"colorscale\": [[0.0, \"#0d0887\"], [0.1111111111111111, \"#46039f\"], [0.2222222222222222, \"#7201a8\"], [0.3333333333333333, \"#9c179e\"], [0.4444444444444444, \"#bd3786\"], [0.5555555555555556, \"#d8576b\"], [0.6666666666666666, \"#ed7953\"], [0.7777777777777778, \"#fb9f3a\"], [0.8888888888888888, \"#fdca26\"], [1.0, \"#f0f921\"]], \"type\": \"heatmap\"}], \"heatmapgl\": [{\"colorbar\": {\"outlinewidth\": 0, \"ticks\": \"\"}, \"colorscale\": [[0.0, \"#0d0887\"], [0.1111111111111111, \"#46039f\"], [0.2222222222222222, \"#7201a8\"], [0.3333333333333333, \"#9c179e\"], [0.4444444444444444, \"#bd3786\"], [0.5555555555555556, \"#d8576b\"], [0.6666666666666666, \"#ed7953\"], [0.7777777777777778, \"#fb9f3a\"], [0.8888888888888888, \"#fdca26\"], [1.0, \"#f0f921\"]], \"type\": \"heatmapgl\"}], \"histogram\": [{\"marker\": {\"colorbar\": {\"outlinewidth\": 0, \"ticks\": \"\"}}, \"type\": \"histogram\"}], \"histogram2d\": [{\"colorbar\": {\"outlinewidth\": 0, \"ticks\": \"\"}, \"colorscale\": [[0.0, \"#0d0887\"], [0.1111111111111111, \"#46039f\"], [0.2222222222222222, \"#7201a8\"], [0.3333333333333333, \"#9c179e\"], [0.4444444444444444, \"#bd3786\"], [0.5555555555555556, \"#d8576b\"], [0.6666666666666666, \"#ed7953\"], [0.7777777777777778, \"#fb9f3a\"], [0.8888888888888888, \"#fdca26\"], [1.0, \"#f0f921\"]], \"type\": \"histogram2d\"}], \"histogram2dcontour\": [{\"colorbar\": {\"outlinewidth\": 0, \"ticks\": \"\"}, \"colorscale\": [[0.0, \"#0d0887\"], [0.1111111111111111, \"#46039f\"], [0.2222222222222222, \"#7201a8\"], [0.3333333333333333, \"#9c179e\"], [0.4444444444444444, \"#bd3786\"], [0.5555555555555556, \"#d8576b\"], [0.6666666666666666, \"#ed7953\"], [0.7777777777777778, \"#fb9f3a\"], [0.8888888888888888, \"#fdca26\"], [1.0, \"#f0f921\"]], \"type\": \"histogram2dcontour\"}], \"mesh3d\": [{\"colorbar\": {\"outlinewidth\": 0, \"ticks\": \"\"}, \"type\": \"mesh3d\"}], \"parcoords\": [{\"line\": {\"colorbar\": {\"outlinewidth\": 0, \"ticks\": \"\"}}, \"type\": \"parcoords\"}], \"pie\": [{\"automargin\": true, \"type\": \"pie\"}], \"scatter\": [{\"marker\": {\"colorbar\": {\"outlinewidth\": 0, \"ticks\": \"\"}}, \"type\": \"scatter\"}], \"scatter3d\": [{\"line\": {\"colorbar\": {\"outlinewidth\": 0, \"ticks\": \"\"}}, \"marker\": {\"colorbar\": {\"outlinewidth\": 0, \"ticks\": \"\"}}, \"type\": \"scatter3d\"}], \"scattercarpet\": [{\"marker\": {\"colorbar\": {\"outlinewidth\": 0, \"ticks\": \"\"}}, \"type\": \"scattercarpet\"}], \"scattergeo\": [{\"marker\": {\"colorbar\": {\"outlinewidth\": 0, \"ticks\": \"\"}}, \"type\": \"scattergeo\"}], \"scattergl\": [{\"marker\": {\"colorbar\": {\"outlinewidth\": 0, \"ticks\": \"\"}}, \"type\": \"scattergl\"}], \"scattermapbox\": [{\"marker\": {\"colorbar\": {\"outlinewidth\": 0, \"ticks\": \"\"}}, \"type\": \"scattermapbox\"}], \"scatterpolar\": [{\"marker\": {\"colorbar\": {\"outlinewidth\": 0, \"ticks\": \"\"}}, \"type\": \"scatterpolar\"}], \"scatterpolargl\": [{\"marker\": {\"colorbar\": {\"outlinewidth\": 0, \"ticks\": \"\"}}, \"type\": \"scatterpolargl\"}], \"scatterternary\": [{\"marker\": {\"colorbar\": {\"outlinewidth\": 0, \"ticks\": \"\"}}, \"type\": \"scatterternary\"}], \"surface\": [{\"colorbar\": {\"outlinewidth\": 0, \"ticks\": \"\"}, \"colorscale\": [[0.0, \"#0d0887\"], [0.1111111111111111, \"#46039f\"], [0.2222222222222222, \"#7201a8\"], [0.3333333333333333, \"#9c179e\"], [0.4444444444444444, \"#bd3786\"], [0.5555555555555556, \"#d8576b\"], [0.6666666666666666, \"#ed7953\"], [0.7777777777777778, \"#fb9f3a\"], [0.8888888888888888, \"#fdca26\"], [1.0, \"#f0f921\"]], \"type\": \"surface\"}], \"table\": [{\"cells\": {\"fill\": {\"color\": \"#EBF0F8\"}, \"line\": {\"color\": \"white\"}}, \"header\": {\"fill\": {\"color\": \"#C8D4E3\"}, \"line\": {\"color\": \"white\"}}, \"type\": \"table\"}]}, \"layout\": {\"annotationdefaults\": {\"arrowcolor\": \"#2a3f5f\", \"arrowhead\": 0, \"arrowwidth\": 1}, \"coloraxis\": {\"colorbar\": {\"outlinewidth\": 0, \"ticks\": \"\"}}, \"colorscale\": {\"diverging\": [[0, \"#8e0152\"], [0.1, \"#c51b7d\"], [0.2, \"#de77ae\"], [0.3, \"#f1b6da\"], [0.4, \"#fde0ef\"], [0.5, \"#f7f7f7\"], [0.6, \"#e6f5d0\"], [0.7, \"#b8e186\"], [0.8, \"#7fbc41\"], [0.9, \"#4d9221\"], [1, \"#276419\"]], \"sequential\": [[0.0, \"#0d0887\"], [0.1111111111111111, \"#46039f\"], [0.2222222222222222, \"#7201a8\"], [0.3333333333333333, \"#9c179e\"], [0.4444444444444444, \"#bd3786\"], [0.5555555555555556, \"#d8576b\"], [0.6666666666666666, \"#ed7953\"], [0.7777777777777778, \"#fb9f3a\"], [0.8888888888888888, \"#fdca26\"], [1.0, \"#f0f921\"]], \"sequentialminus\": [[0.0, \"#0d0887\"], [0.1111111111111111, \"#46039f\"], [0.2222222222222222, \"#7201a8\"], [0.3333333333333333, \"#9c179e\"], [0.4444444444444444, \"#bd3786\"], [0.5555555555555556, \"#d8576b\"], [0.6666666666666666, \"#ed7953\"], [0.7777777777777778, \"#fb9f3a\"], [0.8888888888888888, \"#fdca26\"], [1.0, \"#f0f921\"]]}, \"colorway\": [\"#636efa\", \"#EF553B\", \"#00cc96\", \"#ab63fa\", \"#FFA15A\", \"#19d3f3\", \"#FF6692\", \"#B6E880\", \"#FF97FF\", \"#FECB52\"], \"font\": {\"color\": \"#2a3f5f\"}, \"geo\": {\"bgcolor\": \"white\", \"lakecolor\": \"white\", \"landcolor\": \"#E5ECF6\", \"showlakes\": true, \"showland\": true, \"subunitcolor\": \"white\"}, \"hoverlabel\": {\"align\": \"left\"}, \"hovermode\": \"closest\", \"mapbox\": {\"style\": \"light\"}, \"paper_bgcolor\": \"white\", \"plot_bgcolor\": \"#E5ECF6\", \"polar\": {\"angularaxis\": {\"gridcolor\": \"white\", \"linecolor\": \"white\", \"ticks\": \"\"}, \"bgcolor\": \"#E5ECF6\", \"radialaxis\": {\"gridcolor\": \"white\", \"linecolor\": \"white\", \"ticks\": \"\"}}, \"scene\": {\"xaxis\": {\"backgroundcolor\": \"#E5ECF6\", \"gridcolor\": \"white\", \"gridwidth\": 2, \"linecolor\": \"white\", \"showbackground\": true, \"ticks\": \"\", \"zerolinecolor\": \"white\"}, \"yaxis\": {\"backgroundcolor\": \"#E5ECF6\", \"gridcolor\": \"white\", \"gridwidth\": 2, \"linecolor\": \"white\", \"showbackground\": true, \"ticks\": \"\", \"zerolinecolor\": \"white\"}, \"zaxis\": {\"backgroundcolor\": \"#E5ECF6\", \"gridcolor\": \"white\", \"gridwidth\": 2, \"linecolor\": \"white\", \"showbackground\": true, \"ticks\": \"\", \"zerolinecolor\": \"white\"}}, \"shapedefaults\": {\"line\": {\"color\": \"#2a3f5f\"}}, \"ternary\": {\"aaxis\": {\"gridcolor\": \"white\", \"linecolor\": \"white\", \"ticks\": \"\"}, \"baxis\": {\"gridcolor\": \"white\", \"linecolor\": \"white\", \"ticks\": \"\"}, \"bgcolor\": \"#E5ECF6\", \"caxis\": {\"gridcolor\": \"white\", \"linecolor\": \"white\", \"ticks\": \"\"}}, \"title\": {\"x\": 0.05}, \"xaxis\": {\"automargin\": true, \"gridcolor\": \"white\", \"linecolor\": \"white\", \"ticks\": \"\", \"title\": {\"standoff\": 15}, \"zerolinecolor\": \"white\", \"zerolinewidth\": 2}, \"yaxis\": {\"automargin\": true, \"gridcolor\": \"white\", \"linecolor\": \"white\", \"ticks\": \"\", \"title\": {\"standoff\": 15}, \"zerolinecolor\": \"white\", \"zerolinewidth\": 2}}}, \"title\": {\"text\": \"Forecasts of CO2 emissions in function of the family of scenarios based on the derivative of Kaya model\"}, \"xaxis\": {\"title\": {\"text\": \"Years\"}}, \"yaxis\": {\"title\": {\"text\": \"CO2 emissions [MtCO2eq]\"}}},\n",
       "                        {\"responsive\": true}\n",
       "                    ).then(function(){\n",
       "                            \n",
       "var gd = document.getElementById('d98b02c5-b7ec-442e-a591-426cfcb39463');\n",
       "var x = new MutationObserver(function (mutations, observer) {{\n",
       "        var display = window.getComputedStyle(gd).display;\n",
       "        if (!display || display === 'none') {{\n",
       "            console.log([gd, 'removed!']);\n",
       "            Plotly.purge(gd);\n",
       "            observer.disconnect();\n",
       "        }}\n",
       "}});\n",
       "\n",
       "// Listen for the removal of the full notebook cells\n",
       "var notebookContainer = gd.closest('#notebook-container');\n",
       "if (notebookContainer) {{\n",
       "    x.observe(notebookContainer, {childList: true});\n",
       "}}\n",
       "\n",
       "// Listen for the clearing of the current output cell\n",
       "var outputEl = gd.closest('.output');\n",
       "if (outputEl) {{\n",
       "    x.observe(outputEl, {childList: true});\n",
       "}}\n",
       "\n",
       "                        })\n",
       "                };\n",
       "                });\n",
       "            </script>\n",
       "        </div>"
      ]
     },
     "metadata": {},
     "output_type": "display_data"
    },
    {
     "data": {
      "application/vnd.plotly.v1+json": {
       "config": {
        "plotlyServerURL": "https://plot.ly"
       },
       "data": [
        {
         "fill": "toself",
         "fillcolor": "#1f77b4",
         "line": {
          "color": "rgba(0, 0, 0, 0)"
         },
         "name": "SSP1",
         "opacity": 0.1,
         "showlegend": false,
         "type": "scatter",
         "x": [
          2017,
          2018,
          2019,
          2020,
          2021,
          2022,
          2023,
          2024,
          2025,
          2026,
          2027,
          2028,
          2029,
          2030,
          2030,
          2029,
          2028,
          2027,
          2026,
          2025,
          2024,
          2023,
          2022,
          2021,
          2020,
          2019,
          2018,
          2017
         ],
         "y": [
          3144,
          2950.6818297479476,
          2761.0698580580492,
          2593.138787905273,
          2437.8275054801684,
          2298.6766359470075,
          2168.2265672383865,
          2051.93713292594,
          1941.394171902814,
          1843.9455293752737,
          1751.4482695688944,
          1668.440054847964,
          1590.8784500062675,
          1521.0919865265453,
          1499.7322543234761,
          1568.71898303411,
          1645.3560744102351,
          1727.6543252420452,
          1819.343520511586,
          1915.8590217630826,
          2025.626474040331,
          2141.3989968577143,
          2271.4400113648735,
          2411.446007730657,
          2567.5985547607756,
          2737.6671590249043,
          2932.0161807307177,
          3144
         ]
        },
        {
         "line": {
          "color": "#1f77b4"
         },
         "name": "SSP1",
         "opacity": 0.8,
         "type": "scatter",
         "x": [
          2017,
          2018,
          2019,
          2020,
          2021,
          2022,
          2023,
          2024,
          2025,
          2026,
          2027,
          2028,
          2029,
          2030
         ],
         "y": [
          3144,
          2941.3490052393327,
          2749.368508541477,
          2580.3686713330244,
          2424.6367566054128,
          2285.0583236559405,
          2154.8127820480504,
          2038.7818034831357,
          1928.6265968329483,
          1831.6445249434298,
          1739.5512974054698,
          1656.8980646290995,
          1579.7987165201887,
          1510.4121204250107
         ]
        },
        {
         "fill": "toself",
         "fillcolor": "#ff7f0e",
         "line": {
          "color": "rgba(0, 0, 0, 0)"
         },
         "name": "SSP2",
         "opacity": 0.1,
         "showlegend": false,
         "type": "scatter",
         "x": [
          2017,
          2018,
          2019,
          2020,
          2021,
          2022,
          2023,
          2024,
          2025,
          2026,
          2027,
          2028,
          2029,
          2030,
          2030,
          2029,
          2028,
          2027,
          2026,
          2025,
          2024,
          2023,
          2022,
          2021,
          2020,
          2019,
          2018,
          2017
         ],
         "y": [
          3144,
          3022.8782818256877,
          2904.8149421246135,
          2801.153762189529,
          2705.296208247697,
          2620.064534065465,
          2536.4748308745575,
          2462.1009818035304,
          2394.8440008446614,
          2333.4438140257103,
          2275.680025808759,
          2223.5886938232484,
          2174.335573800832,
          2129.97829500959,
          2108.128368327783,
          2152.2565759016024,
          2201.136171331895,
          2252.9820381257737,
          2310.307288956064,
          2371.6943105101955,
          2438.905496353235,
          2513.0002448562127,
          2596.94976948049,
          2682.8151275119308,
          2780.3889337071264,
          2886.4605907009727,
          3009.043780895704,
          3144
         ]
        },
        {
         "line": {
          "color": "#ff7f0e"
         },
         "name": "SSP2",
         "opacity": 0.8,
         "type": "scatter",
         "x": [
          2017,
          2018,
          2019,
          2020,
          2021,
          2022,
          2023,
          2024,
          2025,
          2026,
          2027,
          2028,
          2029,
          2030
         ],
         "y": [
          3144,
          3015.961031360696,
          2895.637766412793,
          2790.7713479483277,
          2694.055667879814,
          2608.5071517729775,
          2524.737537865385,
          2450.5032390783826,
          2383.2691556774284,
          2321.875551490887,
          2264.3310319672664,
          2212.362432577572,
          2163.2960748512173,
          2119.0533316686865
         ]
        },
        {
         "fill": "toself",
         "fillcolor": "#2ca02c",
         "line": {
          "color": "rgba(0, 0, 0, 0)"
         },
         "name": "SSP3",
         "opacity": 0.1,
         "showlegend": false,
         "type": "scatter",
         "x": [
          2017,
          2018,
          2019,
          2020,
          2021,
          2022,
          2023,
          2024,
          2025,
          2026,
          2027,
          2028,
          2029,
          2030,
          2030,
          2029,
          2028,
          2027,
          2026,
          2025,
          2024,
          2023,
          2022,
          2021,
          2020,
          2019,
          2018,
          2017
         ],
         "y": [
          3144,
          3096.500031410373,
          3046.4273353857684,
          2999.5647128061423,
          2956.3468795710387,
          2917.818308530619,
          2880.1594983212644,
          2847.6525459039854,
          2817.717547058374,
          2789.1301285551212,
          2765.240233116618,
          2742.679804656324,
          2720.687003089026,
          2702.722695938336,
          2682.8579055510227,
          2701.239764650194,
          2723.4577190132172,
          2746.3092257339163,
          2770.6221442012306,
          2799.599641680125,
          2830.0638918032914,
          2863.3109959941758,
          2901.6156558501107,
          2941.5190553898783,
          2985.943230697299,
          3034.5371702162042,
          3087.8331907530087,
          3144
         ]
        },
        {
         "line": {
          "color": "#2ca02c"
         },
         "name": "SSP3",
         "opacity": 0.8,
         "type": "scatter",
         "x": [
          2017,
          2018,
          2019,
          2020,
          2021,
          2022,
          2023,
          2024,
          2025,
          2026,
          2027,
          2028,
          2029,
          2030
         ],
         "y": [
          3144,
          3092.166611081691,
          3040.4822528009863,
          2992.7539717517207,
          2948.9329674804585,
          2909.716982190365,
          2871.73524715772,
          2838.8582188536384,
          2808.6585943692494,
          2779.876136378176,
          2755.774729425267,
          2733.0687618347706,
          2710.96338386961,
          2692.7903007446794
         ]
        },
        {
         "fill": "toself",
         "fillcolor": "#d62728",
         "line": {
          "color": "rgba(0, 0, 0, 0)"
         },
         "name": "SSP4",
         "opacity": 0.1,
         "showlegend": false,
         "type": "scatter",
         "x": [
          2017,
          2018,
          2019,
          2020,
          2021,
          2022,
          2023,
          2024,
          2025,
          2026,
          2027,
          2028,
          2029,
          2030,
          2030,
          2029,
          2028,
          2027,
          2026,
          2025,
          2024,
          2023,
          2022,
          2021,
          2020,
          2019,
          2018,
          2017
         ],
         "y": [
          3144,
          3009.3934135030295,
          2873.162415309925,
          2749.078361695321,
          2633.2679370053243,
          2528.575515877103,
          2431.640084285807,
          2347.920698650839,
          2266.3088097575433,
          2195.418480816216,
          2127.746478520868,
          2067.79679526849,
          2011.695006992675,
          1959.9492472060829,
          1933.6614234754497,
          1984.7520464759325,
          2040.3404482110152,
          2099.845462697643,
          2166.959515403599,
          2237.4603986447923,
          2318.369274429824,
          2402.1533882174695,
          2499.2450701398416,
          2604.4096929906104,
          2721.701062731246,
          2848.897210821687,
          2990.2096169569077,
          3144
         ]
        },
        {
         "line": {
          "color": "#d62728"
         },
         "name": "SSP4",
         "opacity": 0.8,
         "type": "scatter",
         "x": [
          2017,
          2018,
          2019,
          2020,
          2021,
          2022,
          2023,
          2024,
          2025,
          2026,
          2027,
          2028,
          2029,
          2030
         ],
         "y": [
          3144,
          2999.8015152299686,
          2861.029813065806,
          2735.3897122132835,
          2618.8388149979673,
          2513.9102930084723,
          2416.8967362516382,
          2333.1449865403315,
          2251.884604201168,
          2181.1889981099075,
          2113.7959706092556,
          2054.0686217397524,
          1998.2235267343037,
          1946.8053353407663
         ]
        },
        {
         "fill": "toself",
         "fillcolor": "#9467bd",
         "line": {
          "color": "rgba(0, 0, 0, 0)"
         },
         "name": "SSP5",
         "opacity": 0.1,
         "showlegend": false,
         "type": "scatter",
         "x": [
          2017,
          2018,
          2019,
          2020,
          2021,
          2022,
          2023,
          2024,
          2025,
          2026,
          2027,
          2028,
          2029,
          2030,
          2030,
          2029,
          2028,
          2027,
          2026,
          2025,
          2024,
          2023,
          2022,
          2021,
          2020,
          2019,
          2018,
          2017
         ],
         "y": [
          3144,
          3005.024429114559,
          2874.475025736141,
          2752.9995818392854,
          2635.5887138568164,
          2521.2606582462736,
          2413.690671366236,
          2309.2928795159714,
          2212.0069963013752,
          2119.7258607954864,
          2034.1812474149415,
          1952.3985694395828,
          1875.5869095953358,
          1802.9695782574934,
          1783.898128241325,
          1856.4209607090575,
          1933.2485295564948,
          2014.7655681577858,
          2099.9830185166657,
          2191.8552018771056,
          2288.5737071987487,
          2392.7362954973946,
          2500.552887092586,
          2615.5526458851477,
          2734.476214354182,
          2857.6766011238888,
          2992.1630270669966,
          3144
         ]
        },
        {
         "line": {
          "color": "#9467bd"
         },
         "name": "SSP5",
         "opacity": 0.8,
         "type": "scatter",
         "x": [
          2017,
          2018,
          2019,
          2020,
          2021,
          2022,
          2023,
          2024,
          2025,
          2026,
          2027,
          2028,
          2029,
          2030
         ],
         "y": [
          3144,
          2998.593728090778,
          2866.075813430015,
          2743.7378980967337,
          2625.570679870982,
          2510.9067726694298,
          2403.2134834318153,
          2298.93329335736,
          2201.9310990892404,
          2109.854439656076,
          2024.4734077863636,
          1942.8235494980388,
          1866.0039351521966,
          1793.4338532494091
         ]
        },
        {
         "line": {
          "color": "Black"
         },
         "mode": "lines",
         "name": "EU target",
         "opacity": 0.8,
         "type": "scatter",
         "x": [
          2017,
          2018,
          2019,
          2020,
          2021,
          2022,
          2023,
          2024,
          2025,
          2026,
          2027,
          2028,
          2029,
          2030
         ],
         "y": [
          2645.1158467031278,
          2645.1158467031278,
          2645.1158467031278,
          2645.1158467031278,
          2645.1158467031278,
          2645.1158467031278,
          2645.1158467031278,
          2645.1158467031278,
          2645.1158467031278,
          2645.1158467031278,
          2645.1158467031278,
          2645.1158467031278,
          2645.1158467031278,
          2645.1158467031278
         ]
        }
       ],
       "layout": {
        "template": {
         "data": {
          "bar": [
           {
            "error_x": {
             "color": "#2a3f5f"
            },
            "error_y": {
             "color": "#2a3f5f"
            },
            "marker": {
             "line": {
              "color": "#E5ECF6",
              "width": 0.5
             }
            },
            "type": "bar"
           }
          ],
          "barpolar": [
           {
            "marker": {
             "line": {
              "color": "#E5ECF6",
              "width": 0.5
             }
            },
            "type": "barpolar"
           }
          ],
          "carpet": [
           {
            "aaxis": {
             "endlinecolor": "#2a3f5f",
             "gridcolor": "white",
             "linecolor": "white",
             "minorgridcolor": "white",
             "startlinecolor": "#2a3f5f"
            },
            "baxis": {
             "endlinecolor": "#2a3f5f",
             "gridcolor": "white",
             "linecolor": "white",
             "minorgridcolor": "white",
             "startlinecolor": "#2a3f5f"
            },
            "type": "carpet"
           }
          ],
          "choropleth": [
           {
            "colorbar": {
             "outlinewidth": 0,
             "ticks": ""
            },
            "type": "choropleth"
           }
          ],
          "contour": [
           {
            "colorbar": {
             "outlinewidth": 0,
             "ticks": ""
            },
            "colorscale": [
             [
              0,
              "#0d0887"
             ],
             [
              0.1111111111111111,
              "#46039f"
             ],
             [
              0.2222222222222222,
              "#7201a8"
             ],
             [
              0.3333333333333333,
              "#9c179e"
             ],
             [
              0.4444444444444444,
              "#bd3786"
             ],
             [
              0.5555555555555556,
              "#d8576b"
             ],
             [
              0.6666666666666666,
              "#ed7953"
             ],
             [
              0.7777777777777778,
              "#fb9f3a"
             ],
             [
              0.8888888888888888,
              "#fdca26"
             ],
             [
              1,
              "#f0f921"
             ]
            ],
            "type": "contour"
           }
          ],
          "contourcarpet": [
           {
            "colorbar": {
             "outlinewidth": 0,
             "ticks": ""
            },
            "type": "contourcarpet"
           }
          ],
          "heatmap": [
           {
            "colorbar": {
             "outlinewidth": 0,
             "ticks": ""
            },
            "colorscale": [
             [
              0,
              "#0d0887"
             ],
             [
              0.1111111111111111,
              "#46039f"
             ],
             [
              0.2222222222222222,
              "#7201a8"
             ],
             [
              0.3333333333333333,
              "#9c179e"
             ],
             [
              0.4444444444444444,
              "#bd3786"
             ],
             [
              0.5555555555555556,
              "#d8576b"
             ],
             [
              0.6666666666666666,
              "#ed7953"
             ],
             [
              0.7777777777777778,
              "#fb9f3a"
             ],
             [
              0.8888888888888888,
              "#fdca26"
             ],
             [
              1,
              "#f0f921"
             ]
            ],
            "type": "heatmap"
           }
          ],
          "heatmapgl": [
           {
            "colorbar": {
             "outlinewidth": 0,
             "ticks": ""
            },
            "colorscale": [
             [
              0,
              "#0d0887"
             ],
             [
              0.1111111111111111,
              "#46039f"
             ],
             [
              0.2222222222222222,
              "#7201a8"
             ],
             [
              0.3333333333333333,
              "#9c179e"
             ],
             [
              0.4444444444444444,
              "#bd3786"
             ],
             [
              0.5555555555555556,
              "#d8576b"
             ],
             [
              0.6666666666666666,
              "#ed7953"
             ],
             [
              0.7777777777777778,
              "#fb9f3a"
             ],
             [
              0.8888888888888888,
              "#fdca26"
             ],
             [
              1,
              "#f0f921"
             ]
            ],
            "type": "heatmapgl"
           }
          ],
          "histogram": [
           {
            "marker": {
             "colorbar": {
              "outlinewidth": 0,
              "ticks": ""
             }
            },
            "type": "histogram"
           }
          ],
          "histogram2d": [
           {
            "colorbar": {
             "outlinewidth": 0,
             "ticks": ""
            },
            "colorscale": [
             [
              0,
              "#0d0887"
             ],
             [
              0.1111111111111111,
              "#46039f"
             ],
             [
              0.2222222222222222,
              "#7201a8"
             ],
             [
              0.3333333333333333,
              "#9c179e"
             ],
             [
              0.4444444444444444,
              "#bd3786"
             ],
             [
              0.5555555555555556,
              "#d8576b"
             ],
             [
              0.6666666666666666,
              "#ed7953"
             ],
             [
              0.7777777777777778,
              "#fb9f3a"
             ],
             [
              0.8888888888888888,
              "#fdca26"
             ],
             [
              1,
              "#f0f921"
             ]
            ],
            "type": "histogram2d"
           }
          ],
          "histogram2dcontour": [
           {
            "colorbar": {
             "outlinewidth": 0,
             "ticks": ""
            },
            "colorscale": [
             [
              0,
              "#0d0887"
             ],
             [
              0.1111111111111111,
              "#46039f"
             ],
             [
              0.2222222222222222,
              "#7201a8"
             ],
             [
              0.3333333333333333,
              "#9c179e"
             ],
             [
              0.4444444444444444,
              "#bd3786"
             ],
             [
              0.5555555555555556,
              "#d8576b"
             ],
             [
              0.6666666666666666,
              "#ed7953"
             ],
             [
              0.7777777777777778,
              "#fb9f3a"
             ],
             [
              0.8888888888888888,
              "#fdca26"
             ],
             [
              1,
              "#f0f921"
             ]
            ],
            "type": "histogram2dcontour"
           }
          ],
          "mesh3d": [
           {
            "colorbar": {
             "outlinewidth": 0,
             "ticks": ""
            },
            "type": "mesh3d"
           }
          ],
          "parcoords": [
           {
            "line": {
             "colorbar": {
              "outlinewidth": 0,
              "ticks": ""
             }
            },
            "type": "parcoords"
           }
          ],
          "pie": [
           {
            "automargin": true,
            "type": "pie"
           }
          ],
          "scatter": [
           {
            "marker": {
             "colorbar": {
              "outlinewidth": 0,
              "ticks": ""
             }
            },
            "type": "scatter"
           }
          ],
          "scatter3d": [
           {
            "line": {
             "colorbar": {
              "outlinewidth": 0,
              "ticks": ""
             }
            },
            "marker": {
             "colorbar": {
              "outlinewidth": 0,
              "ticks": ""
             }
            },
            "type": "scatter3d"
           }
          ],
          "scattercarpet": [
           {
            "marker": {
             "colorbar": {
              "outlinewidth": 0,
              "ticks": ""
             }
            },
            "type": "scattercarpet"
           }
          ],
          "scattergeo": [
           {
            "marker": {
             "colorbar": {
              "outlinewidth": 0,
              "ticks": ""
             }
            },
            "type": "scattergeo"
           }
          ],
          "scattergl": [
           {
            "marker": {
             "colorbar": {
              "outlinewidth": 0,
              "ticks": ""
             }
            },
            "type": "scattergl"
           }
          ],
          "scattermapbox": [
           {
            "marker": {
             "colorbar": {
              "outlinewidth": 0,
              "ticks": ""
             }
            },
            "type": "scattermapbox"
           }
          ],
          "scatterpolar": [
           {
            "marker": {
             "colorbar": {
              "outlinewidth": 0,
              "ticks": ""
             }
            },
            "type": "scatterpolar"
           }
          ],
          "scatterpolargl": [
           {
            "marker": {
             "colorbar": {
              "outlinewidth": 0,
              "ticks": ""
             }
            },
            "type": "scatterpolargl"
           }
          ],
          "scatterternary": [
           {
            "marker": {
             "colorbar": {
              "outlinewidth": 0,
              "ticks": ""
             }
            },
            "type": "scatterternary"
           }
          ],
          "surface": [
           {
            "colorbar": {
             "outlinewidth": 0,
             "ticks": ""
            },
            "colorscale": [
             [
              0,
              "#0d0887"
             ],
             [
              0.1111111111111111,
              "#46039f"
             ],
             [
              0.2222222222222222,
              "#7201a8"
             ],
             [
              0.3333333333333333,
              "#9c179e"
             ],
             [
              0.4444444444444444,
              "#bd3786"
             ],
             [
              0.5555555555555556,
              "#d8576b"
             ],
             [
              0.6666666666666666,
              "#ed7953"
             ],
             [
              0.7777777777777778,
              "#fb9f3a"
             ],
             [
              0.8888888888888888,
              "#fdca26"
             ],
             [
              1,
              "#f0f921"
             ]
            ],
            "type": "surface"
           }
          ],
          "table": [
           {
            "cells": {
             "fill": {
              "color": "#EBF0F8"
             },
             "line": {
              "color": "white"
             }
            },
            "header": {
             "fill": {
              "color": "#C8D4E3"
             },
             "line": {
              "color": "white"
             }
            },
            "type": "table"
           }
          ]
         },
         "layout": {
          "annotationdefaults": {
           "arrowcolor": "#2a3f5f",
           "arrowhead": 0,
           "arrowwidth": 1
          },
          "coloraxis": {
           "colorbar": {
            "outlinewidth": 0,
            "ticks": ""
           }
          },
          "colorscale": {
           "diverging": [
            [
             0,
             "#8e0152"
            ],
            [
             0.1,
             "#c51b7d"
            ],
            [
             0.2,
             "#de77ae"
            ],
            [
             0.3,
             "#f1b6da"
            ],
            [
             0.4,
             "#fde0ef"
            ],
            [
             0.5,
             "#f7f7f7"
            ],
            [
             0.6,
             "#e6f5d0"
            ],
            [
             0.7,
             "#b8e186"
            ],
            [
             0.8,
             "#7fbc41"
            ],
            [
             0.9,
             "#4d9221"
            ],
            [
             1,
             "#276419"
            ]
           ],
           "sequential": [
            [
             0,
             "#0d0887"
            ],
            [
             0.1111111111111111,
             "#46039f"
            ],
            [
             0.2222222222222222,
             "#7201a8"
            ],
            [
             0.3333333333333333,
             "#9c179e"
            ],
            [
             0.4444444444444444,
             "#bd3786"
            ],
            [
             0.5555555555555556,
             "#d8576b"
            ],
            [
             0.6666666666666666,
             "#ed7953"
            ],
            [
             0.7777777777777778,
             "#fb9f3a"
            ],
            [
             0.8888888888888888,
             "#fdca26"
            ],
            [
             1,
             "#f0f921"
            ]
           ],
           "sequentialminus": [
            [
             0,
             "#0d0887"
            ],
            [
             0.1111111111111111,
             "#46039f"
            ],
            [
             0.2222222222222222,
             "#7201a8"
            ],
            [
             0.3333333333333333,
             "#9c179e"
            ],
            [
             0.4444444444444444,
             "#bd3786"
            ],
            [
             0.5555555555555556,
             "#d8576b"
            ],
            [
             0.6666666666666666,
             "#ed7953"
            ],
            [
             0.7777777777777778,
             "#fb9f3a"
            ],
            [
             0.8888888888888888,
             "#fdca26"
            ],
            [
             1,
             "#f0f921"
            ]
           ]
          },
          "colorway": [
           "#636efa",
           "#EF553B",
           "#00cc96",
           "#ab63fa",
           "#FFA15A",
           "#19d3f3",
           "#FF6692",
           "#B6E880",
           "#FF97FF",
           "#FECB52"
          ],
          "font": {
           "color": "#2a3f5f"
          },
          "geo": {
           "bgcolor": "white",
           "lakecolor": "white",
           "landcolor": "#E5ECF6",
           "showlakes": true,
           "showland": true,
           "subunitcolor": "white"
          },
          "hoverlabel": {
           "align": "left"
          },
          "hovermode": "closest",
          "mapbox": {
           "style": "light"
          },
          "paper_bgcolor": "white",
          "plot_bgcolor": "#E5ECF6",
          "polar": {
           "angularaxis": {
            "gridcolor": "white",
            "linecolor": "white",
            "ticks": ""
           },
           "bgcolor": "#E5ECF6",
           "radialaxis": {
            "gridcolor": "white",
            "linecolor": "white",
            "ticks": ""
           }
          },
          "scene": {
           "xaxis": {
            "backgroundcolor": "#E5ECF6",
            "gridcolor": "white",
            "gridwidth": 2,
            "linecolor": "white",
            "showbackground": true,
            "ticks": "",
            "zerolinecolor": "white"
           },
           "yaxis": {
            "backgroundcolor": "#E5ECF6",
            "gridcolor": "white",
            "gridwidth": 2,
            "linecolor": "white",
            "showbackground": true,
            "ticks": "",
            "zerolinecolor": "white"
           },
           "zaxis": {
            "backgroundcolor": "#E5ECF6",
            "gridcolor": "white",
            "gridwidth": 2,
            "linecolor": "white",
            "showbackground": true,
            "ticks": "",
            "zerolinecolor": "white"
           }
          },
          "shapedefaults": {
           "line": {
            "color": "#2a3f5f"
           }
          },
          "ternary": {
           "aaxis": {
            "gridcolor": "white",
            "linecolor": "white",
            "ticks": ""
           },
           "baxis": {
            "gridcolor": "white",
            "linecolor": "white",
            "ticks": ""
           },
           "bgcolor": "#E5ECF6",
           "caxis": {
            "gridcolor": "white",
            "linecolor": "white",
            "ticks": ""
           }
          },
          "title": {
           "x": 0.05
          },
          "xaxis": {
           "automargin": true,
           "gridcolor": "white",
           "linecolor": "white",
           "ticks": "",
           "title": {
            "standoff": 15
           },
           "zerolinecolor": "white",
           "zerolinewidth": 2
          },
          "yaxis": {
           "automargin": true,
           "gridcolor": "white",
           "linecolor": "white",
           "ticks": "",
           "title": {
            "standoff": 15
           },
           "zerolinecolor": "white",
           "zerolinewidth": 2
          }
         }
        },
        "title": {
         "text": "Forecasts of CO2 emissions in function of the family of scenarios based on the derivative of Kaya model"
        },
        "xaxis": {
         "title": {
          "text": "Years"
         }
        },
        "yaxis": {
         "title": {
          "text": "CO2 emissions [MtCO2eq]"
         }
        }
       }
      },
      "text/html": [
       "<div>\n",
       "        \n",
       "        \n",
       "            <div id=\"d10b49bf-dc36-4c46-af0c-0a900e90c87c\" class=\"plotly-graph-div\" style=\"height:525px; width:100%;\"></div>\n",
       "            <script type=\"text/javascript\">\n",
       "                require([\"plotly\"], function(Plotly) {\n",
       "                    window.PLOTLYENV=window.PLOTLYENV || {};\n",
       "                    \n",
       "                if (document.getElementById(\"d10b49bf-dc36-4c46-af0c-0a900e90c87c\")) {\n",
       "                    Plotly.newPlot(\n",
       "                        'd10b49bf-dc36-4c46-af0c-0a900e90c87c',\n",
       "                        [{\"fill\": \"toself\", \"fillcolor\": \"#1f77b4\", \"line\": {\"color\": \"rgba(0, 0, 0, 0)\"}, \"name\": \"SSP1\", \"opacity\": 0.1, \"showlegend\": false, \"type\": \"scatter\", \"x\": [2017, 2018, 2019, 2020, 2021, 2022, 2023, 2024, 2025, 2026, 2027, 2028, 2029, 2030, 2030, 2029, 2028, 2027, 2026, 2025, 2024, 2023, 2022, 2021, 2020, 2019, 2018, 2017], \"y\": [3144.0, 2950.6818297479476, 2761.0698580580492, 2593.138787905273, 2437.8275054801684, 2298.6766359470075, 2168.2265672383865, 2051.93713292594, 1941.394171902814, 1843.9455293752737, 1751.4482695688944, 1668.440054847964, 1590.8784500062675, 1521.0919865265453, 1499.7322543234761, 1568.71898303411, 1645.3560744102351, 1727.6543252420452, 1819.343520511586, 1915.8590217630826, 2025.626474040331, 2141.3989968577143, 2271.4400113648735, 2411.446007730657, 2567.5985547607756, 2737.6671590249043, 2932.0161807307177, 3144.0]}, {\"line\": {\"color\": \"#1f77b4\"}, \"name\": \"SSP1\", \"opacity\": 0.8, \"type\": \"scatter\", \"x\": [2017, 2018, 2019, 2020, 2021, 2022, 2023, 2024, 2025, 2026, 2027, 2028, 2029, 2030], \"y\": [3144.0, 2941.3490052393327, 2749.368508541477, 2580.3686713330244, 2424.6367566054128, 2285.0583236559405, 2154.8127820480504, 2038.7818034831357, 1928.6265968329483, 1831.6445249434298, 1739.5512974054698, 1656.8980646290995, 1579.7987165201887, 1510.4121204250107]}, {\"fill\": \"toself\", \"fillcolor\": \"#ff7f0e\", \"line\": {\"color\": \"rgba(0, 0, 0, 0)\"}, \"name\": \"SSP2\", \"opacity\": 0.1, \"showlegend\": false, \"type\": \"scatter\", \"x\": [2017, 2018, 2019, 2020, 2021, 2022, 2023, 2024, 2025, 2026, 2027, 2028, 2029, 2030, 2030, 2029, 2028, 2027, 2026, 2025, 2024, 2023, 2022, 2021, 2020, 2019, 2018, 2017], \"y\": [3144.0, 3022.8782818256877, 2904.8149421246135, 2801.153762189529, 2705.296208247697, 2620.064534065465, 2536.4748308745575, 2462.1009818035304, 2394.8440008446614, 2333.4438140257103, 2275.680025808759, 2223.5886938232484, 2174.335573800832, 2129.97829500959, 2108.128368327783, 2152.2565759016024, 2201.136171331895, 2252.9820381257737, 2310.307288956064, 2371.6943105101955, 2438.905496353235, 2513.0002448562127, 2596.94976948049, 2682.8151275119308, 2780.3889337071264, 2886.4605907009727, 3009.043780895704, 3144.0]}, {\"line\": {\"color\": \"#ff7f0e\"}, \"name\": \"SSP2\", \"opacity\": 0.8, \"type\": \"scatter\", \"x\": [2017, 2018, 2019, 2020, 2021, 2022, 2023, 2024, 2025, 2026, 2027, 2028, 2029, 2030], \"y\": [3144.0, 3015.961031360696, 2895.637766412793, 2790.7713479483277, 2694.055667879814, 2608.5071517729775, 2524.737537865385, 2450.5032390783826, 2383.2691556774284, 2321.875551490887, 2264.3310319672664, 2212.362432577572, 2163.2960748512173, 2119.0533316686865]}, {\"fill\": \"toself\", \"fillcolor\": \"#2ca02c\", \"line\": {\"color\": \"rgba(0, 0, 0, 0)\"}, \"name\": \"SSP3\", \"opacity\": 0.1, \"showlegend\": false, \"type\": \"scatter\", \"x\": [2017, 2018, 2019, 2020, 2021, 2022, 2023, 2024, 2025, 2026, 2027, 2028, 2029, 2030, 2030, 2029, 2028, 2027, 2026, 2025, 2024, 2023, 2022, 2021, 2020, 2019, 2018, 2017], \"y\": [3144.0, 3096.500031410373, 3046.4273353857684, 2999.5647128061423, 2956.3468795710387, 2917.818308530619, 2880.1594983212644, 2847.6525459039854, 2817.717547058374, 2789.1301285551212, 2765.240233116618, 2742.679804656324, 2720.687003089026, 2702.722695938336, 2682.8579055510227, 2701.239764650194, 2723.4577190132172, 2746.3092257339163, 2770.6221442012306, 2799.599641680125, 2830.0638918032914, 2863.3109959941758, 2901.6156558501107, 2941.5190553898783, 2985.943230697299, 3034.5371702162042, 3087.8331907530087, 3144.0]}, {\"line\": {\"color\": \"#2ca02c\"}, \"name\": \"SSP3\", \"opacity\": 0.8, \"type\": \"scatter\", \"x\": [2017, 2018, 2019, 2020, 2021, 2022, 2023, 2024, 2025, 2026, 2027, 2028, 2029, 2030], \"y\": [3144.0, 3092.166611081691, 3040.4822528009863, 2992.7539717517207, 2948.9329674804585, 2909.716982190365, 2871.73524715772, 2838.8582188536384, 2808.6585943692494, 2779.876136378176, 2755.774729425267, 2733.0687618347706, 2710.96338386961, 2692.7903007446794]}, {\"fill\": \"toself\", \"fillcolor\": \"#d62728\", \"line\": {\"color\": \"rgba(0, 0, 0, 0)\"}, \"name\": \"SSP4\", \"opacity\": 0.1, \"showlegend\": false, \"type\": \"scatter\", \"x\": [2017, 2018, 2019, 2020, 2021, 2022, 2023, 2024, 2025, 2026, 2027, 2028, 2029, 2030, 2030, 2029, 2028, 2027, 2026, 2025, 2024, 2023, 2022, 2021, 2020, 2019, 2018, 2017], \"y\": [3144.0, 3009.3934135030295, 2873.162415309925, 2749.078361695321, 2633.2679370053243, 2528.575515877103, 2431.640084285807, 2347.920698650839, 2266.3088097575433, 2195.418480816216, 2127.746478520868, 2067.79679526849, 2011.695006992675, 1959.9492472060829, 1933.6614234754497, 1984.7520464759325, 2040.3404482110152, 2099.845462697643, 2166.959515403599, 2237.4603986447923, 2318.369274429824, 2402.1533882174695, 2499.2450701398416, 2604.4096929906104, 2721.701062731246, 2848.897210821687, 2990.2096169569077, 3144.0]}, {\"line\": {\"color\": \"#d62728\"}, \"name\": \"SSP4\", \"opacity\": 0.8, \"type\": \"scatter\", \"x\": [2017, 2018, 2019, 2020, 2021, 2022, 2023, 2024, 2025, 2026, 2027, 2028, 2029, 2030], \"y\": [3144.0, 2999.8015152299686, 2861.029813065806, 2735.3897122132835, 2618.8388149979673, 2513.9102930084723, 2416.8967362516382, 2333.1449865403315, 2251.884604201168, 2181.1889981099075, 2113.7959706092556, 2054.0686217397524, 1998.2235267343037, 1946.8053353407663]}, {\"fill\": \"toself\", \"fillcolor\": \"#9467bd\", \"line\": {\"color\": \"rgba(0, 0, 0, 0)\"}, \"name\": \"SSP5\", \"opacity\": 0.1, \"showlegend\": false, \"type\": \"scatter\", \"x\": [2017, 2018, 2019, 2020, 2021, 2022, 2023, 2024, 2025, 2026, 2027, 2028, 2029, 2030, 2030, 2029, 2028, 2027, 2026, 2025, 2024, 2023, 2022, 2021, 2020, 2019, 2018, 2017], \"y\": [3144.0, 3005.024429114559, 2874.475025736141, 2752.9995818392854, 2635.5887138568164, 2521.2606582462736, 2413.690671366236, 2309.2928795159714, 2212.0069963013752, 2119.7258607954864, 2034.1812474149415, 1952.3985694395828, 1875.5869095953358, 1802.9695782574934, 1783.898128241325, 1856.4209607090575, 1933.2485295564948, 2014.7655681577858, 2099.9830185166657, 2191.8552018771056, 2288.5737071987487, 2392.7362954973946, 2500.552887092586, 2615.5526458851477, 2734.476214354182, 2857.6766011238888, 2992.1630270669966, 3144.0]}, {\"line\": {\"color\": \"#9467bd\"}, \"name\": \"SSP5\", \"opacity\": 0.8, \"type\": \"scatter\", \"x\": [2017, 2018, 2019, 2020, 2021, 2022, 2023, 2024, 2025, 2026, 2027, 2028, 2029, 2030], \"y\": [3144.0, 2998.593728090778, 2866.075813430015, 2743.7378980967337, 2625.570679870982, 2510.9067726694298, 2403.2134834318153, 2298.93329335736, 2201.9310990892404, 2109.854439656076, 2024.4734077863636, 1942.8235494980388, 1866.0039351521966, 1793.4338532494091]}, {\"line\": {\"color\": \"Black\"}, \"mode\": \"lines\", \"name\": \"EU target\", \"opacity\": 0.8, \"type\": \"scatter\", \"x\": [2017, 2018, 2019, 2020, 2021, 2022, 2023, 2024, 2025, 2026, 2027, 2028, 2029, 2030], \"y\": [2645.1158467031278, 2645.1158467031278, 2645.1158467031278, 2645.1158467031278, 2645.1158467031278, 2645.1158467031278, 2645.1158467031278, 2645.1158467031278, 2645.1158467031278, 2645.1158467031278, 2645.1158467031278, 2645.1158467031278, 2645.1158467031278, 2645.1158467031278]}],\n",
       "                        {\"template\": {\"data\": {\"bar\": [{\"error_x\": {\"color\": \"#2a3f5f\"}, \"error_y\": {\"color\": \"#2a3f5f\"}, \"marker\": {\"line\": {\"color\": \"#E5ECF6\", \"width\": 0.5}}, \"type\": \"bar\"}], \"barpolar\": [{\"marker\": {\"line\": {\"color\": \"#E5ECF6\", \"width\": 0.5}}, \"type\": \"barpolar\"}], \"carpet\": [{\"aaxis\": {\"endlinecolor\": \"#2a3f5f\", \"gridcolor\": \"white\", \"linecolor\": \"white\", \"minorgridcolor\": \"white\", \"startlinecolor\": \"#2a3f5f\"}, \"baxis\": {\"endlinecolor\": \"#2a3f5f\", \"gridcolor\": \"white\", \"linecolor\": \"white\", \"minorgridcolor\": \"white\", \"startlinecolor\": \"#2a3f5f\"}, \"type\": \"carpet\"}], \"choropleth\": [{\"colorbar\": {\"outlinewidth\": 0, \"ticks\": \"\"}, \"type\": \"choropleth\"}], \"contour\": [{\"colorbar\": {\"outlinewidth\": 0, \"ticks\": \"\"}, \"colorscale\": [[0.0, \"#0d0887\"], [0.1111111111111111, \"#46039f\"], [0.2222222222222222, \"#7201a8\"], [0.3333333333333333, \"#9c179e\"], [0.4444444444444444, \"#bd3786\"], [0.5555555555555556, \"#d8576b\"], [0.6666666666666666, \"#ed7953\"], [0.7777777777777778, \"#fb9f3a\"], [0.8888888888888888, \"#fdca26\"], [1.0, \"#f0f921\"]], \"type\": \"contour\"}], \"contourcarpet\": [{\"colorbar\": {\"outlinewidth\": 0, \"ticks\": \"\"}, \"type\": \"contourcarpet\"}], \"heatmap\": [{\"colorbar\": {\"outlinewidth\": 0, \"ticks\": \"\"}, \"colorscale\": [[0.0, \"#0d0887\"], [0.1111111111111111, \"#46039f\"], [0.2222222222222222, \"#7201a8\"], [0.3333333333333333, \"#9c179e\"], [0.4444444444444444, \"#bd3786\"], [0.5555555555555556, \"#d8576b\"], [0.6666666666666666, \"#ed7953\"], [0.7777777777777778, \"#fb9f3a\"], [0.8888888888888888, \"#fdca26\"], [1.0, \"#f0f921\"]], \"type\": \"heatmap\"}], \"heatmapgl\": [{\"colorbar\": {\"outlinewidth\": 0, \"ticks\": \"\"}, \"colorscale\": [[0.0, \"#0d0887\"], [0.1111111111111111, \"#46039f\"], [0.2222222222222222, \"#7201a8\"], [0.3333333333333333, \"#9c179e\"], [0.4444444444444444, \"#bd3786\"], [0.5555555555555556, \"#d8576b\"], [0.6666666666666666, \"#ed7953\"], [0.7777777777777778, \"#fb9f3a\"], [0.8888888888888888, \"#fdca26\"], [1.0, \"#f0f921\"]], \"type\": \"heatmapgl\"}], \"histogram\": [{\"marker\": {\"colorbar\": {\"outlinewidth\": 0, \"ticks\": \"\"}}, \"type\": \"histogram\"}], \"histogram2d\": [{\"colorbar\": {\"outlinewidth\": 0, \"ticks\": \"\"}, \"colorscale\": [[0.0, \"#0d0887\"], [0.1111111111111111, \"#46039f\"], [0.2222222222222222, \"#7201a8\"], [0.3333333333333333, \"#9c179e\"], [0.4444444444444444, \"#bd3786\"], [0.5555555555555556, \"#d8576b\"], [0.6666666666666666, \"#ed7953\"], [0.7777777777777778, \"#fb9f3a\"], [0.8888888888888888, \"#fdca26\"], [1.0, \"#f0f921\"]], \"type\": \"histogram2d\"}], \"histogram2dcontour\": [{\"colorbar\": {\"outlinewidth\": 0, \"ticks\": \"\"}, \"colorscale\": [[0.0, \"#0d0887\"], [0.1111111111111111, \"#46039f\"], [0.2222222222222222, \"#7201a8\"], [0.3333333333333333, \"#9c179e\"], [0.4444444444444444, \"#bd3786\"], [0.5555555555555556, \"#d8576b\"], [0.6666666666666666, \"#ed7953\"], [0.7777777777777778, \"#fb9f3a\"], [0.8888888888888888, \"#fdca26\"], [1.0, \"#f0f921\"]], \"type\": \"histogram2dcontour\"}], \"mesh3d\": [{\"colorbar\": {\"outlinewidth\": 0, \"ticks\": \"\"}, \"type\": \"mesh3d\"}], \"parcoords\": [{\"line\": {\"colorbar\": {\"outlinewidth\": 0, \"ticks\": \"\"}}, \"type\": \"parcoords\"}], \"pie\": [{\"automargin\": true, \"type\": \"pie\"}], \"scatter\": [{\"marker\": {\"colorbar\": {\"outlinewidth\": 0, \"ticks\": \"\"}}, \"type\": \"scatter\"}], \"scatter3d\": [{\"line\": {\"colorbar\": {\"outlinewidth\": 0, \"ticks\": \"\"}}, \"marker\": {\"colorbar\": {\"outlinewidth\": 0, \"ticks\": \"\"}}, \"type\": \"scatter3d\"}], \"scattercarpet\": [{\"marker\": {\"colorbar\": {\"outlinewidth\": 0, \"ticks\": \"\"}}, \"type\": \"scattercarpet\"}], \"scattergeo\": [{\"marker\": {\"colorbar\": {\"outlinewidth\": 0, \"ticks\": \"\"}}, \"type\": \"scattergeo\"}], \"scattergl\": [{\"marker\": {\"colorbar\": {\"outlinewidth\": 0, \"ticks\": \"\"}}, \"type\": \"scattergl\"}], \"scattermapbox\": [{\"marker\": {\"colorbar\": {\"outlinewidth\": 0, \"ticks\": \"\"}}, \"type\": \"scattermapbox\"}], \"scatterpolar\": [{\"marker\": {\"colorbar\": {\"outlinewidth\": 0, \"ticks\": \"\"}}, \"type\": \"scatterpolar\"}], \"scatterpolargl\": [{\"marker\": {\"colorbar\": {\"outlinewidth\": 0, \"ticks\": \"\"}}, \"type\": \"scatterpolargl\"}], \"scatterternary\": [{\"marker\": {\"colorbar\": {\"outlinewidth\": 0, \"ticks\": \"\"}}, \"type\": \"scatterternary\"}], \"surface\": [{\"colorbar\": {\"outlinewidth\": 0, \"ticks\": \"\"}, \"colorscale\": [[0.0, \"#0d0887\"], [0.1111111111111111, \"#46039f\"], [0.2222222222222222, \"#7201a8\"], [0.3333333333333333, \"#9c179e\"], [0.4444444444444444, \"#bd3786\"], [0.5555555555555556, \"#d8576b\"], [0.6666666666666666, \"#ed7953\"], [0.7777777777777778, \"#fb9f3a\"], [0.8888888888888888, \"#fdca26\"], [1.0, \"#f0f921\"]], \"type\": \"surface\"}], \"table\": [{\"cells\": {\"fill\": {\"color\": \"#EBF0F8\"}, \"line\": {\"color\": \"white\"}}, \"header\": {\"fill\": {\"color\": \"#C8D4E3\"}, \"line\": {\"color\": \"white\"}}, \"type\": \"table\"}]}, \"layout\": {\"annotationdefaults\": {\"arrowcolor\": \"#2a3f5f\", \"arrowhead\": 0, \"arrowwidth\": 1}, \"coloraxis\": {\"colorbar\": {\"outlinewidth\": 0, \"ticks\": \"\"}}, \"colorscale\": {\"diverging\": [[0, \"#8e0152\"], [0.1, \"#c51b7d\"], [0.2, \"#de77ae\"], [0.3, \"#f1b6da\"], [0.4, \"#fde0ef\"], [0.5, \"#f7f7f7\"], [0.6, \"#e6f5d0\"], [0.7, \"#b8e186\"], [0.8, \"#7fbc41\"], [0.9, \"#4d9221\"], [1, \"#276419\"]], \"sequential\": [[0.0, \"#0d0887\"], [0.1111111111111111, \"#46039f\"], [0.2222222222222222, \"#7201a8\"], [0.3333333333333333, \"#9c179e\"], [0.4444444444444444, \"#bd3786\"], [0.5555555555555556, \"#d8576b\"], [0.6666666666666666, \"#ed7953\"], [0.7777777777777778, \"#fb9f3a\"], [0.8888888888888888, \"#fdca26\"], [1.0, \"#f0f921\"]], \"sequentialminus\": [[0.0, \"#0d0887\"], [0.1111111111111111, \"#46039f\"], [0.2222222222222222, \"#7201a8\"], [0.3333333333333333, \"#9c179e\"], [0.4444444444444444, \"#bd3786\"], [0.5555555555555556, \"#d8576b\"], [0.6666666666666666, \"#ed7953\"], [0.7777777777777778, \"#fb9f3a\"], [0.8888888888888888, \"#fdca26\"], [1.0, \"#f0f921\"]]}, \"colorway\": [\"#636efa\", \"#EF553B\", \"#00cc96\", \"#ab63fa\", \"#FFA15A\", \"#19d3f3\", \"#FF6692\", \"#B6E880\", \"#FF97FF\", \"#FECB52\"], \"font\": {\"color\": \"#2a3f5f\"}, \"geo\": {\"bgcolor\": \"white\", \"lakecolor\": \"white\", \"landcolor\": \"#E5ECF6\", \"showlakes\": true, \"showland\": true, \"subunitcolor\": \"white\"}, \"hoverlabel\": {\"align\": \"left\"}, \"hovermode\": \"closest\", \"mapbox\": {\"style\": \"light\"}, \"paper_bgcolor\": \"white\", \"plot_bgcolor\": \"#E5ECF6\", \"polar\": {\"angularaxis\": {\"gridcolor\": \"white\", \"linecolor\": \"white\", \"ticks\": \"\"}, \"bgcolor\": \"#E5ECF6\", \"radialaxis\": {\"gridcolor\": \"white\", \"linecolor\": \"white\", \"ticks\": \"\"}}, \"scene\": {\"xaxis\": {\"backgroundcolor\": \"#E5ECF6\", \"gridcolor\": \"white\", \"gridwidth\": 2, \"linecolor\": \"white\", \"showbackground\": true, \"ticks\": \"\", \"zerolinecolor\": \"white\"}, \"yaxis\": {\"backgroundcolor\": \"#E5ECF6\", \"gridcolor\": \"white\", \"gridwidth\": 2, \"linecolor\": \"white\", \"showbackground\": true, \"ticks\": \"\", \"zerolinecolor\": \"white\"}, \"zaxis\": {\"backgroundcolor\": \"#E5ECF6\", \"gridcolor\": \"white\", \"gridwidth\": 2, \"linecolor\": \"white\", \"showbackground\": true, \"ticks\": \"\", \"zerolinecolor\": \"white\"}}, \"shapedefaults\": {\"line\": {\"color\": \"#2a3f5f\"}}, \"ternary\": {\"aaxis\": {\"gridcolor\": \"white\", \"linecolor\": \"white\", \"ticks\": \"\"}, \"baxis\": {\"gridcolor\": \"white\", \"linecolor\": \"white\", \"ticks\": \"\"}, \"bgcolor\": \"#E5ECF6\", \"caxis\": {\"gridcolor\": \"white\", \"linecolor\": \"white\", \"ticks\": \"\"}}, \"title\": {\"x\": 0.05}, \"xaxis\": {\"automargin\": true, \"gridcolor\": \"white\", \"linecolor\": \"white\", \"ticks\": \"\", \"title\": {\"standoff\": 15}, \"zerolinecolor\": \"white\", \"zerolinewidth\": 2}, \"yaxis\": {\"automargin\": true, \"gridcolor\": \"white\", \"linecolor\": \"white\", \"ticks\": \"\", \"title\": {\"standoff\": 15}, \"zerolinecolor\": \"white\", \"zerolinewidth\": 2}}}, \"title\": {\"text\": \"Forecasts of CO2 emissions in function of the family of scenarios based on the derivative of Kaya model\"}, \"xaxis\": {\"title\": {\"text\": \"Years\"}}, \"yaxis\": {\"title\": {\"text\": \"CO2 emissions [MtCO2eq]\"}}},\n",
       "                        {\"responsive\": true}\n",
       "                    ).then(function(){\n",
       "                            \n",
       "var gd = document.getElementById('d10b49bf-dc36-4c46-af0c-0a900e90c87c');\n",
       "var x = new MutationObserver(function (mutations, observer) {{\n",
       "        var display = window.getComputedStyle(gd).display;\n",
       "        if (!display || display === 'none') {{\n",
       "            console.log([gd, 'removed!']);\n",
       "            Plotly.purge(gd);\n",
       "            observer.disconnect();\n",
       "        }}\n",
       "}});\n",
       "\n",
       "// Listen for the removal of the full notebook cells\n",
       "var notebookContainer = gd.closest('#notebook-container');\n",
       "if (notebookContainer) {{\n",
       "    x.observe(notebookContainer, {childList: true});\n",
       "}}\n",
       "\n",
       "// Listen for the clearing of the current output cell\n",
       "var outputEl = gd.closest('.output');\n",
       "if (outputEl) {{\n",
       "    x.observe(outputEl, {childList: true});\n",
       "}}\n",
       "\n",
       "                        })\n",
       "                };\n",
       "                });\n",
       "            </script>\n",
       "        </div>"
      ]
     },
     "metadata": {},
     "output_type": "display_data"
    },
    {
     "data": {
      "text/plain": [
       "\"\\nreal_proj = show_real_projections(file_real_proj, show=False)\\nshow_goals([emi_kaya_normal, emi_kaya_rates_normal, real_proj],\\n           name = ['Kaya model', 'Derivative of Kaya model', 'Projection', 'Target'], show=True)\\nprojection_vs_forecasts([emi_kaya_normal, emi_kaya_rates_normal, real_proj],\\n                        name=['Kaya model', 'Derivative of Kaya model', 'Projections'], show=True)\\n\""
      ]
     },
     "execution_count": 3,
     "metadata": {},
     "output_type": "execute_result"
    }
   ],
   "source": [
    "samples = 1000\n",
    "\n",
    "ssp_distri, ssp_distri_rates, param_dict = initialise(file_proj, file_rates, list_ssp, name_ssp, list_param)\n",
    "\n",
    "emi_kaya_normal = get_carbon_emissions(samples, 'normal', param_dict, ssp_distri, show=False)\n",
    "emi_kaya_tri = get_carbon_emissions(samples, 'triangular', param_dict, ssp_distri, show=False)\n",
    "emi_kaya_rates_normal = get_carbon_emissions(samples, 'normal', param_dict, ssp_distri, ssp_distri_rates,\n",
    "                                             show=True)\n",
    "emi_kaya_rates_normal = get_carbon_emissions(samples, 'triangular', param_dict, ssp_distri, ssp_distri_rates,\n",
    "                                             show=True)\n",
    "\"\"\"\n",
    "real_proj = show_real_projections(file_real_proj, show=False)\n",
    "show_goals([emi_kaya_normal, emi_kaya_rates_normal, real_proj],\n",
    "           name = ['Kaya model', 'Derivative of Kaya model', 'Projection', 'Target'], show=True)\n",
    "projection_vs_forecasts([emi_kaya_normal, emi_kaya_rates_normal, real_proj],\n",
    "                        name=['Kaya model', 'Derivative of Kaya model', 'Projections'], show=True)\n",
    "\"\"\""
   ]
  },
  {
   "cell_type": "markdown",
   "metadata": {},
   "source": [
    "## Confidence intervalle : not done yet"
   ]
  },
  {
   "cell_type": "code",
   "execution_count": 4,
   "metadata": {},
   "outputs": [
    {
     "ename": "TypeError",
     "evalue": "monte_carlo_simulation() missing 1 required positional argument: 'var'",
     "output_type": "error",
     "traceback": [
      "\u001b[0;31m---------------------------------------------------------------------------\u001b[0m",
      "\u001b[0;31mTypeError\u001b[0m                                 Traceback (most recent call last)",
      "\u001b[0;32m<ipython-input-4-991e293192a9>\u001b[0m in \u001b[0;36m<module>\u001b[0;34m\u001b[0m\n\u001b[1;32m      3\u001b[0m \u001b[0mi\u001b[0m \u001b[0;34m=\u001b[0m \u001b[0;36m0\u001b[0m\u001b[0;34m\u001b[0m\u001b[0;34m\u001b[0m\u001b[0m\n\u001b[1;32m      4\u001b[0m \u001b[0;32mfor\u001b[0m \u001b[0mssp\u001b[0m \u001b[0;32min\u001b[0m \u001b[0mlist_ssp\u001b[0m\u001b[0;34m:\u001b[0m\u001b[0;34m\u001b[0m\u001b[0;34m\u001b[0m\u001b[0m\n\u001b[0;32m----> 5\u001b[0;31m     \u001b[0mh\u001b[0m \u001b[0;34m=\u001b[0m \u001b[0;34m(\u001b[0m\u001b[0mmonte_carlo_simulation\u001b[0m\u001b[0;34m(\u001b[0m\u001b[0mssp\u001b[0m\u001b[0;34m,\u001b[0m \u001b[0msamples\u001b[0m\u001b[0;34m,\u001b[0m \u001b[0;34m'kaya 1'\u001b[0m\u001b[0;34m)\u001b[0m\u001b[0;34m[\u001b[0m\u001b[0;36m11\u001b[0m\u001b[0;34m]\u001b[0m\u001b[0;34m)\u001b[0m\u001b[0;34m\u001b[0m\u001b[0;34m\u001b[0m\u001b[0m\n\u001b[0m\u001b[1;32m      6\u001b[0m     \u001b[0ms\u001b[0m \u001b[0;34m=\u001b[0m \u001b[0mmean_confidence_interval\u001b[0m\u001b[0;34m(\u001b[0m\u001b[0mh\u001b[0m\u001b[0;34m)\u001b[0m\u001b[0;34m\u001b[0m\u001b[0;34m\u001b[0m\u001b[0m\n\u001b[1;32m      7\u001b[0m     \u001b[0mg\u001b[0m \u001b[0;34m=\u001b[0m \u001b[0;34m(\u001b[0m\u001b[0ms\u001b[0m\u001b[0;34m[\u001b[0m\u001b[0;36m2\u001b[0m\u001b[0;34m]\u001b[0m\u001b[0;34m-\u001b[0m\u001b[0ms\u001b[0m\u001b[0;34m[\u001b[0m\u001b[0;36m1\u001b[0m\u001b[0;34m]\u001b[0m\u001b[0;34m)\u001b[0m\u001b[0;34m*\u001b[0m\u001b[0;36m50\u001b[0m\u001b[0;34m\u001b[0m\u001b[0;34m\u001b[0m\u001b[0m\n",
      "\u001b[0;31mTypeError\u001b[0m: monte_carlo_simulation() missing 1 required positional argument: 'var'"
     ]
    }
   ],
   "source": [
    "obj = 2.86\n",
    "prev = [3.03, 3.57, 3.63, 3.58, 4.36]\n",
    "i = 0\n",
    "for ssp in list_ssp:\n",
    "    h = (monte_carlo_simulation(ssp, samples, 'kaya 1')[11])\n",
    "    s = mean_confidence_interval(h)\n",
    "    g = (s[2]-s[1])*50\n",
    "    print([g/obj, g/prev[i]])\n",
    "    i = i+1\n",
    "\n",
    "h = (monte_carlo_simulation(ssp, samples, 'kaya 1')[11])\n",
    "s = mean_confidence_interval(h)\n",
    "s"
   ]
  },
  {
   "cell_type": "code",
   "execution_count": null,
   "metadata": {},
   "outputs": [],
   "source": []
  },
  {
   "cell_type": "code",
   "execution_count": null,
   "metadata": {},
   "outputs": [],
   "source": []
  },
  {
   "cell_type": "code",
   "execution_count": null,
   "metadata": {},
   "outputs": [],
   "source": []
  },
  {
   "cell_type": "code",
   "execution_count": null,
   "metadata": {},
   "outputs": [],
   "source": [
    "#gdp_list\n",
    "mean_rates_ci = []\n",
    "std_rates_ci = []\n",
    "for ssp in list_ssp:\n",
    "    mean_rates, std_rates = get_mean_std(file_rates, ssp, rates = True)\n",
    "    mean_rates_ci.append(mean_rates['carb_int'])\n",
    "    std_rates_ci.append(std_rates['carb_int'])\n",
    "\n",
    "# LES VALEURS DE STD SONT BCP TROP GRANDES !!!!!\n",
    "    \n",
    "print(mean_rates_ci)"
   ]
  }
 ],
 "metadata": {
  "kernelspec": {
   "display_name": "Python 3",
   "language": "python",
   "name": "python3"
  },
  "language_info": {
   "codemirror_mode": {
    "name": "ipython",
    "version": 3
   },
   "file_extension": ".py",
   "mimetype": "text/x-python",
   "name": "python",
   "nbconvert_exporter": "python",
   "pygments_lexer": "ipython3",
   "version": "3.7.7"
  }
 },
 "nbformat": 4,
 "nbformat_minor": 4
}
