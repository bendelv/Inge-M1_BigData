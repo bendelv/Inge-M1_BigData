{
 "cells": [
  {
   "cell_type": "markdown",
   "metadata": {},
   "source": [
    "# Scenario based forecasting application on European Union carbon emissions from 2018 to 2030"
   ]
  },
  {
   "cell_type": "code",
   "execution_count": 1,
   "metadata": {},
   "outputs": [
    {
     "data": {
      "text/html": [
       "        <script type=\"text/javascript\">\n",
       "        window.PlotlyConfig = {MathJaxConfig: 'local'};\n",
       "        if (window.MathJax) {MathJax.Hub.Config({SVG: {font: \"STIX-Web\"}});}\n",
       "        if (typeof require !== 'undefined') {\n",
       "        require.undef(\"plotly\");\n",
       "        requirejs.config({\n",
       "            paths: {\n",
       "                'plotly': ['https://cdn.plot.ly/plotly-latest.min']\n",
       "            }\n",
       "        });\n",
       "        require(['plotly'], function(Plotly) {\n",
       "            window._Plotly = Plotly;\n",
       "        });\n",
       "        }\n",
       "        </script>\n",
       "        "
      ]
     },
     "metadata": {},
     "output_type": "display_data"
    }
   ],
   "source": [
    "import pandas as pd\n",
    "import numpy as np\n",
    "import math\n",
    "import matplotlib.pyplot as plt\n",
    "import seaborn as sns\n",
    "import random\n",
    "import pickle\n",
    "import scipy.stats\n",
    "\n",
    "import plotly.graph_objects as go\n",
    "import plotly\n",
    "from plotly.subplots import make_subplots\n",
    "plotly.offline.init_notebook_mode(connected=True)\n",
    "np.seterr(divide='ignore', invalid='ignore')\n",
    "\n",
    "import plotly.express as px\n",
    "\n",
    "\n",
    "ssp1 = ['pop_SSP1.csv', 'gdp_cap_SSP1.csv', 'EnergyIntensity_SSP1.csv',\n",
    "        'oil_SSP1.csv', 'coal_SSP1.csv', 'gas_SSP1.csv', 'total_cons_SSP1.csv']\n",
    "ssp2 = ['pop_SSP2.csv', 'gdp_cap_SSP2.csv', 'EnergyIntensity_SSP2.csv',\n",
    "        'oil_SSP2.csv', 'coal_SSP2.csv', 'gas_SSP2.csv', 'total_cons_SSP2.csv']\n",
    "ssp3 = ['pop_SSP3.csv', 'gdp_cap_SSP3.csv', 'EnergyIntensity_SSP3.csv',\n",
    "        'oil_SSP3.csv', 'coal_SSP3.csv', 'gas_SSP3.csv', 'total_cons_SSP3.csv']\n",
    "ssp4 = ['pop_SSP4.csv', 'gdp_cap_SSP4.csv', 'EnergyIntensity_SSP4.csv',\n",
    "        'oil_SSP4.csv', 'coal_SSP4.csv', 'gas_SSP4.csv', 'total_cons_SSP4.csv']\n",
    "ssp5 = ['pop_SSP5.csv', 'gdp_cap_SSP5.csv', 'EnergyIntensity_SSP5.csv',\n",
    "        'oil_SSP5.csv', 'coal_SSP5.csv', 'gas_SSP5.csv', 'total_cons_SSP5.csv']\n",
    "list_ssp = [ssp1, ssp2, ssp3, ssp4, ssp5]\n",
    "name_ssp = ['ssp1', 'ssp2', 'ssp3', 'ssp4', 'ssp5']\n",
    "\n",
    "\n",
    "# File containing the projections (2018-2030) of the different variables \n",
    "file_proj = \"proj_values_EU28/\"\n",
    "# File containing the projections rates (2018-2030) of the different variables \n",
    "file_rates = \"proj_rates/\"\n",
    "# real projections of the carbon emissions\n",
    "file_real_proj = \"proj_values_EU28/raw_co2R_SSP\"\n",
    "\n",
    "# parameters of the normal distributions for the emission factors (coal, gas, oil)\n",
    "file_emi_factor_normal = \"input_distrib/fossil_fuel_emi_factors_normal_param.csv\"\n",
    "# parameters of the normal distributions for the emission factors (coal, gas, oil))\n",
    "file_emi_factor_tri = \"input_distrib/fossil_fuel_emi_factors_triangular_param.csv\"\n",
    "list_param = {'normal': file_emi_factor_normal, 'triangular':file_emi_factor_tri}\n",
    "\n",
    "\n",
    "years = list()\n",
    "for i in range(14) : years.append(2017+i)\n",
    "years_rev = years[::-1]\n",
    "list_colors = ['#1f77b4', '#ff7f0e', '#2ca02c', '#d62728', '#9467bd',\n",
    "               '#8c564b', '#e377c2', '#7f7f7f', '#bcbd22', '17becf']\n",
    "\n",
    "value_1990 = 4408526411.17188*10**(-6) # from ktoe to Mtoe\n",
    "target_2030 = value_1990-0.40*(value_1990)\n",
    "target_2030_ = list()\n",
    "for i in range(len(years)): target_2030_.append(target_2030)\n",
    "    \n",
    "def get_mean_std(file_, scenario, rates=False):\n",
    "    \n",
    "    df_mean = pd.DataFrame({})\n",
    "    df_std = pd.DataFrame({})\n",
    "    \n",
    "    for file in scenario:\n",
    "        df = pd.read_csv(file_ + file, index_col=['Unnamed: 0'])\n",
    "        m = df.mean()\n",
    "        col_name = file.split('_')[0]\n",
    "        df_mean[col_name] = m\n",
    "\n",
    "        std = df.std()\n",
    "        col_name = file.split('_')[0]\n",
    "        df_std[col_name] = std\n",
    "    if rates is True:\n",
    "        df_mean.index = np.arange(2018, 2031)\n",
    "        df_std.index = np.arange(2018, 2031)\n",
    "\n",
    "    else:\n",
    "        df_mean.index = np.arange(2018, 2031)\n",
    "        df_std.index = np.arange(2018, 2031)\n",
    "        \n",
    "    \n",
    "    names_col = ['pop','gdp', 'ener_int', 'cons_oil', 'cons_coal', 'cons_gas', 'total_cons']\n",
    "    df_mean.columns = names_col\n",
    "    df_std.columns = names_col\n",
    "    \n",
    "    return df_mean, df_std\n",
    "\n",
    "def get_emi_factor_distribution(file_dict):\n",
    "    params = pd.read_csv(file_dict, index_col=0)\n",
    "    return params.transpose()    \n",
    "\n",
    "def initialise_distri(file_proj, ssp, name_file, rates=False):\n",
    "    mean, std = get_mean_std(file_proj, ssp, rates)\n",
    "    if rates is False:\n",
    "        mean = mean.drop(columns=['pop', 'gdp', 'ener_int'])\n",
    "        std = std.drop(columns=['pop', 'gdp', 'ener_int'])\n",
    "        mean.columns = ['mean_oil', 'mean_coal', 'mean_gas', 'mean_fossil']\n",
    "        std.columns = ['std_oil', 'std_coal', 'std_gas', 'std_fossil']\n",
    "        df = pd.concat([mean, std], axis=1, sort=False)\n",
    "        file = 'input_distrib/'+name_file+'_distribution.csv'\n",
    "        df.to_csv(file, index=years)\n",
    "        \n",
    "    else:\n",
    "        mean = mean.drop(columns=['pop'])\n",
    "        std = std.drop(columns=['pop'])\n",
    "        mean.columns = ['rates_mean_gdp', 'rates_mean_ei', 'rates_mean_oil', 'rates_mean_coal',\n",
    "                        'rates_mean_gas', 'rates_mean_fossil']\n",
    "        std.columns = ['rates_std_gdp', 'rates_std_ei', 'rates_std_oil', 'rates_std_coal',\n",
    "                       'rates_std_gas', 'rates_std_fossil']\n",
    "        df = pd.concat([mean, std], axis=1, sort=False)\n",
    "        file = 'input_distrib/'+name_file+'_distribution_rates.csv'\n",
    "        df.to_csv(file, index=years)\n",
    "    \n",
    "    return df\n",
    "    \n",
    "def initialise(file_proj, file_rates, list_ssp, name_ssp, list_param):\n",
    "    ssp_distri = {}\n",
    "    ssp_distri_rates = {}\n",
    "    for i in range(len(name_ssp)):\n",
    "        ssp_distri[name_ssp[i]] = initialise_distri(file_proj, list_ssp[i], name_ssp[i], rates=False)\n",
    "        ssp_distri_rates[name_ssp[i]] = initialise_distri(file_rates, list_ssp[i], name_ssp[i], rates=True)\n",
    "\n",
    "    param_dict = {}\n",
    "    for distri, file_distri in list_param.items(): \n",
    "        param_dict[distri] = get_emi_factor_distribution(file_distri)\n",
    "        \n",
    "    return ssp_distri, ssp_distri_rates, param_dict\n",
    "\n",
    "ssp_distri, ssp_distri_rates, param_dict = initialise(file_proj, file_rates, list_ssp, name_ssp, list_param)"
   ]
  },
  {
   "cell_type": "code",
   "execution_count": 124,
   "metadata": {},
   "outputs": [],
   "source": [
    "def mean_forecast(x):\n",
    "    mean_forecast = list()\n",
    "    for i in range(13) : mean_forecast.append(np.mean(x[i]))\n",
    "    return mean_forecast\n",
    "\n",
    "def std_forecast(x):\n",
    "    std_forecast = list()\n",
    "    for i in range(13) : std_forecast.append(np.std(x[i], ddof = 1))\n",
    "    return std_forecast\n",
    "\n",
    "def show_forecast(list_forecast_ssp, list_dev_forecast_ssp, nb_sample, name):\n",
    "    for i in range(len(list_forecast_ssp)):\n",
    "        fig = go.Figure()\n",
    "        \n",
    "        frcst_m = np.array(list_forecast_ssp[i].copy())\n",
    "        frcst_d = np.array(list_dev_forecast_ssp[i].copy())\n",
    "        frcst_m = np.append(3144, frcst_m)\n",
    "        frcst_d = np.append(0, frcst_d)\n",
    "        \n",
    "        confidence = 1.96 * frcst_d/math.sqrt(nb_sample)\n",
    "        y_upper = frcst_m + confidence\n",
    "        y_lower = frcst_m - confidence\n",
    "        y_lower = y_lower[::-1]\n",
    "        \n",
    "        x_final = np.concatenate((years,years_rev))\n",
    "        y_final = np.concatenate((y_upper,y_lower))\n",
    "\n",
    "        fig.add_trace(go.Scatter(\n",
    "            x=x_final,\n",
    "            y=y_final,\n",
    "            fill='toself',\n",
    "            fillcolor=list_colors[i],\n",
    "            opacity=0.1,\n",
    "            line_color='rgba(0, 0, 0, 0)',\n",
    "            showlegend=False,\n",
    "            name=\"SSP\"+str(i+1),\n",
    "        ))\n",
    "        fig.add_trace(go.Scatter(x=years, y=frcst_m, opacity=0.8,\n",
    "                                 line=dict(color=list_colors[i]), name= \"SSP\"+str(i+1)))\n",
    "        \n",
    "        fig.add_trace(go.Scatter(x=years, y=target_2030_, opacity=0.8, mode='lines',\n",
    "                                 line=dict(color=\"Black\"), name=\"EU target\"))\n",
    "    \n",
    "\n",
    "    \n",
    "        # Use date string to set xaxis range\n",
    "        fig.update_layout(\n",
    "            title_text=\"Forecasts of CO2 emissions in function of SSP\"+str(i+1)+\" based on \"+name)\n",
    "\n",
    "        fig.update_xaxes(title_text=\"Years\")\n",
    "        fig.update_yaxes(title_text=\"CO2 emissions [MtCO2eq]\"),\n",
    "        #fig.update_layout(legend_orientation=\"h\")\n",
    "        fig.show()\n",
    "\n",
    "def show_average_forecast(list_forecast_ssp, list_dev_forecast_ssp, nb_sample, name):\n",
    "    fig = go.Figure()\n",
    "    for i in range(len(list_forecast_ssp)):\n",
    "        frcst_m = np.array(list_forecast_ssp[i].copy())\n",
    "        frcst_d = np.array(list_dev_forecast_ssp[i].copy())\n",
    "        frcst_m = np.append(3144, frcst_m)\n",
    "        frcst_d = np.append(0, frcst_d)\n",
    "        \n",
    "        confidence = 1.96 * frcst_d/math.sqrt(nb_sample)\n",
    "        y_upper = frcst_m + confidence\n",
    "        y_lower = frcst_m - confidence\n",
    "        y_lower = y_lower[::-1]\n",
    "        \n",
    "        x_final = np.concatenate((years,years_rev))\n",
    "        y_final = np.concatenate((y_upper,y_lower))\n",
    "\n",
    "        fig.add_trace(go.Scatter(\n",
    "            x=x_final,\n",
    "            y=y_final,\n",
    "            fill='toself',\n",
    "            fillcolor=list_colors[i],\n",
    "            opacity=0.1,\n",
    "            line_color='rgba(0, 0, 0, 0)',\n",
    "            showlegend=False,\n",
    "            name=\"SSP\"+str(i+1),\n",
    "        ))\n",
    "        fig.add_trace(go.Scatter(x=years, y=frcst_m, opacity=0.8,\n",
    "                                 line=dict(color=list_colors[i]), name= \"SSP\"+str(i+1)))\n",
    "        \n",
    "    fig.add_trace(go.Scatter(x=years, y=target_2030_, opacity=0.8, mode='lines',\n",
    "                             line=dict(color=\"Black\"), name=\"EU target\"))\n",
    "    \n",
    "    # Use date string to set xaxis range\n",
    "    fig.update_layout(\n",
    "        title_text=\"Forecasts of CO2 emissions in function of the family of scenarios based on \"+name)\n",
    "\n",
    "\n",
    "    fig.update_xaxes(title_text=\"Years\")\n",
    "    fig.update_yaxes(title_text=\"CO2 emissions [MtCO2eq]\"),\n",
    "    #fig.update_layout(legend_orientation=\"h\")\n",
    "    fig.show()\n",
    "    \n",
    "def show_projection_CO2(list_projection_CO2):\n",
    "    fig = go.Figure()\n",
    "    for i in range(5):\n",
    "        co2_proj = list_projection_CO2[i].to_numpy()\n",
    "        co2_proj = np.append(3144, co2_proj)\n",
    "        fig.add_trace(go.Scatter(x=years, y=co2_proj, opacity=0.8,\n",
    "                                 line=dict(color=list_colors[i]), name=\"SSP\"+str(i+1)))\n",
    "    \n",
    "    fig.add_trace(go.Scatter(x=years, y=target_2030_, opacity=0.8, mode= 'lines',\n",
    "                             line=dict(color=\"Black\"), name=\"EU target\"))\n",
    "    \n",
    "    # Use date string to set xaxis range\n",
    "    fig.update_layout(title_text=\"CO2 emission projections for each SSPS Family\")\n",
    "\n",
    "\n",
    "    fig.update_xaxes(title_text=\"Years\")\n",
    "    fig.update_yaxes(title_text=\"CO2 emissions [MtCO2eq]\"),\n",
    "    #fig.update_layout(legend_orientation=\"h\")\n",
    "    fig.show()\n",
    "\n",
    "    \n",
    "def projection_vs_forecasts(emi, name, show=False):\n",
    "    \n",
    "    list_colors = ['#1f77b4', '#ff7f0e', '#2ca02c', '#d62728', '#9467bd',\n",
    "                   '#8c564b', '#e377c2', '#7f7f7f', '#bcbd22', '17becf']\n",
    "    \n",
    "    fig = go.Figure()\n",
    "    \n",
    "    fig = make_subplots(rows=3, cols=2, subplot_titles=(\"SSP1\", \"SSP2\", \"SSP3\", \"SSP4\", \"SSP5\"))\n",
    "    \n",
    "    roww = [1, 1, 2, 2, 3]\n",
    "    coll = [1, 2, 1, 2, 1]\n",
    "    \n",
    "    for i in range(len(coll)):\n",
    "        for j in range(len(emi)):\n",
    "            y=emi[j][i]\n",
    "            fig.add_trace(go.Scatter(x=years, y=y, opacity=0.8, line=dict(color=list_colors[j+2]), \n",
    "                                    name=name[j]), row=roww[i], col=coll[i])\n",
    "            \n",
    "        fig.add_trace(go.Scatter(x=years, y=target_2030_, opacity=0.8, mode ='lines',\n",
    "                             line=dict(color=\"Black\"), name=\"EU target\"), row=roww[i], col=coll[i])\n",
    "                            \n",
    "        fig.update_xaxes(title_text=\"Years\", row=roww[i], col=coll[i])\n",
    "        fig.update_yaxes(title_text=\"CO2 emissions [MtCO2eq]\", row=roww[i], col=coll[i])\n",
    "    \n",
    "    fig.update_layout(title_text=\"Comparison between forecasts with projections for each SSP family\",\n",
    "                      height=1000, width=1000, showlegend=True, legend_orientation=\"h\")\n",
    "    if show is True:\n",
    "        fig.show()\n",
    "    \n",
    "def show_real_projections(file, show=False):\n",
    "    list_file = list()\n",
    "    projection_CO2 = list()\n",
    "    for i in range(5):\n",
    "        list_file.append(file+str(i+1)+\".csv\")\n",
    "        projection_CO2.append(pd.read_csv(list_file[i]).iloc[0][1:])\n",
    "    \n",
    "    if show is True:\n",
    "        show_projection_CO2(projection_CO2)\n",
    "    \n",
    "    return projection_CO2\n",
    "\n",
    "def show_goals(emi_list, name, show=False):\n",
    "    fig = go.Figure()\n",
    "    fig = make_subplots(rows=3, cols=2, subplot_titles=(\"SSP1\", \"SSP2\", \"SSP3\", \"SSP4\", \"SSP5\"))\n",
    "    \n",
    "    roww = [1, 1, 2, 2, 3]\n",
    "    coll = [1, 2, 1, 2, 1]\n",
    "\n",
    "    x_name = name\n",
    "  \n",
    "    for i in range(len(coll)):\n",
    "        values = list()\n",
    "        color = list()\n",
    "        for j in range(len(emi_list)):\n",
    "            values.append(emi_list[j][i][11])\n",
    "            color.append(list_colors[j+1])\n",
    "        values.append(target_2030)\n",
    "        color.append(list_colors[0])\n",
    "    \n",
    "        fig.add_trace(go.Bar(x=x_name, y=values, marker_color = color, textposition='auto'),\n",
    "                      row=roww[i], col=coll[i])\n",
    "\n",
    "        fig.update_xaxes(row=roww[i], col=coll[i])\n",
    "        fig.update_yaxes(title_text=\"CO2 emissions [MtCO2eq2]\", row=roww[i], col=coll[i])\n",
    "        \n",
    "    fig.update_layout(title_text=\"Target set by the European Union for CO2 emissions\"+\n",
    "                      \" in 2030 compared to forecasts and projections\",\n",
    "                      height=1000, width=1000, showlegend=False, legend_orientation=\"h\")\n",
    "    if show is True:\n",
    "        fig.show()\n",
    "\n",
    "def from_rates_to_data(emi, val_2017):\n",
    "    emi[0] = val_2017 + emi[0]*val_2017/100\n",
    "    for i in range(1, 13):\n",
    "        emi[i] = emi[i-1] + emi[i]*emi[i-1]/100\n",
    "    return emi\n",
    "\n",
    "def from_value_to_rates(value_1, value_2):\n",
    "\n",
    "    zipped_lists = zip(value_1, value_2)\n",
    "    fossil_emi_rates_fact = [100*(value_2-value_1)/value_1 for (value_1, value_2) in zipped_lists]\n",
    "        \n",
    "    return np.array(fossil_emi_rates_fact)\n",
    "\n",
    "\n",
    "def kaya_identity(cons_oil, cons_coal, cons_gas, emi_fact_coal, emi_fact_oil, emi_fact_gas):\n",
    "    cons_coef_oil = 2.293\n",
    "    cons_coef_coal = 4.019\n",
    "    cons_coef_gas = 2.236 # [MtCO2/MtOilEq]\n",
    "    res1 = ((cons_oil*emi_fact_oil)+(cons_coal*emi_fact_oil)+(cons_gas*emi_fact_oil))\n",
    "    res2 = ((cons_oil*cons_coef_oil)+(cons_coal*cons_coef_coal)+(cons_gas*cons_coef_gas))\n",
    "    return res2\n",
    "\n",
    "def kaya_identity_rates(gdp_rates, ei_rates, ci_rates):\n",
    "    return (1+gdp_rates)*(1+ei_rates)*(1+ci_rates)-1\n",
    "\n",
    "\n",
    "def get_emission_factor(oil_cons, coal_cons, gas_cons, emi_fact_oil, emi_fact_coal, emi_fact_gas, total_cons):\n",
    "    emi = kaya_identity(oil_cons, coal_cons, gas_cons, emi_fact_oil, emi_fact_coal, emi_fact_gas)\n",
    "\n",
    "    return emi/total_cons\n",
    "    \n",
    "def get_carbon_intensity(samples, coef, var, distri):\n",
    "    \n",
    "    carbon_intensity = np.zeros((14, samples))\n",
    "    # Emission factor (fossil energy) of year 2017\n",
    "    carbon_intensity_2017 = 2.012290082158105\n",
    "    carbon_intensity_2017_ = list()\n",
    "    for i in range(samples): carbon_intensity_2017_.append(carbon_intensity_2017)\n",
    "    carbon_intensity[0] = np.array(carbon_intensity_2017_)\n",
    "   \n",
    "    for i in range(13):\n",
    "        if distri is 'normal':\n",
    "            coef_oil = np.random.normal(coef['oil']['mean'], coef['oil']['std'], samples)\n",
    "            coef_coal = np.random.normal(coef['coal']['mean'], coef['coal']['std'], samples)\n",
    "            coef_gas = np.random.normal(coef['gas']['mean'], coef['gas']['std'], samples)\n",
    "        elif distri is 'triangular':\n",
    "            coef_oil = np.random.triangular(coef['oil']['left'], coef['oil']['mode'],\n",
    "                                            coef['oil']['right'], samples)\n",
    "            coef_coal = np.random.triangular(coef['coal']['left'], coef['coal']['mode'],\n",
    "                                             coef['coal']['right'], samples)\n",
    "            coef_gas = np.random.triangular(coef['gas']['left'], coef['gas']['mode'],\n",
    "                                            coef['gas']['right'], samples)\n",
    "        else:\n",
    "            return print(\"Wrong distribution\")\n",
    "\n",
    "        oil_cons = np.random.normal(var['mean_oil'].iloc[i], var['std_oil'].iloc[i], samples)\n",
    "        coal_cons = np.random.normal(var['mean_coal'].iloc[i], var['std_oil'].iloc[i], samples)\n",
    "        gas_cons = np.random.normal(var['mean_gas'].iloc[i], var['std_oil'].iloc[i], samples)\n",
    "   \n",
    "        total_cons = np.random.normal(var['mean_fossil'].iloc[i], var['std_fossil'].iloc[i], samples)\n",
    "        carbon_intensity[i+1] = get_emission_factor(oil_cons, coal_cons, gas_cons, coef_oil,\n",
    "                                                  coef_coal, coef_gas, total_cons)\n",
    "\n",
    "    carbon_intensity_rates = np.zeros((13, samples))\n",
    "    for i in range(len(carbon_intensity)-1):\n",
    "        carbon_intensity_rates[i] = (carbon_intensity[i+1]-carbon_intensity[i])/carbon_intensity[i]\n",
    "        \n",
    "    return carbon_intensity_rates\n",
    "    \n",
    "    \n",
    "def monte_carlo_simulation_rates(samples, distri, coef, var, var_rates):\n",
    "\n",
    "    emi_sim = np.zeros((13, samples)) \n",
    "   \n",
    "    # 2018 CO2 emission : 3457 MtCO2.\n",
    "    #emission_2018 = 3457 \n",
    "    \n",
    "    emission_2017 = 3144\n",
    "    \n",
    "    carbon_intensity_rates = get_carbon_intensity(samples, coef, var, distri)\n",
    "    \n",
    "    for i in range(13):\n",
    "    \n",
    "        gdp_rates = np.random.normal(var_rates['rates_mean_gdp'].iloc[i],\n",
    "                                     var_rates['rates_std_gdp'].iloc[i], samples)\n",
    "        ei_rates = np.random.normal(var_rates['rates_mean_ei'].iloc[i],\n",
    "                                    var_rates['rates_std_ei'].iloc[i], samples)\n",
    "        emi_sim[i] = kaya_identity_rates(gdp_rates, ei_rates, carbon_intensity_rates[i])\n",
    "       \n",
    "    emi_sim = from_rates_to_data(emi_sim, emission_2017)\n",
    "    \n",
    "    return emi_sim\n",
    "\n",
    "def monte_carlo_simulation(samples, distri, coef, var):\n",
    "\n",
    "    emi_sim = np.zeros((13, samples)) \n",
    "    \n",
    "    for i in range(13):\n",
    "        oil_cons = np.random.normal(var['mean_oil'].iloc[i], var['std_oil'].iloc[i], samples)\n",
    "        coal_cons = np.random.normal(var['mean_coal'].iloc[i], var['std_oil'].iloc[i], samples)\n",
    "        gas_cons = np.random.normal(var['mean_gas'].iloc[i], var['std_oil'].iloc[i], samples)\n",
    "        \n",
    "        if distri is 'normal':\n",
    "            coef_oil = np.random.normal(coef['oil']['mean'], coef['oil']['std'], samples)\n",
    "            coef_coal = np.random.normal(coef['coal']['mean'], coef['coal']['std'], samples)\n",
    "            coef_gas = np.random.normal(coef['gas']['mean'], coef['gas']['std'], samples)\n",
    "        elif distri is 'triangular':\n",
    "            coef_oil = np.random.triangular(coef['oil']['left'], coef['oil']['mode'],\n",
    "                                            coef['oil']['right'], samples)\n",
    "            coef_coal = np.random.triangular(coef['coal']['left'], coef['coal']['mode'],\n",
    "                                             coef['coal']['right'], samples)\n",
    "            coef_gas = np.random.triangular(coef['gas']['left'], coef['gas']['mode'],\n",
    "                                            coef['gas']['right'], samples)\n",
    "        else:\n",
    "            return print(\"Wrong distribution\")\n",
    "        \n",
    "        emi_sim[i] = kaya_identity(oil_cons, coal_cons, gas_cons, coef_coal, coef_oil, coef_gas)\n",
    "    \n",
    "    return emi_sim\n",
    "  \n",
    "\n",
    "\n",
    "def get_carbon_emissions(samples, distri, rates=False, mean=True, show=False):\n",
    "    \n",
    "    list_average_emi_ssp = list()\n",
    "    list_dev_emi_ssp = list()\n",
    "        \n",
    "    for ssp in name_ssp:\n",
    "\n",
    "        if rates is False:\n",
    "            emi_ssp = monte_carlo_simulation(samples, distri, param_dict[distri], ssp_distri[ssp])\n",
    "        else:\n",
    "            emi_ssp = monte_carlo_simulation_rates(samples, distri, param_dict[distri],\n",
    "                                                   ssp_distri[ssp], ssp_distri_rates[ssp])\n",
    "\n",
    "        list_average_emi_ssp.append(mean_forecast(emi_ssp))\n",
    "        list_dev_emi_ssp.append(std_forecast(emi_ssp))\n",
    "\n",
    "    if show is True:\n",
    "        if file_rates is False:\n",
    "            show_average_forecast(list_average_emi_ssp, list_dev_emi_ssp, samples,'Kaya model')\n",
    "            #show_forecast(list_average_emi_ssp, list_dev_emi_ssp, samples, 'Kaya model')\n",
    "            \n",
    "        else:\n",
    "            show_average_forecast(list_average_emi_ssp, list_dev_emi_ssp, samples, 'the derivative of Kaya model')\n",
    "            #show_forecast(list_average_emi_ssp, list_dev_emi_ssp, samples, 'the derivative of Kaya model')\n",
    "    \n",
    "    if mean is True:\n",
    "        return list_average_emi_ssp\n",
    "    elif mean is False:\n",
    "        return emi_ssp\n",
    "    else:\n",
    "        return print('Bad value for mean parameter')\n"
   ]
  },
  {
   "cell_type": "markdown",
   "metadata": {},
   "source": [
    "# RESULTS OF MONTE CARLO SIMULATION"
   ]
  },
  {
   "cell_type": "code",
   "execution_count": 133,
   "metadata": {
    "scrolled": false
   },
   "outputs": [
    {
     "data": {
      "application/vnd.plotly.v1+json": {
       "config": {
        "plotlyServerURL": "https://plot.ly"
       },
       "data": [
        {
         "fill": "toself",
         "fillcolor": "#1f77b4",
         "line": {
          "color": "rgba(0, 0, 0, 0)"
         },
         "name": "SSP1",
         "opacity": 0.1,
         "showlegend": false,
         "type": "scatter",
         "x": [
          2017,
          2018,
          2019,
          2020,
          2021,
          2022,
          2023,
          2024,
          2025,
          2026,
          2027,
          2028,
          2029,
          2030,
          2030,
          2029,
          2028,
          2027,
          2026,
          2025,
          2024,
          2023,
          2022,
          2021,
          2020,
          2019,
          2018,
          2017
         ],
         "y": [
          3144,
          3092.599384321749,
          3043.7762571827716,
          3008.177958169626,
          2955.8375994459043,
          2935.7732694521387,
          2903.1090001455004,
          2874.0870335106806,
          2835.0412042081675,
          2786.3421471809074,
          2800.757535051589,
          2755.0757493276055,
          2711.744787042662,
          2715.024658497471,
          2649.030937870987,
          2648.5231407430983,
          2696.818555931384,
          2746.4180863124866,
          2734.262746592494,
          2788.725954639913,
          2833.175639957062,
          2866.4493290734754,
          2905.2377413902136,
          2929.674643541565,
          2988.592941853876,
          3029.866024211936,
          3085.5801774327388,
          3144
         ]
        },
        {
         "line": {
          "color": "#1f77b4"
         },
         "name": "SSP1",
         "opacity": 0.8,
         "type": "scatter",
         "x": [
          2017,
          2018,
          2019,
          2020,
          2021,
          2022,
          2023,
          2024,
          2025,
          2026,
          2027,
          2028,
          2029,
          2030
         ],
         "y": [
          3144,
          3089.089780877244,
          3036.8211406973537,
          2998.385450011751,
          2942.7561214937346,
          2920.505505421176,
          2884.779164609488,
          2853.631336733871,
          2811.8835794240404,
          2760.3024468867006,
          2773.587810682038,
          2725.9471526294947,
          2680.1339638928803,
          2682.027798184229
         ]
        },
        {
         "fill": "toself",
         "fillcolor": "#ff7f0e",
         "line": {
          "color": "rgba(0, 0, 0, 0)"
         },
         "name": "SSP2",
         "opacity": 0.1,
         "showlegend": false,
         "type": "scatter",
         "x": [
          2017,
          2018,
          2019,
          2020,
          2021,
          2022,
          2023,
          2024,
          2025,
          2026,
          2027,
          2028,
          2029,
          2030,
          2030,
          2029,
          2028,
          2027,
          2026,
          2025,
          2024,
          2023,
          2022,
          2021,
          2020,
          2019,
          2018,
          2017
         ],
         "y": [
          3144,
          3110.671272508504,
          3077.676468117304,
          3057.119969265238,
          3032.5164806185335,
          3005.52157272677,
          2983.6263375799804,
          2961.578577246898,
          2948.759824202196,
          2912.405122154325,
          2917.3674937341157,
          2901.756703491398,
          2858.106108234229,
          2850.174788173994,
          2789.533872182955,
          2802.7393832757093,
          2849.391436791954,
          2869.1710942196687,
          2868.086333440401,
          2909.867694507633,
          2925.9651034270637,
          2953.8090671149007,
          2979.2621128226033,
          3010.813846620564,
          3041.1068423509623,
          3066.5217558073487,
          3105.198566578813,
          3144
         ]
        },
        {
         "line": {
          "color": "#ff7f0e"
         },
         "name": "SSP2",
         "opacity": 0.8,
         "type": "scatter",
         "x": [
          2017,
          2018,
          2019,
          2020,
          2021,
          2022,
          2023,
          2024,
          2025,
          2026,
          2027,
          2028,
          2029,
          2030
         ],
         "y": [
          3144,
          3107.9349195436585,
          3072.0991119623263,
          3049.1134058081,
          3021.665163619549,
          2992.3918427746867,
          2968.7177023474405,
          2943.771840336981,
          2929.3137593549145,
          2890.245727797363,
          2893.269293976892,
          2875.574070141676,
          2830.422745754969,
          2819.8543301784744
         ]
        },
        {
         "fill": "toself",
         "fillcolor": "#2ca02c",
         "line": {
          "color": "rgba(0, 0, 0, 0)"
         },
         "name": "SSP3",
         "opacity": 0.1,
         "showlegend": false,
         "type": "scatter",
         "x": [
          2017,
          2018,
          2019,
          2020,
          2021,
          2022,
          2023,
          2024,
          2025,
          2026,
          2027,
          2028,
          2029,
          2030,
          2030,
          2029,
          2028,
          2027,
          2026,
          2025,
          2024,
          2023,
          2022,
          2021,
          2020,
          2019,
          2018,
          2017
         ],
         "y": [
          3144,
          3129.295952043249,
          3111.048145902996,
          3103.6444346458547,
          3088.7368391693003,
          3086.2488228945285,
          3081.601853641741,
          3048.473046598002,
          3041.0085595953897,
          3027.6484647692637,
          3006.5940423498996,
          3009.2417790724594,
          3052.487988741647,
          2993.9790448307676,
          2925.180657488966,
          2984.6419358143607,
          2947.749188491184,
          2950.0798421295294,
          2974.291449968386,
          2996.4057022860334,
          3007.1914402089915,
          3045.3501984629615,
          3055.746320574054,
          3063.963661528451,
          3085.4743683037022,
          3098.856243599882,
          3123.1859388856287,
          3144
         ]
        },
        {
         "line": {
          "color": "#2ca02c"
         },
         "name": "SSP3",
         "opacity": 0.8,
         "type": "scatter",
         "x": [
          2017,
          2018,
          2019,
          2020,
          2021,
          2022,
          2023,
          2024,
          2025,
          2026,
          2027,
          2028,
          2029,
          2030
         ],
         "y": [
          3144,
          3126.240945464439,
          3104.952194751439,
          3094.5594014747785,
          3076.3502503488758,
          3070.9975717342913,
          3063.4760260523512,
          3027.8322434034967,
          3018.7071309407115,
          3000.969957368825,
          2978.3369422397145,
          2978.495483781822,
          3018.564962278004,
          2959.579851159867
         ]
        },
        {
         "fill": "toself",
         "fillcolor": "#d62728",
         "line": {
          "color": "rgba(0, 0, 0, 0)"
         },
         "name": "SSP4",
         "opacity": 0.1,
         "showlegend": false,
         "type": "scatter",
         "x": [
          2017,
          2018,
          2019,
          2020,
          2021,
          2022,
          2023,
          2024,
          2025,
          2026,
          2027,
          2028,
          2029,
          2030,
          2030,
          2029,
          2028,
          2027,
          2026,
          2025,
          2024,
          2023,
          2022,
          2021,
          2020,
          2019,
          2018,
          2017
         ],
         "y": [
          3144,
          3108.0742769229796,
          3072.480238517447,
          3037.341019198067,
          3007.2936177372685,
          2976.244533425216,
          2964.9300804033946,
          2917.069926641545,
          2913.676078182663,
          2894.717420575283,
          2862.44424695921,
          2858.0391470732447,
          2832.6382274137623,
          2801.4630229291206,
          2740.3626320442872,
          2777.1204437228953,
          2805.2542040361614,
          2811.7838693518793,
          2849.52786172915,
          2872.763066975995,
          2881.5364151237845,
          2931.368390153725,
          2948.9561673709813,
          2984.253656691665,
          3020.6983132546625,
          3060.7444197486875,
          3102.1334008571407,
          3144
         ]
        },
        {
         "line": {
          "color": "#d62728"
         },
         "name": "SSP4",
         "opacity": 0.8,
         "type": "scatter",
         "x": [
          2017,
          2018,
          2019,
          2020,
          2021,
          2022,
          2023,
          2024,
          2025,
          2026,
          2027,
          2028,
          2029,
          2030
         ],
         "y": [
          3144,
          3105.10383889006,
          3066.6123291330673,
          3029.0196662263647,
          2995.773637214467,
          2962.6003503980987,
          2948.14923527856,
          2899.3031708826647,
          2893.219572579329,
          2872.1226411522166,
          2837.1140581555446,
          2831.646675554703,
          2804.8793355683288,
          2770.912827486704
         ]
        },
        {
         "fill": "toself",
         "fillcolor": "#9467bd",
         "line": {
          "color": "rgba(0, 0, 0, 0)"
         },
         "name": "SSP5",
         "opacity": 0.1,
         "showlegend": false,
         "type": "scatter",
         "x": [
          2017,
          2018,
          2019,
          2020,
          2021,
          2022,
          2023,
          2024,
          2025,
          2026,
          2027,
          2028,
          2029,
          2030,
          2030,
          2029,
          2028,
          2027,
          2026,
          2025,
          2024,
          2023,
          2022,
          2021,
          2020,
          2019,
          2018,
          2017
         ],
         "y": [
          3144,
          3135.928847764732,
          3136.2045564686155,
          3140.359121710688,
          3153.592314443081,
          3161.979581783353,
          3163.2629763457876,
          3181.627972397581,
          3206.2954294519454,
          3217.402160692023,
          3209.657074701807,
          3234.2000393660605,
          3260.120261895168,
          3246.370833259589,
          3195.231018874305,
          3208.607710812286,
          3186.3736126266217,
          3164.9054182940517,
          3174.2590745504053,
          3166.398684043113,
          3145.086439690445,
          3130.767751951858,
          3133.280932396693,
          3129.7491997834086,
          3122.556251173138,
          3123.6358789572173,
          3129.2197672954176,
          3144
         ]
        },
        {
         "line": {
          "color": "#9467bd"
         },
         "name": "SSP5",
         "opacity": 0.8,
         "type": "scatter",
         "x": [
          2017,
          2018,
          2019,
          2020,
          2021,
          2022,
          2023,
          2024,
          2025,
          2026,
          2027,
          2028,
          2029,
          2030
         ],
         "y": [
          3144,
          3132.5743075300747,
          3129.9202177129164,
          3131.457686441913,
          3141.6707571132447,
          3147.630257090023,
          3147.0153641488228,
          3163.357206044013,
          3186.347056747529,
          3195.830617621214,
          3187.2812464979293,
          3210.286825996341,
          3234.363986353727,
          3220.800926066947
         ]
        },
        {
         "line": {
          "color": "Black"
         },
         "mode": "lines",
         "name": "EU target",
         "opacity": 0.8,
         "type": "scatter",
         "x": [
          2017,
          2018,
          2019,
          2020,
          2021,
          2022,
          2023,
          2024,
          2025,
          2026,
          2027,
          2028,
          2029,
          2030
         ],
         "y": [
          2645.1158467031278,
          2645.1158467031278,
          2645.1158467031278,
          2645.1158467031278,
          2645.1158467031278,
          2645.1158467031278,
          2645.1158467031278,
          2645.1158467031278,
          2645.1158467031278,
          2645.1158467031278,
          2645.1158467031278,
          2645.1158467031278,
          2645.1158467031278,
          2645.1158467031278
         ]
        }
       ],
       "layout": {
        "template": {
         "data": {
          "bar": [
           {
            "error_x": {
             "color": "#2a3f5f"
            },
            "error_y": {
             "color": "#2a3f5f"
            },
            "marker": {
             "line": {
              "color": "#E5ECF6",
              "width": 0.5
             }
            },
            "type": "bar"
           }
          ],
          "barpolar": [
           {
            "marker": {
             "line": {
              "color": "#E5ECF6",
              "width": 0.5
             }
            },
            "type": "barpolar"
           }
          ],
          "carpet": [
           {
            "aaxis": {
             "endlinecolor": "#2a3f5f",
             "gridcolor": "white",
             "linecolor": "white",
             "minorgridcolor": "white",
             "startlinecolor": "#2a3f5f"
            },
            "baxis": {
             "endlinecolor": "#2a3f5f",
             "gridcolor": "white",
             "linecolor": "white",
             "minorgridcolor": "white",
             "startlinecolor": "#2a3f5f"
            },
            "type": "carpet"
           }
          ],
          "choropleth": [
           {
            "colorbar": {
             "outlinewidth": 0,
             "ticks": ""
            },
            "type": "choropleth"
           }
          ],
          "contour": [
           {
            "colorbar": {
             "outlinewidth": 0,
             "ticks": ""
            },
            "colorscale": [
             [
              0,
              "#0d0887"
             ],
             [
              0.1111111111111111,
              "#46039f"
             ],
             [
              0.2222222222222222,
              "#7201a8"
             ],
             [
              0.3333333333333333,
              "#9c179e"
             ],
             [
              0.4444444444444444,
              "#bd3786"
             ],
             [
              0.5555555555555556,
              "#d8576b"
             ],
             [
              0.6666666666666666,
              "#ed7953"
             ],
             [
              0.7777777777777778,
              "#fb9f3a"
             ],
             [
              0.8888888888888888,
              "#fdca26"
             ],
             [
              1,
              "#f0f921"
             ]
            ],
            "type": "contour"
           }
          ],
          "contourcarpet": [
           {
            "colorbar": {
             "outlinewidth": 0,
             "ticks": ""
            },
            "type": "contourcarpet"
           }
          ],
          "heatmap": [
           {
            "colorbar": {
             "outlinewidth": 0,
             "ticks": ""
            },
            "colorscale": [
             [
              0,
              "#0d0887"
             ],
             [
              0.1111111111111111,
              "#46039f"
             ],
             [
              0.2222222222222222,
              "#7201a8"
             ],
             [
              0.3333333333333333,
              "#9c179e"
             ],
             [
              0.4444444444444444,
              "#bd3786"
             ],
             [
              0.5555555555555556,
              "#d8576b"
             ],
             [
              0.6666666666666666,
              "#ed7953"
             ],
             [
              0.7777777777777778,
              "#fb9f3a"
             ],
             [
              0.8888888888888888,
              "#fdca26"
             ],
             [
              1,
              "#f0f921"
             ]
            ],
            "type": "heatmap"
           }
          ],
          "heatmapgl": [
           {
            "colorbar": {
             "outlinewidth": 0,
             "ticks": ""
            },
            "colorscale": [
             [
              0,
              "#0d0887"
             ],
             [
              0.1111111111111111,
              "#46039f"
             ],
             [
              0.2222222222222222,
              "#7201a8"
             ],
             [
              0.3333333333333333,
              "#9c179e"
             ],
             [
              0.4444444444444444,
              "#bd3786"
             ],
             [
              0.5555555555555556,
              "#d8576b"
             ],
             [
              0.6666666666666666,
              "#ed7953"
             ],
             [
              0.7777777777777778,
              "#fb9f3a"
             ],
             [
              0.8888888888888888,
              "#fdca26"
             ],
             [
              1,
              "#f0f921"
             ]
            ],
            "type": "heatmapgl"
           }
          ],
          "histogram": [
           {
            "marker": {
             "colorbar": {
              "outlinewidth": 0,
              "ticks": ""
             }
            },
            "type": "histogram"
           }
          ],
          "histogram2d": [
           {
            "colorbar": {
             "outlinewidth": 0,
             "ticks": ""
            },
            "colorscale": [
             [
              0,
              "#0d0887"
             ],
             [
              0.1111111111111111,
              "#46039f"
             ],
             [
              0.2222222222222222,
              "#7201a8"
             ],
             [
              0.3333333333333333,
              "#9c179e"
             ],
             [
              0.4444444444444444,
              "#bd3786"
             ],
             [
              0.5555555555555556,
              "#d8576b"
             ],
             [
              0.6666666666666666,
              "#ed7953"
             ],
             [
              0.7777777777777778,
              "#fb9f3a"
             ],
             [
              0.8888888888888888,
              "#fdca26"
             ],
             [
              1,
              "#f0f921"
             ]
            ],
            "type": "histogram2d"
           }
          ],
          "histogram2dcontour": [
           {
            "colorbar": {
             "outlinewidth": 0,
             "ticks": ""
            },
            "colorscale": [
             [
              0,
              "#0d0887"
             ],
             [
              0.1111111111111111,
              "#46039f"
             ],
             [
              0.2222222222222222,
              "#7201a8"
             ],
             [
              0.3333333333333333,
              "#9c179e"
             ],
             [
              0.4444444444444444,
              "#bd3786"
             ],
             [
              0.5555555555555556,
              "#d8576b"
             ],
             [
              0.6666666666666666,
              "#ed7953"
             ],
             [
              0.7777777777777778,
              "#fb9f3a"
             ],
             [
              0.8888888888888888,
              "#fdca26"
             ],
             [
              1,
              "#f0f921"
             ]
            ],
            "type": "histogram2dcontour"
           }
          ],
          "mesh3d": [
           {
            "colorbar": {
             "outlinewidth": 0,
             "ticks": ""
            },
            "type": "mesh3d"
           }
          ],
          "parcoords": [
           {
            "line": {
             "colorbar": {
              "outlinewidth": 0,
              "ticks": ""
             }
            },
            "type": "parcoords"
           }
          ],
          "pie": [
           {
            "automargin": true,
            "type": "pie"
           }
          ],
          "scatter": [
           {
            "marker": {
             "colorbar": {
              "outlinewidth": 0,
              "ticks": ""
             }
            },
            "type": "scatter"
           }
          ],
          "scatter3d": [
           {
            "line": {
             "colorbar": {
              "outlinewidth": 0,
              "ticks": ""
             }
            },
            "marker": {
             "colorbar": {
              "outlinewidth": 0,
              "ticks": ""
             }
            },
            "type": "scatter3d"
           }
          ],
          "scattercarpet": [
           {
            "marker": {
             "colorbar": {
              "outlinewidth": 0,
              "ticks": ""
             }
            },
            "type": "scattercarpet"
           }
          ],
          "scattergeo": [
           {
            "marker": {
             "colorbar": {
              "outlinewidth": 0,
              "ticks": ""
             }
            },
            "type": "scattergeo"
           }
          ],
          "scattergl": [
           {
            "marker": {
             "colorbar": {
              "outlinewidth": 0,
              "ticks": ""
             }
            },
            "type": "scattergl"
           }
          ],
          "scattermapbox": [
           {
            "marker": {
             "colorbar": {
              "outlinewidth": 0,
              "ticks": ""
             }
            },
            "type": "scattermapbox"
           }
          ],
          "scatterpolar": [
           {
            "marker": {
             "colorbar": {
              "outlinewidth": 0,
              "ticks": ""
             }
            },
            "type": "scatterpolar"
           }
          ],
          "scatterpolargl": [
           {
            "marker": {
             "colorbar": {
              "outlinewidth": 0,
              "ticks": ""
             }
            },
            "type": "scatterpolargl"
           }
          ],
          "scatterternary": [
           {
            "marker": {
             "colorbar": {
              "outlinewidth": 0,
              "ticks": ""
             }
            },
            "type": "scatterternary"
           }
          ],
          "surface": [
           {
            "colorbar": {
             "outlinewidth": 0,
             "ticks": ""
            },
            "colorscale": [
             [
              0,
              "#0d0887"
             ],
             [
              0.1111111111111111,
              "#46039f"
             ],
             [
              0.2222222222222222,
              "#7201a8"
             ],
             [
              0.3333333333333333,
              "#9c179e"
             ],
             [
              0.4444444444444444,
              "#bd3786"
             ],
             [
              0.5555555555555556,
              "#d8576b"
             ],
             [
              0.6666666666666666,
              "#ed7953"
             ],
             [
              0.7777777777777778,
              "#fb9f3a"
             ],
             [
              0.8888888888888888,
              "#fdca26"
             ],
             [
              1,
              "#f0f921"
             ]
            ],
            "type": "surface"
           }
          ],
          "table": [
           {
            "cells": {
             "fill": {
              "color": "#EBF0F8"
             },
             "line": {
              "color": "white"
             }
            },
            "header": {
             "fill": {
              "color": "#C8D4E3"
             },
             "line": {
              "color": "white"
             }
            },
            "type": "table"
           }
          ]
         },
         "layout": {
          "annotationdefaults": {
           "arrowcolor": "#2a3f5f",
           "arrowhead": 0,
           "arrowwidth": 1
          },
          "coloraxis": {
           "colorbar": {
            "outlinewidth": 0,
            "ticks": ""
           }
          },
          "colorscale": {
           "diverging": [
            [
             0,
             "#8e0152"
            ],
            [
             0.1,
             "#c51b7d"
            ],
            [
             0.2,
             "#de77ae"
            ],
            [
             0.3,
             "#f1b6da"
            ],
            [
             0.4,
             "#fde0ef"
            ],
            [
             0.5,
             "#f7f7f7"
            ],
            [
             0.6,
             "#e6f5d0"
            ],
            [
             0.7,
             "#b8e186"
            ],
            [
             0.8,
             "#7fbc41"
            ],
            [
             0.9,
             "#4d9221"
            ],
            [
             1,
             "#276419"
            ]
           ],
           "sequential": [
            [
             0,
             "#0d0887"
            ],
            [
             0.1111111111111111,
             "#46039f"
            ],
            [
             0.2222222222222222,
             "#7201a8"
            ],
            [
             0.3333333333333333,
             "#9c179e"
            ],
            [
             0.4444444444444444,
             "#bd3786"
            ],
            [
             0.5555555555555556,
             "#d8576b"
            ],
            [
             0.6666666666666666,
             "#ed7953"
            ],
            [
             0.7777777777777778,
             "#fb9f3a"
            ],
            [
             0.8888888888888888,
             "#fdca26"
            ],
            [
             1,
             "#f0f921"
            ]
           ],
           "sequentialminus": [
            [
             0,
             "#0d0887"
            ],
            [
             0.1111111111111111,
             "#46039f"
            ],
            [
             0.2222222222222222,
             "#7201a8"
            ],
            [
             0.3333333333333333,
             "#9c179e"
            ],
            [
             0.4444444444444444,
             "#bd3786"
            ],
            [
             0.5555555555555556,
             "#d8576b"
            ],
            [
             0.6666666666666666,
             "#ed7953"
            ],
            [
             0.7777777777777778,
             "#fb9f3a"
            ],
            [
             0.8888888888888888,
             "#fdca26"
            ],
            [
             1,
             "#f0f921"
            ]
           ]
          },
          "colorway": [
           "#636efa",
           "#EF553B",
           "#00cc96",
           "#ab63fa",
           "#FFA15A",
           "#19d3f3",
           "#FF6692",
           "#B6E880",
           "#FF97FF",
           "#FECB52"
          ],
          "font": {
           "color": "#2a3f5f"
          },
          "geo": {
           "bgcolor": "white",
           "lakecolor": "white",
           "landcolor": "#E5ECF6",
           "showlakes": true,
           "showland": true,
           "subunitcolor": "white"
          },
          "hoverlabel": {
           "align": "left"
          },
          "hovermode": "closest",
          "mapbox": {
           "style": "light"
          },
          "paper_bgcolor": "white",
          "plot_bgcolor": "#E5ECF6",
          "polar": {
           "angularaxis": {
            "gridcolor": "white",
            "linecolor": "white",
            "ticks": ""
           },
           "bgcolor": "#E5ECF6",
           "radialaxis": {
            "gridcolor": "white",
            "linecolor": "white",
            "ticks": ""
           }
          },
          "scene": {
           "xaxis": {
            "backgroundcolor": "#E5ECF6",
            "gridcolor": "white",
            "gridwidth": 2,
            "linecolor": "white",
            "showbackground": true,
            "ticks": "",
            "zerolinecolor": "white"
           },
           "yaxis": {
            "backgroundcolor": "#E5ECF6",
            "gridcolor": "white",
            "gridwidth": 2,
            "linecolor": "white",
            "showbackground": true,
            "ticks": "",
            "zerolinecolor": "white"
           },
           "zaxis": {
            "backgroundcolor": "#E5ECF6",
            "gridcolor": "white",
            "gridwidth": 2,
            "linecolor": "white",
            "showbackground": true,
            "ticks": "",
            "zerolinecolor": "white"
           }
          },
          "shapedefaults": {
           "line": {
            "color": "#2a3f5f"
           }
          },
          "ternary": {
           "aaxis": {
            "gridcolor": "white",
            "linecolor": "white",
            "ticks": ""
           },
           "baxis": {
            "gridcolor": "white",
            "linecolor": "white",
            "ticks": ""
           },
           "bgcolor": "#E5ECF6",
           "caxis": {
            "gridcolor": "white",
            "linecolor": "white",
            "ticks": ""
           }
          },
          "title": {
           "x": 0.05
          },
          "xaxis": {
           "automargin": true,
           "gridcolor": "white",
           "linecolor": "white",
           "ticks": "",
           "title": {
            "standoff": 15
           },
           "zerolinecolor": "white",
           "zerolinewidth": 2
          },
          "yaxis": {
           "automargin": true,
           "gridcolor": "white",
           "linecolor": "white",
           "ticks": "",
           "title": {
            "standoff": 15
           },
           "zerolinecolor": "white",
           "zerolinewidth": 2
          }
         }
        },
        "title": {
         "text": "Forecasts of CO2 emissions in function of the family of scenarios based on the derivative of Kaya model"
        },
        "xaxis": {
         "title": {
          "text": "Years"
         }
        },
        "yaxis": {
         "title": {
          "text": "CO2 emissions [MtCO2eq]"
         }
        }
       }
      },
      "text/html": [
       "<div>\n",
       "        \n",
       "        \n",
       "            <div id=\"8e30be37-22c5-4586-b687-52c71387ea4c\" class=\"plotly-graph-div\" style=\"height:525px; width:100%;\"></div>\n",
       "            <script type=\"text/javascript\">\n",
       "                require([\"plotly\"], function(Plotly) {\n",
       "                    window.PLOTLYENV=window.PLOTLYENV || {};\n",
       "                    \n",
       "                if (document.getElementById(\"8e30be37-22c5-4586-b687-52c71387ea4c\")) {\n",
       "                    Plotly.newPlot(\n",
       "                        '8e30be37-22c5-4586-b687-52c71387ea4c',\n",
       "                        [{\"fill\": \"toself\", \"fillcolor\": \"#1f77b4\", \"line\": {\"color\": \"rgba(0, 0, 0, 0)\"}, \"name\": \"SSP1\", \"opacity\": 0.1, \"showlegend\": false, \"type\": \"scatter\", \"x\": [2017, 2018, 2019, 2020, 2021, 2022, 2023, 2024, 2025, 2026, 2027, 2028, 2029, 2030, 2030, 2029, 2028, 2027, 2026, 2025, 2024, 2023, 2022, 2021, 2020, 2019, 2018, 2017], \"y\": [3144.0, 3092.599384321749, 3043.7762571827716, 3008.177958169626, 2955.8375994459043, 2935.7732694521387, 2903.1090001455004, 2874.0870335106806, 2835.0412042081675, 2786.3421471809074, 2800.757535051589, 2755.0757493276055, 2711.744787042662, 2715.024658497471, 2649.030937870987, 2648.5231407430983, 2696.818555931384, 2746.4180863124866, 2734.262746592494, 2788.725954639913, 2833.175639957062, 2866.4493290734754, 2905.2377413902136, 2929.674643541565, 2988.592941853876, 3029.866024211936, 3085.5801774327388, 3144.0]}, {\"line\": {\"color\": \"#1f77b4\"}, \"name\": \"SSP1\", \"opacity\": 0.8, \"type\": \"scatter\", \"x\": [2017, 2018, 2019, 2020, 2021, 2022, 2023, 2024, 2025, 2026, 2027, 2028, 2029, 2030], \"y\": [3144.0, 3089.089780877244, 3036.8211406973537, 2998.385450011751, 2942.7561214937346, 2920.505505421176, 2884.779164609488, 2853.631336733871, 2811.8835794240404, 2760.3024468867006, 2773.587810682038, 2725.9471526294947, 2680.1339638928803, 2682.027798184229]}, {\"fill\": \"toself\", \"fillcolor\": \"#ff7f0e\", \"line\": {\"color\": \"rgba(0, 0, 0, 0)\"}, \"name\": \"SSP2\", \"opacity\": 0.1, \"showlegend\": false, \"type\": \"scatter\", \"x\": [2017, 2018, 2019, 2020, 2021, 2022, 2023, 2024, 2025, 2026, 2027, 2028, 2029, 2030, 2030, 2029, 2028, 2027, 2026, 2025, 2024, 2023, 2022, 2021, 2020, 2019, 2018, 2017], \"y\": [3144.0, 3110.671272508504, 3077.676468117304, 3057.119969265238, 3032.5164806185335, 3005.52157272677, 2983.6263375799804, 2961.578577246898, 2948.759824202196, 2912.405122154325, 2917.3674937341157, 2901.756703491398, 2858.106108234229, 2850.174788173994, 2789.533872182955, 2802.7393832757093, 2849.391436791954, 2869.1710942196687, 2868.086333440401, 2909.867694507633, 2925.9651034270637, 2953.8090671149007, 2979.2621128226033, 3010.813846620564, 3041.1068423509623, 3066.5217558073487, 3105.198566578813, 3144.0]}, {\"line\": {\"color\": \"#ff7f0e\"}, \"name\": \"SSP2\", \"opacity\": 0.8, \"type\": \"scatter\", \"x\": [2017, 2018, 2019, 2020, 2021, 2022, 2023, 2024, 2025, 2026, 2027, 2028, 2029, 2030], \"y\": [3144.0, 3107.9349195436585, 3072.0991119623263, 3049.1134058081, 3021.665163619549, 2992.3918427746867, 2968.7177023474405, 2943.771840336981, 2929.3137593549145, 2890.245727797363, 2893.269293976892, 2875.574070141676, 2830.422745754969, 2819.8543301784744]}, {\"fill\": \"toself\", \"fillcolor\": \"#2ca02c\", \"line\": {\"color\": \"rgba(0, 0, 0, 0)\"}, \"name\": \"SSP3\", \"opacity\": 0.1, \"showlegend\": false, \"type\": \"scatter\", \"x\": [2017, 2018, 2019, 2020, 2021, 2022, 2023, 2024, 2025, 2026, 2027, 2028, 2029, 2030, 2030, 2029, 2028, 2027, 2026, 2025, 2024, 2023, 2022, 2021, 2020, 2019, 2018, 2017], \"y\": [3144.0, 3129.295952043249, 3111.048145902996, 3103.6444346458547, 3088.7368391693003, 3086.2488228945285, 3081.601853641741, 3048.473046598002, 3041.0085595953897, 3027.6484647692637, 3006.5940423498996, 3009.2417790724594, 3052.487988741647, 2993.9790448307676, 2925.180657488966, 2984.6419358143607, 2947.749188491184, 2950.0798421295294, 2974.291449968386, 2996.4057022860334, 3007.1914402089915, 3045.3501984629615, 3055.746320574054, 3063.963661528451, 3085.4743683037022, 3098.856243599882, 3123.1859388856287, 3144.0]}, {\"line\": {\"color\": \"#2ca02c\"}, \"name\": \"SSP3\", \"opacity\": 0.8, \"type\": \"scatter\", \"x\": [2017, 2018, 2019, 2020, 2021, 2022, 2023, 2024, 2025, 2026, 2027, 2028, 2029, 2030], \"y\": [3144.0, 3126.240945464439, 3104.952194751439, 3094.5594014747785, 3076.3502503488758, 3070.9975717342913, 3063.4760260523512, 3027.8322434034967, 3018.7071309407115, 3000.969957368825, 2978.3369422397145, 2978.495483781822, 3018.564962278004, 2959.579851159867]}, {\"fill\": \"toself\", \"fillcolor\": \"#d62728\", \"line\": {\"color\": \"rgba(0, 0, 0, 0)\"}, \"name\": \"SSP4\", \"opacity\": 0.1, \"showlegend\": false, \"type\": \"scatter\", \"x\": [2017, 2018, 2019, 2020, 2021, 2022, 2023, 2024, 2025, 2026, 2027, 2028, 2029, 2030, 2030, 2029, 2028, 2027, 2026, 2025, 2024, 2023, 2022, 2021, 2020, 2019, 2018, 2017], \"y\": [3144.0, 3108.0742769229796, 3072.480238517447, 3037.341019198067, 3007.2936177372685, 2976.244533425216, 2964.9300804033946, 2917.069926641545, 2913.676078182663, 2894.717420575283, 2862.44424695921, 2858.0391470732447, 2832.6382274137623, 2801.4630229291206, 2740.3626320442872, 2777.1204437228953, 2805.2542040361614, 2811.7838693518793, 2849.52786172915, 2872.763066975995, 2881.5364151237845, 2931.368390153725, 2948.9561673709813, 2984.253656691665, 3020.6983132546625, 3060.7444197486875, 3102.1334008571407, 3144.0]}, {\"line\": {\"color\": \"#d62728\"}, \"name\": \"SSP4\", \"opacity\": 0.8, \"type\": \"scatter\", \"x\": [2017, 2018, 2019, 2020, 2021, 2022, 2023, 2024, 2025, 2026, 2027, 2028, 2029, 2030], \"y\": [3144.0, 3105.10383889006, 3066.6123291330673, 3029.0196662263647, 2995.773637214467, 2962.6003503980987, 2948.14923527856, 2899.3031708826647, 2893.219572579329, 2872.1226411522166, 2837.1140581555446, 2831.646675554703, 2804.8793355683288, 2770.912827486704]}, {\"fill\": \"toself\", \"fillcolor\": \"#9467bd\", \"line\": {\"color\": \"rgba(0, 0, 0, 0)\"}, \"name\": \"SSP5\", \"opacity\": 0.1, \"showlegend\": false, \"type\": \"scatter\", \"x\": [2017, 2018, 2019, 2020, 2021, 2022, 2023, 2024, 2025, 2026, 2027, 2028, 2029, 2030, 2030, 2029, 2028, 2027, 2026, 2025, 2024, 2023, 2022, 2021, 2020, 2019, 2018, 2017], \"y\": [3144.0, 3135.928847764732, 3136.2045564686155, 3140.359121710688, 3153.592314443081, 3161.979581783353, 3163.2629763457876, 3181.627972397581, 3206.2954294519454, 3217.402160692023, 3209.657074701807, 3234.2000393660605, 3260.120261895168, 3246.370833259589, 3195.231018874305, 3208.607710812286, 3186.3736126266217, 3164.9054182940517, 3174.2590745504053, 3166.398684043113, 3145.086439690445, 3130.767751951858, 3133.280932396693, 3129.7491997834086, 3122.556251173138, 3123.6358789572173, 3129.2197672954176, 3144.0]}, {\"line\": {\"color\": \"#9467bd\"}, \"name\": \"SSP5\", \"opacity\": 0.8, \"type\": \"scatter\", \"x\": [2017, 2018, 2019, 2020, 2021, 2022, 2023, 2024, 2025, 2026, 2027, 2028, 2029, 2030], \"y\": [3144.0, 3132.5743075300747, 3129.9202177129164, 3131.457686441913, 3141.6707571132447, 3147.630257090023, 3147.0153641488228, 3163.357206044013, 3186.347056747529, 3195.830617621214, 3187.2812464979293, 3210.286825996341, 3234.363986353727, 3220.800926066947]}, {\"line\": {\"color\": \"Black\"}, \"mode\": \"lines\", \"name\": \"EU target\", \"opacity\": 0.8, \"type\": \"scatter\", \"x\": [2017, 2018, 2019, 2020, 2021, 2022, 2023, 2024, 2025, 2026, 2027, 2028, 2029, 2030], \"y\": [2645.1158467031278, 2645.1158467031278, 2645.1158467031278, 2645.1158467031278, 2645.1158467031278, 2645.1158467031278, 2645.1158467031278, 2645.1158467031278, 2645.1158467031278, 2645.1158467031278, 2645.1158467031278, 2645.1158467031278, 2645.1158467031278, 2645.1158467031278]}],\n",
       "                        {\"template\": {\"data\": {\"bar\": [{\"error_x\": {\"color\": \"#2a3f5f\"}, \"error_y\": {\"color\": \"#2a3f5f\"}, \"marker\": {\"line\": {\"color\": \"#E5ECF6\", \"width\": 0.5}}, \"type\": \"bar\"}], \"barpolar\": [{\"marker\": {\"line\": {\"color\": \"#E5ECF6\", \"width\": 0.5}}, \"type\": \"barpolar\"}], \"carpet\": [{\"aaxis\": {\"endlinecolor\": \"#2a3f5f\", \"gridcolor\": \"white\", \"linecolor\": \"white\", \"minorgridcolor\": \"white\", \"startlinecolor\": \"#2a3f5f\"}, \"baxis\": {\"endlinecolor\": \"#2a3f5f\", \"gridcolor\": \"white\", \"linecolor\": \"white\", \"minorgridcolor\": \"white\", \"startlinecolor\": \"#2a3f5f\"}, \"type\": \"carpet\"}], \"choropleth\": [{\"colorbar\": {\"outlinewidth\": 0, \"ticks\": \"\"}, \"type\": \"choropleth\"}], \"contour\": [{\"colorbar\": {\"outlinewidth\": 0, \"ticks\": \"\"}, \"colorscale\": [[0.0, \"#0d0887\"], [0.1111111111111111, \"#46039f\"], [0.2222222222222222, \"#7201a8\"], [0.3333333333333333, \"#9c179e\"], [0.4444444444444444, \"#bd3786\"], [0.5555555555555556, \"#d8576b\"], [0.6666666666666666, \"#ed7953\"], [0.7777777777777778, \"#fb9f3a\"], [0.8888888888888888, \"#fdca26\"], [1.0, \"#f0f921\"]], \"type\": \"contour\"}], \"contourcarpet\": [{\"colorbar\": {\"outlinewidth\": 0, \"ticks\": \"\"}, \"type\": \"contourcarpet\"}], \"heatmap\": [{\"colorbar\": {\"outlinewidth\": 0, \"ticks\": \"\"}, \"colorscale\": [[0.0, \"#0d0887\"], [0.1111111111111111, \"#46039f\"], [0.2222222222222222, \"#7201a8\"], [0.3333333333333333, \"#9c179e\"], [0.4444444444444444, \"#bd3786\"], [0.5555555555555556, \"#d8576b\"], [0.6666666666666666, \"#ed7953\"], [0.7777777777777778, \"#fb9f3a\"], [0.8888888888888888, \"#fdca26\"], [1.0, \"#f0f921\"]], \"type\": \"heatmap\"}], \"heatmapgl\": [{\"colorbar\": {\"outlinewidth\": 0, \"ticks\": \"\"}, \"colorscale\": [[0.0, \"#0d0887\"], [0.1111111111111111, \"#46039f\"], [0.2222222222222222, \"#7201a8\"], [0.3333333333333333, \"#9c179e\"], [0.4444444444444444, \"#bd3786\"], [0.5555555555555556, \"#d8576b\"], [0.6666666666666666, \"#ed7953\"], [0.7777777777777778, \"#fb9f3a\"], [0.8888888888888888, \"#fdca26\"], [1.0, \"#f0f921\"]], \"type\": \"heatmapgl\"}], \"histogram\": [{\"marker\": {\"colorbar\": {\"outlinewidth\": 0, \"ticks\": \"\"}}, \"type\": \"histogram\"}], \"histogram2d\": [{\"colorbar\": {\"outlinewidth\": 0, \"ticks\": \"\"}, \"colorscale\": [[0.0, \"#0d0887\"], [0.1111111111111111, \"#46039f\"], [0.2222222222222222, \"#7201a8\"], [0.3333333333333333, \"#9c179e\"], [0.4444444444444444, \"#bd3786\"], [0.5555555555555556, \"#d8576b\"], [0.6666666666666666, \"#ed7953\"], [0.7777777777777778, \"#fb9f3a\"], [0.8888888888888888, \"#fdca26\"], [1.0, \"#f0f921\"]], \"type\": \"histogram2d\"}], \"histogram2dcontour\": [{\"colorbar\": {\"outlinewidth\": 0, \"ticks\": \"\"}, \"colorscale\": [[0.0, \"#0d0887\"], [0.1111111111111111, \"#46039f\"], [0.2222222222222222, \"#7201a8\"], [0.3333333333333333, \"#9c179e\"], [0.4444444444444444, \"#bd3786\"], [0.5555555555555556, \"#d8576b\"], [0.6666666666666666, \"#ed7953\"], [0.7777777777777778, \"#fb9f3a\"], [0.8888888888888888, \"#fdca26\"], [1.0, \"#f0f921\"]], \"type\": \"histogram2dcontour\"}], \"mesh3d\": [{\"colorbar\": {\"outlinewidth\": 0, \"ticks\": \"\"}, \"type\": \"mesh3d\"}], \"parcoords\": [{\"line\": {\"colorbar\": {\"outlinewidth\": 0, \"ticks\": \"\"}}, \"type\": \"parcoords\"}], \"pie\": [{\"automargin\": true, \"type\": \"pie\"}], \"scatter\": [{\"marker\": {\"colorbar\": {\"outlinewidth\": 0, \"ticks\": \"\"}}, \"type\": \"scatter\"}], \"scatter3d\": [{\"line\": {\"colorbar\": {\"outlinewidth\": 0, \"ticks\": \"\"}}, \"marker\": {\"colorbar\": {\"outlinewidth\": 0, \"ticks\": \"\"}}, \"type\": \"scatter3d\"}], \"scattercarpet\": [{\"marker\": {\"colorbar\": {\"outlinewidth\": 0, \"ticks\": \"\"}}, \"type\": \"scattercarpet\"}], \"scattergeo\": [{\"marker\": {\"colorbar\": {\"outlinewidth\": 0, \"ticks\": \"\"}}, \"type\": \"scattergeo\"}], \"scattergl\": [{\"marker\": {\"colorbar\": {\"outlinewidth\": 0, \"ticks\": \"\"}}, \"type\": \"scattergl\"}], \"scattermapbox\": [{\"marker\": {\"colorbar\": {\"outlinewidth\": 0, \"ticks\": \"\"}}, \"type\": \"scattermapbox\"}], \"scatterpolar\": [{\"marker\": {\"colorbar\": {\"outlinewidth\": 0, \"ticks\": \"\"}}, \"type\": \"scatterpolar\"}], \"scatterpolargl\": [{\"marker\": {\"colorbar\": {\"outlinewidth\": 0, \"ticks\": \"\"}}, \"type\": \"scatterpolargl\"}], \"scatterternary\": [{\"marker\": {\"colorbar\": {\"outlinewidth\": 0, \"ticks\": \"\"}}, \"type\": \"scatterternary\"}], \"surface\": [{\"colorbar\": {\"outlinewidth\": 0, \"ticks\": \"\"}, \"colorscale\": [[0.0, \"#0d0887\"], [0.1111111111111111, \"#46039f\"], [0.2222222222222222, \"#7201a8\"], [0.3333333333333333, \"#9c179e\"], [0.4444444444444444, \"#bd3786\"], [0.5555555555555556, \"#d8576b\"], [0.6666666666666666, \"#ed7953\"], [0.7777777777777778, \"#fb9f3a\"], [0.8888888888888888, \"#fdca26\"], [1.0, \"#f0f921\"]], \"type\": \"surface\"}], \"table\": [{\"cells\": {\"fill\": {\"color\": \"#EBF0F8\"}, \"line\": {\"color\": \"white\"}}, \"header\": {\"fill\": {\"color\": \"#C8D4E3\"}, \"line\": {\"color\": \"white\"}}, \"type\": \"table\"}]}, \"layout\": {\"annotationdefaults\": {\"arrowcolor\": \"#2a3f5f\", \"arrowhead\": 0, \"arrowwidth\": 1}, \"coloraxis\": {\"colorbar\": {\"outlinewidth\": 0, \"ticks\": \"\"}}, \"colorscale\": {\"diverging\": [[0, \"#8e0152\"], [0.1, \"#c51b7d\"], [0.2, \"#de77ae\"], [0.3, \"#f1b6da\"], [0.4, \"#fde0ef\"], [0.5, \"#f7f7f7\"], [0.6, \"#e6f5d0\"], [0.7, \"#b8e186\"], [0.8, \"#7fbc41\"], [0.9, \"#4d9221\"], [1, \"#276419\"]], \"sequential\": [[0.0, \"#0d0887\"], [0.1111111111111111, \"#46039f\"], [0.2222222222222222, \"#7201a8\"], [0.3333333333333333, \"#9c179e\"], [0.4444444444444444, \"#bd3786\"], [0.5555555555555556, \"#d8576b\"], [0.6666666666666666, \"#ed7953\"], [0.7777777777777778, \"#fb9f3a\"], [0.8888888888888888, \"#fdca26\"], [1.0, \"#f0f921\"]], \"sequentialminus\": [[0.0, \"#0d0887\"], [0.1111111111111111, \"#46039f\"], [0.2222222222222222, \"#7201a8\"], [0.3333333333333333, \"#9c179e\"], [0.4444444444444444, \"#bd3786\"], [0.5555555555555556, \"#d8576b\"], [0.6666666666666666, \"#ed7953\"], [0.7777777777777778, \"#fb9f3a\"], [0.8888888888888888, \"#fdca26\"], [1.0, \"#f0f921\"]]}, \"colorway\": [\"#636efa\", \"#EF553B\", \"#00cc96\", \"#ab63fa\", \"#FFA15A\", \"#19d3f3\", \"#FF6692\", \"#B6E880\", \"#FF97FF\", \"#FECB52\"], \"font\": {\"color\": \"#2a3f5f\"}, \"geo\": {\"bgcolor\": \"white\", \"lakecolor\": \"white\", \"landcolor\": \"#E5ECF6\", \"showlakes\": true, \"showland\": true, \"subunitcolor\": \"white\"}, \"hoverlabel\": {\"align\": \"left\"}, \"hovermode\": \"closest\", \"mapbox\": {\"style\": \"light\"}, \"paper_bgcolor\": \"white\", \"plot_bgcolor\": \"#E5ECF6\", \"polar\": {\"angularaxis\": {\"gridcolor\": \"white\", \"linecolor\": \"white\", \"ticks\": \"\"}, \"bgcolor\": \"#E5ECF6\", \"radialaxis\": {\"gridcolor\": \"white\", \"linecolor\": \"white\", \"ticks\": \"\"}}, \"scene\": {\"xaxis\": {\"backgroundcolor\": \"#E5ECF6\", \"gridcolor\": \"white\", \"gridwidth\": 2, \"linecolor\": \"white\", \"showbackground\": true, \"ticks\": \"\", \"zerolinecolor\": \"white\"}, \"yaxis\": {\"backgroundcolor\": \"#E5ECF6\", \"gridcolor\": \"white\", \"gridwidth\": 2, \"linecolor\": \"white\", \"showbackground\": true, \"ticks\": \"\", \"zerolinecolor\": \"white\"}, \"zaxis\": {\"backgroundcolor\": \"#E5ECF6\", \"gridcolor\": \"white\", \"gridwidth\": 2, \"linecolor\": \"white\", \"showbackground\": true, \"ticks\": \"\", \"zerolinecolor\": \"white\"}}, \"shapedefaults\": {\"line\": {\"color\": \"#2a3f5f\"}}, \"ternary\": {\"aaxis\": {\"gridcolor\": \"white\", \"linecolor\": \"white\", \"ticks\": \"\"}, \"baxis\": {\"gridcolor\": \"white\", \"linecolor\": \"white\", \"ticks\": \"\"}, \"bgcolor\": \"#E5ECF6\", \"caxis\": {\"gridcolor\": \"white\", \"linecolor\": \"white\", \"ticks\": \"\"}}, \"title\": {\"x\": 0.05}, \"xaxis\": {\"automargin\": true, \"gridcolor\": \"white\", \"linecolor\": \"white\", \"ticks\": \"\", \"title\": {\"standoff\": 15}, \"zerolinecolor\": \"white\", \"zerolinewidth\": 2}, \"yaxis\": {\"automargin\": true, \"gridcolor\": \"white\", \"linecolor\": \"white\", \"ticks\": \"\", \"title\": {\"standoff\": 15}, \"zerolinecolor\": \"white\", \"zerolinewidth\": 2}}}, \"title\": {\"text\": \"Forecasts of CO2 emissions in function of the family of scenarios based on the derivative of Kaya model\"}, \"xaxis\": {\"title\": {\"text\": \"Years\"}}, \"yaxis\": {\"title\": {\"text\": \"CO2 emissions [MtCO2eq]\"}}},\n",
       "                        {\"responsive\": true}\n",
       "                    ).then(function(){\n",
       "                            \n",
       "var gd = document.getElementById('8e30be37-22c5-4586-b687-52c71387ea4c');\n",
       "var x = new MutationObserver(function (mutations, observer) {{\n",
       "        var display = window.getComputedStyle(gd).display;\n",
       "        if (!display || display === 'none') {{\n",
       "            console.log([gd, 'removed!']);\n",
       "            Plotly.purge(gd);\n",
       "            observer.disconnect();\n",
       "        }}\n",
       "}});\n",
       "\n",
       "// Listen for the removal of the full notebook cells\n",
       "var notebookContainer = gd.closest('#notebook-container');\n",
       "if (notebookContainer) {{\n",
       "    x.observe(notebookContainer, {childList: true});\n",
       "}}\n",
       "\n",
       "// Listen for the clearing of the current output cell\n",
       "var outputEl = gd.closest('.output');\n",
       "if (outputEl) {{\n",
       "    x.observe(outputEl, {childList: true});\n",
       "}}\n",
       "\n",
       "                        })\n",
       "                };\n",
       "                });\n",
       "            </script>\n",
       "        </div>"
      ]
     },
     "metadata": {},
     "output_type": "display_data"
    }
   ],
   "source": [
    "samples = 1000\n",
    "emi_kaya_norm = get_carbon_emissions(samples, 'normal', show=True)\n",
    "emi_kaya_tri = get_carbon_emissions(samples, 'triangular', show=False)\n",
    "\n",
    "samples = 100\n",
    "emi_kaya_norm_rates = get_carbon_emissions(samples, 'normal', rates=True, show=False)\n",
    "emi_kaya_tri_rates = get_carbon_emissions(samples, 'triangular', rates=True, show=False)\n",
    "\n",
    "real_proj = show_real_projections(file_real_proj, show=False)\n",
    "show_goals([emi_kaya_norm, emi_kaya_norm_rates, real_proj],\n",
    "           name = ['Kaya model', 'Derivative of Kaya model', 'Projection', 'Target'], show=False)\n",
    "\n",
    "projection_vs_forecasts([emi_kaya_norm, emi_kaya_norm_rates, real_proj],\n",
    "                        name=['Kaya model', 'Derivative of Kaya model', 'Projections'], show=False)"
   ]
  },
  {
   "cell_type": "markdown",
   "metadata": {},
   "source": [
    "### Smallest number of iteration for the simulation to be constant"
   ]
  },
  {
   "cell_type": "code",
   "execution_count": 131,
   "metadata": {},
   "outputs": [
    {
     "data": {
      "text/html": [
       "<div>\n",
       "<style scoped>\n",
       "    .dataframe tbody tr th:only-of-type {\n",
       "        vertical-align: middle;\n",
       "    }\n",
       "\n",
       "    .dataframe tbody tr th {\n",
       "        vertical-align: top;\n",
       "    }\n",
       "\n",
       "    .dataframe thead th {\n",
       "        text-align: right;\n",
       "    }\n",
       "</style>\n",
       "<table border=\"1\" class=\"dataframe\">\n",
       "  <thead>\n",
       "    <tr style=\"text-align: right;\">\n",
       "      <th></th>\n",
       "      <th>1</th>\n",
       "      <th>2</th>\n",
       "      <th>3</th>\n",
       "      <th>4</th>\n",
       "      <th>5</th>\n",
       "      <th>6</th>\n",
       "      <th>7</th>\n",
       "      <th>8</th>\n",
       "      <th>9</th>\n",
       "      <th>10</th>\n",
       "      <th>var</th>\n",
       "    </tr>\n",
       "  </thead>\n",
       "  <tbody>\n",
       "    <tr>\n",
       "      <th>10</th>\n",
       "      <td>47.326120</td>\n",
       "      <td>94.031516</td>\n",
       "      <td>84.157623</td>\n",
       "      <td>80.742656</td>\n",
       "      <td>115.037835</td>\n",
       "      <td>46.635305</td>\n",
       "      <td>52.632507</td>\n",
       "      <td>51.596613</td>\n",
       "      <td>61.952873</td>\n",
       "      <td>19.705796</td>\n",
       "      <td>751.806984</td>\n",
       "    </tr>\n",
       "    <tr>\n",
       "      <th>100</th>\n",
       "      <td>39.957699</td>\n",
       "      <td>20.819852</td>\n",
       "      <td>16.491588</td>\n",
       "      <td>19.700629</td>\n",
       "      <td>76.839956</td>\n",
       "      <td>7.876801</td>\n",
       "      <td>23.452578</td>\n",
       "      <td>22.951407</td>\n",
       "      <td>6.355532</td>\n",
       "      <td>8.657846</td>\n",
       "      <td>173.357648</td>\n",
       "    </tr>\n",
       "    <tr>\n",
       "      <th>1000</th>\n",
       "      <td>5.904810</td>\n",
       "      <td>8.243221</td>\n",
       "      <td>4.108076</td>\n",
       "      <td>17.652224</td>\n",
       "      <td>7.753444</td>\n",
       "      <td>4.836435</td>\n",
       "      <td>3.699574</td>\n",
       "      <td>9.439153</td>\n",
       "      <td>1.418700</td>\n",
       "      <td>5.850627</td>\n",
       "      <td>13.308448</td>\n",
       "    </tr>\n",
       "    <tr>\n",
       "      <th>5000</th>\n",
       "      <td>3.598844</td>\n",
       "      <td>8.061418</td>\n",
       "      <td>4.027955</td>\n",
       "      <td>1.256409</td>\n",
       "      <td>2.951349</td>\n",
       "      <td>1.820869</td>\n",
       "      <td>1.198061</td>\n",
       "      <td>3.777975</td>\n",
       "      <td>2.313168</td>\n",
       "      <td>10.798828</td>\n",
       "      <td>5.908317</td>\n",
       "    </tr>\n",
       "    <tr>\n",
       "      <th>10000</th>\n",
       "      <td>1.106361</td>\n",
       "      <td>3.652129</td>\n",
       "      <td>3.293533</td>\n",
       "      <td>3.511494</td>\n",
       "      <td>2.763068</td>\n",
       "      <td>1.006512</td>\n",
       "      <td>2.331407</td>\n",
       "      <td>0.917489</td>\n",
       "      <td>2.088717</td>\n",
       "      <td>1.556583</td>\n",
       "      <td>1.321519</td>\n",
       "    </tr>\n",
       "  </tbody>\n",
       "</table>\n",
       "</div>"
      ],
      "text/plain": [
       "               1          2          3          4           5          6  \\\n",
       "10     47.326120  94.031516  84.157623  80.742656  115.037835  46.635305   \n",
       "100    39.957699  20.819852  16.491588  19.700629   76.839956   7.876801   \n",
       "1000    5.904810   8.243221   4.108076  17.652224    7.753444   4.836435   \n",
       "5000    3.598844   8.061418   4.027955   1.256409    2.951349   1.820869   \n",
       "10000   1.106361   3.652129   3.293533   3.511494    2.763068   1.006512   \n",
       "\n",
       "               7          8          9         10         var  \n",
       "10     52.632507  51.596613  61.952873  19.705796  751.806984  \n",
       "100    23.452578  22.951407   6.355532   8.657846  173.357648  \n",
       "1000    3.699574   9.439153   1.418700   5.850627   13.308448  \n",
       "5000    1.198061   3.777975   2.313168  10.798828    5.908317  \n",
       "10000   2.331407   0.917489   2.088717   1.556583    1.321519  "
      ]
     },
     "execution_count": 131,
     "metadata": {},
     "output_type": "execute_result"
    }
   ],
   "source": [
    "from sklearn.metrics import mean_squared_error\n",
    "from math import sqrt\n",
    "\n",
    "samples_list = [10, 100, 1000, 5000, 10000]\n",
    "n_values = ['10', '100', '1000', '5000', '10000']\n",
    "n = 10\n",
    "\n",
    "def smallest_number_of_repetition(samples_list, n_values, n, distri, rates=False):\n",
    "    sum_diff = np.zeros((len(samples_list), n+1))\n",
    "    for i in range(n):\n",
    "        for j in range(len(samples_list)):\n",
    "            result = list()\n",
    "            for k in range(2):\n",
    "                if rates is False:\n",
    "                    result.append(get_carbon_emissions(samples_list[j], distri)[0])\n",
    "                else:\n",
    "                    result.append(get_carbon_emissions(samples_list[j], distri, rates=True)[0])\n",
    "                \n",
    "            sum_diff[j][i] = sqrt(mean_squared_error(result[0], result[1]))\n",
    "\n",
    "    for i in range(sum_diff.shape[0]):\n",
    "        sum_diff[i][sum_diff.shape[1]-1] = np.var(sum_diff[i : sum_diff.shape[1]-1])     \n",
    "\n",
    "    dict_ = {}\n",
    "\n",
    "    for i in range(sum_diff.shape[1]-1):\n",
    "        dict_[str(i+1)] = sum_diff[:,i]\n",
    "\n",
    "    dict_['var'] = sum_diff[:,sum_diff.shape[1]-1]\n",
    "    data_n = pd.DataFrame(data=dict_, index=n_values)\n",
    "    return data_n\n",
    "\n",
    "smallest_number_of_repetition(samples_list, n_values, n, 'normal', rates=True)"
   ]
  },
  {
   "cell_type": "code",
   "execution_count": 132,
   "metadata": {},
   "outputs": [
    {
     "data": {
      "text/html": [
       "<div>\n",
       "<style scoped>\n",
       "    .dataframe tbody tr th:only-of-type {\n",
       "        vertical-align: middle;\n",
       "    }\n",
       "\n",
       "    .dataframe tbody tr th {\n",
       "        vertical-align: top;\n",
       "    }\n",
       "\n",
       "    .dataframe thead th {\n",
       "        text-align: right;\n",
       "    }\n",
       "</style>\n",
       "<table border=\"1\" class=\"dataframe\">\n",
       "  <thead>\n",
       "    <tr style=\"text-align: right;\">\n",
       "      <th></th>\n",
       "      <th>1</th>\n",
       "      <th>2</th>\n",
       "      <th>3</th>\n",
       "      <th>4</th>\n",
       "      <th>5</th>\n",
       "      <th>6</th>\n",
       "      <th>7</th>\n",
       "      <th>8</th>\n",
       "      <th>9</th>\n",
       "      <th>10</th>\n",
       "      <th>var</th>\n",
       "    </tr>\n",
       "  </thead>\n",
       "  <tbody>\n",
       "    <tr>\n",
       "      <th>10</th>\n",
       "      <td>172.057270</td>\n",
       "      <td>103.243160</td>\n",
       "      <td>152.297689</td>\n",
       "      <td>191.023687</td>\n",
       "      <td>134.075092</td>\n",
       "      <td>146.277546</td>\n",
       "      <td>141.587480</td>\n",
       "      <td>75.409863</td>\n",
       "      <td>112.573406</td>\n",
       "      <td>82.665009</td>\n",
       "      <td>2452.362794</td>\n",
       "    </tr>\n",
       "    <tr>\n",
       "      <th>100</th>\n",
       "      <td>41.017916</td>\n",
       "      <td>46.622131</td>\n",
       "      <td>28.052977</td>\n",
       "      <td>44.422783</td>\n",
       "      <td>56.723619</td>\n",
       "      <td>37.383201</td>\n",
       "      <td>60.101312</td>\n",
       "      <td>24.647795</td>\n",
       "      <td>65.914923</td>\n",
       "      <td>52.689566</td>\n",
       "      <td>310.439635</td>\n",
       "    </tr>\n",
       "    <tr>\n",
       "      <th>1000</th>\n",
       "      <td>13.070511</td>\n",
       "      <td>10.470401</td>\n",
       "      <td>14.101703</td>\n",
       "      <td>12.142726</td>\n",
       "      <td>15.271796</td>\n",
       "      <td>17.619470</td>\n",
       "      <td>12.290942</td>\n",
       "      <td>15.290387</td>\n",
       "      <td>16.459266</td>\n",
       "      <td>18.423349</td>\n",
       "      <td>25.026917</td>\n",
       "    </tr>\n",
       "    <tr>\n",
       "      <th>5000</th>\n",
       "      <td>6.695754</td>\n",
       "      <td>7.564168</td>\n",
       "      <td>6.473999</td>\n",
       "      <td>7.486367</td>\n",
       "      <td>11.236991</td>\n",
       "      <td>5.651203</td>\n",
       "      <td>4.867993</td>\n",
       "      <td>8.635199</td>\n",
       "      <td>7.830955</td>\n",
       "      <td>4.496088</td>\n",
       "      <td>6.155083</td>\n",
       "    </tr>\n",
       "    <tr>\n",
       "      <th>10000</th>\n",
       "      <td>3.691156</td>\n",
       "      <td>6.246885</td>\n",
       "      <td>4.140605</td>\n",
       "      <td>3.807403</td>\n",
       "      <td>6.379373</td>\n",
       "      <td>5.522753</td>\n",
       "      <td>4.287238</td>\n",
       "      <td>3.560126</td>\n",
       "      <td>5.954641</td>\n",
       "      <td>5.357969</td>\n",
       "      <td>2.990527</td>\n",
       "    </tr>\n",
       "  </tbody>\n",
       "</table>\n",
       "</div>"
      ],
      "text/plain": [
       "                1           2           3           4           5           6  \\\n",
       "10     172.057270  103.243160  152.297689  191.023687  134.075092  146.277546   \n",
       "100     41.017916   46.622131   28.052977   44.422783   56.723619   37.383201   \n",
       "1000    13.070511   10.470401   14.101703   12.142726   15.271796   17.619470   \n",
       "5000     6.695754    7.564168    6.473999    7.486367   11.236991    5.651203   \n",
       "10000    3.691156    6.246885    4.140605    3.807403    6.379373    5.522753   \n",
       "\n",
       "                7          8           9         10          var  \n",
       "10     141.587480  75.409863  112.573406  82.665009  2452.362794  \n",
       "100     60.101312  24.647795   65.914923  52.689566   310.439635  \n",
       "1000    12.290942  15.290387   16.459266  18.423349    25.026917  \n",
       "5000     4.867993   8.635199    7.830955   4.496088     6.155083  \n",
       "10000    4.287238   3.560126    5.954641   5.357969     2.990527  "
      ]
     },
     "execution_count": 132,
     "metadata": {},
     "output_type": "execute_result"
    }
   ],
   "source": [
    "smallest_number_of_repetition(samples_list, n_values, n, 'normal', rates=False)"
   ]
  },
  {
   "cell_type": "markdown",
   "metadata": {},
   "source": [
    "## Confidence intervalle : not done yet"
   ]
  },
  {
   "cell_type": "code",
   "execution_count": 4,
   "metadata": {},
   "outputs": [
    {
     "ename": "TypeError",
     "evalue": "monte_carlo_simulation() missing 1 required positional argument: 'var'",
     "output_type": "error",
     "traceback": [
      "\u001b[0;31m---------------------------------------------------------------------------\u001b[0m",
      "\u001b[0;31mTypeError\u001b[0m                                 Traceback (most recent call last)",
      "\u001b[0;32m<ipython-input-4-991e293192a9>\u001b[0m in \u001b[0;36m<module>\u001b[0;34m\u001b[0m\n\u001b[1;32m      3\u001b[0m \u001b[0mi\u001b[0m \u001b[0;34m=\u001b[0m \u001b[0;36m0\u001b[0m\u001b[0;34m\u001b[0m\u001b[0;34m\u001b[0m\u001b[0m\n\u001b[1;32m      4\u001b[0m \u001b[0;32mfor\u001b[0m \u001b[0mssp\u001b[0m \u001b[0;32min\u001b[0m \u001b[0mlist_ssp\u001b[0m\u001b[0;34m:\u001b[0m\u001b[0;34m\u001b[0m\u001b[0;34m\u001b[0m\u001b[0m\n\u001b[0;32m----> 5\u001b[0;31m     \u001b[0mh\u001b[0m \u001b[0;34m=\u001b[0m \u001b[0;34m(\u001b[0m\u001b[0mmonte_carlo_simulation\u001b[0m\u001b[0;34m(\u001b[0m\u001b[0mssp\u001b[0m\u001b[0;34m,\u001b[0m \u001b[0msamples\u001b[0m\u001b[0;34m,\u001b[0m \u001b[0;34m'kaya 1'\u001b[0m\u001b[0;34m)\u001b[0m\u001b[0;34m[\u001b[0m\u001b[0;36m11\u001b[0m\u001b[0;34m]\u001b[0m\u001b[0;34m)\u001b[0m\u001b[0;34m\u001b[0m\u001b[0;34m\u001b[0m\u001b[0m\n\u001b[0m\u001b[1;32m      6\u001b[0m     \u001b[0ms\u001b[0m \u001b[0;34m=\u001b[0m \u001b[0mmean_confidence_interval\u001b[0m\u001b[0;34m(\u001b[0m\u001b[0mh\u001b[0m\u001b[0;34m)\u001b[0m\u001b[0;34m\u001b[0m\u001b[0;34m\u001b[0m\u001b[0m\n\u001b[1;32m      7\u001b[0m     \u001b[0mg\u001b[0m \u001b[0;34m=\u001b[0m \u001b[0;34m(\u001b[0m\u001b[0ms\u001b[0m\u001b[0;34m[\u001b[0m\u001b[0;36m2\u001b[0m\u001b[0;34m]\u001b[0m\u001b[0;34m-\u001b[0m\u001b[0ms\u001b[0m\u001b[0;34m[\u001b[0m\u001b[0;36m1\u001b[0m\u001b[0;34m]\u001b[0m\u001b[0;34m)\u001b[0m\u001b[0;34m*\u001b[0m\u001b[0;36m50\u001b[0m\u001b[0;34m\u001b[0m\u001b[0;34m\u001b[0m\u001b[0m\n",
      "\u001b[0;31mTypeError\u001b[0m: monte_carlo_simulation() missing 1 required positional argument: 'var'"
     ]
    }
   ],
   "source": [
    "obj = 2.86\n",
    "prev = [3.03, 3.57, 3.63, 3.58, 4.36]\n",
    "i = 0\n",
    "for ssp in list_ssp:\n",
    "    h = (monte_carlo_simulation(ssp, samples, 'kaya 1')[11])\n",
    "    s = mean_confidence_interval(h)\n",
    "    g = (s[2]-s[1])*50\n",
    "    print([g/obj, g/prev[i]])\n",
    "    i = i+1\n",
    "\n",
    "h = (monte_carlo_simulation(ssp, samples, 'kaya 1')[11])\n",
    "s = mean_confidence_interval(h)\n",
    "s"
   ]
  },
  {
   "cell_type": "code",
   "execution_count": null,
   "metadata": {},
   "outputs": [],
   "source": []
  },
  {
   "cell_type": "code",
   "execution_count": null,
   "metadata": {},
   "outputs": [],
   "source": []
  },
  {
   "cell_type": "code",
   "execution_count": null,
   "metadata": {},
   "outputs": [],
   "source": []
  },
  {
   "cell_type": "code",
   "execution_count": null,
   "metadata": {},
   "outputs": [],
   "source": [
    "#gdp_list\n",
    "mean_rates_ci = []\n",
    "std_rates_ci = []\n",
    "for ssp in list_ssp:\n",
    "    mean_rates, std_rates = get_mean_std(file_rates, ssp, rates = True)\n",
    "    mean_rates_ci.append(mean_rates['carb_int'])\n",
    "    std_rates_ci.append(std_rates['carb_int'])\n",
    "\n",
    "# LES VALEURS DE STD SONT BCP TROP GRANDES !!!!!\n",
    "    \n",
    "print(mean_rates_ci)"
   ]
  }
 ],
 "metadata": {
  "kernelspec": {
   "display_name": "Python 3",
   "language": "python",
   "name": "python3"
  },
  "language_info": {
   "codemirror_mode": {
    "name": "ipython",
    "version": 3
   },
   "file_extension": ".py",
   "mimetype": "text/x-python",
   "name": "python",
   "nbconvert_exporter": "python",
   "pygments_lexer": "ipython3",
   "version": "3.7.7"
  }
 },
 "nbformat": 4,
 "nbformat_minor": 4
}
