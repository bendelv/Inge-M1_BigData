{
 "cells": [
  {
   "cell_type": "markdown",
   "metadata": {},
   "source": [
    "# Logarithmic mean divisia index (LMDI) application on European Union carbon emissions from 2000 to 2017"
   ]
  },
  {
   "cell_type": "markdown",
   "metadata": {},
   "source": [
    "$$\\text { Kaya identity : } C = P \\times \\frac{G}{P} \\times \\frac{E}{G} \\times \\frac{C}{E} = P \\times Gp \\times EI \\times CI $$\n",
    "\n",
    "\n",
    "$$ \\text { P : Population}$$\n",
    "$$ \\text { G : GDP}$$\n",
    "$$ \\text { E : Total energy consumption}$$  \n",
    "$$ \\text { C : } CO_{2} \\text {emission due to fossil energy}$$\n",
    "$$ \\text { Gp : GDP per capita}$$\n",
    "$$ \\text { EI : Energy intensity}$$\n",
    "$$ \\text { CI : Carbon intensity}$$\n",
    "\n",
    "$$ \\text{Additive decomposition Change scheme LMDI formulas : }$$\n",
    "\n",
    "\\begin{aligned}\n",
    "&\\Delta C_{t o t}=C^{T}-C^{0}=\\Delta C_{\\text {P}}+\\Delta C_{Gp}+\\Delta C_{EI}+\\Delta C_{\\text {CI}} \\\\\n",
    "&\\Delta C_{P}=\\frac{C^{T}-C^{0}}{\\ln C^{T}-\\ln C^{0}} \\ln \\left(\\frac{P^{T}}{P^{0}}\\right)\\\\\n",
    "&\\Delta C_{Gp}=\\frac{C^{T}-C^{0}}{\\ln C^{T}-\\ln C^{0}} \\ln \\left(\\frac{Gp^{T}}{Gp^{0}}\\right)\\\\\n",
    "&\\Delta C_{EI}=\\frac{C^{T}-C^{0}}{\\ln C^{T}-\\ln C^{0}} \\ln \\left(\\frac{EI^{T}}{EI^{0}}\\right)\\\\\n",
    "&\\Delta C_{CI}=\\frac{C^{T}-C^{0}}{\\ln C^{T}-\\ln C^{0}} \\ln \\left(\\frac{CI^{T}}{CI^{0}}\\right)\\\\\n",
    "\\end{aligned}"
   ]
  },
  {
   "cell_type": "markdown",
   "metadata": {},
   "source": [
    "### Variables"
   ]
  },
  {
   "cell_type": "code",
   "execution_count": 1,
   "metadata": {},
   "outputs": [],
   "source": [
    "import pandas as pd\n",
    "data_1 = pd.read_csv(\"european_dataset_1.csv\", index_col='years')\n",
    "data_2 = pd.read_csv(\"european_dataset_2.csv\", index_col='years')\n",
    "pop = data_1['pop']\n",
    "emi = data_1['fossil_emi']\n",
    "gdp_cap = data_2['gdp_cap']\n",
    "ei = data_2['ei_total'] # energy intensity of fossil energies (coal, oil, gas)\n",
    "ci = data_2['ci_total'] # carbon intensity of fossil energies (coal, oil, gas)\n",
    "\n",
    "var_list = [pop, gdp_cap, ei, ci]"
   ]
  },
  {
   "cell_type": "code",
   "execution_count": 15,
   "metadata": {},
   "outputs": [
    {
     "data": {
      "text/plain": [
       "years\n",
       "1990    2.554797\n",
       "1991    2.534308\n",
       "1992    2.514718\n",
       "1993    2.455896\n",
       "1994    2.453128\n",
       "1995    2.414226\n",
       "1996    2.399772\n",
       "1997    2.371348\n",
       "1998    2.350573\n",
       "1999    2.327864\n",
       "2000    2.320595\n",
       "2001    2.305512\n",
       "2002    2.296141\n",
       "2003    2.302863\n",
       "2004    2.281126\n",
       "2005    2.259205\n",
       "2006    2.248207\n",
       "2007    2.250087\n",
       "2008    2.201740\n",
       "2009    2.162654\n",
       "2010    2.141406\n",
       "2011    2.133732\n",
       "2012    2.126345\n",
       "2013    2.093323\n",
       "2014    2.058384\n",
       "2015    2.052536\n",
       "2016    2.030512\n",
       "2017    2.012290\n",
       "Name: ci_total, dtype: float64"
      ]
     },
     "execution_count": 15,
     "metadata": {},
     "output_type": "execute_result"
    }
   ],
   "source": [
    "ci"
   ]
  },
  {
   "cell_type": "markdown",
   "metadata": {},
   "source": [
    "### Indice 0 and T (T>0) correspond respectively to the base year and the target year. 4 intervals of time are taken into account.\n",
    "    1 : [2000 - 2004]\n",
    "    2 : [2005 - 2009]\n",
    "    3 : [2010 - 2013]\n",
    "    4 : [2014 - 2017]\n",
    "    5 : [2000 - 2017]"
   ]
  },
  {
   "cell_type": "code",
   "execution_count": 2,
   "metadata": {},
   "outputs": [],
   "source": [
    "#intervals\n",
    "inter_1 = [2000, 2004]\n",
    "inter_2 = [2005, 2009]\n",
    "inter_3 = [2010, 2013]\n",
    "inter_4 = [2014, 2017]\n",
    "inter_5 = [2000, 2017]"
   ]
  },
  {
   "cell_type": "code",
   "execution_count": 3,
   "metadata": {},
   "outputs": [],
   "source": [
    "import numpy as np\n",
    "\n",
    "def from_list_to_pandas(e, p):\n",
    "    df = pd.DataFrame([e, p], columns = ['pop effect', 'gdp cap effect', 'energy intensity effect',\n",
    "                                        'carbon intensity effect', 'total effect'])\n",
    "    df = df.transpose()\n",
    "    df.columns=['Effect on CO2 emissions [Mtoe]', 'Percentage']\n",
    "    return df\n",
    "\n",
    "\"\"\"\n",
    "This function gives the effect of a variable on the variation of the CO2 emissions.\n",
    "\"\"\"\n",
    "def rate_effect(emi, var):\n",
    "    return ((emi[1]-emi[0])/(np.log(emi[1])-np.log(emi[0])))*np.log(var[1]/var[0])\n",
    "\n",
    "\"\"\"\n",
    "Retreive the value of a variable and the carbon emissions for a corresponding interval of time.\n",
    "\"\"\"\n",
    "def get_target_base_value(interval, emission, variable):\n",
    "    emi = list(); var = list()\n",
    "\n",
    "    for ind in interval:\n",
    "        emi.append(emission[ind])\n",
    "        var.append(variable[ind])\n",
    "    return emi, var\n",
    "\n",
    "\n",
    "\"\"\"\n",
    "This function retreives the effect, on the variation of the CO2 emissions, of each variables on \n",
    "these emissions in European Union.\n",
    "\"\"\"\n",
    "def get_lmdi(var_list, emi, interval):\n",
    "    list_effect = list()\n",
    "    for i in range(len(var_list)):\n",
    "        emi_, var_ = get_target_base_value(interval, emi, var_list[i])\n",
    "        list_effect.append(rate_effect(emi_, var_))\n",
    "\n",
    "    list_effect.append(sum(list_effect))\n",
    "    list_percentage_effect = list()\n",
    "    for effect in list_effect:\n",
    "    \n",
    "        list_percentage_effect.append((effect/np.abs(list_effect[len(list_effect)-1]))*100)\n",
    "        \n",
    "    x = np.abs(list_percentage_effect[len(list_effect)-1])\n",
    "    list_percentage_effect[len(list_effect)-1] = x\n",
    "    df = from_list_to_pandas(list_effect, list_percentage_effect)\n",
    "    \n",
    "    return df\n"
   ]
  },
  {
   "cell_type": "code",
   "execution_count": 4,
   "metadata": {},
   "outputs": [
    {
     "data": {
      "text/html": [
       "<div>\n",
       "<style scoped>\n",
       "    .dataframe tbody tr th:only-of-type {\n",
       "        vertical-align: middle;\n",
       "    }\n",
       "\n",
       "    .dataframe tbody tr th {\n",
       "        vertical-align: top;\n",
       "    }\n",
       "\n",
       "    .dataframe thead th {\n",
       "        text-align: right;\n",
       "    }\n",
       "</style>\n",
       "<table border=\"1\" class=\"dataframe\">\n",
       "  <thead>\n",
       "    <tr style=\"text-align: right;\">\n",
       "      <th></th>\n",
       "      <th>Effect on CO2 emissions [Mtoe]</th>\n",
       "      <th>Percentage</th>\n",
       "    </tr>\n",
       "  </thead>\n",
       "  <tbody>\n",
       "    <tr>\n",
       "      <th>pop effect</th>\n",
       "      <td>41.462923</td>\n",
       "      <td>26.750273</td>\n",
       "    </tr>\n",
       "    <tr>\n",
       "      <th>gdp cap effect</th>\n",
       "      <td>240.639996</td>\n",
       "      <td>155.251610</td>\n",
       "    </tr>\n",
       "    <tr>\n",
       "      <th>energy intensity effect</th>\n",
       "      <td>-61.316241</td>\n",
       "      <td>-39.558865</td>\n",
       "    </tr>\n",
       "    <tr>\n",
       "      <th>carbon intensity effect</th>\n",
       "      <td>-65.786678</td>\n",
       "      <td>-42.443018</td>\n",
       "    </tr>\n",
       "    <tr>\n",
       "      <th>total effect</th>\n",
       "      <td>155.000000</td>\n",
       "      <td>100.000000</td>\n",
       "    </tr>\n",
       "  </tbody>\n",
       "</table>\n",
       "</div>"
      ],
      "text/plain": [
       "                         Effect on CO2 emissions [Mtoe]  Percentage\n",
       "pop effect                                    41.462923   26.750273\n",
       "gdp cap effect                               240.639996  155.251610\n",
       "energy intensity effect                      -61.316241  -39.558865\n",
       "carbon intensity effect                      -65.786678  -42.443018\n",
       "total effect                                 155.000000  100.000000"
      ]
     },
     "execution_count": 4,
     "metadata": {},
     "output_type": "execute_result"
    }
   ],
   "source": [
    "lmdi_1 = get_lmdi(var_list, emi, inter_1)\n",
    "lmdi_1"
   ]
  },
  {
   "cell_type": "markdown",
   "metadata": {},
   "source": [
    "The change in population has caused an **increase of 41.26 MtCO2** compared to the year 2000. While the change in energy intensity resulted in a **decrease of 61.31 MtCO2** compared to the year 2000."
   ]
  },
  {
   "cell_type": "code",
   "execution_count": 5,
   "metadata": {},
   "outputs": [
    {
     "data": {
      "text/html": [
       "<div>\n",
       "<style scoped>\n",
       "    .dataframe tbody tr th:only-of-type {\n",
       "        vertical-align: middle;\n",
       "    }\n",
       "\n",
       "    .dataframe tbody tr th {\n",
       "        vertical-align: top;\n",
       "    }\n",
       "\n",
       "    .dataframe thead th {\n",
       "        text-align: right;\n",
       "    }\n",
       "</style>\n",
       "<table border=\"1\" class=\"dataframe\">\n",
       "  <thead>\n",
       "    <tr style=\"text-align: right;\">\n",
       "      <th></th>\n",
       "      <th>Effect on CO2 emissions [Mtoe]</th>\n",
       "      <th>Percentage</th>\n",
       "    </tr>\n",
       "  </thead>\n",
       "  <tbody>\n",
       "    <tr>\n",
       "      <th>pop effect</th>\n",
       "      <td>55.187049</td>\n",
       "      <td>12.894170</td>\n",
       "    </tr>\n",
       "    <tr>\n",
       "      <th>gdp cap effect</th>\n",
       "      <td>34.337535</td>\n",
       "      <td>8.022789</td>\n",
       "    </tr>\n",
       "    <tr>\n",
       "      <th>energy intensity effect</th>\n",
       "      <td>-357.193370</td>\n",
       "      <td>-83.456395</td>\n",
       "    </tr>\n",
       "    <tr>\n",
       "      <th>carbon intensity effect</th>\n",
       "      <td>-160.331214</td>\n",
       "      <td>-37.460564</td>\n",
       "    </tr>\n",
       "    <tr>\n",
       "      <th>total effect</th>\n",
       "      <td>-428.000000</td>\n",
       "      <td>100.000000</td>\n",
       "    </tr>\n",
       "  </tbody>\n",
       "</table>\n",
       "</div>"
      ],
      "text/plain": [
       "                         Effect on CO2 emissions [Mtoe]  Percentage\n",
       "pop effect                                    55.187049   12.894170\n",
       "gdp cap effect                                34.337535    8.022789\n",
       "energy intensity effect                     -357.193370  -83.456395\n",
       "carbon intensity effect                     -160.331214  -37.460564\n",
       "total effect                                -428.000000  100.000000"
      ]
     },
     "execution_count": 5,
     "metadata": {},
     "output_type": "execute_result"
    }
   ],
   "source": [
    "lmdi_2 = get_lmdi(var_list, emi, inter_2)\n",
    "lmdi_2"
   ]
  },
  {
   "cell_type": "code",
   "execution_count": 6,
   "metadata": {},
   "outputs": [
    {
     "data": {
      "text/html": [
       "<div>\n",
       "<style scoped>\n",
       "    .dataframe tbody tr th:only-of-type {\n",
       "        vertical-align: middle;\n",
       "    }\n",
       "\n",
       "    .dataframe tbody tr th {\n",
       "        vertical-align: top;\n",
       "    }\n",
       "\n",
       "    .dataframe thead th {\n",
       "        text-align: right;\n",
       "    }\n",
       "</style>\n",
       "<table border=\"1\" class=\"dataframe\">\n",
       "  <thead>\n",
       "    <tr style=\"text-align: right;\">\n",
       "      <th></th>\n",
       "      <th>Effect on CO2 emissions [Mtoe]</th>\n",
       "      <th>Percentage</th>\n",
       "    </tr>\n",
       "  </thead>\n",
       "  <tbody>\n",
       "    <tr>\n",
       "      <th>pop effect</th>\n",
       "      <td>13.558499</td>\n",
       "      <td>5.194827</td>\n",
       "    </tr>\n",
       "    <tr>\n",
       "      <th>gdp cap effect</th>\n",
       "      <td>41.882584</td>\n",
       "      <td>16.046967</td>\n",
       "    </tr>\n",
       "    <tr>\n",
       "      <th>energy intensity effect</th>\n",
       "      <td>-238.527392</td>\n",
       "      <td>-91.389805</td>\n",
       "    </tr>\n",
       "    <tr>\n",
       "      <th>carbon intensity effect</th>\n",
       "      <td>-77.913691</td>\n",
       "      <td>-29.851989</td>\n",
       "    </tr>\n",
       "    <tr>\n",
       "      <th>total effect</th>\n",
       "      <td>-261.000000</td>\n",
       "      <td>100.000000</td>\n",
       "    </tr>\n",
       "  </tbody>\n",
       "</table>\n",
       "</div>"
      ],
      "text/plain": [
       "                         Effect on CO2 emissions [Mtoe]  Percentage\n",
       "pop effect                                    13.558499    5.194827\n",
       "gdp cap effect                                41.882584   16.046967\n",
       "energy intensity effect                     -238.527392  -91.389805\n",
       "carbon intensity effect                      -77.913691  -29.851989\n",
       "total effect                                -261.000000  100.000000"
      ]
     },
     "execution_count": 6,
     "metadata": {},
     "output_type": "execute_result"
    }
   ],
   "source": [
    "lmdi_3 = get_lmdi(var_list, emi, inter_3)\n",
    "lmdi_3"
   ]
  },
  {
   "cell_type": "code",
   "execution_count": 7,
   "metadata": {},
   "outputs": [
    {
     "data": {
      "text/html": [
       "<div>\n",
       "<style scoped>\n",
       "    .dataframe tbody tr th:only-of-type {\n",
       "        vertical-align: middle;\n",
       "    }\n",
       "\n",
       "    .dataframe tbody tr th {\n",
       "        vertical-align: top;\n",
       "    }\n",
       "\n",
       "    .dataframe thead th {\n",
       "        text-align: right;\n",
       "    }\n",
       "</style>\n",
       "<table border=\"1\" class=\"dataframe\">\n",
       "  <thead>\n",
       "    <tr style=\"text-align: right;\">\n",
       "      <th></th>\n",
       "      <th>Effect on CO2 emissions [Mtoe]</th>\n",
       "      <th>Percentage</th>\n",
       "    </tr>\n",
       "  </thead>\n",
       "  <tbody>\n",
       "    <tr>\n",
       "      <th>pop effect</th>\n",
       "      <td>25.451938</td>\n",
       "      <td>82.103025</td>\n",
       "    </tr>\n",
       "    <tr>\n",
       "      <th>gdp cap effect</th>\n",
       "      <td>190.689410</td>\n",
       "      <td>615.127130</td>\n",
       "    </tr>\n",
       "    <tr>\n",
       "      <th>energy intensity effect</th>\n",
       "      <td>-114.288843</td>\n",
       "      <td>-368.673688</td>\n",
       "    </tr>\n",
       "    <tr>\n",
       "      <th>carbon intensity effect</th>\n",
       "      <td>-70.852505</td>\n",
       "      <td>-228.556467</td>\n",
       "    </tr>\n",
       "    <tr>\n",
       "      <th>total effect</th>\n",
       "      <td>31.000000</td>\n",
       "      <td>100.000000</td>\n",
       "    </tr>\n",
       "  </tbody>\n",
       "</table>\n",
       "</div>"
      ],
      "text/plain": [
       "                         Effect on CO2 emissions [Mtoe]  Percentage\n",
       "pop effect                                    25.451938   82.103025\n",
       "gdp cap effect                               190.689410  615.127130\n",
       "energy intensity effect                     -114.288843 -368.673688\n",
       "carbon intensity effect                      -70.852505 -228.556467\n",
       "total effect                                  31.000000  100.000000"
      ]
     },
     "execution_count": 7,
     "metadata": {},
     "output_type": "execute_result"
    }
   ],
   "source": [
    "lmdi_4 = get_lmdi(var_list, emi, inter_4)\n",
    "lmdi_4"
   ]
  },
  {
   "cell_type": "code",
   "execution_count": 8,
   "metadata": {},
   "outputs": [
    {
     "data": {
      "text/html": [
       "<div>\n",
       "<style scoped>\n",
       "    .dataframe tbody tr th:only-of-type {\n",
       "        vertical-align: middle;\n",
       "    }\n",
       "\n",
       "    .dataframe tbody tr th {\n",
       "        vertical-align: top;\n",
       "    }\n",
       "\n",
       "    .dataframe thead th {\n",
       "        text-align: right;\n",
       "    }\n",
       "</style>\n",
       "<table border=\"1\" class=\"dataframe\">\n",
       "  <thead>\n",
       "    <tr style=\"text-align: right;\">\n",
       "      <th></th>\n",
       "      <th>Effect on CO2 emissions [Mtoe]</th>\n",
       "      <th>Percentage</th>\n",
       "    </tr>\n",
       "  </thead>\n",
       "  <tbody>\n",
       "    <tr>\n",
       "      <th>pop effect</th>\n",
       "      <td>166.291500</td>\n",
       "      <td>27.083306</td>\n",
       "    </tr>\n",
       "    <tr>\n",
       "      <th>gdp cap effect</th>\n",
       "      <td>669.442603</td>\n",
       "      <td>109.029740</td>\n",
       "    </tr>\n",
       "    <tr>\n",
       "      <th>energy intensity effect</th>\n",
       "      <td>-959.093851</td>\n",
       "      <td>-156.204210</td>\n",
       "    </tr>\n",
       "    <tr>\n",
       "      <th>carbon intensity effect</th>\n",
       "      <td>-490.640251</td>\n",
       "      <td>-79.908836</td>\n",
       "    </tr>\n",
       "    <tr>\n",
       "      <th>total effect</th>\n",
       "      <td>-614.000000</td>\n",
       "      <td>100.000000</td>\n",
       "    </tr>\n",
       "  </tbody>\n",
       "</table>\n",
       "</div>"
      ],
      "text/plain": [
       "                         Effect on CO2 emissions [Mtoe]  Percentage\n",
       "pop effect                                   166.291500   27.083306\n",
       "gdp cap effect                               669.442603  109.029740\n",
       "energy intensity effect                     -959.093851 -156.204210\n",
       "carbon intensity effect                     -490.640251  -79.908836\n",
       "total effect                                -614.000000  100.000000"
      ]
     },
     "execution_count": 8,
     "metadata": {},
     "output_type": "execute_result"
    }
   ],
   "source": [
    "lmdi_5 = get_lmdi(var_list, emi, inter_5)\n",
    "lmdi_5"
   ]
  },
  {
   "cell_type": "code",
   "execution_count": 9,
   "metadata": {},
   "outputs": [
    {
     "data": {
      "text/html": [
       "<div>\n",
       "<style scoped>\n",
       "    .dataframe tbody tr th:only-of-type {\n",
       "        vertical-align: middle;\n",
       "    }\n",
       "\n",
       "    .dataframe tbody tr th {\n",
       "        vertical-align: top;\n",
       "    }\n",
       "\n",
       "    .dataframe thead th {\n",
       "        text-align: right;\n",
       "    }\n",
       "</style>\n",
       "<table border=\"1\" class=\"dataframe\">\n",
       "  <thead>\n",
       "    <tr style=\"text-align: right;\">\n",
       "      <th></th>\n",
       "      <th>pop effect</th>\n",
       "      <th>gdp cap effect</th>\n",
       "      <th>energy intensity effect</th>\n",
       "      <th>carbon intensity effect</th>\n",
       "      <th>total effect</th>\n",
       "    </tr>\n",
       "  </thead>\n",
       "  <tbody>\n",
       "    <tr>\n",
       "      <th>0</th>\n",
       "      <td>26.750273</td>\n",
       "      <td>155.251610</td>\n",
       "      <td>-39.558865</td>\n",
       "      <td>-42.443018</td>\n",
       "      <td>100.0</td>\n",
       "    </tr>\n",
       "    <tr>\n",
       "      <th>1</th>\n",
       "      <td>12.894170</td>\n",
       "      <td>8.022789</td>\n",
       "      <td>-83.456395</td>\n",
       "      <td>-37.460564</td>\n",
       "      <td>100.0</td>\n",
       "    </tr>\n",
       "    <tr>\n",
       "      <th>2</th>\n",
       "      <td>5.194827</td>\n",
       "      <td>16.046967</td>\n",
       "      <td>-91.389805</td>\n",
       "      <td>-29.851989</td>\n",
       "      <td>100.0</td>\n",
       "    </tr>\n",
       "    <tr>\n",
       "      <th>3</th>\n",
       "      <td>82.103025</td>\n",
       "      <td>615.127130</td>\n",
       "      <td>-368.673688</td>\n",
       "      <td>-228.556467</td>\n",
       "      <td>100.0</td>\n",
       "    </tr>\n",
       "    <tr>\n",
       "      <th>4</th>\n",
       "      <td>27.083306</td>\n",
       "      <td>109.029740</td>\n",
       "      <td>-156.204210</td>\n",
       "      <td>-79.908836</td>\n",
       "      <td>100.0</td>\n",
       "    </tr>\n",
       "  </tbody>\n",
       "</table>\n",
       "</div>"
      ],
      "text/plain": [
       "   pop effect  gdp cap effect  energy intensity effect  \\\n",
       "0   26.750273      155.251610               -39.558865   \n",
       "1   12.894170        8.022789               -83.456395   \n",
       "2    5.194827       16.046967               -91.389805   \n",
       "3   82.103025      615.127130              -368.673688   \n",
       "4   27.083306      109.029740              -156.204210   \n",
       "\n",
       "   carbon intensity effect  total effect  \n",
       "0               -42.443018         100.0  \n",
       "1               -37.460564         100.0  \n",
       "2               -29.851989         100.0  \n",
       "3              -228.556467         100.0  \n",
       "4               -79.908836         100.0  "
      ]
     },
     "execution_count": 9,
     "metadata": {},
     "output_type": "execute_result"
    }
   ],
   "source": [
    "\"\"\"\n",
    "In order to vizualize the effect of the varibles on carbon emissions, the pourcentage obtained with\n",
    "the function get_lmdi are grouped in function of the different variables. \n",
    "\"\"\"\n",
    "def lmdi_variables(lmdi_list, dict_, names, column):\n",
    "    for name in names:\n",
    "        temp = list()\n",
    "        for lmdi in lmdi_list:\n",
    "            temp.append(lmdi[column][name])\n",
    "        dict_[name] = temp\n",
    "    return pd.DataFrame.from_dict(dict_)\n",
    "\n",
    "names = ['pop effect', 'gdp cap effect', 'energy intensity effect', 'carbon intensity effect', 'total effect']\n",
    "dict_ = { i : [] for i in names }\n",
    "lmdi_list = [lmdi_1, lmdi_2, lmdi_3, lmdi_4, lmdi_5]\n",
    "\n",
    "lmdi_var = lmdi_variables(lmdi_list, dict_, names, 'Percentage')\n",
    "lmdi_var"
   ]
  },
  {
   "cell_type": "markdown",
   "metadata": {},
   "source": [
    "## VISUALIZATION"
   ]
  },
  {
   "cell_type": "code",
   "execution_count": 13,
   "metadata": {},
   "outputs": [
    {
     "data": {
      "text/html": [
       "        <script type=\"text/javascript\">\n",
       "        window.PlotlyConfig = {MathJaxConfig: 'local'};\n",
       "        if (window.MathJax) {MathJax.Hub.Config({SVG: {font: \"STIX-Web\"}});}\n",
       "        if (typeof require !== 'undefined') {\n",
       "        require.undef(\"plotly\");\n",
       "        requirejs.config({\n",
       "            paths: {\n",
       "                'plotly': ['https://cdn.plot.ly/plotly-latest.min']\n",
       "            }\n",
       "        });\n",
       "        require(['plotly'], function(Plotly) {\n",
       "            window._Plotly = Plotly;\n",
       "        });\n",
       "        }\n",
       "        </script>\n",
       "        "
      ]
     },
     "metadata": {},
     "output_type": "display_data"
    },
    {
     "data": {
      "application/vnd.plotly.v1+json": {
       "config": {
        "plotlyServerURL": "https://plot.ly"
       },
       "data": [
        {
         "marker": {
          "color": "indianred"
         },
         "name": "Population effect",
         "type": "bar",
         "x": [
          "2000-2004",
          "2005-2009",
          "2010-2013",
          "2014-2017",
          "2000-2017"
         ],
         "y": [
          26.750273189481078,
          12.894170235939653,
          5.194827272806706,
          82.10302480879335,
          27.08330619046661
         ]
        },
        {
         "marker": {
          "color": "Yellow"
         },
         "name": "Gdp per cap effect",
         "type": "bar",
         "x": [
          "2000-2004",
          "2005-2009",
          "2010-2013",
          "2014-2017",
          "2000-2017"
         ],
         "y": [
          155.25161023831794,
          8.022788653408476,
          16.046966885883542,
          615.127129979829,
          109.02973988392637
         ]
        },
        {
         "marker": {
          "color": "lightsalmon"
         },
         "name": "Energy intensity effect",
         "type": "bar",
         "x": [
          "2000-2004",
          "2005-2009",
          "2010-2013",
          "2014-2017",
          "2000-2017"
         ],
         "y": [
          -39.55886519466328,
          -83.45639488487538,
          -91.38980520783481,
          -368.673687940319,
          -156.20421032521153
         ]
        },
        {
         "marker": {
          "color": "Blue"
         },
         "name": "Carbon intensity effect",
         "type": "bar",
         "x": [
          "2000-2004",
          "2005-2009",
          "2010-2013",
          "2014-2017",
          "2000-2017"
         ],
         "y": [
          -42.443018233135746,
          -37.460564004472765,
          -29.85198895085543,
          -228.55646684830333,
          -79.90883574918143
         ]
        },
        {
         "marker": {
          "color": "Green"
         },
         "name": "Total effect",
         "type": "bar",
         "x": [
          "2000-2004",
          "2005-2009",
          "2010-2013",
          "2014-2017",
          "2000-2017"
         ],
         "y": [
          100,
          100,
          100,
          100,
          100
         ]
        }
       ],
       "layout": {
        "barmode": "group",
        "template": {
         "data": {
          "bar": [
           {
            "error_x": {
             "color": "#2a3f5f"
            },
            "error_y": {
             "color": "#2a3f5f"
            },
            "marker": {
             "line": {
              "color": "#E5ECF6",
              "width": 0.5
             }
            },
            "type": "bar"
           }
          ],
          "barpolar": [
           {
            "marker": {
             "line": {
              "color": "#E5ECF6",
              "width": 0.5
             }
            },
            "type": "barpolar"
           }
          ],
          "carpet": [
           {
            "aaxis": {
             "endlinecolor": "#2a3f5f",
             "gridcolor": "white",
             "linecolor": "white",
             "minorgridcolor": "white",
             "startlinecolor": "#2a3f5f"
            },
            "baxis": {
             "endlinecolor": "#2a3f5f",
             "gridcolor": "white",
             "linecolor": "white",
             "minorgridcolor": "white",
             "startlinecolor": "#2a3f5f"
            },
            "type": "carpet"
           }
          ],
          "choropleth": [
           {
            "colorbar": {
             "outlinewidth": 0,
             "ticks": ""
            },
            "type": "choropleth"
           }
          ],
          "contour": [
           {
            "colorbar": {
             "outlinewidth": 0,
             "ticks": ""
            },
            "colorscale": [
             [
              0,
              "#0d0887"
             ],
             [
              0.1111111111111111,
              "#46039f"
             ],
             [
              0.2222222222222222,
              "#7201a8"
             ],
             [
              0.3333333333333333,
              "#9c179e"
             ],
             [
              0.4444444444444444,
              "#bd3786"
             ],
             [
              0.5555555555555556,
              "#d8576b"
             ],
             [
              0.6666666666666666,
              "#ed7953"
             ],
             [
              0.7777777777777778,
              "#fb9f3a"
             ],
             [
              0.8888888888888888,
              "#fdca26"
             ],
             [
              1,
              "#f0f921"
             ]
            ],
            "type": "contour"
           }
          ],
          "contourcarpet": [
           {
            "colorbar": {
             "outlinewidth": 0,
             "ticks": ""
            },
            "type": "contourcarpet"
           }
          ],
          "heatmap": [
           {
            "colorbar": {
             "outlinewidth": 0,
             "ticks": ""
            },
            "colorscale": [
             [
              0,
              "#0d0887"
             ],
             [
              0.1111111111111111,
              "#46039f"
             ],
             [
              0.2222222222222222,
              "#7201a8"
             ],
             [
              0.3333333333333333,
              "#9c179e"
             ],
             [
              0.4444444444444444,
              "#bd3786"
             ],
             [
              0.5555555555555556,
              "#d8576b"
             ],
             [
              0.6666666666666666,
              "#ed7953"
             ],
             [
              0.7777777777777778,
              "#fb9f3a"
             ],
             [
              0.8888888888888888,
              "#fdca26"
             ],
             [
              1,
              "#f0f921"
             ]
            ],
            "type": "heatmap"
           }
          ],
          "heatmapgl": [
           {
            "colorbar": {
             "outlinewidth": 0,
             "ticks": ""
            },
            "colorscale": [
             [
              0,
              "#0d0887"
             ],
             [
              0.1111111111111111,
              "#46039f"
             ],
             [
              0.2222222222222222,
              "#7201a8"
             ],
             [
              0.3333333333333333,
              "#9c179e"
             ],
             [
              0.4444444444444444,
              "#bd3786"
             ],
             [
              0.5555555555555556,
              "#d8576b"
             ],
             [
              0.6666666666666666,
              "#ed7953"
             ],
             [
              0.7777777777777778,
              "#fb9f3a"
             ],
             [
              0.8888888888888888,
              "#fdca26"
             ],
             [
              1,
              "#f0f921"
             ]
            ],
            "type": "heatmapgl"
           }
          ],
          "histogram": [
           {
            "marker": {
             "colorbar": {
              "outlinewidth": 0,
              "ticks": ""
             }
            },
            "type": "histogram"
           }
          ],
          "histogram2d": [
           {
            "colorbar": {
             "outlinewidth": 0,
             "ticks": ""
            },
            "colorscale": [
             [
              0,
              "#0d0887"
             ],
             [
              0.1111111111111111,
              "#46039f"
             ],
             [
              0.2222222222222222,
              "#7201a8"
             ],
             [
              0.3333333333333333,
              "#9c179e"
             ],
             [
              0.4444444444444444,
              "#bd3786"
             ],
             [
              0.5555555555555556,
              "#d8576b"
             ],
             [
              0.6666666666666666,
              "#ed7953"
             ],
             [
              0.7777777777777778,
              "#fb9f3a"
             ],
             [
              0.8888888888888888,
              "#fdca26"
             ],
             [
              1,
              "#f0f921"
             ]
            ],
            "type": "histogram2d"
           }
          ],
          "histogram2dcontour": [
           {
            "colorbar": {
             "outlinewidth": 0,
             "ticks": ""
            },
            "colorscale": [
             [
              0,
              "#0d0887"
             ],
             [
              0.1111111111111111,
              "#46039f"
             ],
             [
              0.2222222222222222,
              "#7201a8"
             ],
             [
              0.3333333333333333,
              "#9c179e"
             ],
             [
              0.4444444444444444,
              "#bd3786"
             ],
             [
              0.5555555555555556,
              "#d8576b"
             ],
             [
              0.6666666666666666,
              "#ed7953"
             ],
             [
              0.7777777777777778,
              "#fb9f3a"
             ],
             [
              0.8888888888888888,
              "#fdca26"
             ],
             [
              1,
              "#f0f921"
             ]
            ],
            "type": "histogram2dcontour"
           }
          ],
          "mesh3d": [
           {
            "colorbar": {
             "outlinewidth": 0,
             "ticks": ""
            },
            "type": "mesh3d"
           }
          ],
          "parcoords": [
           {
            "line": {
             "colorbar": {
              "outlinewidth": 0,
              "ticks": ""
             }
            },
            "type": "parcoords"
           }
          ],
          "pie": [
           {
            "automargin": true,
            "type": "pie"
           }
          ],
          "scatter": [
           {
            "marker": {
             "colorbar": {
              "outlinewidth": 0,
              "ticks": ""
             }
            },
            "type": "scatter"
           }
          ],
          "scatter3d": [
           {
            "line": {
             "colorbar": {
              "outlinewidth": 0,
              "ticks": ""
             }
            },
            "marker": {
             "colorbar": {
              "outlinewidth": 0,
              "ticks": ""
             }
            },
            "type": "scatter3d"
           }
          ],
          "scattercarpet": [
           {
            "marker": {
             "colorbar": {
              "outlinewidth": 0,
              "ticks": ""
             }
            },
            "type": "scattercarpet"
           }
          ],
          "scattergeo": [
           {
            "marker": {
             "colorbar": {
              "outlinewidth": 0,
              "ticks": ""
             }
            },
            "type": "scattergeo"
           }
          ],
          "scattergl": [
           {
            "marker": {
             "colorbar": {
              "outlinewidth": 0,
              "ticks": ""
             }
            },
            "type": "scattergl"
           }
          ],
          "scattermapbox": [
           {
            "marker": {
             "colorbar": {
              "outlinewidth": 0,
              "ticks": ""
             }
            },
            "type": "scattermapbox"
           }
          ],
          "scatterpolar": [
           {
            "marker": {
             "colorbar": {
              "outlinewidth": 0,
              "ticks": ""
             }
            },
            "type": "scatterpolar"
           }
          ],
          "scatterpolargl": [
           {
            "marker": {
             "colorbar": {
              "outlinewidth": 0,
              "ticks": ""
             }
            },
            "type": "scatterpolargl"
           }
          ],
          "scatterternary": [
           {
            "marker": {
             "colorbar": {
              "outlinewidth": 0,
              "ticks": ""
             }
            },
            "type": "scatterternary"
           }
          ],
          "surface": [
           {
            "colorbar": {
             "outlinewidth": 0,
             "ticks": ""
            },
            "colorscale": [
             [
              0,
              "#0d0887"
             ],
             [
              0.1111111111111111,
              "#46039f"
             ],
             [
              0.2222222222222222,
              "#7201a8"
             ],
             [
              0.3333333333333333,
              "#9c179e"
             ],
             [
              0.4444444444444444,
              "#bd3786"
             ],
             [
              0.5555555555555556,
              "#d8576b"
             ],
             [
              0.6666666666666666,
              "#ed7953"
             ],
             [
              0.7777777777777778,
              "#fb9f3a"
             ],
             [
              0.8888888888888888,
              "#fdca26"
             ],
             [
              1,
              "#f0f921"
             ]
            ],
            "type": "surface"
           }
          ],
          "table": [
           {
            "cells": {
             "fill": {
              "color": "#EBF0F8"
             },
             "line": {
              "color": "white"
             }
            },
            "header": {
             "fill": {
              "color": "#C8D4E3"
             },
             "line": {
              "color": "white"
             }
            },
            "type": "table"
           }
          ]
         },
         "layout": {
          "annotationdefaults": {
           "arrowcolor": "#2a3f5f",
           "arrowhead": 0,
           "arrowwidth": 1
          },
          "coloraxis": {
           "colorbar": {
            "outlinewidth": 0,
            "ticks": ""
           }
          },
          "colorscale": {
           "diverging": [
            [
             0,
             "#8e0152"
            ],
            [
             0.1,
             "#c51b7d"
            ],
            [
             0.2,
             "#de77ae"
            ],
            [
             0.3,
             "#f1b6da"
            ],
            [
             0.4,
             "#fde0ef"
            ],
            [
             0.5,
             "#f7f7f7"
            ],
            [
             0.6,
             "#e6f5d0"
            ],
            [
             0.7,
             "#b8e186"
            ],
            [
             0.8,
             "#7fbc41"
            ],
            [
             0.9,
             "#4d9221"
            ],
            [
             1,
             "#276419"
            ]
           ],
           "sequential": [
            [
             0,
             "#0d0887"
            ],
            [
             0.1111111111111111,
             "#46039f"
            ],
            [
             0.2222222222222222,
             "#7201a8"
            ],
            [
             0.3333333333333333,
             "#9c179e"
            ],
            [
             0.4444444444444444,
             "#bd3786"
            ],
            [
             0.5555555555555556,
             "#d8576b"
            ],
            [
             0.6666666666666666,
             "#ed7953"
            ],
            [
             0.7777777777777778,
             "#fb9f3a"
            ],
            [
             0.8888888888888888,
             "#fdca26"
            ],
            [
             1,
             "#f0f921"
            ]
           ],
           "sequentialminus": [
            [
             0,
             "#0d0887"
            ],
            [
             0.1111111111111111,
             "#46039f"
            ],
            [
             0.2222222222222222,
             "#7201a8"
            ],
            [
             0.3333333333333333,
             "#9c179e"
            ],
            [
             0.4444444444444444,
             "#bd3786"
            ],
            [
             0.5555555555555556,
             "#d8576b"
            ],
            [
             0.6666666666666666,
             "#ed7953"
            ],
            [
             0.7777777777777778,
             "#fb9f3a"
            ],
            [
             0.8888888888888888,
             "#fdca26"
            ],
            [
             1,
             "#f0f921"
            ]
           ]
          },
          "colorway": [
           "#636efa",
           "#EF553B",
           "#00cc96",
           "#ab63fa",
           "#FFA15A",
           "#19d3f3",
           "#FF6692",
           "#B6E880",
           "#FF97FF",
           "#FECB52"
          ],
          "font": {
           "color": "#2a3f5f"
          },
          "geo": {
           "bgcolor": "white",
           "lakecolor": "white",
           "landcolor": "#E5ECF6",
           "showlakes": true,
           "showland": true,
           "subunitcolor": "white"
          },
          "hoverlabel": {
           "align": "left"
          },
          "hovermode": "closest",
          "mapbox": {
           "style": "light"
          },
          "paper_bgcolor": "white",
          "plot_bgcolor": "#E5ECF6",
          "polar": {
           "angularaxis": {
            "gridcolor": "white",
            "linecolor": "white",
            "ticks": ""
           },
           "bgcolor": "#E5ECF6",
           "radialaxis": {
            "gridcolor": "white",
            "linecolor": "white",
            "ticks": ""
           }
          },
          "scene": {
           "xaxis": {
            "backgroundcolor": "#E5ECF6",
            "gridcolor": "white",
            "gridwidth": 2,
            "linecolor": "white",
            "showbackground": true,
            "ticks": "",
            "zerolinecolor": "white"
           },
           "yaxis": {
            "backgroundcolor": "#E5ECF6",
            "gridcolor": "white",
            "gridwidth": 2,
            "linecolor": "white",
            "showbackground": true,
            "ticks": "",
            "zerolinecolor": "white"
           },
           "zaxis": {
            "backgroundcolor": "#E5ECF6",
            "gridcolor": "white",
            "gridwidth": 2,
            "linecolor": "white",
            "showbackground": true,
            "ticks": "",
            "zerolinecolor": "white"
           }
          },
          "shapedefaults": {
           "line": {
            "color": "#2a3f5f"
           }
          },
          "ternary": {
           "aaxis": {
            "gridcolor": "white",
            "linecolor": "white",
            "ticks": ""
           },
           "baxis": {
            "gridcolor": "white",
            "linecolor": "white",
            "ticks": ""
           },
           "bgcolor": "#E5ECF6",
           "caxis": {
            "gridcolor": "white",
            "linecolor": "white",
            "ticks": ""
           }
          },
          "title": {
           "x": 0.05
          },
          "xaxis": {
           "automargin": true,
           "gridcolor": "white",
           "linecolor": "white",
           "ticks": "",
           "title": {
            "standoff": 15
           },
           "zerolinecolor": "white",
           "zerolinewidth": 2
          },
          "yaxis": {
           "automargin": true,
           "gridcolor": "white",
           "linecolor": "white",
           "ticks": "",
           "title": {
            "standoff": 15
           },
           "zerolinecolor": "white",
           "zerolinewidth": 2
          }
         }
        },
        "title": {
         "text": "Decomposition of the changes in CO2 emissions in European Union : 2000–2017"
        },
        "xaxis": {
         "tickangle": -45
        },
        "yaxis": {
         "title": {
          "text": "Effect [%]"
         }
        }
       }
      },
      "text/html": [
       "<div>\n",
       "        \n",
       "        \n",
       "            <div id=\"c469766e-760c-47c5-bffb-c77ee9afb48c\" class=\"plotly-graph-div\" style=\"height:525px; width:100%;\"></div>\n",
       "            <script type=\"text/javascript\">\n",
       "                require([\"plotly\"], function(Plotly) {\n",
       "                    window.PLOTLYENV=window.PLOTLYENV || {};\n",
       "                    \n",
       "                if (document.getElementById(\"c469766e-760c-47c5-bffb-c77ee9afb48c\")) {\n",
       "                    Plotly.newPlot(\n",
       "                        'c469766e-760c-47c5-bffb-c77ee9afb48c',\n",
       "                        [{\"marker\": {\"color\": \"indianred\"}, \"name\": \"Population effect\", \"type\": \"bar\", \"x\": [\"2000-2004\", \"2005-2009\", \"2010-2013\", \"2014-2017\", \"2000-2017\"], \"y\": [26.750273189481078, 12.894170235939653, 5.194827272806706, 82.10302480879335, 27.08330619046661]}, {\"marker\": {\"color\": \"Yellow\"}, \"name\": \"Gdp per cap effect\", \"type\": \"bar\", \"x\": [\"2000-2004\", \"2005-2009\", \"2010-2013\", \"2014-2017\", \"2000-2017\"], \"y\": [155.25161023831794, 8.022788653408476, 16.046966885883542, 615.127129979829, 109.02973988392637]}, {\"marker\": {\"color\": \"lightsalmon\"}, \"name\": \"Energy intensity effect\", \"type\": \"bar\", \"x\": [\"2000-2004\", \"2005-2009\", \"2010-2013\", \"2014-2017\", \"2000-2017\"], \"y\": [-39.55886519466328, -83.45639488487538, -91.38980520783481, -368.673687940319, -156.20421032521153]}, {\"marker\": {\"color\": \"Blue\"}, \"name\": \"Carbon intensity effect\", \"type\": \"bar\", \"x\": [\"2000-2004\", \"2005-2009\", \"2010-2013\", \"2014-2017\", \"2000-2017\"], \"y\": [-42.443018233135746, -37.460564004472765, -29.85198895085543, -228.55646684830333, -79.90883574918143]}, {\"marker\": {\"color\": \"Green\"}, \"name\": \"Total effect\", \"type\": \"bar\", \"x\": [\"2000-2004\", \"2005-2009\", \"2010-2013\", \"2014-2017\", \"2000-2017\"], \"y\": [100.0, 100.0, 100.0, 100.0, 100.0]}],\n",
       "                        {\"barmode\": \"group\", \"template\": {\"data\": {\"bar\": [{\"error_x\": {\"color\": \"#2a3f5f\"}, \"error_y\": {\"color\": \"#2a3f5f\"}, \"marker\": {\"line\": {\"color\": \"#E5ECF6\", \"width\": 0.5}}, \"type\": \"bar\"}], \"barpolar\": [{\"marker\": {\"line\": {\"color\": \"#E5ECF6\", \"width\": 0.5}}, \"type\": \"barpolar\"}], \"carpet\": [{\"aaxis\": {\"endlinecolor\": \"#2a3f5f\", \"gridcolor\": \"white\", \"linecolor\": \"white\", \"minorgridcolor\": \"white\", \"startlinecolor\": \"#2a3f5f\"}, \"baxis\": {\"endlinecolor\": \"#2a3f5f\", \"gridcolor\": \"white\", \"linecolor\": \"white\", \"minorgridcolor\": \"white\", \"startlinecolor\": \"#2a3f5f\"}, \"type\": \"carpet\"}], \"choropleth\": [{\"colorbar\": {\"outlinewidth\": 0, \"ticks\": \"\"}, \"type\": \"choropleth\"}], \"contour\": [{\"colorbar\": {\"outlinewidth\": 0, \"ticks\": \"\"}, \"colorscale\": [[0.0, \"#0d0887\"], [0.1111111111111111, \"#46039f\"], [0.2222222222222222, \"#7201a8\"], [0.3333333333333333, \"#9c179e\"], [0.4444444444444444, \"#bd3786\"], [0.5555555555555556, \"#d8576b\"], [0.6666666666666666, \"#ed7953\"], [0.7777777777777778, \"#fb9f3a\"], [0.8888888888888888, \"#fdca26\"], [1.0, \"#f0f921\"]], \"type\": \"contour\"}], \"contourcarpet\": [{\"colorbar\": {\"outlinewidth\": 0, \"ticks\": \"\"}, \"type\": \"contourcarpet\"}], \"heatmap\": [{\"colorbar\": {\"outlinewidth\": 0, \"ticks\": \"\"}, \"colorscale\": [[0.0, \"#0d0887\"], [0.1111111111111111, \"#46039f\"], [0.2222222222222222, \"#7201a8\"], [0.3333333333333333, \"#9c179e\"], [0.4444444444444444, \"#bd3786\"], [0.5555555555555556, \"#d8576b\"], [0.6666666666666666, \"#ed7953\"], [0.7777777777777778, \"#fb9f3a\"], [0.8888888888888888, \"#fdca26\"], [1.0, \"#f0f921\"]], \"type\": \"heatmap\"}], \"heatmapgl\": [{\"colorbar\": {\"outlinewidth\": 0, \"ticks\": \"\"}, \"colorscale\": [[0.0, \"#0d0887\"], [0.1111111111111111, \"#46039f\"], [0.2222222222222222, \"#7201a8\"], [0.3333333333333333, \"#9c179e\"], [0.4444444444444444, \"#bd3786\"], [0.5555555555555556, \"#d8576b\"], [0.6666666666666666, \"#ed7953\"], [0.7777777777777778, \"#fb9f3a\"], [0.8888888888888888, \"#fdca26\"], [1.0, \"#f0f921\"]], \"type\": \"heatmapgl\"}], \"histogram\": [{\"marker\": {\"colorbar\": {\"outlinewidth\": 0, \"ticks\": \"\"}}, \"type\": \"histogram\"}], \"histogram2d\": [{\"colorbar\": {\"outlinewidth\": 0, \"ticks\": \"\"}, \"colorscale\": [[0.0, \"#0d0887\"], [0.1111111111111111, \"#46039f\"], [0.2222222222222222, \"#7201a8\"], [0.3333333333333333, \"#9c179e\"], [0.4444444444444444, \"#bd3786\"], [0.5555555555555556, \"#d8576b\"], [0.6666666666666666, \"#ed7953\"], [0.7777777777777778, \"#fb9f3a\"], [0.8888888888888888, \"#fdca26\"], [1.0, \"#f0f921\"]], \"type\": \"histogram2d\"}], \"histogram2dcontour\": [{\"colorbar\": {\"outlinewidth\": 0, \"ticks\": \"\"}, \"colorscale\": [[0.0, \"#0d0887\"], [0.1111111111111111, \"#46039f\"], [0.2222222222222222, \"#7201a8\"], [0.3333333333333333, \"#9c179e\"], [0.4444444444444444, \"#bd3786\"], [0.5555555555555556, \"#d8576b\"], [0.6666666666666666, \"#ed7953\"], [0.7777777777777778, \"#fb9f3a\"], [0.8888888888888888, \"#fdca26\"], [1.0, \"#f0f921\"]], \"type\": \"histogram2dcontour\"}], \"mesh3d\": [{\"colorbar\": {\"outlinewidth\": 0, \"ticks\": \"\"}, \"type\": \"mesh3d\"}], \"parcoords\": [{\"line\": {\"colorbar\": {\"outlinewidth\": 0, \"ticks\": \"\"}}, \"type\": \"parcoords\"}], \"pie\": [{\"automargin\": true, \"type\": \"pie\"}], \"scatter\": [{\"marker\": {\"colorbar\": {\"outlinewidth\": 0, \"ticks\": \"\"}}, \"type\": \"scatter\"}], \"scatter3d\": [{\"line\": {\"colorbar\": {\"outlinewidth\": 0, \"ticks\": \"\"}}, \"marker\": {\"colorbar\": {\"outlinewidth\": 0, \"ticks\": \"\"}}, \"type\": \"scatter3d\"}], \"scattercarpet\": [{\"marker\": {\"colorbar\": {\"outlinewidth\": 0, \"ticks\": \"\"}}, \"type\": \"scattercarpet\"}], \"scattergeo\": [{\"marker\": {\"colorbar\": {\"outlinewidth\": 0, \"ticks\": \"\"}}, \"type\": \"scattergeo\"}], \"scattergl\": [{\"marker\": {\"colorbar\": {\"outlinewidth\": 0, \"ticks\": \"\"}}, \"type\": \"scattergl\"}], \"scattermapbox\": [{\"marker\": {\"colorbar\": {\"outlinewidth\": 0, \"ticks\": \"\"}}, \"type\": \"scattermapbox\"}], \"scatterpolar\": [{\"marker\": {\"colorbar\": {\"outlinewidth\": 0, \"ticks\": \"\"}}, \"type\": \"scatterpolar\"}], \"scatterpolargl\": [{\"marker\": {\"colorbar\": {\"outlinewidth\": 0, \"ticks\": \"\"}}, \"type\": \"scatterpolargl\"}], \"scatterternary\": [{\"marker\": {\"colorbar\": {\"outlinewidth\": 0, \"ticks\": \"\"}}, \"type\": \"scatterternary\"}], \"surface\": [{\"colorbar\": {\"outlinewidth\": 0, \"ticks\": \"\"}, \"colorscale\": [[0.0, \"#0d0887\"], [0.1111111111111111, \"#46039f\"], [0.2222222222222222, \"#7201a8\"], [0.3333333333333333, \"#9c179e\"], [0.4444444444444444, \"#bd3786\"], [0.5555555555555556, \"#d8576b\"], [0.6666666666666666, \"#ed7953\"], [0.7777777777777778, \"#fb9f3a\"], [0.8888888888888888, \"#fdca26\"], [1.0, \"#f0f921\"]], \"type\": \"surface\"}], \"table\": [{\"cells\": {\"fill\": {\"color\": \"#EBF0F8\"}, \"line\": {\"color\": \"white\"}}, \"header\": {\"fill\": {\"color\": \"#C8D4E3\"}, \"line\": {\"color\": \"white\"}}, \"type\": \"table\"}]}, \"layout\": {\"annotationdefaults\": {\"arrowcolor\": \"#2a3f5f\", \"arrowhead\": 0, \"arrowwidth\": 1}, \"coloraxis\": {\"colorbar\": {\"outlinewidth\": 0, \"ticks\": \"\"}}, \"colorscale\": {\"diverging\": [[0, \"#8e0152\"], [0.1, \"#c51b7d\"], [0.2, \"#de77ae\"], [0.3, \"#f1b6da\"], [0.4, \"#fde0ef\"], [0.5, \"#f7f7f7\"], [0.6, \"#e6f5d0\"], [0.7, \"#b8e186\"], [0.8, \"#7fbc41\"], [0.9, \"#4d9221\"], [1, \"#276419\"]], \"sequential\": [[0.0, \"#0d0887\"], [0.1111111111111111, \"#46039f\"], [0.2222222222222222, \"#7201a8\"], [0.3333333333333333, \"#9c179e\"], [0.4444444444444444, \"#bd3786\"], [0.5555555555555556, \"#d8576b\"], [0.6666666666666666, \"#ed7953\"], [0.7777777777777778, \"#fb9f3a\"], [0.8888888888888888, \"#fdca26\"], [1.0, \"#f0f921\"]], \"sequentialminus\": [[0.0, \"#0d0887\"], [0.1111111111111111, \"#46039f\"], [0.2222222222222222, \"#7201a8\"], [0.3333333333333333, \"#9c179e\"], [0.4444444444444444, \"#bd3786\"], [0.5555555555555556, \"#d8576b\"], [0.6666666666666666, \"#ed7953\"], [0.7777777777777778, \"#fb9f3a\"], [0.8888888888888888, \"#fdca26\"], [1.0, \"#f0f921\"]]}, \"colorway\": [\"#636efa\", \"#EF553B\", \"#00cc96\", \"#ab63fa\", \"#FFA15A\", \"#19d3f3\", \"#FF6692\", \"#B6E880\", \"#FF97FF\", \"#FECB52\"], \"font\": {\"color\": \"#2a3f5f\"}, \"geo\": {\"bgcolor\": \"white\", \"lakecolor\": \"white\", \"landcolor\": \"#E5ECF6\", \"showlakes\": true, \"showland\": true, \"subunitcolor\": \"white\"}, \"hoverlabel\": {\"align\": \"left\"}, \"hovermode\": \"closest\", \"mapbox\": {\"style\": \"light\"}, \"paper_bgcolor\": \"white\", \"plot_bgcolor\": \"#E5ECF6\", \"polar\": {\"angularaxis\": {\"gridcolor\": \"white\", \"linecolor\": \"white\", \"ticks\": \"\"}, \"bgcolor\": \"#E5ECF6\", \"radialaxis\": {\"gridcolor\": \"white\", \"linecolor\": \"white\", \"ticks\": \"\"}}, \"scene\": {\"xaxis\": {\"backgroundcolor\": \"#E5ECF6\", \"gridcolor\": \"white\", \"gridwidth\": 2, \"linecolor\": \"white\", \"showbackground\": true, \"ticks\": \"\", \"zerolinecolor\": \"white\"}, \"yaxis\": {\"backgroundcolor\": \"#E5ECF6\", \"gridcolor\": \"white\", \"gridwidth\": 2, \"linecolor\": \"white\", \"showbackground\": true, \"ticks\": \"\", \"zerolinecolor\": \"white\"}, \"zaxis\": {\"backgroundcolor\": \"#E5ECF6\", \"gridcolor\": \"white\", \"gridwidth\": 2, \"linecolor\": \"white\", \"showbackground\": true, \"ticks\": \"\", \"zerolinecolor\": \"white\"}}, \"shapedefaults\": {\"line\": {\"color\": \"#2a3f5f\"}}, \"ternary\": {\"aaxis\": {\"gridcolor\": \"white\", \"linecolor\": \"white\", \"ticks\": \"\"}, \"baxis\": {\"gridcolor\": \"white\", \"linecolor\": \"white\", \"ticks\": \"\"}, \"bgcolor\": \"#E5ECF6\", \"caxis\": {\"gridcolor\": \"white\", \"linecolor\": \"white\", \"ticks\": \"\"}}, \"title\": {\"x\": 0.05}, \"xaxis\": {\"automargin\": true, \"gridcolor\": \"white\", \"linecolor\": \"white\", \"ticks\": \"\", \"title\": {\"standoff\": 15}, \"zerolinecolor\": \"white\", \"zerolinewidth\": 2}, \"yaxis\": {\"automargin\": true, \"gridcolor\": \"white\", \"linecolor\": \"white\", \"ticks\": \"\", \"title\": {\"standoff\": 15}, \"zerolinecolor\": \"white\", \"zerolinewidth\": 2}}}, \"title\": {\"text\": \"Decomposition of the changes in CO2 emissions in European Union : 2000\\u20132017\"}, \"xaxis\": {\"tickangle\": -45}, \"yaxis\": {\"title\": {\"text\": \"Effect [%]\"}}},\n",
       "                        {\"responsive\": true}\n",
       "                    ).then(function(){\n",
       "                            \n",
       "var gd = document.getElementById('c469766e-760c-47c5-bffb-c77ee9afb48c');\n",
       "var x = new MutationObserver(function (mutations, observer) {{\n",
       "        var display = window.getComputedStyle(gd).display;\n",
       "        if (!display || display === 'none') {{\n",
       "            console.log([gd, 'removed!']);\n",
       "            Plotly.purge(gd);\n",
       "            observer.disconnect();\n",
       "        }}\n",
       "}});\n",
       "\n",
       "// Listen for the removal of the full notebook cells\n",
       "var notebookContainer = gd.closest('#notebook-container');\n",
       "if (notebookContainer) {{\n",
       "    x.observe(notebookContainer, {childList: true});\n",
       "}}\n",
       "\n",
       "// Listen for the clearing of the current output cell\n",
       "var outputEl = gd.closest('.output');\n",
       "if (outputEl) {{\n",
       "    x.observe(outputEl, {childList: true});\n",
       "}}\n",
       "\n",
       "                        })\n",
       "                };\n",
       "                });\n",
       "            </script>\n",
       "        </div>"
      ]
     },
     "metadata": {},
     "output_type": "display_data"
    }
   ],
   "source": [
    "import plotly.graph_objects as go\n",
    "import plotly\n",
    "from plotly.subplots import make_subplots\n",
    "plotly.offline.init_notebook_mode(connected=True)\n",
    "\n",
    "months = ['2000-2004', '2005-2009', '2010-2013', '2014-2017', '2000-2017']\n",
    "\n",
    "fig = go.Figure()\n",
    "\n",
    "fig.add_trace(go.Bar(x=months, y=lmdi_var['pop effect'], name='Population effect',\n",
    "                     marker_color='indianred'))\n",
    "fig.add_trace(go.Bar(x=months, y=lmdi_var['gdp cap effect'], name='Gdp per cap effect',\n",
    "                     marker_color='Yellow'))\n",
    "fig.add_trace(go.Bar(x=months, y=lmdi_var['energy intensity effect'], name='Energy intensity effect',\n",
    "                     marker_color='lightsalmon'))\n",
    "fig.add_trace(go.Bar(x=months, y=lmdi_var['carbon intensity effect'], name='Carbon intensity effect',\n",
    "                     marker_color='Blue'))\n",
    "fig.add_trace(go.Bar(x=months, y=lmdi_var['total effect'], name='Total effect',\n",
    "                     marker_color='Green'))\n",
    "\n",
    "fig.update_yaxes(title_text=\"Effect [%]\")\n",
    "fig.update_layout(barmode='group', xaxis_tickangle=-45,\n",
    "                  title =\"Decomposition of the changes in CO2 emissions in European Union : 2000–2017\")\n",
    "fig.show()"
   ]
  },
  {
   "cell_type": "code",
   "execution_count": null,
   "metadata": {},
   "outputs": [],
   "source": []
  }
 ],
 "metadata": {
  "kernelspec": {
   "display_name": "Python 3.7.4 64-bit ('rstudio': conda)",
   "language": "python",
   "name": "python37464bitrstudioconda85139be567af4fb89143852fd1a4ee46"
  },
  "language_info": {
   "codemirror_mode": {
    "name": "ipython",
    "version": 3
   },
   "file_extension": ".py",
   "mimetype": "text/x-python",
   "name": "python",
   "nbconvert_exporter": "python",
   "pygments_lexer": "ipython3",
   "version": "3.7.4"
  }
 },
 "nbformat": 4,
 "nbformat_minor": 4
}
