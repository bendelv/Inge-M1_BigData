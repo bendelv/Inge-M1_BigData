{
 "cells": [
  {
   "cell_type": "markdown",
   "metadata": {},
   "source": [
    "# Logarithmic mean divisia index (LMDI) application on European Union carbon emissions from 2000 to 2017"
   ]
  },
  {
   "cell_type": "markdown",
   "metadata": {},
   "source": [
    "$$\\text { Kaya identity : } C = P \\times \\frac{G}{P} \\times \\frac{E}{G} \\times \\frac{C}{E} = P \\times Gp \\times EI \\times CI $$\n",
    "\n",
    "\n",
    "$$ \\text { P : the population,}$$\n",
    "$$ \\text { G : the GDP,}$$\n",
    "$$ \\text { E : the consumption of fossil energy,}$$  \n",
    "$$ \\text { C : } CO_{2} \\text { emission due to fossil energy,}$$\n",
    "$$ \\text { Gp : the GDP per capita,}$$\n",
    "$$ \\text { EI : the energy intensity,}$$\n",
    "$$ \\text { CI : the carbon intensity.}$$\n",
    "\n",
    "$$ \\text{Additive decomposition Change scheme LMDI formulas : }$$\n",
    "\n",
    "\\begin{aligned}\n",
    "&\\Delta C_{t o t}=C^{T}-C^{0}=\\Delta C_{\\text {P}}+\\Delta C_{Gp}+\\Delta C_{EI}+\\Delta C_{\\text {CI}} \\\\\n",
    "&\\Delta C_{P}=\\frac{C^{T}-C^{0}}{\\ln C^{T}-\\ln C^{0}} \\ln \\left(\\frac{P^{T}}{P^{0}}\\right)\\\\\n",
    "&\\Delta C_{Gp}=\\frac{C^{T}-C^{0}}{\\ln C^{T}-\\ln C^{0}} \\ln \\left(\\frac{Gp^{T}}{Gp^{0}}\\right)\\\\\n",
    "&\\Delta C_{EI}=\\frac{C^{T}-C^{0}}{\\ln C^{T}-\\ln C^{0}} \\ln \\left(\\frac{EI^{T}}{EI^{0}}\\right)\\\\\n",
    "&\\Delta C_{CI}=\\frac{C^{T}-C^{0}}{\\ln C^{T}-\\ln C^{0}} \\ln \\left(\\frac{CI^{T}}{CI^{0}}\\right)\\\\\n",
    "\\end{aligned}"
   ]
  },
  {
   "cell_type": "markdown",
   "metadata": {},
   "source": [
    "### Variables"
   ]
  },
  {
   "cell_type": "code",
   "execution_count": 1,
   "metadata": {},
   "outputs": [],
   "source": [
    "import pandas as pd\n",
    "data_1 = pd.read_csv(\"/home/cj/Bureau/MILESTONE_6/european_dataset_1.csv\")\n",
    "data_2 = pd.read_csv(\"/home/cj/Bureau/MILESTONE_6/european_dataset_2.csv\")\n",
    "pop = data_1['pop']\n",
    "emi = data_1['fossil_emi']\n",
    "gdp_cap = data_2['gdp_cap']\n",
    "ei = data_2['ei_fossil'] # energy intensity of fossil energies (coal, oil, gas)\n",
    "ci = data_2['ci_fossil'] # carbon intensity of fossil energies (coal, oil, gas)\n",
    "\n",
    "var_list = [pop, gdp_cap, ei, ci]"
   ]
  },
  {
   "cell_type": "markdown",
   "metadata": {},
   "source": [
    "### Indice 0 and T (T>0) correspond respectively to the base year and the target year. 4 intervals of time are taken into account.\n",
    "    1 : [2000 - 2004]\n",
    "    2 : [2005 - 2009]\n",
    "    3 : [2010 - 2013]\n",
    "    4 : [2014 - 2017]\n",
    "    5 : [2000 - 2017]"
   ]
  },
  {
   "cell_type": "code",
   "execution_count": 2,
   "metadata": {},
   "outputs": [],
   "source": [
    "#intervals\n",
    "inter_1 = [10, 14] \n",
    "inter_2 = [15, 19]\n",
    "inter_3 = [20, 23]\n",
    "inter_4 = [24, 27]\n",
    "inter_5 = [10, 27]"
   ]
  },
  {
   "cell_type": "code",
   "execution_count": 3,
   "metadata": {},
   "outputs": [],
   "source": [
    "import numpy as np\n",
    "\n",
    "def from_list_to_pandas(e, p):\n",
    "    df = pd.DataFrame([e, p], columns = ['pop effect', 'gdp cap effect', 'energy intensity effect',\n",
    "                                        'carbon intensity effect', 'total effect'])\n",
    "    df = df.transpose()\n",
    "    df.columns=['Effect on CO2 emissions [Mtoe]', 'Percentage']\n",
    "    return df\n",
    "\n",
    "\"\"\"\n",
    "This function gives the effect of a variable on the variation of the CO2 emissions.\n",
    "\"\"\"\n",
    "def rate_effect(emi, var):\n",
    "    return ((emi[1]-emi[0])/(np.log(emi[1])-np.log(emi[0])))*np.log(var[1]/var[0])\n",
    "\n",
    "\"\"\"\n",
    "Retreive the value of a variable and the carbon emissions for a corresponding interval of time.\n",
    "\"\"\"\n",
    "def get_target_base_value(interval, emission, variable):\n",
    "    emi = list(); var = list()\n",
    "    for ind in interval:\n",
    "        emi.append(emission[ind])\n",
    "        var.append(variable[ind])\n",
    "    return emi, var\n",
    "\n",
    "\"\"\"\n",
    "This function retreives the effect, on the variation of the CO2 emissions, of each variables\n",
    "pointed as responsible of these emissions in European Union.\n",
    "\"\"\"\n",
    "def get_lmdi(var_list, emi, interval):\n",
    "    list_effect = list()\n",
    "    for i in range(len(var_list)):\n",
    "        emi_, var_ = get_target_base_value(interval, emi, var_list[i])\n",
    "        list_effect.append(rate_effect(emi_, var_))\n",
    "    \n",
    "    list_effect.append(sum(list_effect))\n",
    "    list_percentage_effect = list()\n",
    "    for effect in list_effect:\n",
    "    \n",
    "        list_percentage_effect.append((effect/np.abs(list_effect[len(list_effect)-1]))*100)\n",
    "        \n",
    "    x = np.abs(list_percentage_effect[len(list_effect)-1])\n",
    "    list_percentage_effect[len(list_effect)-1] = x\n",
    "    df = from_list_to_pandas(list_effect, list_percentage_effect)\n",
    "    \n",
    "    return df"
   ]
  },
  {
   "cell_type": "code",
   "execution_count": 4,
   "metadata": {},
   "outputs": [
    {
     "data": {
      "text/html": [
       "<div>\n",
       "<style scoped>\n",
       "    .dataframe tbody tr th:only-of-type {\n",
       "        vertical-align: middle;\n",
       "    }\n",
       "\n",
       "    .dataframe tbody tr th {\n",
       "        vertical-align: top;\n",
       "    }\n",
       "\n",
       "    .dataframe thead th {\n",
       "        text-align: right;\n",
       "    }\n",
       "</style>\n",
       "<table border=\"1\" class=\"dataframe\">\n",
       "  <thead>\n",
       "    <tr style=\"text-align: right;\">\n",
       "      <th></th>\n",
       "      <th>Effect on CO2 emissions [Mtoe]</th>\n",
       "      <th>Percentage</th>\n",
       "    </tr>\n",
       "  </thead>\n",
       "  <tbody>\n",
       "    <tr>\n",
       "      <th>pop effect</th>\n",
       "      <td>49.032036</td>\n",
       "      <td>13.449505</td>\n",
       "    </tr>\n",
       "    <tr>\n",
       "      <th>gdp cap effect</th>\n",
       "      <td>575.327658</td>\n",
       "      <td>157.812580</td>\n",
       "    </tr>\n",
       "    <tr>\n",
       "      <th>energy intensity effect</th>\n",
       "      <td>-1020.641631</td>\n",
       "      <td>-279.962360</td>\n",
       "    </tr>\n",
       "    <tr>\n",
       "      <th>carbon intensity effect</th>\n",
       "      <td>31.718062</td>\n",
       "      <td>8.700276</td>\n",
       "    </tr>\n",
       "    <tr>\n",
       "      <th>total effect</th>\n",
       "      <td>-364.563876</td>\n",
       "      <td>100.000000</td>\n",
       "    </tr>\n",
       "  </tbody>\n",
       "</table>\n",
       "</div>"
      ],
      "text/plain": [
       "                         Effect on CO2 emissions [Mtoe]  Percentage\n",
       "pop effect                                    49.032036   13.449505\n",
       "gdp cap effect                               575.327658  157.812580\n",
       "energy intensity effect                    -1020.641631 -279.962360\n",
       "carbon intensity effect                       31.718062    8.700276\n",
       "total effect                                -364.563876  100.000000"
      ]
     },
     "execution_count": 4,
     "metadata": {},
     "output_type": "execute_result"
    }
   ],
   "source": [
    "lmdi_2 = get_lmdi(var_list, emi, inter_2)\n",
    "lmdi_2"
   ]
  },
  {
   "cell_type": "code",
   "execution_count": 5,
   "metadata": {},
   "outputs": [
    {
     "data": {
      "text/html": [
       "<div>\n",
       "<style scoped>\n",
       "    .dataframe tbody tr th:only-of-type {\n",
       "        vertical-align: middle;\n",
       "    }\n",
       "\n",
       "    .dataframe tbody tr th {\n",
       "        vertical-align: top;\n",
       "    }\n",
       "\n",
       "    .dataframe thead th {\n",
       "        text-align: right;\n",
       "    }\n",
       "</style>\n",
       "<table border=\"1\" class=\"dataframe\">\n",
       "  <thead>\n",
       "    <tr style=\"text-align: right;\">\n",
       "      <th></th>\n",
       "      <th>Effect on CO2 emissions [Mtoe]</th>\n",
       "      <th>Percentage</th>\n",
       "    </tr>\n",
       "  </thead>\n",
       "  <tbody>\n",
       "    <tr>\n",
       "      <th>pop effect</th>\n",
       "      <td>32.065043</td>\n",
       "      <td>16.099347</td>\n",
       "    </tr>\n",
       "    <tr>\n",
       "      <th>gdp cap effect</th>\n",
       "      <td>1646.812268</td>\n",
       "      <td>826.838177</td>\n",
       "    </tr>\n",
       "    <tr>\n",
       "      <th>energy intensity effect</th>\n",
       "      <td>-1501.792392</td>\n",
       "      <td>-754.026010</td>\n",
       "    </tr>\n",
       "    <tr>\n",
       "      <th>carbon intensity effect</th>\n",
       "      <td>22.084920</td>\n",
       "      <td>11.088486</td>\n",
       "    </tr>\n",
       "    <tr>\n",
       "      <th>total effect</th>\n",
       "      <td>199.169839</td>\n",
       "      <td>100.000000</td>\n",
       "    </tr>\n",
       "  </tbody>\n",
       "</table>\n",
       "</div>"
      ],
      "text/plain": [
       "                         Effect on CO2 emissions [Mtoe]  Percentage\n",
       "pop effect                                    32.065043   16.099347\n",
       "gdp cap effect                              1646.812268  826.838177\n",
       "energy intensity effect                    -1501.792392 -754.026010\n",
       "carbon intensity effect                       22.084920   11.088486\n",
       "total effect                                 199.169839  100.000000"
      ]
     },
     "execution_count": 5,
     "metadata": {},
     "output_type": "execute_result"
    }
   ],
   "source": [
    "lmdi_1 = get_lmdi(var_list, emi, inter_1)\n",
    "lmdi_1"
   ]
  },
  {
   "cell_type": "code",
   "execution_count": 6,
   "metadata": {},
   "outputs": [
    {
     "data": {
      "text/html": [
       "<div>\n",
       "<style scoped>\n",
       "    .dataframe tbody tr th:only-of-type {\n",
       "        vertical-align: middle;\n",
       "    }\n",
       "\n",
       "    .dataframe tbody tr th {\n",
       "        vertical-align: top;\n",
       "    }\n",
       "\n",
       "    .dataframe thead th {\n",
       "        text-align: right;\n",
       "    }\n",
       "</style>\n",
       "<table border=\"1\" class=\"dataframe\">\n",
       "  <thead>\n",
       "    <tr style=\"text-align: right;\">\n",
       "      <th></th>\n",
       "      <th>Effect on CO2 emissions [Mtoe]</th>\n",
       "      <th>Percentage</th>\n",
       "    </tr>\n",
       "  </thead>\n",
       "  <tbody>\n",
       "    <tr>\n",
       "      <th>pop effect</th>\n",
       "      <td>3.718399</td>\n",
       "      <td>1.108363</td>\n",
       "    </tr>\n",
       "    <tr>\n",
       "      <th>gdp cap effect</th>\n",
       "      <td>203.997015</td>\n",
       "      <td>60.806460</td>\n",
       "    </tr>\n",
       "    <tr>\n",
       "      <th>energy intensity effect</th>\n",
       "      <td>-505.958294</td>\n",
       "      <td>-150.813643</td>\n",
       "    </tr>\n",
       "    <tr>\n",
       "      <th>carbon intensity effect</th>\n",
       "      <td>-37.242879</td>\n",
       "      <td>-11.101180</td>\n",
       "    </tr>\n",
       "    <tr>\n",
       "      <th>total effect</th>\n",
       "      <td>-335.485759</td>\n",
       "      <td>100.000000</td>\n",
       "    </tr>\n",
       "  </tbody>\n",
       "</table>\n",
       "</div>"
      ],
      "text/plain": [
       "                         Effect on CO2 emissions [Mtoe]  Percentage\n",
       "pop effect                                     3.718399    1.108363\n",
       "gdp cap effect                               203.997015   60.806460\n",
       "energy intensity effect                     -505.958294 -150.813643\n",
       "carbon intensity effect                      -37.242879  -11.101180\n",
       "total effect                                -335.485759  100.000000"
      ]
     },
     "execution_count": 6,
     "metadata": {},
     "output_type": "execute_result"
    }
   ],
   "source": [
    "lmdi_3 = get_lmdi(var_list, emi, inter_3)\n",
    "lmdi_3"
   ]
  },
  {
   "cell_type": "code",
   "execution_count": 7,
   "metadata": {},
   "outputs": [
    {
     "data": {
      "text/html": [
       "<div>\n",
       "<style scoped>\n",
       "    .dataframe tbody tr th:only-of-type {\n",
       "        vertical-align: middle;\n",
       "    }\n",
       "\n",
       "    .dataframe tbody tr th {\n",
       "        vertical-align: top;\n",
       "    }\n",
       "\n",
       "    .dataframe thead th {\n",
       "        text-align: right;\n",
       "    }\n",
       "</style>\n",
       "<table border=\"1\" class=\"dataframe\">\n",
       "  <thead>\n",
       "    <tr style=\"text-align: right;\">\n",
       "      <th></th>\n",
       "      <th>Effect on CO2 emissions [Mtoe]</th>\n",
       "      <th>Percentage</th>\n",
       "    </tr>\n",
       "  </thead>\n",
       "  <tbody>\n",
       "    <tr>\n",
       "      <th>pop effect</th>\n",
       "      <td>21.249500</td>\n",
       "      <td>9.503285</td>\n",
       "    </tr>\n",
       "    <tr>\n",
       "      <th>gdp cap effect</th>\n",
       "      <td>-251.708914</td>\n",
       "      <td>-112.570253</td>\n",
       "    </tr>\n",
       "    <tr>\n",
       "      <th>energy intensity effect</th>\n",
       "      <td>357.760227</td>\n",
       "      <td>159.998939</td>\n",
       "    </tr>\n",
       "    <tr>\n",
       "      <th>carbon intensity effect</th>\n",
       "      <td>96.300812</td>\n",
       "      <td>43.068029</td>\n",
       "    </tr>\n",
       "    <tr>\n",
       "      <th>total effect</th>\n",
       "      <td>223.601624</td>\n",
       "      <td>100.000000</td>\n",
       "    </tr>\n",
       "  </tbody>\n",
       "</table>\n",
       "</div>"
      ],
      "text/plain": [
       "                         Effect on CO2 emissions [Mtoe]  Percentage\n",
       "pop effect                                    21.249500    9.503285\n",
       "gdp cap effect                              -251.708914 -112.570253\n",
       "energy intensity effect                      357.760227  159.998939\n",
       "carbon intensity effect                       96.300812   43.068029\n",
       "total effect                                 223.601624  100.000000"
      ]
     },
     "execution_count": 7,
     "metadata": {},
     "output_type": "execute_result"
    }
   ],
   "source": [
    "lmdi_4 = get_lmdi(var_list, emi, inter_4)\n",
    "lmdi_4"
   ]
  },
  {
   "cell_type": "code",
   "execution_count": 8,
   "metadata": {},
   "outputs": [
    {
     "data": {
      "text/html": [
       "<div>\n",
       "<style scoped>\n",
       "    .dataframe tbody tr th:only-of-type {\n",
       "        vertical-align: middle;\n",
       "    }\n",
       "\n",
       "    .dataframe tbody tr th {\n",
       "        vertical-align: top;\n",
       "    }\n",
       "\n",
       "    .dataframe thead th {\n",
       "        text-align: right;\n",
       "    }\n",
       "</style>\n",
       "<table border=\"1\" class=\"dataframe\">\n",
       "  <thead>\n",
       "    <tr style=\"text-align: right;\">\n",
       "      <th></th>\n",
       "      <th>Effect on CO2 emissions [Mtoe]</th>\n",
       "      <th>Percentage</th>\n",
       "    </tr>\n",
       "  </thead>\n",
       "  <tbody>\n",
       "    <tr>\n",
       "      <th>pop effect</th>\n",
       "      <td>131.262931</td>\n",
       "      <td>47.765666</td>\n",
       "    </tr>\n",
       "    <tr>\n",
       "      <th>gdp cap effect</th>\n",
       "      <td>2163.642138</td>\n",
       "      <td>787.334299</td>\n",
       "    </tr>\n",
       "    <tr>\n",
       "      <th>energy intensity effect</th>\n",
       "      <td>-2739.308085</td>\n",
       "      <td>-996.815126</td>\n",
       "    </tr>\n",
       "    <tr>\n",
       "      <th>carbon intensity effect</th>\n",
       "      <td>169.596985</td>\n",
       "      <td>61.715161</td>\n",
       "    </tr>\n",
       "    <tr>\n",
       "      <th>total effect</th>\n",
       "      <td>-274.806031</td>\n",
       "      <td>100.000000</td>\n",
       "    </tr>\n",
       "  </tbody>\n",
       "</table>\n",
       "</div>"
      ],
      "text/plain": [
       "                         Effect on CO2 emissions [Mtoe]  Percentage\n",
       "pop effect                                   131.262931   47.765666\n",
       "gdp cap effect                              2163.642138  787.334299\n",
       "energy intensity effect                    -2739.308085 -996.815126\n",
       "carbon intensity effect                      169.596985   61.715161\n",
       "total effect                                -274.806031  100.000000"
      ]
     },
     "execution_count": 8,
     "metadata": {},
     "output_type": "execute_result"
    }
   ],
   "source": [
    "lmdi_5 = get_lmdi(var_list, emi, inter_5)\n",
    "lmdi_5"
   ]
  },
  {
   "cell_type": "code",
   "execution_count": 9,
   "metadata": {},
   "outputs": [
    {
     "data": {
      "text/html": [
       "<div>\n",
       "<style scoped>\n",
       "    .dataframe tbody tr th:only-of-type {\n",
       "        vertical-align: middle;\n",
       "    }\n",
       "\n",
       "    .dataframe tbody tr th {\n",
       "        vertical-align: top;\n",
       "    }\n",
       "\n",
       "    .dataframe thead th {\n",
       "        text-align: right;\n",
       "    }\n",
       "</style>\n",
       "<table border=\"1\" class=\"dataframe\">\n",
       "  <thead>\n",
       "    <tr style=\"text-align: right;\">\n",
       "      <th></th>\n",
       "      <th>pop effect</th>\n",
       "      <th>gdp cap effect</th>\n",
       "      <th>energy intensity effect</th>\n",
       "      <th>carbon intensity effect</th>\n",
       "      <th>total effect</th>\n",
       "    </tr>\n",
       "  </thead>\n",
       "  <tbody>\n",
       "    <tr>\n",
       "      <th>0</th>\n",
       "      <td>16.099347</td>\n",
       "      <td>826.838177</td>\n",
       "      <td>-754.026010</td>\n",
       "      <td>11.088486</td>\n",
       "      <td>100.0</td>\n",
       "    </tr>\n",
       "    <tr>\n",
       "      <th>1</th>\n",
       "      <td>13.449505</td>\n",
       "      <td>157.812580</td>\n",
       "      <td>-279.962360</td>\n",
       "      <td>8.700276</td>\n",
       "      <td>100.0</td>\n",
       "    </tr>\n",
       "    <tr>\n",
       "      <th>2</th>\n",
       "      <td>1.108363</td>\n",
       "      <td>60.806460</td>\n",
       "      <td>-150.813643</td>\n",
       "      <td>-11.101180</td>\n",
       "      <td>100.0</td>\n",
       "    </tr>\n",
       "    <tr>\n",
       "      <th>3</th>\n",
       "      <td>9.503285</td>\n",
       "      <td>-112.570253</td>\n",
       "      <td>159.998939</td>\n",
       "      <td>43.068029</td>\n",
       "      <td>100.0</td>\n",
       "    </tr>\n",
       "    <tr>\n",
       "      <th>4</th>\n",
       "      <td>47.765666</td>\n",
       "      <td>787.334299</td>\n",
       "      <td>-996.815126</td>\n",
       "      <td>61.715161</td>\n",
       "      <td>100.0</td>\n",
       "    </tr>\n",
       "  </tbody>\n",
       "</table>\n",
       "</div>"
      ],
      "text/plain": [
       "   pop effect  gdp cap effect  energy intensity effect  \\\n",
       "0   16.099347      826.838177              -754.026010   \n",
       "1   13.449505      157.812580              -279.962360   \n",
       "2    1.108363       60.806460              -150.813643   \n",
       "3    9.503285     -112.570253               159.998939   \n",
       "4   47.765666      787.334299              -996.815126   \n",
       "\n",
       "   carbon intensity effect  total effect  \n",
       "0                11.088486         100.0  \n",
       "1                 8.700276         100.0  \n",
       "2               -11.101180         100.0  \n",
       "3                43.068029         100.0  \n",
       "4                61.715161         100.0  "
      ]
     },
     "execution_count": 9,
     "metadata": {},
     "output_type": "execute_result"
    }
   ],
   "source": [
    "\"\"\"\n",
    "In order to vizualize the effect of the varibles on carbon emissions, the pourcentage obtained with\n",
    "the function get_lmdi are grouped in function of the different variables. \n",
    "\"\"\"\n",
    "def lmdi_variables(lmdi_list, dict_, names, column):\n",
    "    for name in names:\n",
    "        temp = list()\n",
    "        for lmdi in lmdi_list:\n",
    "            temp.append(lmdi[column][name])\n",
    "        dict_[name] = temp\n",
    "    return pd.DataFrame.from_dict(dict_)\n",
    "\n",
    "names = ['pop effect', 'gdp cap effect', 'energy intensity effect', 'carbon intensity effect', 'total effect']\n",
    "dict_ = { i : [] for i in names }\n",
    "lmdi_list = [lmdi_1, lmdi_2, lmdi_3, lmdi_4, lmdi_5]\n",
    "\n",
    "lmdi_var = lmdi_variables(lmdi_list, dict_, names, 'Percentage')\n",
    "lmdi_var"
   ]
  },
  {
   "cell_type": "markdown",
   "metadata": {},
   "source": [
    "## VISUALIZATION"
   ]
  },
  {
   "cell_type": "code",
   "execution_count": 13,
   "metadata": {},
   "outputs": [
    {
     "data": {
      "application/vnd.plotly.v1+json": {
       "config": {
        "plotlyServerURL": "https://plot.ly"
       },
       "data": [
        {
         "marker": {
          "color": "indianred"
         },
         "name": "Population effect",
         "type": "bar",
         "x": [
          "2000-2004",
          "2005-2009",
          "2010-2013",
          "2014-2017",
          "2000-2017"
         ],
         "y": [
          16.099346773537306,
          13.449504759974666,
          1.1083626618321842,
          9.50328501968401,
          47.76566611465418
         ]
        },
        {
         "marker": {
          "color": "lightsalmon"
         },
         "name": "Gdp per cap effect",
         "type": "bar",
         "x": [
          "2000-2004",
          "2005-2009",
          "2010-2013",
          "2014-2017",
          "2000-2017"
         ],
         "y": [
          826.8381774974417,
          157.81257968130456,
          60.80646046575134,
          -112.57025322686478,
          787.3342991313659
         ]
        },
        {
         "marker": {
          "color": "Red"
         },
         "name": "Energy intensity effect",
         "type": "bar",
         "x": [
          "2000-2004",
          "2005-2009",
          "2010-2013",
          "2014-2017",
          "2000-2017"
         ],
         "y": [
          -754.0260101912872,
          -279.962360031391,
          -150.81364269142804,
          159.9989393299869,
          -996.8151262653755
         ]
        },
        {
         "marker": {
          "color": "Blue"
         },
         "name": "Carbon intensity effect",
         "type": "bar",
         "x": [
          "2000-2004",
          "2005-2009",
          "2010-2013",
          "2014-2017",
          "2000-2017"
         ],
         "y": [
          11.088485920308171,
          8.700275590111763,
          -11.101180436155486,
          43.06802887719384,
          61.71516101935548
         ]
        },
        {
         "marker": {
          "color": "Green"
         },
         "name": "Total effect",
         "type": "bar",
         "x": [
          "2000-2004",
          "2005-2009",
          "2010-2013",
          "2014-2017",
          "2000-2017"
         ],
         "y": [
          100,
          100,
          100,
          100,
          100
         ]
        }
       ],
       "layout": {
        "barmode": "group",
        "template": {
         "data": {
          "bar": [
           {
            "error_x": {
             "color": "#2a3f5f"
            },
            "error_y": {
             "color": "#2a3f5f"
            },
            "marker": {
             "line": {
              "color": "#E5ECF6",
              "width": 0.5
             }
            },
            "type": "bar"
           }
          ],
          "barpolar": [
           {
            "marker": {
             "line": {
              "color": "#E5ECF6",
              "width": 0.5
             }
            },
            "type": "barpolar"
           }
          ],
          "carpet": [
           {
            "aaxis": {
             "endlinecolor": "#2a3f5f",
             "gridcolor": "white",
             "linecolor": "white",
             "minorgridcolor": "white",
             "startlinecolor": "#2a3f5f"
            },
            "baxis": {
             "endlinecolor": "#2a3f5f",
             "gridcolor": "white",
             "linecolor": "white",
             "minorgridcolor": "white",
             "startlinecolor": "#2a3f5f"
            },
            "type": "carpet"
           }
          ],
          "choropleth": [
           {
            "colorbar": {
             "outlinewidth": 0,
             "ticks": ""
            },
            "type": "choropleth"
           }
          ],
          "contour": [
           {
            "colorbar": {
             "outlinewidth": 0,
             "ticks": ""
            },
            "colorscale": [
             [
              0,
              "#0d0887"
             ],
             [
              0.1111111111111111,
              "#46039f"
             ],
             [
              0.2222222222222222,
              "#7201a8"
             ],
             [
              0.3333333333333333,
              "#9c179e"
             ],
             [
              0.4444444444444444,
              "#bd3786"
             ],
             [
              0.5555555555555556,
              "#d8576b"
             ],
             [
              0.6666666666666666,
              "#ed7953"
             ],
             [
              0.7777777777777778,
              "#fb9f3a"
             ],
             [
              0.8888888888888888,
              "#fdca26"
             ],
             [
              1,
              "#f0f921"
             ]
            ],
            "type": "contour"
           }
          ],
          "contourcarpet": [
           {
            "colorbar": {
             "outlinewidth": 0,
             "ticks": ""
            },
            "type": "contourcarpet"
           }
          ],
          "heatmap": [
           {
            "colorbar": {
             "outlinewidth": 0,
             "ticks": ""
            },
            "colorscale": [
             [
              0,
              "#0d0887"
             ],
             [
              0.1111111111111111,
              "#46039f"
             ],
             [
              0.2222222222222222,
              "#7201a8"
             ],
             [
              0.3333333333333333,
              "#9c179e"
             ],
             [
              0.4444444444444444,
              "#bd3786"
             ],
             [
              0.5555555555555556,
              "#d8576b"
             ],
             [
              0.6666666666666666,
              "#ed7953"
             ],
             [
              0.7777777777777778,
              "#fb9f3a"
             ],
             [
              0.8888888888888888,
              "#fdca26"
             ],
             [
              1,
              "#f0f921"
             ]
            ],
            "type": "heatmap"
           }
          ],
          "heatmapgl": [
           {
            "colorbar": {
             "outlinewidth": 0,
             "ticks": ""
            },
            "colorscale": [
             [
              0,
              "#0d0887"
             ],
             [
              0.1111111111111111,
              "#46039f"
             ],
             [
              0.2222222222222222,
              "#7201a8"
             ],
             [
              0.3333333333333333,
              "#9c179e"
             ],
             [
              0.4444444444444444,
              "#bd3786"
             ],
             [
              0.5555555555555556,
              "#d8576b"
             ],
             [
              0.6666666666666666,
              "#ed7953"
             ],
             [
              0.7777777777777778,
              "#fb9f3a"
             ],
             [
              0.8888888888888888,
              "#fdca26"
             ],
             [
              1,
              "#f0f921"
             ]
            ],
            "type": "heatmapgl"
           }
          ],
          "histogram": [
           {
            "marker": {
             "colorbar": {
              "outlinewidth": 0,
              "ticks": ""
             }
            },
            "type": "histogram"
           }
          ],
          "histogram2d": [
           {
            "colorbar": {
             "outlinewidth": 0,
             "ticks": ""
            },
            "colorscale": [
             [
              0,
              "#0d0887"
             ],
             [
              0.1111111111111111,
              "#46039f"
             ],
             [
              0.2222222222222222,
              "#7201a8"
             ],
             [
              0.3333333333333333,
              "#9c179e"
             ],
             [
              0.4444444444444444,
              "#bd3786"
             ],
             [
              0.5555555555555556,
              "#d8576b"
             ],
             [
              0.6666666666666666,
              "#ed7953"
             ],
             [
              0.7777777777777778,
              "#fb9f3a"
             ],
             [
              0.8888888888888888,
              "#fdca26"
             ],
             [
              1,
              "#f0f921"
             ]
            ],
            "type": "histogram2d"
           }
          ],
          "histogram2dcontour": [
           {
            "colorbar": {
             "outlinewidth": 0,
             "ticks": ""
            },
            "colorscale": [
             [
              0,
              "#0d0887"
             ],
             [
              0.1111111111111111,
              "#46039f"
             ],
             [
              0.2222222222222222,
              "#7201a8"
             ],
             [
              0.3333333333333333,
              "#9c179e"
             ],
             [
              0.4444444444444444,
              "#bd3786"
             ],
             [
              0.5555555555555556,
              "#d8576b"
             ],
             [
              0.6666666666666666,
              "#ed7953"
             ],
             [
              0.7777777777777778,
              "#fb9f3a"
             ],
             [
              0.8888888888888888,
              "#fdca26"
             ],
             [
              1,
              "#f0f921"
             ]
            ],
            "type": "histogram2dcontour"
           }
          ],
          "mesh3d": [
           {
            "colorbar": {
             "outlinewidth": 0,
             "ticks": ""
            },
            "type": "mesh3d"
           }
          ],
          "parcoords": [
           {
            "line": {
             "colorbar": {
              "outlinewidth": 0,
              "ticks": ""
             }
            },
            "type": "parcoords"
           }
          ],
          "pie": [
           {
            "automargin": true,
            "type": "pie"
           }
          ],
          "scatter": [
           {
            "marker": {
             "colorbar": {
              "outlinewidth": 0,
              "ticks": ""
             }
            },
            "type": "scatter"
           }
          ],
          "scatter3d": [
           {
            "line": {
             "colorbar": {
              "outlinewidth": 0,
              "ticks": ""
             }
            },
            "marker": {
             "colorbar": {
              "outlinewidth": 0,
              "ticks": ""
             }
            },
            "type": "scatter3d"
           }
          ],
          "scattercarpet": [
           {
            "marker": {
             "colorbar": {
              "outlinewidth": 0,
              "ticks": ""
             }
            },
            "type": "scattercarpet"
           }
          ],
          "scattergeo": [
           {
            "marker": {
             "colorbar": {
              "outlinewidth": 0,
              "ticks": ""
             }
            },
            "type": "scattergeo"
           }
          ],
          "scattergl": [
           {
            "marker": {
             "colorbar": {
              "outlinewidth": 0,
              "ticks": ""
             }
            },
            "type": "scattergl"
           }
          ],
          "scattermapbox": [
           {
            "marker": {
             "colorbar": {
              "outlinewidth": 0,
              "ticks": ""
             }
            },
            "type": "scattermapbox"
           }
          ],
          "scatterpolar": [
           {
            "marker": {
             "colorbar": {
              "outlinewidth": 0,
              "ticks": ""
             }
            },
            "type": "scatterpolar"
           }
          ],
          "scatterpolargl": [
           {
            "marker": {
             "colorbar": {
              "outlinewidth": 0,
              "ticks": ""
             }
            },
            "type": "scatterpolargl"
           }
          ],
          "scatterternary": [
           {
            "marker": {
             "colorbar": {
              "outlinewidth": 0,
              "ticks": ""
             }
            },
            "type": "scatterternary"
           }
          ],
          "surface": [
           {
            "colorbar": {
             "outlinewidth": 0,
             "ticks": ""
            },
            "colorscale": [
             [
              0,
              "#0d0887"
             ],
             [
              0.1111111111111111,
              "#46039f"
             ],
             [
              0.2222222222222222,
              "#7201a8"
             ],
             [
              0.3333333333333333,
              "#9c179e"
             ],
             [
              0.4444444444444444,
              "#bd3786"
             ],
             [
              0.5555555555555556,
              "#d8576b"
             ],
             [
              0.6666666666666666,
              "#ed7953"
             ],
             [
              0.7777777777777778,
              "#fb9f3a"
             ],
             [
              0.8888888888888888,
              "#fdca26"
             ],
             [
              1,
              "#f0f921"
             ]
            ],
            "type": "surface"
           }
          ],
          "table": [
           {
            "cells": {
             "fill": {
              "color": "#EBF0F8"
             },
             "line": {
              "color": "white"
             }
            },
            "header": {
             "fill": {
              "color": "#C8D4E3"
             },
             "line": {
              "color": "white"
             }
            },
            "type": "table"
           }
          ]
         },
         "layout": {
          "annotationdefaults": {
           "arrowcolor": "#2a3f5f",
           "arrowhead": 0,
           "arrowwidth": 1
          },
          "coloraxis": {
           "colorbar": {
            "outlinewidth": 0,
            "ticks": ""
           }
          },
          "colorscale": {
           "diverging": [
            [
             0,
             "#8e0152"
            ],
            [
             0.1,
             "#c51b7d"
            ],
            [
             0.2,
             "#de77ae"
            ],
            [
             0.3,
             "#f1b6da"
            ],
            [
             0.4,
             "#fde0ef"
            ],
            [
             0.5,
             "#f7f7f7"
            ],
            [
             0.6,
             "#e6f5d0"
            ],
            [
             0.7,
             "#b8e186"
            ],
            [
             0.8,
             "#7fbc41"
            ],
            [
             0.9,
             "#4d9221"
            ],
            [
             1,
             "#276419"
            ]
           ],
           "sequential": [
            [
             0,
             "#0d0887"
            ],
            [
             0.1111111111111111,
             "#46039f"
            ],
            [
             0.2222222222222222,
             "#7201a8"
            ],
            [
             0.3333333333333333,
             "#9c179e"
            ],
            [
             0.4444444444444444,
             "#bd3786"
            ],
            [
             0.5555555555555556,
             "#d8576b"
            ],
            [
             0.6666666666666666,
             "#ed7953"
            ],
            [
             0.7777777777777778,
             "#fb9f3a"
            ],
            [
             0.8888888888888888,
             "#fdca26"
            ],
            [
             1,
             "#f0f921"
            ]
           ],
           "sequentialminus": [
            [
             0,
             "#0d0887"
            ],
            [
             0.1111111111111111,
             "#46039f"
            ],
            [
             0.2222222222222222,
             "#7201a8"
            ],
            [
             0.3333333333333333,
             "#9c179e"
            ],
            [
             0.4444444444444444,
             "#bd3786"
            ],
            [
             0.5555555555555556,
             "#d8576b"
            ],
            [
             0.6666666666666666,
             "#ed7953"
            ],
            [
             0.7777777777777778,
             "#fb9f3a"
            ],
            [
             0.8888888888888888,
             "#fdca26"
            ],
            [
             1,
             "#f0f921"
            ]
           ]
          },
          "colorway": [
           "#636efa",
           "#EF553B",
           "#00cc96",
           "#ab63fa",
           "#FFA15A",
           "#19d3f3",
           "#FF6692",
           "#B6E880",
           "#FF97FF",
           "#FECB52"
          ],
          "font": {
           "color": "#2a3f5f"
          },
          "geo": {
           "bgcolor": "white",
           "lakecolor": "white",
           "landcolor": "#E5ECF6",
           "showlakes": true,
           "showland": true,
           "subunitcolor": "white"
          },
          "hoverlabel": {
           "align": "left"
          },
          "hovermode": "closest",
          "mapbox": {
           "style": "light"
          },
          "paper_bgcolor": "white",
          "plot_bgcolor": "#E5ECF6",
          "polar": {
           "angularaxis": {
            "gridcolor": "white",
            "linecolor": "white",
            "ticks": ""
           },
           "bgcolor": "#E5ECF6",
           "radialaxis": {
            "gridcolor": "white",
            "linecolor": "white",
            "ticks": ""
           }
          },
          "scene": {
           "xaxis": {
            "backgroundcolor": "#E5ECF6",
            "gridcolor": "white",
            "gridwidth": 2,
            "linecolor": "white",
            "showbackground": true,
            "ticks": "",
            "zerolinecolor": "white"
           },
           "yaxis": {
            "backgroundcolor": "#E5ECF6",
            "gridcolor": "white",
            "gridwidth": 2,
            "linecolor": "white",
            "showbackground": true,
            "ticks": "",
            "zerolinecolor": "white"
           },
           "zaxis": {
            "backgroundcolor": "#E5ECF6",
            "gridcolor": "white",
            "gridwidth": 2,
            "linecolor": "white",
            "showbackground": true,
            "ticks": "",
            "zerolinecolor": "white"
           }
          },
          "shapedefaults": {
           "line": {
            "color": "#2a3f5f"
           }
          },
          "ternary": {
           "aaxis": {
            "gridcolor": "white",
            "linecolor": "white",
            "ticks": ""
           },
           "baxis": {
            "gridcolor": "white",
            "linecolor": "white",
            "ticks": ""
           },
           "bgcolor": "#E5ECF6",
           "caxis": {
            "gridcolor": "white",
            "linecolor": "white",
            "ticks": ""
           }
          },
          "title": {
           "x": 0.05
          },
          "xaxis": {
           "automargin": true,
           "gridcolor": "white",
           "linecolor": "white",
           "ticks": "",
           "title": {
            "standoff": 15
           },
           "zerolinecolor": "white",
           "zerolinewidth": 2
          },
          "yaxis": {
           "automargin": true,
           "gridcolor": "white",
           "linecolor": "white",
           "ticks": "",
           "title": {
            "standoff": 15
           },
           "zerolinecolor": "white",
           "zerolinewidth": 2
          }
         }
        },
        "title": {
         "text": "Decomposition of the changes in CO2 emissions in European Union : 2000–2017"
        },
        "xaxis": {
         "tickangle": -45
        },
        "yaxis": {
         "title": {
          "text": "Rate effect %"
         }
        }
       }
      },
      "text/html": [
       "<div>\n",
       "        \n",
       "        \n",
       "            <div id=\"3f0c426e-e73d-479d-ad6f-38cb4618731e\" class=\"plotly-graph-div\" style=\"height:525px; width:100%;\"></div>\n",
       "            <script type=\"text/javascript\">\n",
       "                require([\"plotly\"], function(Plotly) {\n",
       "                    window.PLOTLYENV=window.PLOTLYENV || {};\n",
       "                    \n",
       "                if (document.getElementById(\"3f0c426e-e73d-479d-ad6f-38cb4618731e\")) {\n",
       "                    Plotly.newPlot(\n",
       "                        '3f0c426e-e73d-479d-ad6f-38cb4618731e',\n",
       "                        [{\"marker\": {\"color\": \"indianred\"}, \"name\": \"Population effect\", \"type\": \"bar\", \"x\": [\"2000-2004\", \"2005-2009\", \"2010-2013\", \"2014-2017\", \"2000-2017\"], \"y\": [16.099346773537306, 13.449504759974666, 1.1083626618321842, 9.50328501968401, 47.76566611465418]}, {\"marker\": {\"color\": \"lightsalmon\"}, \"name\": \"Gdp per cap effect\", \"type\": \"bar\", \"x\": [\"2000-2004\", \"2005-2009\", \"2010-2013\", \"2014-2017\", \"2000-2017\"], \"y\": [826.8381774974417, 157.81257968130456, 60.80646046575134, -112.57025322686478, 787.3342991313659]}, {\"marker\": {\"color\": \"Red\"}, \"name\": \"Energy intensity effect\", \"type\": \"bar\", \"x\": [\"2000-2004\", \"2005-2009\", \"2010-2013\", \"2014-2017\", \"2000-2017\"], \"y\": [-754.0260101912872, -279.962360031391, -150.81364269142804, 159.9989393299869, -996.8151262653755]}, {\"marker\": {\"color\": \"Blue\"}, \"name\": \"Carbon intensity effect\", \"type\": \"bar\", \"x\": [\"2000-2004\", \"2005-2009\", \"2010-2013\", \"2014-2017\", \"2000-2017\"], \"y\": [11.088485920308171, 8.700275590111763, -11.101180436155486, 43.06802887719384, 61.71516101935548]}, {\"marker\": {\"color\": \"Green\"}, \"name\": \"Total effect\", \"type\": \"bar\", \"x\": [\"2000-2004\", \"2005-2009\", \"2010-2013\", \"2014-2017\", \"2000-2017\"], \"y\": [100.0, 100.0, 100.0, 100.0, 100.0]}],\n",
       "                        {\"barmode\": \"group\", \"template\": {\"data\": {\"bar\": [{\"error_x\": {\"color\": \"#2a3f5f\"}, \"error_y\": {\"color\": \"#2a3f5f\"}, \"marker\": {\"line\": {\"color\": \"#E5ECF6\", \"width\": 0.5}}, \"type\": \"bar\"}], \"barpolar\": [{\"marker\": {\"line\": {\"color\": \"#E5ECF6\", \"width\": 0.5}}, \"type\": \"barpolar\"}], \"carpet\": [{\"aaxis\": {\"endlinecolor\": \"#2a3f5f\", \"gridcolor\": \"white\", \"linecolor\": \"white\", \"minorgridcolor\": \"white\", \"startlinecolor\": \"#2a3f5f\"}, \"baxis\": {\"endlinecolor\": \"#2a3f5f\", \"gridcolor\": \"white\", \"linecolor\": \"white\", \"minorgridcolor\": \"white\", \"startlinecolor\": \"#2a3f5f\"}, \"type\": \"carpet\"}], \"choropleth\": [{\"colorbar\": {\"outlinewidth\": 0, \"ticks\": \"\"}, \"type\": \"choropleth\"}], \"contour\": [{\"colorbar\": {\"outlinewidth\": 0, \"ticks\": \"\"}, \"colorscale\": [[0.0, \"#0d0887\"], [0.1111111111111111, \"#46039f\"], [0.2222222222222222, \"#7201a8\"], [0.3333333333333333, \"#9c179e\"], [0.4444444444444444, \"#bd3786\"], [0.5555555555555556, \"#d8576b\"], [0.6666666666666666, \"#ed7953\"], [0.7777777777777778, \"#fb9f3a\"], [0.8888888888888888, \"#fdca26\"], [1.0, \"#f0f921\"]], \"type\": \"contour\"}], \"contourcarpet\": [{\"colorbar\": {\"outlinewidth\": 0, \"ticks\": \"\"}, \"type\": \"contourcarpet\"}], \"heatmap\": [{\"colorbar\": {\"outlinewidth\": 0, \"ticks\": \"\"}, \"colorscale\": [[0.0, \"#0d0887\"], [0.1111111111111111, \"#46039f\"], [0.2222222222222222, \"#7201a8\"], [0.3333333333333333, \"#9c179e\"], [0.4444444444444444, \"#bd3786\"], [0.5555555555555556, \"#d8576b\"], [0.6666666666666666, \"#ed7953\"], [0.7777777777777778, \"#fb9f3a\"], [0.8888888888888888, \"#fdca26\"], [1.0, \"#f0f921\"]], \"type\": \"heatmap\"}], \"heatmapgl\": [{\"colorbar\": {\"outlinewidth\": 0, \"ticks\": \"\"}, \"colorscale\": [[0.0, \"#0d0887\"], [0.1111111111111111, \"#46039f\"], [0.2222222222222222, \"#7201a8\"], [0.3333333333333333, \"#9c179e\"], [0.4444444444444444, \"#bd3786\"], [0.5555555555555556, \"#d8576b\"], [0.6666666666666666, \"#ed7953\"], [0.7777777777777778, \"#fb9f3a\"], [0.8888888888888888, \"#fdca26\"], [1.0, \"#f0f921\"]], \"type\": \"heatmapgl\"}], \"histogram\": [{\"marker\": {\"colorbar\": {\"outlinewidth\": 0, \"ticks\": \"\"}}, \"type\": \"histogram\"}], \"histogram2d\": [{\"colorbar\": {\"outlinewidth\": 0, \"ticks\": \"\"}, \"colorscale\": [[0.0, \"#0d0887\"], [0.1111111111111111, \"#46039f\"], [0.2222222222222222, \"#7201a8\"], [0.3333333333333333, \"#9c179e\"], [0.4444444444444444, \"#bd3786\"], [0.5555555555555556, \"#d8576b\"], [0.6666666666666666, \"#ed7953\"], [0.7777777777777778, \"#fb9f3a\"], [0.8888888888888888, \"#fdca26\"], [1.0, \"#f0f921\"]], \"type\": \"histogram2d\"}], \"histogram2dcontour\": [{\"colorbar\": {\"outlinewidth\": 0, \"ticks\": \"\"}, \"colorscale\": [[0.0, \"#0d0887\"], [0.1111111111111111, \"#46039f\"], [0.2222222222222222, \"#7201a8\"], [0.3333333333333333, \"#9c179e\"], [0.4444444444444444, \"#bd3786\"], [0.5555555555555556, \"#d8576b\"], [0.6666666666666666, \"#ed7953\"], [0.7777777777777778, \"#fb9f3a\"], [0.8888888888888888, \"#fdca26\"], [1.0, \"#f0f921\"]], \"type\": \"histogram2dcontour\"}], \"mesh3d\": [{\"colorbar\": {\"outlinewidth\": 0, \"ticks\": \"\"}, \"type\": \"mesh3d\"}], \"parcoords\": [{\"line\": {\"colorbar\": {\"outlinewidth\": 0, \"ticks\": \"\"}}, \"type\": \"parcoords\"}], \"pie\": [{\"automargin\": true, \"type\": \"pie\"}], \"scatter\": [{\"marker\": {\"colorbar\": {\"outlinewidth\": 0, \"ticks\": \"\"}}, \"type\": \"scatter\"}], \"scatter3d\": [{\"line\": {\"colorbar\": {\"outlinewidth\": 0, \"ticks\": \"\"}}, \"marker\": {\"colorbar\": {\"outlinewidth\": 0, \"ticks\": \"\"}}, \"type\": \"scatter3d\"}], \"scattercarpet\": [{\"marker\": {\"colorbar\": {\"outlinewidth\": 0, \"ticks\": \"\"}}, \"type\": \"scattercarpet\"}], \"scattergeo\": [{\"marker\": {\"colorbar\": {\"outlinewidth\": 0, \"ticks\": \"\"}}, \"type\": \"scattergeo\"}], \"scattergl\": [{\"marker\": {\"colorbar\": {\"outlinewidth\": 0, \"ticks\": \"\"}}, \"type\": \"scattergl\"}], \"scattermapbox\": [{\"marker\": {\"colorbar\": {\"outlinewidth\": 0, \"ticks\": \"\"}}, \"type\": \"scattermapbox\"}], \"scatterpolar\": [{\"marker\": {\"colorbar\": {\"outlinewidth\": 0, \"ticks\": \"\"}}, \"type\": \"scatterpolar\"}], \"scatterpolargl\": [{\"marker\": {\"colorbar\": {\"outlinewidth\": 0, \"ticks\": \"\"}}, \"type\": \"scatterpolargl\"}], \"scatterternary\": [{\"marker\": {\"colorbar\": {\"outlinewidth\": 0, \"ticks\": \"\"}}, \"type\": \"scatterternary\"}], \"surface\": [{\"colorbar\": {\"outlinewidth\": 0, \"ticks\": \"\"}, \"colorscale\": [[0.0, \"#0d0887\"], [0.1111111111111111, \"#46039f\"], [0.2222222222222222, \"#7201a8\"], [0.3333333333333333, \"#9c179e\"], [0.4444444444444444, \"#bd3786\"], [0.5555555555555556, \"#d8576b\"], [0.6666666666666666, \"#ed7953\"], [0.7777777777777778, \"#fb9f3a\"], [0.8888888888888888, \"#fdca26\"], [1.0, \"#f0f921\"]], \"type\": \"surface\"}], \"table\": [{\"cells\": {\"fill\": {\"color\": \"#EBF0F8\"}, \"line\": {\"color\": \"white\"}}, \"header\": {\"fill\": {\"color\": \"#C8D4E3\"}, \"line\": {\"color\": \"white\"}}, \"type\": \"table\"}]}, \"layout\": {\"annotationdefaults\": {\"arrowcolor\": \"#2a3f5f\", \"arrowhead\": 0, \"arrowwidth\": 1}, \"coloraxis\": {\"colorbar\": {\"outlinewidth\": 0, \"ticks\": \"\"}}, \"colorscale\": {\"diverging\": [[0, \"#8e0152\"], [0.1, \"#c51b7d\"], [0.2, \"#de77ae\"], [0.3, \"#f1b6da\"], [0.4, \"#fde0ef\"], [0.5, \"#f7f7f7\"], [0.6, \"#e6f5d0\"], [0.7, \"#b8e186\"], [0.8, \"#7fbc41\"], [0.9, \"#4d9221\"], [1, \"#276419\"]], \"sequential\": [[0.0, \"#0d0887\"], [0.1111111111111111, \"#46039f\"], [0.2222222222222222, \"#7201a8\"], [0.3333333333333333, \"#9c179e\"], [0.4444444444444444, \"#bd3786\"], [0.5555555555555556, \"#d8576b\"], [0.6666666666666666, \"#ed7953\"], [0.7777777777777778, \"#fb9f3a\"], [0.8888888888888888, \"#fdca26\"], [1.0, \"#f0f921\"]], \"sequentialminus\": [[0.0, \"#0d0887\"], [0.1111111111111111, \"#46039f\"], [0.2222222222222222, \"#7201a8\"], [0.3333333333333333, \"#9c179e\"], [0.4444444444444444, \"#bd3786\"], [0.5555555555555556, \"#d8576b\"], [0.6666666666666666, \"#ed7953\"], [0.7777777777777778, \"#fb9f3a\"], [0.8888888888888888, \"#fdca26\"], [1.0, \"#f0f921\"]]}, \"colorway\": [\"#636efa\", \"#EF553B\", \"#00cc96\", \"#ab63fa\", \"#FFA15A\", \"#19d3f3\", \"#FF6692\", \"#B6E880\", \"#FF97FF\", \"#FECB52\"], \"font\": {\"color\": \"#2a3f5f\"}, \"geo\": {\"bgcolor\": \"white\", \"lakecolor\": \"white\", \"landcolor\": \"#E5ECF6\", \"showlakes\": true, \"showland\": true, \"subunitcolor\": \"white\"}, \"hoverlabel\": {\"align\": \"left\"}, \"hovermode\": \"closest\", \"mapbox\": {\"style\": \"light\"}, \"paper_bgcolor\": \"white\", \"plot_bgcolor\": \"#E5ECF6\", \"polar\": {\"angularaxis\": {\"gridcolor\": \"white\", \"linecolor\": \"white\", \"ticks\": \"\"}, \"bgcolor\": \"#E5ECF6\", \"radialaxis\": {\"gridcolor\": \"white\", \"linecolor\": \"white\", \"ticks\": \"\"}}, \"scene\": {\"xaxis\": {\"backgroundcolor\": \"#E5ECF6\", \"gridcolor\": \"white\", \"gridwidth\": 2, \"linecolor\": \"white\", \"showbackground\": true, \"ticks\": \"\", \"zerolinecolor\": \"white\"}, \"yaxis\": {\"backgroundcolor\": \"#E5ECF6\", \"gridcolor\": \"white\", \"gridwidth\": 2, \"linecolor\": \"white\", \"showbackground\": true, \"ticks\": \"\", \"zerolinecolor\": \"white\"}, \"zaxis\": {\"backgroundcolor\": \"#E5ECF6\", \"gridcolor\": \"white\", \"gridwidth\": 2, \"linecolor\": \"white\", \"showbackground\": true, \"ticks\": \"\", \"zerolinecolor\": \"white\"}}, \"shapedefaults\": {\"line\": {\"color\": \"#2a3f5f\"}}, \"ternary\": {\"aaxis\": {\"gridcolor\": \"white\", \"linecolor\": \"white\", \"ticks\": \"\"}, \"baxis\": {\"gridcolor\": \"white\", \"linecolor\": \"white\", \"ticks\": \"\"}, \"bgcolor\": \"#E5ECF6\", \"caxis\": {\"gridcolor\": \"white\", \"linecolor\": \"white\", \"ticks\": \"\"}}, \"title\": {\"x\": 0.05}, \"xaxis\": {\"automargin\": true, \"gridcolor\": \"white\", \"linecolor\": \"white\", \"ticks\": \"\", \"title\": {\"standoff\": 15}, \"zerolinecolor\": \"white\", \"zerolinewidth\": 2}, \"yaxis\": {\"automargin\": true, \"gridcolor\": \"white\", \"linecolor\": \"white\", \"ticks\": \"\", \"title\": {\"standoff\": 15}, \"zerolinecolor\": \"white\", \"zerolinewidth\": 2}}}, \"title\": {\"text\": \"Decomposition of the changes in CO2 emissions in European Union : 2000\\u20132017\"}, \"xaxis\": {\"tickangle\": -45}, \"yaxis\": {\"title\": {\"text\": \"Rate effect %\"}}},\n",
       "                        {\"responsive\": true}\n",
       "                    ).then(function(){\n",
       "                            \n",
       "var gd = document.getElementById('3f0c426e-e73d-479d-ad6f-38cb4618731e');\n",
       "var x = new MutationObserver(function (mutations, observer) {{\n",
       "        var display = window.getComputedStyle(gd).display;\n",
       "        if (!display || display === 'none') {{\n",
       "            console.log([gd, 'removed!']);\n",
       "            Plotly.purge(gd);\n",
       "            observer.disconnect();\n",
       "        }}\n",
       "}});\n",
       "\n",
       "// Listen for the removal of the full notebook cells\n",
       "var notebookContainer = gd.closest('#notebook-container');\n",
       "if (notebookContainer) {{\n",
       "    x.observe(notebookContainer, {childList: true});\n",
       "}}\n",
       "\n",
       "// Listen for the clearing of the current output cell\n",
       "var outputEl = gd.closest('.output');\n",
       "if (outputEl) {{\n",
       "    x.observe(outputEl, {childList: true});\n",
       "}}\n",
       "\n",
       "                        })\n",
       "                };\n",
       "                });\n",
       "            </script>\n",
       "        </div>"
      ]
     },
     "metadata": {},
     "output_type": "display_data"
    }
   ],
   "source": [
    "import plotly.graph_objects as go\n",
    "\n",
    "months = ['2000-2004', '2005-2009', '2010-2013', '2014-2017', '2000-2017']\n",
    "\n",
    "fig = go.Figure()\n",
    "\n",
    "fig.add_trace(go.Bar(x=months, y=lmdi_var['pop effect'], name='Population effect',\n",
    "                     marker_color='indianred'))\n",
    "fig.add_trace(go.Bar(x=months, y=lmdi_var['gdp cap effect'], name='Gdp per cap effect',\n",
    "                     marker_color='lightsalmon'))\n",
    "fig.add_trace(go.Bar(x=months, y=lmdi_var['energy intensity effect'], name='Energy intensity effect',\n",
    "                     marker_color='Red'))\n",
    "fig.add_trace(go.Bar(x=months, y=lmdi_var['carbon intensity effect'], name='Carbon intensity effect',\n",
    "                     marker_color='Blue'))\n",
    "fig.add_trace(go.Bar(x=months, y=lmdi_var['total effect'], name='Total effect',\n",
    "                     marker_color='Green'))\n",
    "\n",
    "fig.update_yaxes(title_text=\"Rate effect %\")\n",
    "fig.update_layout(barmode='group', xaxis_tickangle=-45,\n",
    "                  title =\"Decomposition of the changes in CO2 emissions in European Union : 2000–2017\")\n",
    "fig.show()"
   ]
  },
  {
   "cell_type": "code",
   "execution_count": null,
   "metadata": {},
   "outputs": [],
   "source": []
  }
 ],
 "metadata": {
  "kernelspec": {
   "display_name": "Python 3.7.4 64-bit ('rstudio': conda)",
   "language": "python",
   "name": "python37464bitrstudioconda85139be567af4fb89143852fd1a4ee46"
  },
  "language_info": {
   "codemirror_mode": {
    "name": "ipython",
    "version": 3
   },
   "file_extension": ".py",
   "mimetype": "text/x-python",
   "name": "python",
   "nbconvert_exporter": "python",
   "pygments_lexer": "ipython3",
   "version": "3.7.4"
  }
 },
 "nbformat": 4,
 "nbformat_minor": 4
}
